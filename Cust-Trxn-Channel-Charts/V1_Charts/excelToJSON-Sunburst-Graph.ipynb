{
 "cells": [
  {
   "cell_type": "markdown",
   "source": [
    "This Version references a static spreadsheet to pull data copied from the intake form"
   ],
   "metadata": {}
  },
  {
   "cell_type": "code",
   "execution_count": 1,
   "source": [
    "# Install packages as needed\r\n",
    "#%pip install openpyxl\r\n",
    "#%pip install pandas \r\n",
    "#%pip install plotly\r\n",
    "#%pip install nbformat\r\n",
    "#%pip install --upgrade ipython"
   ],
   "outputs": [],
   "metadata": {}
  },
  {
   "cell_type": "code",
   "execution_count": 2,
   "source": [
    "#import libraries\r\n",
    "import pandas as pd\r\n",
    "import json\r\n",
    "import os\r\n",
    "import plotly.express as px\r\n",
    "import plotly.offline as pyo\r\n",
    "import plotly.graph_objs as go\r\n",
    "import locale"
   ],
   "outputs": [],
   "metadata": {}
  },
  {
   "cell_type": "code",
   "execution_count": 3,
   "source": [
    "# Read Transaction Excel data into a Pandas dataframe\r\n",
    "#file = r'C:\\Users\\DIM6\\OneDrive - PGE\\Documents\\GitHub\\davemccallme.github.io\\Cust-Trxn-Channel-Charts\\Trxn-Data-Sunburst.xlsx'  #uses rough trxn data\r\n",
    "file = r'C:\\Users\\DIM6\\OneDrive - PGE\\Documents\\GitHub\\davemccallme.github.io\\Cust-Trxn-Channel-Charts\\Sunburstdataframe-tmp.xlsx' #uses rough trxn data\r\n",
    "#file = r'C:\\Users\\DIM6\\OneDrive - PGE\\Documents\\GitHub\\davemccallme.github.io\\Cust-Trxn-Channel-Charts\\scratch\\Sunburstdataframe copy.xlsx' #uses lastest data\r\n",
    "\r\n",
    "df = pd.read_excel(file)\r\n",
    "df['Value'] = pd.to_numeric(df['Value'])\r\n",
    "print(df.head())"
   ],
   "outputs": [
    {
     "output_type": "stream",
     "name": "stdout",
     "text": [
      "        Root Level               Level 1 Level 2    Value\n",
      "0  Call Center IVR              Payments     NaN  4474000\n",
      "1  Call Center IVR               Billing     NaN  1241000\n",
      "2  Call Center IVR             Pay Plans     NaN   209000\n",
      "3  Call Center IVR       Account Balance     NaN   205000\n",
      "4  Call Center IVR  Start/Stop/ Transfer     NaN   337000\n"
     ]
    }
   ],
   "metadata": {}
  },
  {
   "cell_type": "code",
   "execution_count": 4,
   "source": [
    "# Write dataframe to an Excel file\r\n",
    "with pd.ExcelWriter('Sunburstdataframe-tmp.xlsx') as writer:\r\n",
    "    df.to_excel(writer, sheet_name='Sunburst', index=False)"
   ],
   "outputs": [],
   "metadata": {}
  },
  {
   "cell_type": "code",
   "execution_count": 5,
   "source": [
    "# Convert dataframe to a hierarchical dictionary\r\n",
    "def make_hierarchy_dict(df, path=[], value_col=\"Value\", threshold=10):\r\n",
    "    if len(path) == df.columns.nlevels - 1:\r\n",
    "        total = int(df[value_col].sum())\r\n",
    "        if total < threshold:\r\n",
    "            return None\r\n",
    "        else:\r\n",
    "            return total\r\n",
    "    else:\r\n",
    "        level = df.columns[len(path)]\r\n",
    "        subdict = {}\r\n",
    "        for key in df[level].dropna().unique():\r\n",
    "            subdf = df[df[level] == key].drop(columns=[level])\r\n",
    "            subhierarchy_dict = make_hierarchy_dict(subdf, path + [key], value_col, threshold)\r\n",
    "            if subhierarchy_dict is not None:\r\n",
    "                subdict[key] = subhierarchy_dict\r\n",
    "        if len(subdict) == 0:\r\n",
    "            return None\r\n",
    "        else:\r\n",
    "            return subdict\r\n",
    "\r\n",
    "hierarchy_dict = make_hierarchy_dict(df.set_index(list(df.columns[:3])), value_col=\"Value\", threshold=10)\r\n",
    "\r\n",
    "print(hierarchy_dict)"
   ],
   "outputs": [
    {
     "output_type": "stream",
     "name": "stdout",
     "text": [
      "106324215\n"
     ]
    }
   ],
   "metadata": {}
  },
  {
   "cell_type": "code",
   "execution_count": 6,
   "source": [
    "# Convert hierarchical dictionary to Plotly-compatible JSON\r\n",
    "def make_plotly_sunburst(hierarchy_dict, name=\"\"):\r\n",
    "    if isinstance(hierarchy_dict, dict):\r\n",
    "        children = []\r\n",
    "        for key, value in hierarchy_dict.items():\r\n",
    "            children.append(make_plotly_sunburst(value, key))\r\n",
    "        return {\r\n",
    "            \"name\": name,\r\n",
    "            \"children\": children\r\n",
    "        }\r\n",
    "    else:\r\n",
    "        return {\r\n",
    "            \"label\": name,\r\n",
    "            \"value\": hierarchy_dict\r\n",
    "        }"
   ],
   "outputs": [],
   "metadata": {}
  },
  {
   "cell_type": "code",
   "execution_count": 7,
   "source": [
    "plotly_data = make_plotly_sunburst(hierarchy_dict)\r\n",
    "print(plotly_data)"
   ],
   "outputs": [
    {
     "output_type": "stream",
     "name": "stdout",
     "text": [
      "{'label': '', 'value': 106324215}\n"
     ]
    }
   ],
   "metadata": {}
  },
  {
   "cell_type": "code",
   "execution_count": 8,
   "source": [
    "# Write JSON data to a file\r\n",
    "with open(\"plotly_data.json\", \"w\") as f:\r\n",
    "    json.dump(plotly_data, f)"
   ],
   "outputs": [],
   "metadata": {}
  },
  {
   "cell_type": "code",
   "execution_count": 9,
   "source": [
    "#Error Check rows for data discrepencies\r\n",
    "for i, row in df.iterrows():\r\n",
    "    try:\r\n",
    "        fig = px.sunburst(df.loc[[i]], path=[\"Root Level\", \"Level 1\", \"Level 2\"], values='Value')\r\n",
    "    except ValueError as e:\r\n",
    "        print(e)"
   ],
   "outputs": [],
   "metadata": {}
  },
  {
   "cell_type": "code",
   "execution_count": 10,
   "source": [
    " #Create a dictionary to map the Root Level to its corresponding color\r\n",
    "color_map = {'Web': 'orange', 'Other Electronic': 'gray', 'Mail': 'burlywood', 'Call Center - IVR': 'deepskyblue','Call Center - Other':'lightblue', \\\r\n",
    "              'Call Center - Live Agent':'Turquoise', 'NPC': 'gold'}\r\n",
    "\r\n",
    "# Format a sunburst chart using Plotly Express\r\n",
    "color_sequence = [color_map[key] for key in color_map]\r\n",
    "fig = px.sunburst(df, path=[\"Root Level\", \"Level 1\", \"Level 2\"], values='Value')\r\n",
    "\r\n",
    "# Update the layout\r\n",
    "fig.update_layout(\r\n",
    "    title='Transaction Channel Volume 2022',\r\n",
    "    font=dict(size=14),\r\n",
    "    margin=dict(t=50, l=0, r=0, b=0),\r\n",
    "    width=1400,\r\n",
    "    height=900,\r\n",
    "    sunburstcolorway=color_sequence,\r\n",
    ")\r\n",
    "fig.show()\r\n"
   ],
   "outputs": [
    {
     "output_type": "display_data",
     "data": {
      "application/vnd.plotly.v1+json": {
       "data": [
        {
         "branchvalues": "total",
         "domain": {
          "x": [
           0,
           1
          ],
          "y": [
           0,
           1
          ]
         },
         "hovertemplate": "labels=%{label}<br>Value=%{value}<br>parent=%{parent}<br>id=%{id}<extra></extra>",
         "ids": [
          "Other Electronic/Payments/ACH",
          "Other Electronic/Payments/APS",
          "Web/Account Mgmt/Add/Edit Phone Number",
          "Web/Alerts & Notifications/Additional Communication Alerts NEW",
          "Web/Budget Billing (Login) /Budget Billing (Login) ",
          "Web/Pilot Light Appointments /Cancel_Service_Appointment",
          "Web/Alerts & Notifications/Change Billing & Payment Alerts",
          "Web/Account Mgmt/Change Billing Address",
          "Web/Account Mgmt/Change User Name, Password",
          "Web/Usage and Rates/Compare My Bills",
          "Web/Payment Account - NEW/Create_Payment_Account",
          "Web/Payment Account - NEW/Delete_Payment_Account",
          "Other Electronic/Payments/EDI",
          "Web/Alerts & Notifications/Energy Alerts",
          "Web/Alerts & Notifications/Event Day Alerts NEW",
          "Web/Pay Plans/Extension Pay",
          "Web/Other Interactions /Gas Pipeline Map Views",
          "Web/Alerts & Notifications/Go Paperless Alerts NEW",
          "Web/Usage and Rates/Home Energy Checkup",
          "Web/Pay Plans/Installment Pay",
          "Other Electronic/Payments/LiHEAP",
          "Web/Alerts & Notifications/Notices & Services Information NEW",
          "Web/Payments/One Time Access",
          "Other Electronic/Payments/Online Banking",
          "Web/Usage and Rates/Online Rate Enrollment",
          "Web/Alerts & Notifications/Outages Alerts New",
          "Web/Usage and Rates/Rate Comparison",
          "Web/Other Interactions /Recurring Payment Schedule",
          "Web/Other Interactions /Registration",
          "Web/Outage/Report Outage",
          "Web/Pilot Light Appointments /Reschedule_Service_Appointment",
          "Web/Pilot Light Appointments /Schedule_Service_Appointment",
          "Web/Outage/Search Outage By Address",
          "Other Electronic/Payments/Secure Email",
          "Web/Alerts & Notifications/Service Visit Alerts NEW",
          "Web/Outage/Subscribe Outage (EW Pages)",
          "Web/Payment Account - NEW/Update_Payment_Account",
          "Web/Usage and Rates/View Usage",
          "Web/Billing/ViewBillCurrentPDF",
          "Web/Billing/ViewBillCurrentPDF historical",
          "Other Electronic/Payments/Wire Transfer",
          "Web/Payments/Your Account",
          "Call Center Other/Abandoned Calls",
          "Call Center IVR/Account Balance",
          "Web/Account Mgmt",
          "Web/Alerts & Notifications",
          "Call Center - Live Agent/BCSC",
          "Call Center IVR/Billing",
          "Web/Billing",
          "Call Center - Live Agent/Billing Balance",
          "Web/Budget Billing (Login) ",
          "Web/CARE/FERA ",
          "Call Center - Live Agent/Emergency",
          "Call Center - Live Agent/General",
          "Call Center Other/ICM Technology Handled",
          "Call Center Other/Non-IVR Technology",
          "Web/Other Interactions ",
          "Call Center - Live Agent/Other Transactions",
          "Call Center IVR/Other Transactions",
          "Call Center - Live Agent/Outage",
          "Call Center IVR/Outage",
          "Web/Outage",
          "Call Center - Live Agent/Pay Plans",
          "Call Center IVR/Pay Plans",
          "Web/Pay Plans",
          "Web/Payment Account - NEW",
          "Call Center - Live Agent/Payments",
          "Call Center IVR/Payments",
          "Mail/Payments",
          "NPC/Payments",
          "Other Electronic/Payments",
          "Web/Payments",
          "Web/Pilot Light Appointments ",
          "Call Center - Live Agent/Solar",
          "Call Center - Live Agent/Spanish (General)",
          "Call Center - Live Agent/Specialty Lines",
          "Call Center - Live Agent/Start/Stop/ Transfer",
          "Call Center IVR/Start/Stop/ Transfer",
          "Web/Start/Stop/ Transfer",
          "Call Center Other/Transferred calls",
          "Web/Usage and Rates",
          "Call Center - Live Agent",
          "Call Center IVR",
          "Call Center Other",
          "Mail",
          "NPC",
          "Other Electronic",
          "Web"
         ],
         "labels": [
          "ACH",
          "APS",
          "Add/Edit Phone Number",
          "Additional Communication Alerts NEW",
          "Budget Billing (Login) ",
          "Cancel_Service_Appointment",
          "Change Billing & Payment Alerts",
          "Change Billing Address",
          "Change User Name, Password",
          "Compare My Bills",
          "Create_Payment_Account",
          "Delete_Payment_Account",
          "EDI",
          "Energy Alerts",
          "Event Day Alerts NEW",
          "Extension Pay",
          "Gas Pipeline Map Views",
          "Go Paperless Alerts NEW",
          "Home Energy Checkup",
          "Installment Pay",
          "LiHEAP",
          "Notices & Services Information NEW",
          "One Time Access",
          "Online Banking",
          "Online Rate Enrollment",
          "Outages Alerts New",
          "Rate Comparison",
          "Recurring Payment Schedule",
          "Registration",
          "Report Outage",
          "Reschedule_Service_Appointment",
          "Schedule_Service_Appointment",
          "Search Outage By Address",
          "Secure Email",
          "Service Visit Alerts NEW",
          "Subscribe Outage (EW Pages)",
          "Update_Payment_Account",
          "View Usage",
          "ViewBillCurrentPDF",
          "ViewBillCurrentPDF historical",
          "Wire Transfer",
          "Your Account",
          "Abandoned Calls",
          "Account Balance",
          "Account Mgmt",
          "Alerts & Notifications",
          "BCSC",
          "Billing",
          "Billing",
          "Billing Balance",
          "Budget Billing (Login) ",
          "CARE/FERA ",
          "Emergency",
          "General",
          "ICM Technology Handled",
          "Non-IVR Technology",
          "Other Interactions ",
          "Other Transactions",
          "Other Transactions",
          "Outage",
          "Outage",
          "Outage",
          "Pay Plans",
          "Pay Plans",
          "Pay Plans",
          "Payment Account - NEW",
          "Payments",
          "Payments",
          "Payments",
          "Payments",
          "Payments",
          "Payments",
          "Pilot Light Appointments ",
          "Solar",
          "Spanish (General)",
          "Specialty Lines",
          "Start/Stop/ Transfer",
          "Start/Stop/ Transfer",
          "Start/Stop/ Transfer",
          "Transferred calls",
          "Usage and Rates",
          "Call Center - Live Agent",
          "Call Center IVR",
          "Call Center Other",
          "Mail",
          "NPC",
          "Other Electronic",
          "Web"
         ],
         "name": "",
         "parents": [
          "Other Electronic/Payments",
          "Other Electronic/Payments",
          "Web/Account Mgmt",
          "Web/Alerts & Notifications",
          "Web/Budget Billing (Login) ",
          "Web/Pilot Light Appointments ",
          "Web/Alerts & Notifications",
          "Web/Account Mgmt",
          "Web/Account Mgmt",
          "Web/Usage and Rates",
          "Web/Payment Account - NEW",
          "Web/Payment Account - NEW",
          "Other Electronic/Payments",
          "Web/Alerts & Notifications",
          "Web/Alerts & Notifications",
          "Web/Pay Plans",
          "Web/Other Interactions ",
          "Web/Alerts & Notifications",
          "Web/Usage and Rates",
          "Web/Pay Plans",
          "Other Electronic/Payments",
          "Web/Alerts & Notifications",
          "Web/Payments",
          "Other Electronic/Payments",
          "Web/Usage and Rates",
          "Web/Alerts & Notifications",
          "Web/Usage and Rates",
          "Web/Other Interactions ",
          "Web/Other Interactions ",
          "Web/Outage",
          "Web/Pilot Light Appointments ",
          "Web/Pilot Light Appointments ",
          "Web/Outage",
          "Other Electronic/Payments",
          "Web/Alerts & Notifications",
          "Web/Outage",
          "Web/Payment Account - NEW",
          "Web/Usage and Rates",
          "Web/Billing",
          "Web/Billing",
          "Other Electronic/Payments",
          "Web/Payments",
          "Call Center Other",
          "Call Center IVR",
          "Web",
          "Web",
          "Call Center - Live Agent",
          "Call Center IVR",
          "Web",
          "Call Center - Live Agent",
          "Web",
          "Web",
          "Call Center - Live Agent",
          "Call Center - Live Agent",
          "Call Center Other",
          "Call Center Other",
          "Web",
          "Call Center - Live Agent",
          "Call Center IVR",
          "Call Center - Live Agent",
          "Call Center IVR",
          "Web",
          "Call Center - Live Agent",
          "Call Center IVR",
          "Web",
          "Web",
          "Call Center - Live Agent",
          "Call Center IVR",
          "Mail",
          "NPC",
          "Other Electronic",
          "Web",
          "Web",
          "Call Center - Live Agent",
          "Call Center - Live Agent",
          "Call Center - Live Agent",
          "Call Center - Live Agent",
          "Call Center IVR",
          "Web",
          "Call Center Other",
          "Web",
          "",
          "",
          "",
          "",
          "",
          "",
          ""
         ],
         "values": [
          726000,
          2735000,
          137600,
          3892,
          16692,
          1907,
          302380,
          83947,
          159607,
          1425106,
          663126,
          244317,
          637000,
          233548,
          16104,
          79960,
          15393,
          25758,
          362420,
          220049,
          102000,
          10738,
          3633827,
          10393000,
          140820,
          12242,
          310259,
          756747,
          538774,
          549793,
          1148,
          18987,
          4516009,
          388,
          3697,
          80199,
          16176,
          633871,
          8992263,
          9361207,
          2960,
          24316220,
          267000,
          205000,
          381154,
          608359,
          466000,
          1241000,
          18353470,
          691000,
          16692,
          278569,
          449000,
          1341000,
          2630000,
          29000,
          1310914,
          136000,
          678000,
          246000,
          843000,
          5146001,
          123000,
          209000,
          300009,
          923619,
          137000,
          4474000,
          11200000,
          1770000,
          14596348,
          27950047,
          22042,
          479000,
          256000,
          220000,
          678000,
          337000,
          541515,
          3918000,
          2872476,
          5222000,
          7987000,
          6844000,
          11200000,
          1770000,
          14596348,
          58704867
         ],
         "type": "sunburst"
        }
       ],
       "layout": {
        "template": {
         "data": {
          "histogram2dcontour": [
           {
            "type": "histogram2dcontour",
            "colorbar": {
             "outlinewidth": 0,
             "ticks": ""
            },
            "colorscale": [
             [
              0,
              "#0d0887"
             ],
             [
              0.1111111111111111,
              "#46039f"
             ],
             [
              0.2222222222222222,
              "#7201a8"
             ],
             [
              0.3333333333333333,
              "#9c179e"
             ],
             [
              0.4444444444444444,
              "#bd3786"
             ],
             [
              0.5555555555555556,
              "#d8576b"
             ],
             [
              0.6666666666666666,
              "#ed7953"
             ],
             [
              0.7777777777777778,
              "#fb9f3a"
             ],
             [
              0.8888888888888888,
              "#fdca26"
             ],
             [
              1,
              "#f0f921"
             ]
            ]
           }
          ],
          "choropleth": [
           {
            "type": "choropleth",
            "colorbar": {
             "outlinewidth": 0,
             "ticks": ""
            }
           }
          ],
          "histogram2d": [
           {
            "type": "histogram2d",
            "colorbar": {
             "outlinewidth": 0,
             "ticks": ""
            },
            "colorscale": [
             [
              0,
              "#0d0887"
             ],
             [
              0.1111111111111111,
              "#46039f"
             ],
             [
              0.2222222222222222,
              "#7201a8"
             ],
             [
              0.3333333333333333,
              "#9c179e"
             ],
             [
              0.4444444444444444,
              "#bd3786"
             ],
             [
              0.5555555555555556,
              "#d8576b"
             ],
             [
              0.6666666666666666,
              "#ed7953"
             ],
             [
              0.7777777777777778,
              "#fb9f3a"
             ],
             [
              0.8888888888888888,
              "#fdca26"
             ],
             [
              1,
              "#f0f921"
             ]
            ]
           }
          ],
          "heatmap": [
           {
            "type": "heatmap",
            "colorbar": {
             "outlinewidth": 0,
             "ticks": ""
            },
            "colorscale": [
             [
              0,
              "#0d0887"
             ],
             [
              0.1111111111111111,
              "#46039f"
             ],
             [
              0.2222222222222222,
              "#7201a8"
             ],
             [
              0.3333333333333333,
              "#9c179e"
             ],
             [
              0.4444444444444444,
              "#bd3786"
             ],
             [
              0.5555555555555556,
              "#d8576b"
             ],
             [
              0.6666666666666666,
              "#ed7953"
             ],
             [
              0.7777777777777778,
              "#fb9f3a"
             ],
             [
              0.8888888888888888,
              "#fdca26"
             ],
             [
              1,
              "#f0f921"
             ]
            ]
           }
          ],
          "heatmapgl": [
           {
            "type": "heatmapgl",
            "colorbar": {
             "outlinewidth": 0,
             "ticks": ""
            },
            "colorscale": [
             [
              0,
              "#0d0887"
             ],
             [
              0.1111111111111111,
              "#46039f"
             ],
             [
              0.2222222222222222,
              "#7201a8"
             ],
             [
              0.3333333333333333,
              "#9c179e"
             ],
             [
              0.4444444444444444,
              "#bd3786"
             ],
             [
              0.5555555555555556,
              "#d8576b"
             ],
             [
              0.6666666666666666,
              "#ed7953"
             ],
             [
              0.7777777777777778,
              "#fb9f3a"
             ],
             [
              0.8888888888888888,
              "#fdca26"
             ],
             [
              1,
              "#f0f921"
             ]
            ]
           }
          ],
          "contourcarpet": [
           {
            "type": "contourcarpet",
            "colorbar": {
             "outlinewidth": 0,
             "ticks": ""
            }
           }
          ],
          "contour": [
           {
            "type": "contour",
            "colorbar": {
             "outlinewidth": 0,
             "ticks": ""
            },
            "colorscale": [
             [
              0,
              "#0d0887"
             ],
             [
              0.1111111111111111,
              "#46039f"
             ],
             [
              0.2222222222222222,
              "#7201a8"
             ],
             [
              0.3333333333333333,
              "#9c179e"
             ],
             [
              0.4444444444444444,
              "#bd3786"
             ],
             [
              0.5555555555555556,
              "#d8576b"
             ],
             [
              0.6666666666666666,
              "#ed7953"
             ],
             [
              0.7777777777777778,
              "#fb9f3a"
             ],
             [
              0.8888888888888888,
              "#fdca26"
             ],
             [
              1,
              "#f0f921"
             ]
            ]
           }
          ],
          "surface": [
           {
            "type": "surface",
            "colorbar": {
             "outlinewidth": 0,
             "ticks": ""
            },
            "colorscale": [
             [
              0,
              "#0d0887"
             ],
             [
              0.1111111111111111,
              "#46039f"
             ],
             [
              0.2222222222222222,
              "#7201a8"
             ],
             [
              0.3333333333333333,
              "#9c179e"
             ],
             [
              0.4444444444444444,
              "#bd3786"
             ],
             [
              0.5555555555555556,
              "#d8576b"
             ],
             [
              0.6666666666666666,
              "#ed7953"
             ],
             [
              0.7777777777777778,
              "#fb9f3a"
             ],
             [
              0.8888888888888888,
              "#fdca26"
             ],
             [
              1,
              "#f0f921"
             ]
            ]
           }
          ],
          "mesh3d": [
           {
            "type": "mesh3d",
            "colorbar": {
             "outlinewidth": 0,
             "ticks": ""
            }
           }
          ],
          "scatter": [
           {
            "fillpattern": {
             "fillmode": "overlay",
             "size": 10,
             "solidity": 0.2
            },
            "type": "scatter"
           }
          ],
          "parcoords": [
           {
            "type": "parcoords",
            "line": {
             "colorbar": {
              "outlinewidth": 0,
              "ticks": ""
             }
            }
           }
          ],
          "scatterpolargl": [
           {
            "type": "scatterpolargl",
            "marker": {
             "colorbar": {
              "outlinewidth": 0,
              "ticks": ""
             }
            }
           }
          ],
          "bar": [
           {
            "error_x": {
             "color": "#2a3f5f"
            },
            "error_y": {
             "color": "#2a3f5f"
            },
            "marker": {
             "line": {
              "color": "#E5ECF6",
              "width": 0.5
             },
             "pattern": {
              "fillmode": "overlay",
              "size": 10,
              "solidity": 0.2
             }
            },
            "type": "bar"
           }
          ],
          "scattergeo": [
           {
            "type": "scattergeo",
            "marker": {
             "colorbar": {
              "outlinewidth": 0,
              "ticks": ""
             }
            }
           }
          ],
          "scatterpolar": [
           {
            "type": "scatterpolar",
            "marker": {
             "colorbar": {
              "outlinewidth": 0,
              "ticks": ""
             }
            }
           }
          ],
          "histogram": [
           {
            "marker": {
             "pattern": {
              "fillmode": "overlay",
              "size": 10,
              "solidity": 0.2
             }
            },
            "type": "histogram"
           }
          ],
          "scattergl": [
           {
            "type": "scattergl",
            "marker": {
             "colorbar": {
              "outlinewidth": 0,
              "ticks": ""
             }
            }
           }
          ],
          "scatter3d": [
           {
            "type": "scatter3d",
            "line": {
             "colorbar": {
              "outlinewidth": 0,
              "ticks": ""
             }
            },
            "marker": {
             "colorbar": {
              "outlinewidth": 0,
              "ticks": ""
             }
            }
           }
          ],
          "scattermapbox": [
           {
            "type": "scattermapbox",
            "marker": {
             "colorbar": {
              "outlinewidth": 0,
              "ticks": ""
             }
            }
           }
          ],
          "scatterternary": [
           {
            "type": "scatterternary",
            "marker": {
             "colorbar": {
              "outlinewidth": 0,
              "ticks": ""
             }
            }
           }
          ],
          "scattercarpet": [
           {
            "type": "scattercarpet",
            "marker": {
             "colorbar": {
              "outlinewidth": 0,
              "ticks": ""
             }
            }
           }
          ],
          "carpet": [
           {
            "aaxis": {
             "endlinecolor": "#2a3f5f",
             "gridcolor": "white",
             "linecolor": "white",
             "minorgridcolor": "white",
             "startlinecolor": "#2a3f5f"
            },
            "baxis": {
             "endlinecolor": "#2a3f5f",
             "gridcolor": "white",
             "linecolor": "white",
             "minorgridcolor": "white",
             "startlinecolor": "#2a3f5f"
            },
            "type": "carpet"
           }
          ],
          "table": [
           {
            "cells": {
             "fill": {
              "color": "#EBF0F8"
             },
             "line": {
              "color": "white"
             }
            },
            "header": {
             "fill": {
              "color": "#C8D4E3"
             },
             "line": {
              "color": "white"
             }
            },
            "type": "table"
           }
          ],
          "barpolar": [
           {
            "marker": {
             "line": {
              "color": "#E5ECF6",
              "width": 0.5
             },
             "pattern": {
              "fillmode": "overlay",
              "size": 10,
              "solidity": 0.2
             }
            },
            "type": "barpolar"
           }
          ],
          "pie": [
           {
            "automargin": true,
            "type": "pie"
           }
          ]
         },
         "layout": {
          "autotypenumbers": "strict",
          "colorway": [
           "#636efa",
           "#EF553B",
           "#00cc96",
           "#ab63fa",
           "#FFA15A",
           "#19d3f3",
           "#FF6692",
           "#B6E880",
           "#FF97FF",
           "#FECB52"
          ],
          "font": {
           "color": "#2a3f5f"
          },
          "hovermode": "closest",
          "hoverlabel": {
           "align": "left"
          },
          "paper_bgcolor": "white",
          "plot_bgcolor": "#E5ECF6",
          "polar": {
           "bgcolor": "#E5ECF6",
           "angularaxis": {
            "gridcolor": "white",
            "linecolor": "white",
            "ticks": ""
           },
           "radialaxis": {
            "gridcolor": "white",
            "linecolor": "white",
            "ticks": ""
           }
          },
          "ternary": {
           "bgcolor": "#E5ECF6",
           "aaxis": {
            "gridcolor": "white",
            "linecolor": "white",
            "ticks": ""
           },
           "baxis": {
            "gridcolor": "white",
            "linecolor": "white",
            "ticks": ""
           },
           "caxis": {
            "gridcolor": "white",
            "linecolor": "white",
            "ticks": ""
           }
          },
          "coloraxis": {
           "colorbar": {
            "outlinewidth": 0,
            "ticks": ""
           }
          },
          "colorscale": {
           "sequential": [
            [
             0,
             "#0d0887"
            ],
            [
             0.1111111111111111,
             "#46039f"
            ],
            [
             0.2222222222222222,
             "#7201a8"
            ],
            [
             0.3333333333333333,
             "#9c179e"
            ],
            [
             0.4444444444444444,
             "#bd3786"
            ],
            [
             0.5555555555555556,
             "#d8576b"
            ],
            [
             0.6666666666666666,
             "#ed7953"
            ],
            [
             0.7777777777777778,
             "#fb9f3a"
            ],
            [
             0.8888888888888888,
             "#fdca26"
            ],
            [
             1,
             "#f0f921"
            ]
           ],
           "sequentialminus": [
            [
             0,
             "#0d0887"
            ],
            [
             0.1111111111111111,
             "#46039f"
            ],
            [
             0.2222222222222222,
             "#7201a8"
            ],
            [
             0.3333333333333333,
             "#9c179e"
            ],
            [
             0.4444444444444444,
             "#bd3786"
            ],
            [
             0.5555555555555556,
             "#d8576b"
            ],
            [
             0.6666666666666666,
             "#ed7953"
            ],
            [
             0.7777777777777778,
             "#fb9f3a"
            ],
            [
             0.8888888888888888,
             "#fdca26"
            ],
            [
             1,
             "#f0f921"
            ]
           ],
           "diverging": [
            [
             0,
             "#8e0152"
            ],
            [
             0.1,
             "#c51b7d"
            ],
            [
             0.2,
             "#de77ae"
            ],
            [
             0.3,
             "#f1b6da"
            ],
            [
             0.4,
             "#fde0ef"
            ],
            [
             0.5,
             "#f7f7f7"
            ],
            [
             0.6,
             "#e6f5d0"
            ],
            [
             0.7,
             "#b8e186"
            ],
            [
             0.8,
             "#7fbc41"
            ],
            [
             0.9,
             "#4d9221"
            ],
            [
             1,
             "#276419"
            ]
           ]
          },
          "xaxis": {
           "gridcolor": "white",
           "linecolor": "white",
           "ticks": "",
           "title": {
            "standoff": 15
           },
           "zerolinecolor": "white",
           "automargin": true,
           "zerolinewidth": 2
          },
          "yaxis": {
           "gridcolor": "white",
           "linecolor": "white",
           "ticks": "",
           "title": {
            "standoff": 15
           },
           "zerolinecolor": "white",
           "automargin": true,
           "zerolinewidth": 2
          },
          "scene": {
           "xaxis": {
            "backgroundcolor": "#E5ECF6",
            "gridcolor": "white",
            "linecolor": "white",
            "showbackground": true,
            "ticks": "",
            "zerolinecolor": "white",
            "gridwidth": 2
           },
           "yaxis": {
            "backgroundcolor": "#E5ECF6",
            "gridcolor": "white",
            "linecolor": "white",
            "showbackground": true,
            "ticks": "",
            "zerolinecolor": "white",
            "gridwidth": 2
           },
           "zaxis": {
            "backgroundcolor": "#E5ECF6",
            "gridcolor": "white",
            "linecolor": "white",
            "showbackground": true,
            "ticks": "",
            "zerolinecolor": "white",
            "gridwidth": 2
           }
          },
          "shapedefaults": {
           "line": {
            "color": "#2a3f5f"
           }
          },
          "annotationdefaults": {
           "arrowcolor": "#2a3f5f",
           "arrowhead": 0,
           "arrowwidth": 1
          },
          "geo": {
           "bgcolor": "white",
           "landcolor": "#E5ECF6",
           "subunitcolor": "white",
           "showland": true,
           "showlakes": true,
           "lakecolor": "white"
          },
          "title": {
           "x": 0.05
          },
          "mapbox": {
           "style": "light"
          }
         }
        },
        "legend": {
         "tracegroupgap": 0
        },
        "margin": {
         "t": 50,
         "l": 0,
         "r": 0,
         "b": 0
        },
        "font": {
         "size": 14
        },
        "title": {
         "text": "Transaction Channel Volume 2022"
        },
        "width": 1400,
        "height": 900,
        "sunburstcolorway": [
         "orange",
         "gray",
         "burlywood",
         "deepskyblue",
         "lightblue",
         "Turquoise",
         "gold"
        ]
       },
       "config": {
        "plotlyServerURL": "https://plot.ly"
       }
      }
     },
     "metadata": {}
    }
   ],
   "metadata": {}
  },
  {
   "cell_type": "code",
   "execution_count": 11,
   "source": [
    "# Export the chart as an HTML file\r\n",
    "pyo.plot(fig, filename='Trxn_sunburst_chart.html', auto_open=True)"
   ],
   "outputs": [
    {
     "output_type": "execute_result",
     "data": {
      "text/plain": [
       "'Trxn_sunburst_chart.html'"
      ]
     },
     "metadata": {},
     "execution_count": 11
    }
   ],
   "metadata": {}
  }
 ],
 "metadata": {
  "kernelspec": {
   "name": "python3",
   "display_name": "Python 3.9.4 64-bit"
  },
  "language_info": {
   "codemirror_mode": {
    "name": "ipython",
    "version": 3
   },
   "file_extension": ".py",
   "mimetype": "text/x-python",
   "name": "python",
   "nbconvert_exporter": "python",
   "pygments_lexer": "ipython3",
   "version": "3.9.4"
  },
  "orig_nbformat": 4,
  "interpreter": {
   "hash": "ac59ebe37160ed0dfa835113d9b8498d9f09ceb179beaac4002f036b9467c963"
  }
 },
 "nbformat": 4,
 "nbformat_minor": 2
}