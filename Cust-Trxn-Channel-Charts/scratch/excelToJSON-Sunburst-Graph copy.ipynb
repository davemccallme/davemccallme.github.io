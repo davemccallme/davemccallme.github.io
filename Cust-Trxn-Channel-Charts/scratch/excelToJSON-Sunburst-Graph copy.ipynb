{
 "cells": [
  {
   "cell_type": "code",
   "execution_count": 526,
   "source": [
    "# Install packages as needed\r\n",
    "#%pip install openpyxl\r\n",
    "#%pip install pandas \r\n",
    "#%pip install plotly\r\n",
    "#%pip install nbformat\r\n",
    "#%pip install --upgrade ipython"
   ],
   "outputs": [],
   "metadata": {}
  },
  {
   "cell_type": "code",
   "execution_count": 527,
   "source": [
    "#import libraries\r\n",
    "import pandas as pd\r\n",
    "import json\r\n",
    "import os\r\n",
    "import plotly.express as px\r\n",
    "import plotly.offline as pyo\r\n",
    "import plotly.graph_objs as go\r\n",
    "import locale\r\n",
    "import numpy as np\r\n",
    "import re"
   ],
   "outputs": [],
   "metadata": {}
  },
  {
   "cell_type": "markdown",
   "source": [
    "Extract"
   ],
   "metadata": {}
  },
  {
   "cell_type": "code",
   "execution_count": 528,
   "source": [
    "###EXTRACT###\r\n",
    "# Read Transaction Excel data into a Pandas dataframe\r\n",
    "file = r'C:\\Users\\DIM6\\OneDrive - PGE\\[Work] [Shared]\\CXI Projects\\20200122 03 CC Fact Sheet\\2022\\2022 Customer Transactions Map - Publication Sheets.xlsx'\r\n",
    "sheet_name = 'Sunburst'\r\n",
    "\r\n",
    "# Read the specific sheet from the Excel file\r\n",
    "df_raw = pd.read_excel(file, sheet_name=sheet_name)\r\n",
    "print(df_raw.head())"
   ],
   "outputs": [
    {
     "output_type": "stream",
     "name": "stdout",
     "text": [
      "  Root Level Level 1 Level 2 L3 Classifier  Value  TableBlank?  Level  \\\n",
      "0        NaN     NaN     NaN           NaN    NaN        False    NaN   \n",
      "1        NaN     NaN     NaN           NaN    NaN        False    NaN   \n",
      "2        NaN     NaN     NaN           NaN    NaN        False    NaN   \n",
      "3        NaN     NaN     NaN           NaN    NaN        False    NaN   \n",
      "4        NaN     NaN     NaN           NaN    NaN        False    NaN   \n",
      "\n",
      "   Unnamed: 7                        0 0.1 59.844395  \n",
      "0         NaN   % Payment transactions   0      2022  \n",
      "1         NaN              Pay by Mail   0  0.187152  \n",
      "2         NaN                      Web   0  0.467045  \n",
      "3         NaN  Other Elec Pay Channels   0  0.243905  \n",
      "4         NaN              Call Center   0  0.072321  \n"
     ]
    }
   ],
   "metadata": {}
  },
  {
   "cell_type": "code",
   "execution_count": 529,
   "source": [
    " #Remove columns not needed for sunburst\r\n",
    "df = df[['Root Level', 'Level 1', 'Level 2', 'Value']]\r\n",
    "\r\n",
    "# convert cells in column \"Value\" to numeric values\r\n",
    "#df['Value'] = pd.to_numeric(df['Value'], errors='coerce')\r\n",
    "\r\n",
    "# Remove rows with all NaN values\r\n",
    "#filtered_df = df.dropna(how='all')\r\n",
    "\r\n",
    "# filter out rows with None, blank, or NaN values in the \"Value\" column\r\n",
    "#df = filtered_df.loc[pd.isna(filtered_df['Value']) | (filtered_df['Value'] == '') | pd.notna(filtered_df['Value'])]\r\n",
    "\r\n",
    "print(df.head())"
   ],
   "outputs": [
    {
     "output_type": "stream",
     "name": "stdout",
     "text": [
      "          Root Level   Level 1 Level 2   Value\n",
      "43               NPC  Payments     Nan   1.770\n",
      "49              Mail  Payments     Nan  11.200\n",
      "58  Other Electronic  Payments     Nan  10.393\n",
      "59  Other Electronic  Payments     Nan   2.735\n",
      "60  Other Electronic  Payments     Nan   0.637\n"
     ]
    }
   ],
   "metadata": {}
  },
  {
   "cell_type": "code",
   "execution_count": 530,
   "source": [
    "# Remove \"-\" and convert to proper case\r\n",
    "df[\"Root Level\"] = df[\"Root Level\"].str.replace(r\"\\s*-\\s*\", \"\").astype(str)\r\n",
    "df[\"Level 1\"] = df[\"Level 1\"].str.replace(r\"\\s*-\\s*\", \"\").astype(str)\r\n",
    "df[\"Level 2\"] = df[\"Level 2\"].str.replace(r\"\\s*-\\s*\", \"\").astype(str)\r\n",
    "\r\n",
    "#Convert L2 to proper case\r\n",
    "df[\"Level 2\"] = df[\"Level 2\"].str.title()"
   ],
   "outputs": [
    {
     "output_type": "stream",
     "name": "stderr",
     "text": [
      "C:\\Users\\DIM6\\AppData\\Local\\Temp\\1\\ipykernel_14416\\2126742580.py:2: FutureWarning:\n",
      "\n",
      "The default value of regex will change from True to False in a future version.\n",
      "\n",
      "C:\\Users\\DIM6\\AppData\\Local\\Temp\\1\\ipykernel_14416\\2126742580.py:3: FutureWarning:\n",
      "\n",
      "The default value of regex will change from True to False in a future version.\n",
      "\n",
      "C:\\Users\\DIM6\\AppData\\Local\\Temp\\1\\ipykernel_14416\\2126742580.py:4: FutureWarning:\n",
      "\n",
      "The default value of regex will change from True to False in a future version.\n",
      "\n"
     ]
    }
   ],
   "metadata": {}
  },
  {
   "cell_type": "code",
   "execution_count": 531,
   "source": [
    "# Splice a new df\r\n",
    "df = df.copy()\r\n",
    "\r\n",
    "print(df.head())"
   ],
   "outputs": [
    {
     "output_type": "stream",
     "name": "stdout",
     "text": [
      "          Root Level   Level 1 Level 2   Value\n",
      "43               NPC  Payments     Nan   1.770\n",
      "49              Mail  Payments     Nan  11.200\n",
      "58  Other Electronic  Payments     Nan  10.393\n",
      "59  Other Electronic  Payments     Nan   2.735\n",
      "60  Other Electronic  Payments     Nan   0.637\n"
     ]
    }
   ],
   "metadata": {}
  },
  {
   "cell_type": "code",
   "execution_count": 532,
   "source": [
    "# Convert dataframe to a hierarchical dictionary\r\n",
    "def make_hierarchy_dict(df, path=[], value_col=\"Value\", threshold=10):\r\n",
    "    if len(path) == df.columns.nlevels - 1:\r\n",
    "        total = int(df[value_col].sum())\r\n",
    "        if total < threshold:\r\n",
    "            return None\r\n",
    "        else:\r\n",
    "            return total\r\n",
    "    else:\r\n",
    "        level = df.columns[len(path)]\r\n",
    "        subdict = {}\r\n",
    "        for key in df[level].dropna().unique():\r\n",
    "            subdf = df[df[level] == key].drop(columns=[level])\r\n",
    "            subhierarchy_dict = make_hierarchy_dict(subdf, path + [key], value_col, threshold)\r\n",
    "            if subhierarchy_dict is not None:\r\n",
    "                subdict[key] = subhierarchy_dict\r\n",
    "        if len(subdict) == 0:\r\n",
    "            return None\r\n",
    "        else:\r\n",
    "            return subdict\r\n",
    "\r\n",
    "hierarchy_dict = make_hierarchy_dict(df.set_index(list(df.columns[:3])), value_col=\"Value\", threshold=10)\r\n",
    "\r\n",
    "print(hierarchy_dict)"
   ],
   "outputs": [
    {
     "output_type": "stream",
     "name": "stdout",
     "text": [
      "177\n"
     ]
    }
   ],
   "metadata": {}
  },
  {
   "cell_type": "code",
   "execution_count": 533,
   "source": [
    "# Convert hierarchical dictionary to Plotly-compatible JSON\r\n",
    "def make_plotly_sunburst(hierarchy_dict, name=\"\"):\r\n",
    "    if isinstance(hierarchy_dict, dict):\r\n",
    "        children = []\r\n",
    "        for key, value in hierarchy_dict.items():\r\n",
    "            children.append(make_plotly_sunburst(value, key))\r\n",
    "        return {\r\n",
    "            \"name\": name,\r\n",
    "            \"children\": children\r\n",
    "        }\r\n",
    "    else:\r\n",
    "        return {\r\n",
    "            \"label\": name,\r\n",
    "            \"value\": hierarchy_dict\r\n",
    "        }"
   ],
   "outputs": [],
   "metadata": {}
  },
  {
   "cell_type": "code",
   "execution_count": 534,
   "source": [
    "plotly_data = make_plotly_sunburst(hierarchy_dict)\r\n",
    "print(plotly_data)"
   ],
   "outputs": [
    {
     "output_type": "stream",
     "name": "stdout",
     "text": [
      "{'label': '', 'value': 177}\n"
     ]
    }
   ],
   "metadata": {}
  },
  {
   "cell_type": "code",
   "execution_count": 535,
   "source": [
    "# Write JSON data to a file\r\n",
    "with open(\"plotly_data.json\", \"w\") as f:\r\n",
    "    json.dump(plotly_data, f)"
   ],
   "outputs": [],
   "metadata": {}
  },
  {
   "cell_type": "code",
   "execution_count": 536,
   "source": [
    "# Write dataframe to an Excel file\r\n",
    "with pd.ExcelWriter('dataframe copy.xlsx') as writer:\r\n",
    "    df.to_excel(writer, sheet_name='Sheet1', index=False)"
   ],
   "outputs": [],
   "metadata": {}
  },
  {
   "cell_type": "code",
   "execution_count": 537,
   "source": [
    " #Create a dictionary to map the Root Level to its corresponding color\r\n",
    "color_map = {'Web': 'orange', 'Other Electronic': 'gray', 'Mail': 'burlywood', 'Call Center - IVR': 'deepskyblue','Call Center - Other':'lightblue', \\\r\n",
    "              'Call Center - Live Agent':'Turquoise', 'NPC': 'gold'}\r\n",
    "\r\n",
    "# Format a sunburst chart using Plotly Express\r\n",
    "color_sequence = [color_map[key] for key in color_map]\r\n",
    "fig = px.sunburst(df, path=[\"Root Level\", \"Level 1\", \"Level 2\"], values='Value')\r\n",
    "\r\n",
    "# Update the layout\r\n",
    "fig.update_layout(\r\n",
    "    title='Transaction Channel Volume 2022',\r\n",
    "    font=dict(size=14),\r\n",
    "    margin=dict(t=50, l=0, r=0, b=0),\r\n",
    "    width=1400,\r\n",
    "    height=900,\r\n",
    "    sunburstcolorway=color_sequence,\r\n",
    ")\r\n",
    "fig.show()\r\n"
   ],
   "outputs": [
    {
     "output_type": "display_data",
     "data": {
      "application/vnd.plotly.v1+json": {
       "data": [
        {
         "branchvalues": "total",
         "domain": {
          "x": [
           0,
           1
          ],
          "y": [
           0,
           1
          ]
         },
         "hovertemplate": "labels=%{label}<br>Value=%{value}<br>parent=%{parent}<br>id=%{id}<extra></extra>",
         "ids": [
          "Web/Account Mgmt/Add/Edit Phone Number",
          "Web/Alerts & Notifications/Additional Communication Alerts New",
          "Web/Pilot Light Appointments /Cancel_Service_Appointment",
          "Web/Alerts & Notifications/Change Billing & Payment Alerts ",
          "Web/Account Mgmt/Change Billing Address ",
          "Web/Account Mgmt/Change User Name, Password ",
          "Web/Usage and Rates/Compare My Bills",
          "Web/Other Interactions /Contact Us",
          "Web/Payment Account NEW/Create_Payment_Account",
          "Web/Payment Account NEW/Delete_Payment_Account",
          "Web/Alerts & Notifications/Energy Alerts",
          "Web/Alerts & Notifications/Event Day Alerts New",
          "Web/Pay Plans/Extension Pay",
          "Web/Other Interactions /Gas Pipeline Map Views",
          "Web/Alerts & Notifications/Go Paperless Alerts New",
          "Web/Usage and Rates/Home Energy Checkup",
          "Web/Pay Plans/Installment Pay",
          "Call CenterLive Agent/Abandoned Calls/Nan",
          "Call Center IVR/Account Balance/Nan",
          "Web/Account Mgmt/Nan",
          "Web/Alerts & Notifications/Nan",
          "Call CenterLive Agent/BCSC (Business Customer Service Center)/Nan",
          "Call Center IVR/Billing/Nan",
          "Web/Billing/Nan",
          "Call CenterLive Agent/Billing Balance /Nan",
          "Web/Budget Billing (Login) /Nan",
          "Web/CARE/FERA /Nan",
          "Call CenterLive Agent/Emergency /Nan",
          "Call CenterLive Agent/General/Nan",
          "Call CenterLive Agent/Handled calls /Nan",
          "Call Center Other/ICM Technology Handled1/Nan",
          "Call CenterLive Agent/Live Agent /Nan",
          "Call Center Other/NonIVR Technology2/Nan",
          "Web/Other Interactions /Nan",
          "Call Center IVR/Other Transactions /Nan",
          "Call CenterLive Agent/Other Transactions /Nan",
          "Web/Outage/Nan",
          "Call Center IVR/Outage /Nan",
          "Call CenterLive Agent/Outage /Nan",
          "Call Center IVR/Pay Plans/Nan",
          "Call CenterLive Agent/Pay Plans/Nan",
          "Web/Pay Plans/Nan",
          "Web/Payment/Nan",
          "Web/Payment Account NEW/Nan",
          "Call Center IVR/Payments/Nan",
          "Call CenterLive Agent/Payments/Nan",
          "Mail/Payments/Nan",
          "NPC/Payments/Nan",
          "Other Electronic/Payments/Nan",
          "Web/Pilot Light Appointments /Nan",
          "Call CenterLive Agent/Solar /Nan",
          "Call CenterLive Agent/Spanish (General) /Nan",
          "Call CenterLive Agent/Specialty Lines /Nan",
          "Call Center IVR/Start/Stop/ Transfer/Nan",
          "Call CenterLive Agent/Start/Stop/ Transfer/Nan",
          "Web/Start/Stop/ Transfer/Nan",
          "Call CenterLive Agent/Transferred calls4 /Nan",
          "Web/Usage and Rates/Nan",
          "Call Center IVR/nan/Nan",
          "Web/nan/Nan",
          "Web/Alerts & Notifications/Notices & Services Information New",
          "Web/Payments/One Time Access",
          "Web/Usage and Rates/Online Rate Enrollment",
          "Web/Alerts & Notifications/Outages Alerts New",
          "Web/Alerts & Notifications/Pay Plan & Shutoff Nonpayment Alerts New",
          "Web/Usage and Rates/Rate Comparison",
          "Web/Other Interactions /Recurring Payment Schedule",
          "Web/Other Interactions /Registration",
          "Web/Outage/Report Outage",
          "Web/Pilot Light Appointments /Reschedule_Service_Appointment",
          "Web/Pilot Light Appointments /Schedule_Service_Appointment",
          "Web/Outage/Search Outage By Address",
          "Web/Alerts & Notifications/Service Visit Alerts New",
          "Call Center IVR/Start/Stop/ Transfer/Start ",
          "Call CenterLive Agent/Start/Stop/ Transfer/Start ",
          "Web/Start/Stop/ Transfer/Start ",
          "Call Center IVR/Start/Stop/ Transfer/Stop ",
          "Call CenterLive Agent/Start/Stop/ Transfer/Stop ",
          "Web/Start/Stop/ Transfer/Stop ",
          "Web/Outage/Subscribe Outage (Ew Pages)",
          "Call Center IVR/Start/Stop/ Transfer/Transfer ",
          "Call CenterLive Agent/Start/Stop/ Transfer/Transfer ",
          "Web/Start/Stop/ Transfer/Transfer ",
          "Web/Payment Account NEW/Update_Payment_Account",
          "Web/Usage and Rates/View Usage ",
          "Web/ViewBillCurrentPDF/Viewbillcurrentpdf",
          "Web/ViewBillCurrentPDF historical/Viewbillcurrentpdf Historical",
          "Web/Payments/Your Account",
          "Call CenterLive Agent/Abandoned Calls",
          "Call Center IVR/Account Balance",
          "Web/Account Mgmt",
          "Web/Alerts & Notifications",
          "Call CenterLive Agent/BCSC (Business Customer Service Center)",
          "Call Center IVR/Billing",
          "Web/Billing",
          "Call CenterLive Agent/Billing Balance ",
          "Web/Budget Billing (Login) ",
          "Web/CARE/FERA ",
          "Call CenterLive Agent/Emergency ",
          "Call CenterLive Agent/General",
          "Call CenterLive Agent/Handled calls ",
          "Call Center Other/ICM Technology Handled1",
          "Call CenterLive Agent/Live Agent ",
          "Call Center Other/NonIVR Technology2",
          "Web/Other Interactions ",
          "Call Center IVR/Other Transactions ",
          "Call CenterLive Agent/Other Transactions ",
          "Web/Outage",
          "Call Center IVR/Outage ",
          "Call CenterLive Agent/Outage ",
          "Call Center IVR/Pay Plans",
          "Call CenterLive Agent/Pay Plans",
          "Web/Pay Plans",
          "Web/Payment",
          "Web/Payment Account NEW",
          "Call Center IVR/Payments",
          "Call CenterLive Agent/Payments",
          "Mail/Payments",
          "NPC/Payments",
          "Other Electronic/Payments",
          "Web/Payments",
          "Web/Pilot Light Appointments ",
          "Call CenterLive Agent/Solar ",
          "Call CenterLive Agent/Spanish (General) ",
          "Call CenterLive Agent/Specialty Lines ",
          "Call Center IVR/Start/Stop/ Transfer",
          "Call CenterLive Agent/Start/Stop/ Transfer",
          "Web/Start/Stop/ Transfer",
          "Call CenterLive Agent/Transferred calls4 ",
          "Web/Usage and Rates",
          "Web/ViewBillCurrentPDF",
          "Web/ViewBillCurrentPDF historical",
          "Call Center IVR/nan",
          "Web/nan",
          "Call Center IVR",
          "Call Center Other",
          "Call CenterLive Agent",
          "Mail",
          "NPC",
          "Other Electronic",
          "Web"
         ],
         "labels": [
          "Add/Edit Phone Number",
          "Additional Communication Alerts New",
          "Cancel_Service_Appointment",
          "Change Billing & Payment Alerts ",
          "Change Billing Address ",
          "Change User Name, Password ",
          "Compare My Bills",
          "Contact Us",
          "Create_Payment_Account",
          "Delete_Payment_Account",
          "Energy Alerts",
          "Event Day Alerts New",
          "Extension Pay",
          "Gas Pipeline Map Views",
          "Go Paperless Alerts New",
          "Home Energy Checkup",
          "Installment Pay",
          "Nan",
          "Nan",
          "Nan",
          "Nan",
          "Nan",
          "Nan",
          "Nan",
          "Nan",
          "Nan",
          "Nan",
          "Nan",
          "Nan",
          "Nan",
          "Nan",
          "Nan",
          "Nan",
          "Nan",
          "Nan",
          "Nan",
          "Nan",
          "Nan",
          "Nan",
          "Nan",
          "Nan",
          "Nan",
          "Nan",
          "Nan",
          "Nan",
          "Nan",
          "Nan",
          "Nan",
          "Nan",
          "Nan",
          "Nan",
          "Nan",
          "Nan",
          "Nan",
          "Nan",
          "Nan",
          "Nan",
          "Nan",
          "Nan",
          "Nan",
          "Notices & Services Information New",
          "One Time Access",
          "Online Rate Enrollment",
          "Outages Alerts New",
          "Pay Plan & Shutoff Nonpayment Alerts New",
          "Rate Comparison",
          "Recurring Payment Schedule",
          "Registration",
          "Report Outage",
          "Reschedule_Service_Appointment",
          "Schedule_Service_Appointment",
          "Search Outage By Address",
          "Service Visit Alerts New",
          "Start ",
          "Start ",
          "Start ",
          "Stop ",
          "Stop ",
          "Stop ",
          "Subscribe Outage (Ew Pages)",
          "Transfer ",
          "Transfer ",
          "Transfer ",
          "Update_Payment_Account",
          "View Usage ",
          "Viewbillcurrentpdf",
          "Viewbillcurrentpdf Historical",
          "Your Account",
          "Abandoned Calls",
          "Account Balance",
          "Account Mgmt",
          "Alerts & Notifications",
          "BCSC (Business Customer Service Center)",
          "Billing",
          "Billing",
          "Billing Balance ",
          "Budget Billing (Login) ",
          "CARE/FERA ",
          "Emergency ",
          "General",
          "Handled calls ",
          "ICM Technology Handled1",
          "Live Agent ",
          "NonIVR Technology2",
          "Other Interactions ",
          "Other Transactions ",
          "Other Transactions ",
          "Outage",
          "Outage ",
          "Outage ",
          "Pay Plans",
          "Pay Plans",
          "Pay Plans",
          "Payment",
          "Payment Account NEW",
          "Payments",
          "Payments",
          "Payments",
          "Payments",
          "Payments",
          "Payments",
          "Pilot Light Appointments ",
          "Solar ",
          "Spanish (General) ",
          "Specialty Lines ",
          "Start/Stop/ Transfer",
          "Start/Stop/ Transfer",
          "Start/Stop/ Transfer",
          "Transferred calls4 ",
          "Usage and Rates",
          "ViewBillCurrentPDF",
          "ViewBillCurrentPDF historical",
          "nan",
          "nan",
          "Call Center IVR",
          "Call Center Other",
          "Call CenterLive Agent",
          "Mail",
          "NPC",
          "Other Electronic",
          "Web"
         ],
         "name": "",
         "parents": [
          "Web/Account Mgmt",
          "Web/Alerts & Notifications",
          "Web/Pilot Light Appointments ",
          "Web/Alerts & Notifications",
          "Web/Account Mgmt",
          "Web/Account Mgmt",
          "Web/Usage and Rates",
          "Web/Other Interactions ",
          "Web/Payment Account NEW",
          "Web/Payment Account NEW",
          "Web/Alerts & Notifications",
          "Web/Alerts & Notifications",
          "Web/Pay Plans",
          "Web/Other Interactions ",
          "Web/Alerts & Notifications",
          "Web/Usage and Rates",
          "Web/Pay Plans",
          "Call CenterLive Agent/Abandoned Calls",
          "Call Center IVR/Account Balance",
          "Web/Account Mgmt",
          "Web/Alerts & Notifications",
          "Call CenterLive Agent/BCSC (Business Customer Service Center)",
          "Call Center IVR/Billing",
          "Web/Billing",
          "Call CenterLive Agent/Billing Balance ",
          "Web/Budget Billing (Login) ",
          "Web/CARE/FERA ",
          "Call CenterLive Agent/Emergency ",
          "Call CenterLive Agent/General",
          "Call CenterLive Agent/Handled calls ",
          "Call Center Other/ICM Technology Handled1",
          "Call CenterLive Agent/Live Agent ",
          "Call Center Other/NonIVR Technology2",
          "Web/Other Interactions ",
          "Call Center IVR/Other Transactions ",
          "Call CenterLive Agent/Other Transactions ",
          "Web/Outage",
          "Call Center IVR/Outage ",
          "Call CenterLive Agent/Outage ",
          "Call Center IVR/Pay Plans",
          "Call CenterLive Agent/Pay Plans",
          "Web/Pay Plans",
          "Web/Payment",
          "Web/Payment Account NEW",
          "Call Center IVR/Payments",
          "Call CenterLive Agent/Payments",
          "Mail/Payments",
          "NPC/Payments",
          "Other Electronic/Payments",
          "Web/Pilot Light Appointments ",
          "Call CenterLive Agent/Solar ",
          "Call CenterLive Agent/Spanish (General) ",
          "Call CenterLive Agent/Specialty Lines ",
          "Call Center IVR/Start/Stop/ Transfer",
          "Call CenterLive Agent/Start/Stop/ Transfer",
          "Web/Start/Stop/ Transfer",
          "Call CenterLive Agent/Transferred calls4 ",
          "Web/Usage and Rates",
          "Call Center IVR/nan",
          "Web/nan",
          "Web/Alerts & Notifications",
          "Web/Payments",
          "Web/Usage and Rates",
          "Web/Alerts & Notifications",
          "Web/Alerts & Notifications",
          "Web/Usage and Rates",
          "Web/Other Interactions ",
          "Web/Other Interactions ",
          "Web/Outage",
          "Web/Pilot Light Appointments ",
          "Web/Pilot Light Appointments ",
          "Web/Outage",
          "Web/Alerts & Notifications",
          "Call Center IVR/Start/Stop/ Transfer",
          "Call CenterLive Agent/Start/Stop/ Transfer",
          "Web/Start/Stop/ Transfer",
          "Call Center IVR/Start/Stop/ Transfer",
          "Call CenterLive Agent/Start/Stop/ Transfer",
          "Web/Start/Stop/ Transfer",
          "Web/Outage",
          "Call Center IVR/Start/Stop/ Transfer",
          "Call CenterLive Agent/Start/Stop/ Transfer",
          "Web/Start/Stop/ Transfer",
          "Web/Payment Account NEW",
          "Web/Usage and Rates",
          "Web/ViewBillCurrentPDF",
          "Web/ViewBillCurrentPDF historical",
          "Web/Payments",
          "Call CenterLive Agent",
          "Call Center IVR",
          "Web",
          "Web",
          "Call CenterLive Agent",
          "Call Center IVR",
          "Web",
          "Call CenterLive Agent",
          "Web",
          "Web",
          "Call CenterLive Agent",
          "Call CenterLive Agent",
          "Call CenterLive Agent",
          "Call Center Other",
          "Call CenterLive Agent",
          "Call Center Other",
          "Web",
          "Call Center IVR",
          "Call CenterLive Agent",
          "Web",
          "Call Center IVR",
          "Call CenterLive Agent",
          "Call Center IVR",
          "Call CenterLive Agent",
          "Web",
          "Web",
          "Web",
          "Call Center IVR",
          "Call CenterLive Agent",
          "Mail",
          "NPC",
          "Other Electronic",
          "Web",
          "Web",
          "Call CenterLive Agent",
          "Call CenterLive Agent",
          "Call CenterLive Agent",
          "Call Center IVR",
          "Call CenterLive Agent",
          "Web",
          "Call CenterLive Agent",
          "Web",
          "Web",
          "Web",
          "Call Center IVR",
          "Web",
          "",
          "",
          "",
          "",
          "",
          "",
          ""
         ],
         "values": [
          0.1376,
          0.008686,
          0.001907,
          0.30238,
          0.083947,
          0.159607,
          2.735761,
          0,
          0.663126,
          0.244317,
          0.233548,
          0.016104,
          0.07996,
          0.015393,
          0.025758,
          0.36242,
          0.220049,
          0.267,
          0.205,
          0.381154,
          0.6301449999999998,
          0.466,
          1.241,
          18.35347,
          0.691,
          0.016692,
          0.278569,
          0.449,
          1.341,
          5.242,
          2.63,
          0,
          0.029,
          1.310914,
          0.678,
          0.136,
          5.146001,
          0.843,
          0.246,
          0.209,
          0.123,
          0.300009,
          27.950047,
          0.923619,
          4.474,
          0.137,
          11.2,
          1.77,
          14.596348,
          0.022042,
          0.479,
          0.256,
          0.22,
          0,
          0,
          0,
          3.918,
          6.742749,
          0,
          0,
          0.010738,
          3.633827,
          0.14082,
          0.012242,
          0.016992,
          0.310259,
          0.756747,
          0.538774,
          0.549793,
          0.001148,
          0.018987,
          4.516009,
          0.003697,
          0.155,
          0.374,
          0.282883,
          0.124,
          0.133,
          0.178445,
          0.080199,
          0.058,
          0.171,
          0.080187,
          0.016176,
          3.193489,
          8.992263,
          9.361207,
          24.31622,
          0.267,
          0.205,
          0.762308,
          1.26029,
          0.466,
          1.241,
          18.35347,
          0.691,
          0.016692,
          0.278569,
          0.449,
          1.341,
          5.242,
          2.63,
          0,
          0.029,
          2.621828,
          0.678,
          0.136,
          10.292002,
          0.843,
          0.246,
          0.209,
          0.123,
          0.600018,
          27.950047,
          1.847238,
          4.474,
          0.137,
          11.2,
          1.77,
          14.596348,
          27.950047,
          0.044084,
          0.479,
          0.256,
          0.22,
          0.337,
          0.678,
          0.541515,
          3.918,
          13.485498,
          8.992263,
          9.361207,
          0,
          0,
          7.987,
          2.659,
          14.649000000000001,
          11.2,
          1.77,
          14.596348,
          124.357076
         ],
         "type": "sunburst"
        }
       ],
       "layout": {
        "template": {
         "data": {
          "histogram2dcontour": [
           {
            "type": "histogram2dcontour",
            "colorbar": {
             "outlinewidth": 0,
             "ticks": ""
            },
            "colorscale": [
             [
              0,
              "#0d0887"
             ],
             [
              0.1111111111111111,
              "#46039f"
             ],
             [
              0.2222222222222222,
              "#7201a8"
             ],
             [
              0.3333333333333333,
              "#9c179e"
             ],
             [
              0.4444444444444444,
              "#bd3786"
             ],
             [
              0.5555555555555556,
              "#d8576b"
             ],
             [
              0.6666666666666666,
              "#ed7953"
             ],
             [
              0.7777777777777778,
              "#fb9f3a"
             ],
             [
              0.8888888888888888,
              "#fdca26"
             ],
             [
              1,
              "#f0f921"
             ]
            ]
           }
          ],
          "choropleth": [
           {
            "type": "choropleth",
            "colorbar": {
             "outlinewidth": 0,
             "ticks": ""
            }
           }
          ],
          "histogram2d": [
           {
            "type": "histogram2d",
            "colorbar": {
             "outlinewidth": 0,
             "ticks": ""
            },
            "colorscale": [
             [
              0,
              "#0d0887"
             ],
             [
              0.1111111111111111,
              "#46039f"
             ],
             [
              0.2222222222222222,
              "#7201a8"
             ],
             [
              0.3333333333333333,
              "#9c179e"
             ],
             [
              0.4444444444444444,
              "#bd3786"
             ],
             [
              0.5555555555555556,
              "#d8576b"
             ],
             [
              0.6666666666666666,
              "#ed7953"
             ],
             [
              0.7777777777777778,
              "#fb9f3a"
             ],
             [
              0.8888888888888888,
              "#fdca26"
             ],
             [
              1,
              "#f0f921"
             ]
            ]
           }
          ],
          "heatmap": [
           {
            "type": "heatmap",
            "colorbar": {
             "outlinewidth": 0,
             "ticks": ""
            },
            "colorscale": [
             [
              0,
              "#0d0887"
             ],
             [
              0.1111111111111111,
              "#46039f"
             ],
             [
              0.2222222222222222,
              "#7201a8"
             ],
             [
              0.3333333333333333,
              "#9c179e"
             ],
             [
              0.4444444444444444,
              "#bd3786"
             ],
             [
              0.5555555555555556,
              "#d8576b"
             ],
             [
              0.6666666666666666,
              "#ed7953"
             ],
             [
              0.7777777777777778,
              "#fb9f3a"
             ],
             [
              0.8888888888888888,
              "#fdca26"
             ],
             [
              1,
              "#f0f921"
             ]
            ]
           }
          ],
          "heatmapgl": [
           {
            "type": "heatmapgl",
            "colorbar": {
             "outlinewidth": 0,
             "ticks": ""
            },
            "colorscale": [
             [
              0,
              "#0d0887"
             ],
             [
              0.1111111111111111,
              "#46039f"
             ],
             [
              0.2222222222222222,
              "#7201a8"
             ],
             [
              0.3333333333333333,
              "#9c179e"
             ],
             [
              0.4444444444444444,
              "#bd3786"
             ],
             [
              0.5555555555555556,
              "#d8576b"
             ],
             [
              0.6666666666666666,
              "#ed7953"
             ],
             [
              0.7777777777777778,
              "#fb9f3a"
             ],
             [
              0.8888888888888888,
              "#fdca26"
             ],
             [
              1,
              "#f0f921"
             ]
            ]
           }
          ],
          "contourcarpet": [
           {
            "type": "contourcarpet",
            "colorbar": {
             "outlinewidth": 0,
             "ticks": ""
            }
           }
          ],
          "contour": [
           {
            "type": "contour",
            "colorbar": {
             "outlinewidth": 0,
             "ticks": ""
            },
            "colorscale": [
             [
              0,
              "#0d0887"
             ],
             [
              0.1111111111111111,
              "#46039f"
             ],
             [
              0.2222222222222222,
              "#7201a8"
             ],
             [
              0.3333333333333333,
              "#9c179e"
             ],
             [
              0.4444444444444444,
              "#bd3786"
             ],
             [
              0.5555555555555556,
              "#d8576b"
             ],
             [
              0.6666666666666666,
              "#ed7953"
             ],
             [
              0.7777777777777778,
              "#fb9f3a"
             ],
             [
              0.8888888888888888,
              "#fdca26"
             ],
             [
              1,
              "#f0f921"
             ]
            ]
           }
          ],
          "surface": [
           {
            "type": "surface",
            "colorbar": {
             "outlinewidth": 0,
             "ticks": ""
            },
            "colorscale": [
             [
              0,
              "#0d0887"
             ],
             [
              0.1111111111111111,
              "#46039f"
             ],
             [
              0.2222222222222222,
              "#7201a8"
             ],
             [
              0.3333333333333333,
              "#9c179e"
             ],
             [
              0.4444444444444444,
              "#bd3786"
             ],
             [
              0.5555555555555556,
              "#d8576b"
             ],
             [
              0.6666666666666666,
              "#ed7953"
             ],
             [
              0.7777777777777778,
              "#fb9f3a"
             ],
             [
              0.8888888888888888,
              "#fdca26"
             ],
             [
              1,
              "#f0f921"
             ]
            ]
           }
          ],
          "mesh3d": [
           {
            "type": "mesh3d",
            "colorbar": {
             "outlinewidth": 0,
             "ticks": ""
            }
           }
          ],
          "scatter": [
           {
            "fillpattern": {
             "fillmode": "overlay",
             "size": 10,
             "solidity": 0.2
            },
            "type": "scatter"
           }
          ],
          "parcoords": [
           {
            "type": "parcoords",
            "line": {
             "colorbar": {
              "outlinewidth": 0,
              "ticks": ""
             }
            }
           }
          ],
          "scatterpolargl": [
           {
            "type": "scatterpolargl",
            "marker": {
             "colorbar": {
              "outlinewidth": 0,
              "ticks": ""
             }
            }
           }
          ],
          "bar": [
           {
            "error_x": {
             "color": "#2a3f5f"
            },
            "error_y": {
             "color": "#2a3f5f"
            },
            "marker": {
             "line": {
              "color": "#E5ECF6",
              "width": 0.5
             },
             "pattern": {
              "fillmode": "overlay",
              "size": 10,
              "solidity": 0.2
             }
            },
            "type": "bar"
           }
          ],
          "scattergeo": [
           {
            "type": "scattergeo",
            "marker": {
             "colorbar": {
              "outlinewidth": 0,
              "ticks": ""
             }
            }
           }
          ],
          "scatterpolar": [
           {
            "type": "scatterpolar",
            "marker": {
             "colorbar": {
              "outlinewidth": 0,
              "ticks": ""
             }
            }
           }
          ],
          "histogram": [
           {
            "marker": {
             "pattern": {
              "fillmode": "overlay",
              "size": 10,
              "solidity": 0.2
             }
            },
            "type": "histogram"
           }
          ],
          "scattergl": [
           {
            "type": "scattergl",
            "marker": {
             "colorbar": {
              "outlinewidth": 0,
              "ticks": ""
             }
            }
           }
          ],
          "scatter3d": [
           {
            "type": "scatter3d",
            "line": {
             "colorbar": {
              "outlinewidth": 0,
              "ticks": ""
             }
            },
            "marker": {
             "colorbar": {
              "outlinewidth": 0,
              "ticks": ""
             }
            }
           }
          ],
          "scattermapbox": [
           {
            "type": "scattermapbox",
            "marker": {
             "colorbar": {
              "outlinewidth": 0,
              "ticks": ""
             }
            }
           }
          ],
          "scatterternary": [
           {
            "type": "scatterternary",
            "marker": {
             "colorbar": {
              "outlinewidth": 0,
              "ticks": ""
             }
            }
           }
          ],
          "scattercarpet": [
           {
            "type": "scattercarpet",
            "marker": {
             "colorbar": {
              "outlinewidth": 0,
              "ticks": ""
             }
            }
           }
          ],
          "carpet": [
           {
            "aaxis": {
             "endlinecolor": "#2a3f5f",
             "gridcolor": "white",
             "linecolor": "white",
             "minorgridcolor": "white",
             "startlinecolor": "#2a3f5f"
            },
            "baxis": {
             "endlinecolor": "#2a3f5f",
             "gridcolor": "white",
             "linecolor": "white",
             "minorgridcolor": "white",
             "startlinecolor": "#2a3f5f"
            },
            "type": "carpet"
           }
          ],
          "table": [
           {
            "cells": {
             "fill": {
              "color": "#EBF0F8"
             },
             "line": {
              "color": "white"
             }
            },
            "header": {
             "fill": {
              "color": "#C8D4E3"
             },
             "line": {
              "color": "white"
             }
            },
            "type": "table"
           }
          ],
          "barpolar": [
           {
            "marker": {
             "line": {
              "color": "#E5ECF6",
              "width": 0.5
             },
             "pattern": {
              "fillmode": "overlay",
              "size": 10,
              "solidity": 0.2
             }
            },
            "type": "barpolar"
           }
          ],
          "pie": [
           {
            "automargin": true,
            "type": "pie"
           }
          ]
         },
         "layout": {
          "autotypenumbers": "strict",
          "colorway": [
           "#636efa",
           "#EF553B",
           "#00cc96",
           "#ab63fa",
           "#FFA15A",
           "#19d3f3",
           "#FF6692",
           "#B6E880",
           "#FF97FF",
           "#FECB52"
          ],
          "font": {
           "color": "#2a3f5f"
          },
          "hovermode": "closest",
          "hoverlabel": {
           "align": "left"
          },
          "paper_bgcolor": "white",
          "plot_bgcolor": "#E5ECF6",
          "polar": {
           "bgcolor": "#E5ECF6",
           "angularaxis": {
            "gridcolor": "white",
            "linecolor": "white",
            "ticks": ""
           },
           "radialaxis": {
            "gridcolor": "white",
            "linecolor": "white",
            "ticks": ""
           }
          },
          "ternary": {
           "bgcolor": "#E5ECF6",
           "aaxis": {
            "gridcolor": "white",
            "linecolor": "white",
            "ticks": ""
           },
           "baxis": {
            "gridcolor": "white",
            "linecolor": "white",
            "ticks": ""
           },
           "caxis": {
            "gridcolor": "white",
            "linecolor": "white",
            "ticks": ""
           }
          },
          "coloraxis": {
           "colorbar": {
            "outlinewidth": 0,
            "ticks": ""
           }
          },
          "colorscale": {
           "sequential": [
            [
             0,
             "#0d0887"
            ],
            [
             0.1111111111111111,
             "#46039f"
            ],
            [
             0.2222222222222222,
             "#7201a8"
            ],
            [
             0.3333333333333333,
             "#9c179e"
            ],
            [
             0.4444444444444444,
             "#bd3786"
            ],
            [
             0.5555555555555556,
             "#d8576b"
            ],
            [
             0.6666666666666666,
             "#ed7953"
            ],
            [
             0.7777777777777778,
             "#fb9f3a"
            ],
            [
             0.8888888888888888,
             "#fdca26"
            ],
            [
             1,
             "#f0f921"
            ]
           ],
           "sequentialminus": [
            [
             0,
             "#0d0887"
            ],
            [
             0.1111111111111111,
             "#46039f"
            ],
            [
             0.2222222222222222,
             "#7201a8"
            ],
            [
             0.3333333333333333,
             "#9c179e"
            ],
            [
             0.4444444444444444,
             "#bd3786"
            ],
            [
             0.5555555555555556,
             "#d8576b"
            ],
            [
             0.6666666666666666,
             "#ed7953"
            ],
            [
             0.7777777777777778,
             "#fb9f3a"
            ],
            [
             0.8888888888888888,
             "#fdca26"
            ],
            [
             1,
             "#f0f921"
            ]
           ],
           "diverging": [
            [
             0,
             "#8e0152"
            ],
            [
             0.1,
             "#c51b7d"
            ],
            [
             0.2,
             "#de77ae"
            ],
            [
             0.3,
             "#f1b6da"
            ],
            [
             0.4,
             "#fde0ef"
            ],
            [
             0.5,
             "#f7f7f7"
            ],
            [
             0.6,
             "#e6f5d0"
            ],
            [
             0.7,
             "#b8e186"
            ],
            [
             0.8,
             "#7fbc41"
            ],
            [
             0.9,
             "#4d9221"
            ],
            [
             1,
             "#276419"
            ]
           ]
          },
          "xaxis": {
           "gridcolor": "white",
           "linecolor": "white",
           "ticks": "",
           "title": {
            "standoff": 15
           },
           "zerolinecolor": "white",
           "automargin": true,
           "zerolinewidth": 2
          },
          "yaxis": {
           "gridcolor": "white",
           "linecolor": "white",
           "ticks": "",
           "title": {
            "standoff": 15
           },
           "zerolinecolor": "white",
           "automargin": true,
           "zerolinewidth": 2
          },
          "scene": {
           "xaxis": {
            "backgroundcolor": "#E5ECF6",
            "gridcolor": "white",
            "linecolor": "white",
            "showbackground": true,
            "ticks": "",
            "zerolinecolor": "white",
            "gridwidth": 2
           },
           "yaxis": {
            "backgroundcolor": "#E5ECF6",
            "gridcolor": "white",
            "linecolor": "white",
            "showbackground": true,
            "ticks": "",
            "zerolinecolor": "white",
            "gridwidth": 2
           },
           "zaxis": {
            "backgroundcolor": "#E5ECF6",
            "gridcolor": "white",
            "linecolor": "white",
            "showbackground": true,
            "ticks": "",
            "zerolinecolor": "white",
            "gridwidth": 2
           }
          },
          "shapedefaults": {
           "line": {
            "color": "#2a3f5f"
           }
          },
          "annotationdefaults": {
           "arrowcolor": "#2a3f5f",
           "arrowhead": 0,
           "arrowwidth": 1
          },
          "geo": {
           "bgcolor": "white",
           "landcolor": "#E5ECF6",
           "subunitcolor": "white",
           "showland": true,
           "showlakes": true,
           "lakecolor": "white"
          },
          "title": {
           "x": 0.05
          },
          "mapbox": {
           "style": "light"
          }
         }
        },
        "legend": {
         "tracegroupgap": 0
        },
        "margin": {
         "t": 50,
         "l": 0,
         "r": 0,
         "b": 0
        },
        "font": {
         "size": 14
        },
        "title": {
         "text": "Transaction Channel Volume 2022"
        },
        "width": 1400,
        "height": 900,
        "sunburstcolorway": [
         "orange",
         "gray",
         "burlywood",
         "deepskyblue",
         "lightblue",
         "Turquoise",
         "gold"
        ]
       },
       "config": {
        "plotlyServerURL": "https://plot.ly"
       }
      }
     },
     "metadata": {}
    }
   ],
   "metadata": {}
  },
  {
   "cell_type": "code",
   "execution_count": 538,
   "source": [
    "# Export the chart as an HTML file\r\n",
    "#pyo.plot(fig, filename='Trxn_sunburst_chart.html', auto_open=True)"
   ],
   "outputs": [],
   "metadata": {}
  }
 ],
 "metadata": {
  "kernelspec": {
   "name": "python3",
   "display_name": "Python 3.9.4 64-bit"
  },
  "language_info": {
   "codemirror_mode": {
    "name": "ipython",
    "version": 3
   },
   "file_extension": ".py",
   "mimetype": "text/x-python",
   "name": "python",
   "nbconvert_exporter": "python",
   "pygments_lexer": "ipython3",
   "version": "3.9.4"
  },
  "orig_nbformat": 4,
  "interpreter": {
   "hash": "ac59ebe37160ed0dfa835113d9b8498d9f09ceb179beaac4002f036b9467c963"
  }
 },
 "nbformat": 4,
 "nbformat_minor": 2
}