{
 "cells": [
  {
   "cell_type": "code",
   "execution_count": 29,
   "source": [
    "# Install packages as needed\r\n",
    "#%pip install openpyxl\r\n",
    "#%pip install pandas \r\n",
    "#%pip install plotly\r\n",
    "#%pip install nbformat\r\n",
    "#%pip install --upgrade ipython"
   ],
   "outputs": [],
   "metadata": {}
  },
  {
   "cell_type": "code",
   "execution_count": 30,
   "source": [
    "#import libraries\r\n",
    "import pandas as pd\r\n",
    "import json\r\n",
    "import os\r\n",
    "import plotly.express as px\r\n",
    "import plotly.offline as pyo\r\n",
    "import plotly.graph_objs as go\r\n",
    "import locale\r\n",
    "import numpy as np\r\n",
    "import re"
   ],
   "outputs": [],
   "metadata": {}
  },
  {
   "cell_type": "markdown",
   "source": [
    "Extract"
   ],
   "metadata": {}
  },
  {
   "cell_type": "code",
   "execution_count": 31,
   "source": [
    "###EXTRACT###\r\n",
    "# Read Transaction Excel data into a Pandas dataframe\r\n",
    "file = r'C:\\Users\\DIM6\\OneDrive - PGE\\[Work] [Shared]\\CXI Projects\\20200122 03 CC Fact Sheet\\2022\\2022 Customer Transactions Map - Publication Sheets.xlsx'\r\n",
    "sheet_name = 'BarGraphs'\r\n",
    "\r\n",
    "# Read the specific sheet from the Excel file\r\n",
    "df_raw = pd.read_excel(file, sheet_name=sheet_name)\r\n",
    "print(df_raw.head())"
   ],
   "outputs": [
    {
     "output_type": "stream",
     "name": "stdout",
     "text": [
      "  Root Level Level 1 Level 2a Level 2  Value\n",
      "0        NaN     NaN      NaN     NaN    NaN\n",
      "1        NaN     NaN      NaN     NaN    NaN\n",
      "2        NaN     NaN      NaN     NaN    NaN\n",
      "3        NaN     NaN      NaN     NaN    NaN\n",
      "4        NaN     NaN      NaN     NaN    NaN\n"
     ]
    }
   ],
   "metadata": {}
  },
  {
   "cell_type": "code",
   "execution_count": 32,
   "source": [
    "#Column Headers\r\n",
    "Root = 'Root Level'\r\n",
    "L1 = \"Level 1\" \r\n",
    "L2 = \"Level 2\"\r\n",
    "Value = \"Value\""
   ],
   "outputs": [],
   "metadata": {}
  },
  {
   "cell_type": "code",
   "execution_count": 33,
   "source": [
    " #Remove columns not needed for sunburst\r\n",
    "df = df_raw[[Root, L1, L2, Value ]]\r\n",
    "\r\n",
    "# convert cells in column \"Value\" to numeric values\r\n",
    "df[Value] = pd.to_numeric(df[Value], errors='coerce')\r\n",
    "\r\n",
    "# Remove rows with all NaN values\r\n",
    "filtered_df = df.dropna(how='all')\r\n",
    "\r\n",
    "# Filter out rows with NaN or blank values in the \"Value\" column\r\n",
    "df = filtered_df[(filtered_df[Value].notna()) & (filtered_df[Value] != '')]\r\n",
    "\r\n",
    "## Replace NaN with None for plotly sunburst chart\r\n",
    "df = df.where(pd.notna(df), \"\")\r\n",
    "\r\n",
    "print(df.head())"
   ],
   "outputs": [
    {
     "output_type": "stream",
     "name": "stdout",
     "text": [
      "          Root Level   Level 1   Level 2       Value\n",
      "43               NPC  Payments  Payments   1770000.0\n",
      "49              Mail  Payments  Payments  11200000.0\n",
      "58  Other Electronic  Payments  Payments  10393000.0\n",
      "59  Other Electronic  Payments  Payments   2735000.0\n",
      "60  Other Electronic  Payments  Payments    637000.0\n"
     ]
    },
    {
     "output_type": "stream",
     "name": "stderr",
     "text": [
      "C:\\Users\\DIM6\\AppData\\Local\\Temp\\1\\ipykernel_6136\\3408908783.py:5: SettingWithCopyWarning:\n",
      "\n",
      "\n",
      "A value is trying to be set on a copy of a slice from a DataFrame.\n",
      "Try using .loc[row_indexer,col_indexer] = value instead\n",
      "\n",
      "See the caveats in the documentation: https://pandas.pydata.org/pandas-docs/stable/user_guide/indexing.html#returning-a-view-versus-a-copy\n",
      "\n"
     ]
    }
   ],
   "metadata": {}
  },
  {
   "cell_type": "code",
   "execution_count": 34,
   "source": [
    "def fill_empty_L2(row):\r\n",
    "    if row[L2] == \"\":\r\n",
    "        return row[L1]\r\n",
    "    else:\r\n",
    "        return row[L2]\r\n",
    "\r\n",
    "# Fill empty strings in L2 with corresponding L1 values\r\n",
    "df[L2] = df.apply(fill_empty_L2, axis=1)"
   ],
   "outputs": [],
   "metadata": {}
  },
  {
   "cell_type": "code",
   "execution_count": 35,
   "source": [
    "# Remove \"-\" and whitespace\r\n",
    "#df[Root] = df[Root].str.replace(r\"\\s*-\\s*\", \"\").str.strip().astype(str)\r\n",
    "df[L1] = df[L1].str.replace(r\"\\s*-\\s*\", \"\").str.strip().astype(str)\r\n",
    "df[L2] = df[L2].str.replace(r\"\\s*-\\s*\", \"\").str.strip().astype(str)\r\n",
    "\r\n",
    "#Convert L2 to proper case\r\n",
    "df[L2] = df[L2].str.title()"
   ],
   "outputs": [
    {
     "output_type": "stream",
     "name": "stderr",
     "text": [
      "C:\\Users\\DIM6\\AppData\\Local\\Temp\\1\\ipykernel_6136\\1283686359.py:3: FutureWarning:\n",
      "\n",
      "The default value of regex will change from True to False in a future version.\n",
      "\n",
      "C:\\Users\\DIM6\\AppData\\Local\\Temp\\1\\ipykernel_6136\\1283686359.py:4: FutureWarning:\n",
      "\n",
      "The default value of regex will change from True to False in a future version.\n",
      "\n"
     ]
    }
   ],
   "metadata": {}
  },
  {
   "cell_type": "code",
   "execution_count": 36,
   "source": [
    "# Splice a new df\r\n",
    "df = df.copy()\r\n",
    "\r\n",
    "print(df.head())"
   ],
   "outputs": [
    {
     "output_type": "stream",
     "name": "stdout",
     "text": [
      "          Root Level   Level 1   Level 2       Value\n",
      "43               NPC  Payments  Payments   1770000.0\n",
      "49              Mail  Payments  Payments  11200000.0\n",
      "58  Other Electronic  Payments  Payments  10393000.0\n",
      "59  Other Electronic  Payments  Payments   2735000.0\n",
      "60  Other Electronic  Payments  Payments    637000.0\n"
     ]
    }
   ],
   "metadata": {}
  },
  {
   "cell_type": "code",
   "execution_count": 37,
   "source": [
    "# Convert dataframe to a hierarchical dictionary\r\n",
    "def make_hierarchy_dict(df, path=[], value_col=Value, threshold=10):\r\n",
    "    if len(path) == df.columns.nlevels - 1:\r\n",
    "        total = int(df[value_col].sum())\r\n",
    "        if total < threshold:\r\n",
    "            return None\r\n",
    "        else:\r\n",
    "            return total\r\n",
    "    else:\r\n",
    "        level = df.columns[len(path)]\r\n",
    "        subdict = {}\r\n",
    "        for key in df[level].dropna().unique():\r\n",
    "            subdf = df[df[level] == key].drop(columns=[level])\r\n",
    "            subhierarchy_dict = make_hierarchy_dict(subdf, path + [key], value_col, threshold)\r\n",
    "            if subhierarchy_dict is not None:\r\n",
    "                subdict[key] = subhierarchy_dict\r\n",
    "        if len(subdict) == 0:\r\n",
    "            return None\r\n",
    "        else:\r\n",
    "            return subdict\r\n",
    "\r\n",
    "hierarchy_dict = make_hierarchy_dict(df.set_index(list(df.columns[:3])), value_col=Value, threshold=10)\r\n",
    "\r\n",
    "print(hierarchy_dict)"
   ],
   "outputs": [
    {
     "output_type": "stream",
     "name": "stdout",
     "text": [
      "177218424\n"
     ]
    }
   ],
   "metadata": {}
  },
  {
   "cell_type": "code",
   "execution_count": 38,
   "source": [
    "# Convert hierarchical dictionary to Plotly-compatible JSON\r\n",
    "def make_plotly_sunburst(hierarchy_dict, name=\"\"):\r\n",
    "    if isinstance(hierarchy_dict, dict):\r\n",
    "        children = []\r\n",
    "        for key, value in hierarchy_dict.items():\r\n",
    "            children.append(make_plotly_sunburst(value, key))\r\n",
    "        return {\r\n",
    "            \"name\": name,\r\n",
    "            \"children\": children\r\n",
    "        }\r\n",
    "    else:\r\n",
    "        return {\r\n",
    "            \"label\": name,\r\n",
    "            \"value\": hierarchy_dict\r\n",
    "        }"
   ],
   "outputs": [],
   "metadata": {}
  },
  {
   "cell_type": "code",
   "execution_count": 39,
   "source": [
    "# Write JSON data to a file\r\n",
    "plotly_data = make_plotly_sunburst(hierarchy_dict)\r\n",
    "\r\n",
    "with open(\"plotly_data.json\", \"w\") as f:\r\n",
    "    json.dump(plotly_data, f)\r\n",
    "\r\n",
    "    print(plotly_data)"
   ],
   "outputs": [
    {
     "output_type": "stream",
     "name": "stdout",
     "text": [
      "{'label': '', 'value': 177218424}\n"
     ]
    }
   ],
   "metadata": {}
  },
  {
   "cell_type": "code",
   "execution_count": 40,
   "source": [
    "# Write dataframe to an Excel file for QC\r\n",
    "with pd.ExcelWriter('dataframe-bargraph.xlsx') as writer:\r\n",
    "    df.to_excel(writer, sheet_name='DataFrame', index=False)"
   ],
   "outputs": [],
   "metadata": {}
  },
  {
   "cell_type": "code",
   "execution_count": 41,
   "source": [
    "#Group the data by Root Level and sum the values\r\n",
    "grouped_data = df.groupby([Root])[Value].sum().reset_index()\r\n",
    "\r\n",
    "# Sort the grouped_data by Value column in descending order\r\n",
    "grouped_data = grouped_data.sort_values(by=Value, ascending=False)\r\n",
    "\r\n",
    "# Create a dictionary to map the Root Level to its corresponding color\r\n",
    "color_map = {'Web': 'orange', 'Other Electronic': 'gray', 'Mail': 'burlywood', 'Call Center - IVR': 'deepskyblue','Call Center - Other':'lightblue', \\\r\n",
    "              'Call Center - Live Agent':'Turquoise', 'NPC': 'gold'}\r\n",
    "\r\n",
    "# Create the bar chart trace\r\n",
    "bar_trace = go.Bar(\r\n",
    "    x=grouped_data[Root],\r\n",
    "    y=grouped_data[Value],\r\n",
    "    marker=dict(color=[color_map.get(root_level, 'grey') for root_level in grouped_data[Root]]),\r\n",
    "    text=[f\"{value:,}\" for value in grouped_data[Value]],\r\n",
    "    textposition='auto'\r\n",
    ")\r\n",
    "\r\n",
    "# Create the bar chart layout\r\n",
    "bar_layout = go.Layout(\r\n",
    "    title='Total Customer Interactions by Transaction Channel',\r\n",
    "    xaxis=dict(title='Channel'),\r\n",
    "    yaxis=dict(title='Total Interactions'),\r\n",
    "    legend=dict(title=dict(text='Transaction Channels'))\r\n",
    ")\r\n",
    "\r\n",
    "# Create the bar chart figure\r\n",
    "bar_fig_root = go.Figure(data=[bar_trace], layout=bar_layout)\r\n",
    "\r\n",
    "# Display the bar chart\r\n",
    "bar_fig_root.show()\r\n"
   ],
   "outputs": [
    {
     "output_type": "display_data",
     "data": {
      "application/vnd.plotly.v1+json": {
       "data": [
        {
         "marker": {
          "color": [
           "orange",
           "Turquoise",
           "gray",
           "burlywood",
           "grey",
           "grey",
           "gold"
          ]
         },
         "text": [
          "124,357,076.0",
          "14,649,000.0",
          "14,596,348.0",
          "11,200,000.0",
          "7,987,000.0",
          "2,659,000.0",
          "1,770,000.0"
         ],
         "textposition": "auto",
         "x": [
          "Web",
          "Call Center - Live Agent",
          "Other Electronic",
          "Mail",
          "Call Center IVR",
          "Call Center Other",
          "NPC"
         ],
         "y": [
          124357076,
          14649000,
          14596348,
          11200000,
          7987000,
          2659000,
          1770000
         ],
         "type": "bar"
        }
       ],
       "layout": {
        "legend": {
         "title": {
          "text": "Transaction Channels"
         }
        },
        "title": {
         "text": "Total Customer Interactions by Transaction Channel"
        },
        "xaxis": {
         "title": {
          "text": "Channel"
         }
        },
        "yaxis": {
         "title": {
          "text": "Total Interactions"
         }
        },
        "template": {
         "data": {
          "histogram2dcontour": [
           {
            "type": "histogram2dcontour",
            "colorbar": {
             "outlinewidth": 0,
             "ticks": ""
            },
            "colorscale": [
             [
              0,
              "#0d0887"
             ],
             [
              0.1111111111111111,
              "#46039f"
             ],
             [
              0.2222222222222222,
              "#7201a8"
             ],
             [
              0.3333333333333333,
              "#9c179e"
             ],
             [
              0.4444444444444444,
              "#bd3786"
             ],
             [
              0.5555555555555556,
              "#d8576b"
             ],
             [
              0.6666666666666666,
              "#ed7953"
             ],
             [
              0.7777777777777778,
              "#fb9f3a"
             ],
             [
              0.8888888888888888,
              "#fdca26"
             ],
             [
              1,
              "#f0f921"
             ]
            ]
           }
          ],
          "choropleth": [
           {
            "type": "choropleth",
            "colorbar": {
             "outlinewidth": 0,
             "ticks": ""
            }
           }
          ],
          "histogram2d": [
           {
            "type": "histogram2d",
            "colorbar": {
             "outlinewidth": 0,
             "ticks": ""
            },
            "colorscale": [
             [
              0,
              "#0d0887"
             ],
             [
              0.1111111111111111,
              "#46039f"
             ],
             [
              0.2222222222222222,
              "#7201a8"
             ],
             [
              0.3333333333333333,
              "#9c179e"
             ],
             [
              0.4444444444444444,
              "#bd3786"
             ],
             [
              0.5555555555555556,
              "#d8576b"
             ],
             [
              0.6666666666666666,
              "#ed7953"
             ],
             [
              0.7777777777777778,
              "#fb9f3a"
             ],
             [
              0.8888888888888888,
              "#fdca26"
             ],
             [
              1,
              "#f0f921"
             ]
            ]
           }
          ],
          "heatmap": [
           {
            "type": "heatmap",
            "colorbar": {
             "outlinewidth": 0,
             "ticks": ""
            },
            "colorscale": [
             [
              0,
              "#0d0887"
             ],
             [
              0.1111111111111111,
              "#46039f"
             ],
             [
              0.2222222222222222,
              "#7201a8"
             ],
             [
              0.3333333333333333,
              "#9c179e"
             ],
             [
              0.4444444444444444,
              "#bd3786"
             ],
             [
              0.5555555555555556,
              "#d8576b"
             ],
             [
              0.6666666666666666,
              "#ed7953"
             ],
             [
              0.7777777777777778,
              "#fb9f3a"
             ],
             [
              0.8888888888888888,
              "#fdca26"
             ],
             [
              1,
              "#f0f921"
             ]
            ]
           }
          ],
          "heatmapgl": [
           {
            "type": "heatmapgl",
            "colorbar": {
             "outlinewidth": 0,
             "ticks": ""
            },
            "colorscale": [
             [
              0,
              "#0d0887"
             ],
             [
              0.1111111111111111,
              "#46039f"
             ],
             [
              0.2222222222222222,
              "#7201a8"
             ],
             [
              0.3333333333333333,
              "#9c179e"
             ],
             [
              0.4444444444444444,
              "#bd3786"
             ],
             [
              0.5555555555555556,
              "#d8576b"
             ],
             [
              0.6666666666666666,
              "#ed7953"
             ],
             [
              0.7777777777777778,
              "#fb9f3a"
             ],
             [
              0.8888888888888888,
              "#fdca26"
             ],
             [
              1,
              "#f0f921"
             ]
            ]
           }
          ],
          "contourcarpet": [
           {
            "type": "contourcarpet",
            "colorbar": {
             "outlinewidth": 0,
             "ticks": ""
            }
           }
          ],
          "contour": [
           {
            "type": "contour",
            "colorbar": {
             "outlinewidth": 0,
             "ticks": ""
            },
            "colorscale": [
             [
              0,
              "#0d0887"
             ],
             [
              0.1111111111111111,
              "#46039f"
             ],
             [
              0.2222222222222222,
              "#7201a8"
             ],
             [
              0.3333333333333333,
              "#9c179e"
             ],
             [
              0.4444444444444444,
              "#bd3786"
             ],
             [
              0.5555555555555556,
              "#d8576b"
             ],
             [
              0.6666666666666666,
              "#ed7953"
             ],
             [
              0.7777777777777778,
              "#fb9f3a"
             ],
             [
              0.8888888888888888,
              "#fdca26"
             ],
             [
              1,
              "#f0f921"
             ]
            ]
           }
          ],
          "surface": [
           {
            "type": "surface",
            "colorbar": {
             "outlinewidth": 0,
             "ticks": ""
            },
            "colorscale": [
             [
              0,
              "#0d0887"
             ],
             [
              0.1111111111111111,
              "#46039f"
             ],
             [
              0.2222222222222222,
              "#7201a8"
             ],
             [
              0.3333333333333333,
              "#9c179e"
             ],
             [
              0.4444444444444444,
              "#bd3786"
             ],
             [
              0.5555555555555556,
              "#d8576b"
             ],
             [
              0.6666666666666666,
              "#ed7953"
             ],
             [
              0.7777777777777778,
              "#fb9f3a"
             ],
             [
              0.8888888888888888,
              "#fdca26"
             ],
             [
              1,
              "#f0f921"
             ]
            ]
           }
          ],
          "mesh3d": [
           {
            "type": "mesh3d",
            "colorbar": {
             "outlinewidth": 0,
             "ticks": ""
            }
           }
          ],
          "scatter": [
           {
            "fillpattern": {
             "fillmode": "overlay",
             "size": 10,
             "solidity": 0.2
            },
            "type": "scatter"
           }
          ],
          "parcoords": [
           {
            "type": "parcoords",
            "line": {
             "colorbar": {
              "outlinewidth": 0,
              "ticks": ""
             }
            }
           }
          ],
          "scatterpolargl": [
           {
            "type": "scatterpolargl",
            "marker": {
             "colorbar": {
              "outlinewidth": 0,
              "ticks": ""
             }
            }
           }
          ],
          "bar": [
           {
            "error_x": {
             "color": "#2a3f5f"
            },
            "error_y": {
             "color": "#2a3f5f"
            },
            "marker": {
             "line": {
              "color": "#E5ECF6",
              "width": 0.5
             },
             "pattern": {
              "fillmode": "overlay",
              "size": 10,
              "solidity": 0.2
             }
            },
            "type": "bar"
           }
          ],
          "scattergeo": [
           {
            "type": "scattergeo",
            "marker": {
             "colorbar": {
              "outlinewidth": 0,
              "ticks": ""
             }
            }
           }
          ],
          "scatterpolar": [
           {
            "type": "scatterpolar",
            "marker": {
             "colorbar": {
              "outlinewidth": 0,
              "ticks": ""
             }
            }
           }
          ],
          "histogram": [
           {
            "marker": {
             "pattern": {
              "fillmode": "overlay",
              "size": 10,
              "solidity": 0.2
             }
            },
            "type": "histogram"
           }
          ],
          "scattergl": [
           {
            "type": "scattergl",
            "marker": {
             "colorbar": {
              "outlinewidth": 0,
              "ticks": ""
             }
            }
           }
          ],
          "scatter3d": [
           {
            "type": "scatter3d",
            "line": {
             "colorbar": {
              "outlinewidth": 0,
              "ticks": ""
             }
            },
            "marker": {
             "colorbar": {
              "outlinewidth": 0,
              "ticks": ""
             }
            }
           }
          ],
          "scattermapbox": [
           {
            "type": "scattermapbox",
            "marker": {
             "colorbar": {
              "outlinewidth": 0,
              "ticks": ""
             }
            }
           }
          ],
          "scatterternary": [
           {
            "type": "scatterternary",
            "marker": {
             "colorbar": {
              "outlinewidth": 0,
              "ticks": ""
             }
            }
           }
          ],
          "scattercarpet": [
           {
            "type": "scattercarpet",
            "marker": {
             "colorbar": {
              "outlinewidth": 0,
              "ticks": ""
             }
            }
           }
          ],
          "carpet": [
           {
            "aaxis": {
             "endlinecolor": "#2a3f5f",
             "gridcolor": "white",
             "linecolor": "white",
             "minorgridcolor": "white",
             "startlinecolor": "#2a3f5f"
            },
            "baxis": {
             "endlinecolor": "#2a3f5f",
             "gridcolor": "white",
             "linecolor": "white",
             "minorgridcolor": "white",
             "startlinecolor": "#2a3f5f"
            },
            "type": "carpet"
           }
          ],
          "table": [
           {
            "cells": {
             "fill": {
              "color": "#EBF0F8"
             },
             "line": {
              "color": "white"
             }
            },
            "header": {
             "fill": {
              "color": "#C8D4E3"
             },
             "line": {
              "color": "white"
             }
            },
            "type": "table"
           }
          ],
          "barpolar": [
           {
            "marker": {
             "line": {
              "color": "#E5ECF6",
              "width": 0.5
             },
             "pattern": {
              "fillmode": "overlay",
              "size": 10,
              "solidity": 0.2
             }
            },
            "type": "barpolar"
           }
          ],
          "pie": [
           {
            "automargin": true,
            "type": "pie"
           }
          ]
         },
         "layout": {
          "autotypenumbers": "strict",
          "colorway": [
           "#636efa",
           "#EF553B",
           "#00cc96",
           "#ab63fa",
           "#FFA15A",
           "#19d3f3",
           "#FF6692",
           "#B6E880",
           "#FF97FF",
           "#FECB52"
          ],
          "font": {
           "color": "#2a3f5f"
          },
          "hovermode": "closest",
          "hoverlabel": {
           "align": "left"
          },
          "paper_bgcolor": "white",
          "plot_bgcolor": "#E5ECF6",
          "polar": {
           "bgcolor": "#E5ECF6",
           "angularaxis": {
            "gridcolor": "white",
            "linecolor": "white",
            "ticks": ""
           },
           "radialaxis": {
            "gridcolor": "white",
            "linecolor": "white",
            "ticks": ""
           }
          },
          "ternary": {
           "bgcolor": "#E5ECF6",
           "aaxis": {
            "gridcolor": "white",
            "linecolor": "white",
            "ticks": ""
           },
           "baxis": {
            "gridcolor": "white",
            "linecolor": "white",
            "ticks": ""
           },
           "caxis": {
            "gridcolor": "white",
            "linecolor": "white",
            "ticks": ""
           }
          },
          "coloraxis": {
           "colorbar": {
            "outlinewidth": 0,
            "ticks": ""
           }
          },
          "colorscale": {
           "sequential": [
            [
             0,
             "#0d0887"
            ],
            [
             0.1111111111111111,
             "#46039f"
            ],
            [
             0.2222222222222222,
             "#7201a8"
            ],
            [
             0.3333333333333333,
             "#9c179e"
            ],
            [
             0.4444444444444444,
             "#bd3786"
            ],
            [
             0.5555555555555556,
             "#d8576b"
            ],
            [
             0.6666666666666666,
             "#ed7953"
            ],
            [
             0.7777777777777778,
             "#fb9f3a"
            ],
            [
             0.8888888888888888,
             "#fdca26"
            ],
            [
             1,
             "#f0f921"
            ]
           ],
           "sequentialminus": [
            [
             0,
             "#0d0887"
            ],
            [
             0.1111111111111111,
             "#46039f"
            ],
            [
             0.2222222222222222,
             "#7201a8"
            ],
            [
             0.3333333333333333,
             "#9c179e"
            ],
            [
             0.4444444444444444,
             "#bd3786"
            ],
            [
             0.5555555555555556,
             "#d8576b"
            ],
            [
             0.6666666666666666,
             "#ed7953"
            ],
            [
             0.7777777777777778,
             "#fb9f3a"
            ],
            [
             0.8888888888888888,
             "#fdca26"
            ],
            [
             1,
             "#f0f921"
            ]
           ],
           "diverging": [
            [
             0,
             "#8e0152"
            ],
            [
             0.1,
             "#c51b7d"
            ],
            [
             0.2,
             "#de77ae"
            ],
            [
             0.3,
             "#f1b6da"
            ],
            [
             0.4,
             "#fde0ef"
            ],
            [
             0.5,
             "#f7f7f7"
            ],
            [
             0.6,
             "#e6f5d0"
            ],
            [
             0.7,
             "#b8e186"
            ],
            [
             0.8,
             "#7fbc41"
            ],
            [
             0.9,
             "#4d9221"
            ],
            [
             1,
             "#276419"
            ]
           ]
          },
          "xaxis": {
           "gridcolor": "white",
           "linecolor": "white",
           "ticks": "",
           "title": {
            "standoff": 15
           },
           "zerolinecolor": "white",
           "automargin": true,
           "zerolinewidth": 2
          },
          "yaxis": {
           "gridcolor": "white",
           "linecolor": "white",
           "ticks": "",
           "title": {
            "standoff": 15
           },
           "zerolinecolor": "white",
           "automargin": true,
           "zerolinewidth": 2
          },
          "scene": {
           "xaxis": {
            "backgroundcolor": "#E5ECF6",
            "gridcolor": "white",
            "linecolor": "white",
            "showbackground": true,
            "ticks": "",
            "zerolinecolor": "white",
            "gridwidth": 2
           },
           "yaxis": {
            "backgroundcolor": "#E5ECF6",
            "gridcolor": "white",
            "linecolor": "white",
            "showbackground": true,
            "ticks": "",
            "zerolinecolor": "white",
            "gridwidth": 2
           },
           "zaxis": {
            "backgroundcolor": "#E5ECF6",
            "gridcolor": "white",
            "linecolor": "white",
            "showbackground": true,
            "ticks": "",
            "zerolinecolor": "white",
            "gridwidth": 2
           }
          },
          "shapedefaults": {
           "line": {
            "color": "#2a3f5f"
           }
          },
          "annotationdefaults": {
           "arrowcolor": "#2a3f5f",
           "arrowhead": 0,
           "arrowwidth": 1
          },
          "geo": {
           "bgcolor": "white",
           "landcolor": "#E5ECF6",
           "subunitcolor": "white",
           "showland": true,
           "showlakes": true,
           "lakecolor": "white"
          },
          "title": {
           "x": 0.05
          },
          "mapbox": {
           "style": "light"
          }
         }
        }
       },
       "config": {
        "plotlyServerURL": "https://plot.ly"
       }
      }
     },
     "metadata": {}
    }
   ],
   "metadata": {}
  },
  {
   "cell_type": "code",
   "execution_count": 42,
   "source": [
    "# Export the chart as an HTML file\r\n",
    "#pyo.plot(fig, filename='Trxn_sunburst_chart.html', auto_open=True)"
   ],
   "outputs": [],
   "metadata": {}
  }
 ],
 "metadata": {
  "kernelspec": {
   "name": "python3",
   "display_name": "Python 3.9.4 64-bit"
  },
  "language_info": {
   "codemirror_mode": {
    "name": "ipython",
    "version": 3
   },
   "file_extension": ".py",
   "mimetype": "text/x-python",
   "name": "python",
   "nbconvert_exporter": "python",
   "pygments_lexer": "ipython3",
   "version": "3.9.4"
  },
  "orig_nbformat": 4,
  "interpreter": {
   "hash": "ac59ebe37160ed0dfa835113d9b8498d9f09ceb179beaac4002f036b9467c963"
  }
 },
 "nbformat": 4,
 "nbformat_minor": 2
}