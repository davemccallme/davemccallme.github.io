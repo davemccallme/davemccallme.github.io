{
 "cells": [
  {
   "cell_type": "code",
   "execution_count": 1,
   "source": [
    "# Install packages as needed\r\n",
    "#%pip install openpyxl\r\n",
    "#%pip install pandas \r\n",
    "#%pip install plotly\r\n",
    "#%pip install nbformat\r\n",
    "#%pip install --upgrade ipython"
   ],
   "outputs": [],
   "metadata": {}
  },
  {
   "cell_type": "code",
   "execution_count": 2,
   "source": [
    "#Check for insatllation of packacges\r\n",
    "#import sys\r\n",
    "#!\"{sys.executable}\" -m pip list | findstr \"pandas\"\r\n",
    "#!\"{sys.executable}\" -m pip list | findstr \"plotly\"\r\n",
    "#!\"{sys.executable}\" -m pip list | findstr \"openpyxl\"\r\n",
    "#!\"{sys.executable}\" -m pip list | findstr \"nbformat\"\r\n",
    "#!\"{sys.executable}\" -m pip list | findstr \"ipython\""
   ],
   "outputs": [],
   "metadata": {}
  },
  {
   "cell_type": "code",
   "execution_count": 3,
   "source": [
    "#import libraries\r\n",
    "import pandas as pd\r\n",
    "import json\r\n",
    "import os\r\n",
    "import plotly.express as px\r\n",
    "import plotly.offline as pyo\r\n",
    "import plotly.graph_objs as go\r\n",
    "import locale"
   ],
   "outputs": [],
   "metadata": {}
  },
  {
   "cell_type": "code",
   "execution_count": 4,
   "source": [
    "# Read Transaction Excel data into a Pandas dataframe\r\n",
    "file = r'C:\\Users\\DIM6\\OneDrive - PGE\\Documents\\GitHub\\davemccallme.github.io\\Cust-Trxn-Channel-Charts\\Trxn-Data-BarGraphs.xlsx'\r\n",
    "df = pd.read_excel(file)\r\n",
    "df['Value'] = pd.to_numeric(df['Value'])\r\n",
    "print(df.head())"
   ],
   "outputs": [
    {
     "output_type": "stream",
     "name": "stdout",
     "text": [
      "          Root Level               Level 1               Level 2    Value\n",
      "0  Call Center - IVR              Payments              Payments  4474000\n",
      "1  Call Center - IVR               Billing               Billing  1241000\n",
      "2  Call Center - IVR             Pay Plans             Pay Plans   209000\n",
      "3  Call Center - IVR       Account Balance       Account Balance   205000\n",
      "4  Call Center - IVR  Start/Stop/ Transfer  Start/Stop/ Transfer   337000\n"
     ]
    }
   ],
   "metadata": {}
  },
  {
   "cell_type": "code",
   "execution_count": 5,
   "source": [
    "# Convert dataframe to a hierarchical dictionary\r\n",
    "def make_hierarchy_dict(df, path=[], value_col=\"Value\", threshold=10):\r\n",
    "    if len(path) == df.columns.nlevels - 1:\r\n",
    "        total = int(df[value_col].sum())\r\n",
    "        if total < threshold:\r\n",
    "            return None\r\n",
    "        else:\r\n",
    "            return total\r\n",
    "    else:\r\n",
    "        level = df.columns[len(path)]\r\n",
    "        subdict = {}\r\n",
    "        for key in df[level].dropna().unique():\r\n",
    "            subdf = df[df[level] == key].drop(columns=[level])\r\n",
    "            subhierarchy_dict = make_hierarchy_dict(subdf, path + [key], value_col, threshold)\r\n",
    "            if subhierarchy_dict is not None:\r\n",
    "                subdict[key] = subhierarchy_dict\r\n",
    "        if len(subdict) == 0:\r\n",
    "            return None\r\n",
    "        else:\r\n",
    "            return subdict\r\n",
    "\r\n",
    "hierarchy_dict = make_hierarchy_dict(df.set_index(list(df.columns[:3])), value_col=\"Value\", threshold=10)\r\n",
    "\r\n",
    "print(hierarchy_dict)"
   ],
   "outputs": [
    {
     "output_type": "stream",
     "name": "stdout",
     "text": [
      "106324215\n"
     ]
    }
   ],
   "metadata": {}
  },
  {
   "cell_type": "code",
   "execution_count": 6,
   "source": [
    "# Convert hierarchical dictionary to Plotly-compatible JSON\r\n",
    "def make_plotly_sunburst(hierarchy_dict, name=\"\"):\r\n",
    "    if isinstance(hierarchy_dict, dict):\r\n",
    "        children = []\r\n",
    "        for key, value in hierarchy_dict.items():\r\n",
    "            children.append(make_plotly_sunburst(value, key))\r\n",
    "        return {\r\n",
    "            \"name\": name,\r\n",
    "            \"children\": children\r\n",
    "        }\r\n",
    "    else:\r\n",
    "        return {\r\n",
    "            \"label\": name,\r\n",
    "            \"value\": hierarchy_dict\r\n",
    "        }"
   ],
   "outputs": [],
   "metadata": {}
  },
  {
   "cell_type": "code",
   "execution_count": 7,
   "source": [
    "#Error Check rows for data discrepencies\r\n",
    "for i, row in df.iterrows():\r\n",
    "    try:\r\n",
    "        fig = px.sunburst(df.loc[[i]], path=[\"Root Level\", \"Level 1\", \"Level 2\"], values='Value')\r\n",
    "    except ValueError as e:\r\n",
    "        print(e)"
   ],
   "outputs": [],
   "metadata": {}
  },
  {
   "cell_type": "code",
   "execution_count": 8,
   "source": [
    "# Group the data by Root Level and sum the values\r\n",
    "grouped_data = df.groupby(['Root Level'])['Value'].sum().reset_index()\r\n",
    "\r\n",
    "# Sort the grouped_data by Value column in descending order\r\n",
    "grouped_data = grouped_data.sort_values(by='Value', ascending=False)\r\n",
    "\r\n",
    "# Create a dictionary to map the Root Level to its corresponding color\r\n",
    "color_map = {'Web': 'orange', 'Other Electronic': 'gray', 'Mail': 'burlywood', 'Call Center - IVR': 'deepskyblue','Call Center - Other':'lightblue', \\\r\n",
    "              'Call Center - Live Agent':'Turquoise', 'NPC': 'gold'}\r\n",
    "\r\n",
    "# Create the bar chart trace\r\n",
    "bar_trace = go.Bar(\r\n",
    "    x=grouped_data['Root Level'],\r\n",
    "    y=grouped_data['Value'],\r\n",
    "    marker=dict(color=[color_map.get(root_level, 'grey') for root_level in grouped_data['Root Level']]),\r\n",
    "    text=[f\"{value:,}\" for value in grouped_data['Value']],\r\n",
    "    textposition='auto'\r\n",
    ")\r\n",
    "\r\n",
    "# Create the bar chart layout\r\n",
    "bar_layout = go.Layout(\r\n",
    "    title='Total Customer Interactions by Transaction Channel',\r\n",
    "    xaxis=dict(title='Channel'),\r\n",
    "    yaxis=dict(title='Total Interactions'),\r\n",
    "    legend=dict(title=dict(text='Transaction Channels'))\r\n",
    ")\r\n",
    "\r\n",
    "# Create the bar chart figure\r\n",
    "bar_fig_root = go.Figure(data=[bar_trace], layout=bar_layout)\r\n",
    "\r\n",
    "# Display the bar chart\r\n",
    "bar_fig_root.show()\r\n"
   ],
   "outputs": [
    {
     "output_type": "display_data",
     "data": {
      "application/vnd.plotly.v1+json": {
       "data": [
        {
         "marker": {
          "color": [
           "orange",
           "gray",
           "burlywood",
           "deepskyblue",
           "lightblue",
           "Turquoise",
           "gold"
          ]
         },
         "text": [
          "58,704,867",
          "14,596,348",
          "11,200,000",
          "7,987,000",
          "6,844,000",
          "5,222,000",
          "1,770,000"
         ],
         "textposition": "auto",
         "x": [
          "Web",
          "Other Electronic",
          "Mail",
          "Call Center - IVR",
          "Call Center - Other",
          "Call Center - Live Agent",
          "NPC"
         ],
         "y": [
          58704867,
          14596348,
          11200000,
          7987000,
          6844000,
          5222000,
          1770000
         ],
         "type": "bar"
        }
       ],
       "layout": {
        "legend": {
         "title": {
          "text": "Transaction Channels"
         }
        },
        "title": {
         "text": "Total Customer Interactions by Transaction Channel"
        },
        "xaxis": {
         "title": {
          "text": "Channel"
         }
        },
        "yaxis": {
         "title": {
          "text": "Total Interactions"
         }
        },
        "template": {
         "data": {
          "histogram2dcontour": [
           {
            "type": "histogram2dcontour",
            "colorbar": {
             "outlinewidth": 0,
             "ticks": ""
            },
            "colorscale": [
             [
              0,
              "#0d0887"
             ],
             [
              0.1111111111111111,
              "#46039f"
             ],
             [
              0.2222222222222222,
              "#7201a8"
             ],
             [
              0.3333333333333333,
              "#9c179e"
             ],
             [
              0.4444444444444444,
              "#bd3786"
             ],
             [
              0.5555555555555556,
              "#d8576b"
             ],
             [
              0.6666666666666666,
              "#ed7953"
             ],
             [
              0.7777777777777778,
              "#fb9f3a"
             ],
             [
              0.8888888888888888,
              "#fdca26"
             ],
             [
              1,
              "#f0f921"
             ]
            ]
           }
          ],
          "choropleth": [
           {
            "type": "choropleth",
            "colorbar": {
             "outlinewidth": 0,
             "ticks": ""
            }
           }
          ],
          "histogram2d": [
           {
            "type": "histogram2d",
            "colorbar": {
             "outlinewidth": 0,
             "ticks": ""
            },
            "colorscale": [
             [
              0,
              "#0d0887"
             ],
             [
              0.1111111111111111,
              "#46039f"
             ],
             [
              0.2222222222222222,
              "#7201a8"
             ],
             [
              0.3333333333333333,
              "#9c179e"
             ],
             [
              0.4444444444444444,
              "#bd3786"
             ],
             [
              0.5555555555555556,
              "#d8576b"
             ],
             [
              0.6666666666666666,
              "#ed7953"
             ],
             [
              0.7777777777777778,
              "#fb9f3a"
             ],
             [
              0.8888888888888888,
              "#fdca26"
             ],
             [
              1,
              "#f0f921"
             ]
            ]
           }
          ],
          "heatmap": [
           {
            "type": "heatmap",
            "colorbar": {
             "outlinewidth": 0,
             "ticks": ""
            },
            "colorscale": [
             [
              0,
              "#0d0887"
             ],
             [
              0.1111111111111111,
              "#46039f"
             ],
             [
              0.2222222222222222,
              "#7201a8"
             ],
             [
              0.3333333333333333,
              "#9c179e"
             ],
             [
              0.4444444444444444,
              "#bd3786"
             ],
             [
              0.5555555555555556,
              "#d8576b"
             ],
             [
              0.6666666666666666,
              "#ed7953"
             ],
             [
              0.7777777777777778,
              "#fb9f3a"
             ],
             [
              0.8888888888888888,
              "#fdca26"
             ],
             [
              1,
              "#f0f921"
             ]
            ]
           }
          ],
          "heatmapgl": [
           {
            "type": "heatmapgl",
            "colorbar": {
             "outlinewidth": 0,
             "ticks": ""
            },
            "colorscale": [
             [
              0,
              "#0d0887"
             ],
             [
              0.1111111111111111,
              "#46039f"
             ],
             [
              0.2222222222222222,
              "#7201a8"
             ],
             [
              0.3333333333333333,
              "#9c179e"
             ],
             [
              0.4444444444444444,
              "#bd3786"
             ],
             [
              0.5555555555555556,
              "#d8576b"
             ],
             [
              0.6666666666666666,
              "#ed7953"
             ],
             [
              0.7777777777777778,
              "#fb9f3a"
             ],
             [
              0.8888888888888888,
              "#fdca26"
             ],
             [
              1,
              "#f0f921"
             ]
            ]
           }
          ],
          "contourcarpet": [
           {
            "type": "contourcarpet",
            "colorbar": {
             "outlinewidth": 0,
             "ticks": ""
            }
           }
          ],
          "contour": [
           {
            "type": "contour",
            "colorbar": {
             "outlinewidth": 0,
             "ticks": ""
            },
            "colorscale": [
             [
              0,
              "#0d0887"
             ],
             [
              0.1111111111111111,
              "#46039f"
             ],
             [
              0.2222222222222222,
              "#7201a8"
             ],
             [
              0.3333333333333333,
              "#9c179e"
             ],
             [
              0.4444444444444444,
              "#bd3786"
             ],
             [
              0.5555555555555556,
              "#d8576b"
             ],
             [
              0.6666666666666666,
              "#ed7953"
             ],
             [
              0.7777777777777778,
              "#fb9f3a"
             ],
             [
              0.8888888888888888,
              "#fdca26"
             ],
             [
              1,
              "#f0f921"
             ]
            ]
           }
          ],
          "surface": [
           {
            "type": "surface",
            "colorbar": {
             "outlinewidth": 0,
             "ticks": ""
            },
            "colorscale": [
             [
              0,
              "#0d0887"
             ],
             [
              0.1111111111111111,
              "#46039f"
             ],
             [
              0.2222222222222222,
              "#7201a8"
             ],
             [
              0.3333333333333333,
              "#9c179e"
             ],
             [
              0.4444444444444444,
              "#bd3786"
             ],
             [
              0.5555555555555556,
              "#d8576b"
             ],
             [
              0.6666666666666666,
              "#ed7953"
             ],
             [
              0.7777777777777778,
              "#fb9f3a"
             ],
             [
              0.8888888888888888,
              "#fdca26"
             ],
             [
              1,
              "#f0f921"
             ]
            ]
           }
          ],
          "mesh3d": [
           {
            "type": "mesh3d",
            "colorbar": {
             "outlinewidth": 0,
             "ticks": ""
            }
           }
          ],
          "scatter": [
           {
            "fillpattern": {
             "fillmode": "overlay",
             "size": 10,
             "solidity": 0.2
            },
            "type": "scatter"
           }
          ],
          "parcoords": [
           {
            "type": "parcoords",
            "line": {
             "colorbar": {
              "outlinewidth": 0,
              "ticks": ""
             }
            }
           }
          ],
          "scatterpolargl": [
           {
            "type": "scatterpolargl",
            "marker": {
             "colorbar": {
              "outlinewidth": 0,
              "ticks": ""
             }
            }
           }
          ],
          "bar": [
           {
            "error_x": {
             "color": "#2a3f5f"
            },
            "error_y": {
             "color": "#2a3f5f"
            },
            "marker": {
             "line": {
              "color": "#E5ECF6",
              "width": 0.5
             },
             "pattern": {
              "fillmode": "overlay",
              "size": 10,
              "solidity": 0.2
             }
            },
            "type": "bar"
           }
          ],
          "scattergeo": [
           {
            "type": "scattergeo",
            "marker": {
             "colorbar": {
              "outlinewidth": 0,
              "ticks": ""
             }
            }
           }
          ],
          "scatterpolar": [
           {
            "type": "scatterpolar",
            "marker": {
             "colorbar": {
              "outlinewidth": 0,
              "ticks": ""
             }
            }
           }
          ],
          "histogram": [
           {
            "marker": {
             "pattern": {
              "fillmode": "overlay",
              "size": 10,
              "solidity": 0.2
             }
            },
            "type": "histogram"
           }
          ],
          "scattergl": [
           {
            "type": "scattergl",
            "marker": {
             "colorbar": {
              "outlinewidth": 0,
              "ticks": ""
             }
            }
           }
          ],
          "scatter3d": [
           {
            "type": "scatter3d",
            "line": {
             "colorbar": {
              "outlinewidth": 0,
              "ticks": ""
             }
            },
            "marker": {
             "colorbar": {
              "outlinewidth": 0,
              "ticks": ""
             }
            }
           }
          ],
          "scattermapbox": [
           {
            "type": "scattermapbox",
            "marker": {
             "colorbar": {
              "outlinewidth": 0,
              "ticks": ""
             }
            }
           }
          ],
          "scatterternary": [
           {
            "type": "scatterternary",
            "marker": {
             "colorbar": {
              "outlinewidth": 0,
              "ticks": ""
             }
            }
           }
          ],
          "scattercarpet": [
           {
            "type": "scattercarpet",
            "marker": {
             "colorbar": {
              "outlinewidth": 0,
              "ticks": ""
             }
            }
           }
          ],
          "carpet": [
           {
            "aaxis": {
             "endlinecolor": "#2a3f5f",
             "gridcolor": "white",
             "linecolor": "white",
             "minorgridcolor": "white",
             "startlinecolor": "#2a3f5f"
            },
            "baxis": {
             "endlinecolor": "#2a3f5f",
             "gridcolor": "white",
             "linecolor": "white",
             "minorgridcolor": "white",
             "startlinecolor": "#2a3f5f"
            },
            "type": "carpet"
           }
          ],
          "table": [
           {
            "cells": {
             "fill": {
              "color": "#EBF0F8"
             },
             "line": {
              "color": "white"
             }
            },
            "header": {
             "fill": {
              "color": "#C8D4E3"
             },
             "line": {
              "color": "white"
             }
            },
            "type": "table"
           }
          ],
          "barpolar": [
           {
            "marker": {
             "line": {
              "color": "#E5ECF6",
              "width": 0.5
             },
             "pattern": {
              "fillmode": "overlay",
              "size": 10,
              "solidity": 0.2
             }
            },
            "type": "barpolar"
           }
          ],
          "pie": [
           {
            "automargin": true,
            "type": "pie"
           }
          ]
         },
         "layout": {
          "autotypenumbers": "strict",
          "colorway": [
           "#636efa",
           "#EF553B",
           "#00cc96",
           "#ab63fa",
           "#FFA15A",
           "#19d3f3",
           "#FF6692",
           "#B6E880",
           "#FF97FF",
           "#FECB52"
          ],
          "font": {
           "color": "#2a3f5f"
          },
          "hovermode": "closest",
          "hoverlabel": {
           "align": "left"
          },
          "paper_bgcolor": "white",
          "plot_bgcolor": "#E5ECF6",
          "polar": {
           "bgcolor": "#E5ECF6",
           "angularaxis": {
            "gridcolor": "white",
            "linecolor": "white",
            "ticks": ""
           },
           "radialaxis": {
            "gridcolor": "white",
            "linecolor": "white",
            "ticks": ""
           }
          },
          "ternary": {
           "bgcolor": "#E5ECF6",
           "aaxis": {
            "gridcolor": "white",
            "linecolor": "white",
            "ticks": ""
           },
           "baxis": {
            "gridcolor": "white",
            "linecolor": "white",
            "ticks": ""
           },
           "caxis": {
            "gridcolor": "white",
            "linecolor": "white",
            "ticks": ""
           }
          },
          "coloraxis": {
           "colorbar": {
            "outlinewidth": 0,
            "ticks": ""
           }
          },
          "colorscale": {
           "sequential": [
            [
             0,
             "#0d0887"
            ],
            [
             0.1111111111111111,
             "#46039f"
            ],
            [
             0.2222222222222222,
             "#7201a8"
            ],
            [
             0.3333333333333333,
             "#9c179e"
            ],
            [
             0.4444444444444444,
             "#bd3786"
            ],
            [
             0.5555555555555556,
             "#d8576b"
            ],
            [
             0.6666666666666666,
             "#ed7953"
            ],
            [
             0.7777777777777778,
             "#fb9f3a"
            ],
            [
             0.8888888888888888,
             "#fdca26"
            ],
            [
             1,
             "#f0f921"
            ]
           ],
           "sequentialminus": [
            [
             0,
             "#0d0887"
            ],
            [
             0.1111111111111111,
             "#46039f"
            ],
            [
             0.2222222222222222,
             "#7201a8"
            ],
            [
             0.3333333333333333,
             "#9c179e"
            ],
            [
             0.4444444444444444,
             "#bd3786"
            ],
            [
             0.5555555555555556,
             "#d8576b"
            ],
            [
             0.6666666666666666,
             "#ed7953"
            ],
            [
             0.7777777777777778,
             "#fb9f3a"
            ],
            [
             0.8888888888888888,
             "#fdca26"
            ],
            [
             1,
             "#f0f921"
            ]
           ],
           "diverging": [
            [
             0,
             "#8e0152"
            ],
            [
             0.1,
             "#c51b7d"
            ],
            [
             0.2,
             "#de77ae"
            ],
            [
             0.3,
             "#f1b6da"
            ],
            [
             0.4,
             "#fde0ef"
            ],
            [
             0.5,
             "#f7f7f7"
            ],
            [
             0.6,
             "#e6f5d0"
            ],
            [
             0.7,
             "#b8e186"
            ],
            [
             0.8,
             "#7fbc41"
            ],
            [
             0.9,
             "#4d9221"
            ],
            [
             1,
             "#276419"
            ]
           ]
          },
          "xaxis": {
           "gridcolor": "white",
           "linecolor": "white",
           "ticks": "",
           "title": {
            "standoff": 15
           },
           "zerolinecolor": "white",
           "automargin": true,
           "zerolinewidth": 2
          },
          "yaxis": {
           "gridcolor": "white",
           "linecolor": "white",
           "ticks": "",
           "title": {
            "standoff": 15
           },
           "zerolinecolor": "white",
           "automargin": true,
           "zerolinewidth": 2
          },
          "scene": {
           "xaxis": {
            "backgroundcolor": "#E5ECF6",
            "gridcolor": "white",
            "linecolor": "white",
            "showbackground": true,
            "ticks": "",
            "zerolinecolor": "white",
            "gridwidth": 2
           },
           "yaxis": {
            "backgroundcolor": "#E5ECF6",
            "gridcolor": "white",
            "linecolor": "white",
            "showbackground": true,
            "ticks": "",
            "zerolinecolor": "white",
            "gridwidth": 2
           },
           "zaxis": {
            "backgroundcolor": "#E5ECF6",
            "gridcolor": "white",
            "linecolor": "white",
            "showbackground": true,
            "ticks": "",
            "zerolinecolor": "white",
            "gridwidth": 2
           }
          },
          "shapedefaults": {
           "line": {
            "color": "#2a3f5f"
           }
          },
          "annotationdefaults": {
           "arrowcolor": "#2a3f5f",
           "arrowhead": 0,
           "arrowwidth": 1
          },
          "geo": {
           "bgcolor": "white",
           "landcolor": "#E5ECF6",
           "subunitcolor": "white",
           "showland": true,
           "showlakes": true,
           "lakecolor": "white"
          },
          "title": {
           "x": 0.05
          },
          "mapbox": {
           "style": "light"
          }
         }
        }
       },
       "config": {
        "plotlyServerURL": "https://plot.ly"
       }
      }
     },
     "metadata": {}
    }
   ],
   "metadata": {}
  },
  {
   "cell_type": "code",
   "execution_count": 9,
   "source": [
    "# Export the chart as an HTML file\r\n",
    "pyo.plot(bar_fig_root, filename='Trxn_root_barchart.html', auto_open=True)"
   ],
   "outputs": [
    {
     "output_type": "execute_result",
     "data": {
      "text/plain": [
       "'Trxn_root_barchart.html'"
      ]
     },
     "metadata": {},
     "execution_count": 9
    }
   ],
   "metadata": {}
  },
  {
   "cell_type": "code",
   "execution_count": 10,
   "source": [
    "# Set the locale to use comma separators for thousands\r\n",
    "locale.setlocale(locale.LC_ALL, '')\r\n",
    "\r\n",
    "# Group the data by Root Level and Level 1 and sum the values\r\n",
    "grouped_data = df.groupby(['Root Level', 'Level 1'])['Value'].sum().reset_index()\r\n",
    "\r\n",
    "# Sort the grouped_data by Value column in descending order\r\n",
    "grouped_data = grouped_data.sort_values(by='Value', ascending=False)\r\n",
    "\r\n",
    "# Create a dictionary to map the Root Level to its corresponding color\r\n",
    "color_map = {'Web': 'orange', 'Other Electronic': 'gray', 'Mail': 'burlywood',   'Call Center - Live Agent': 'turquoise', 'Call Center - IVR': 'deepskyblue', 'Call Center - Other':'lightblue', 'NPC': 'gold'}\r\n",
    "\r\n",
    "\r\n",
    "# Create a list to store the bar chart traces\r\n",
    "bar_traces = []\r\n",
    "\r\n",
    "# Loop through each Root Level and create a stacked bar chart trace for its corresponding Level 1 data\r\n",
    "for root_level in grouped_data['Root Level'].unique():\r\n",
    "    temp_df = grouped_data[grouped_data['Root Level'] == root_level]\r\n",
    "    values = temp_df['Value'].values\r\n",
    "    formatted_values = [locale.format_string(\"%d\", val, grouping=True) for val in values] # Format values with comma separators\r\n",
    "    bar_trace = go.Bar(\r\n",
    "        x=temp_df['Level 1'],\r\n",
    "        y=values,\r\n",
    "        text=formatted_values, # Set the formatted values as the text labels\r\n",
    "        textposition='auto', # Position the text labels automatically above the bars\r\n",
    "        name=root_level,\r\n",
    "        marker=dict(color=color_map[root_level])\r\n",
    "    )\r\n",
    "    bar_traces.append(bar_trace)\r\n",
    "\r\n",
    "# Create the stacked bar chart layout\r\n",
    "bar_layout = go.Layout(\r\n",
    "    title='Total Customer Interactions by Service',\r\n",
    "    xaxis=dict(title='Service'),\r\n",
    "    yaxis=dict(title='Total Interactions'),\r\n",
    "    barmode='stack',\r\n",
    "    height=900,\r\n",
    "    legend=dict(title=dict(text='Transaction Channels'))\r\n",
    ")\r\n",
    "\r\n",
    "# Create the stacked bar chart figure\r\n",
    "bar_fig_root_L1 = go.Figure(data=bar_traces, layout=bar_layout)\r\n",
    "\r\n",
    "# Display the stacked bar chart\r\n",
    "bar_fig_root_L1.show()\r\n"
   ],
   "outputs": [
    {
     "output_type": "display_data",
     "data": {
      "application/vnd.plotly.v1+json": {
       "data": [
        {
         "marker": {
          "color": "orange"
         },
         "name": "Web",
         "text": [
          "27,950,047",
          "18,353,470",
          "5,146,001",
          "2,872,476",
          "1,310,914",
          "923,619",
          "608,359",
          "541,515",
          "381,154",
          "300,009",
          "278,569",
          "22,042",
          "16,692"
         ],
         "textposition": "auto",
         "x": [
          "Payments",
          "Billing",
          "Outage",
          "Usage and Rates",
          "Other Interactions ",
          "Payment Account - NEW",
          "Alerts & Notifications",
          "Start/Stop/ Transfer",
          "Account Mgmt",
          "Pay Plans",
          "CARE/FERA ",
          "Pilot Light Appointments ",
          "Budget Billing (Login) "
         ],
         "y": [
          27950047,
          18353470,
          5146001,
          2872476,
          1310914,
          923619,
          608359,
          541515,
          381154,
          300009,
          278569,
          22042,
          16692
         ],
         "type": "bar"
        },
        {
         "marker": {
          "color": "gray"
         },
         "name": "Other Electronic",
         "text": [
          "14,596,348"
         ],
         "textposition": "auto",
         "x": [
          "Payments"
         ],
         "y": [
          14596348
         ],
         "type": "bar"
        },
        {
         "marker": {
          "color": "burlywood"
         },
         "name": "Mail",
         "text": [
          "11,200,000"
         ],
         "textposition": "auto",
         "x": [
          "Payments"
         ],
         "y": [
          11200000
         ],
         "type": "bar"
        },
        {
         "marker": {
          "color": "deepskyblue"
         },
         "name": "Call Center - IVR",
         "text": [
          "4,474,000",
          "1,241,000",
          "843,000",
          "678,000",
          "337,000",
          "209,000",
          "205,000"
         ],
         "textposition": "auto",
         "x": [
          "Payments",
          "Billing",
          "Outage",
          "Other Transactions",
          "Start/Stop/ Transfer",
          "Pay Plans",
          "Account Balance"
         ],
         "y": [
          4474000,
          1241000,
          843000,
          678000,
          337000,
          209000,
          205000
         ],
         "type": "bar"
        },
        {
         "marker": {
          "color": "lightblue"
         },
         "name": "Call Center - Other",
         "text": [
          "3,918,000",
          "2,630,000",
          "267,000",
          "29,000"
         ],
         "textposition": "auto",
         "x": [
          "Transferred calls",
          "ICM Technology Handled",
          "Abandoned Calls",
          "Non-IVR Technology"
         ],
         "y": [
          3918000,
          2630000,
          267000,
          29000
         ],
         "type": "bar"
        },
        {
         "marker": {
          "color": "gold"
         },
         "name": "NPC",
         "text": [
          "1,770,000"
         ],
         "textposition": "auto",
         "x": [
          "Payments"
         ],
         "y": [
          1770000
         ],
         "type": "bar"
        },
        {
         "marker": {
          "color": "turquoise"
         },
         "name": "Call Center - Live Agent",
         "text": [
          "1,341,000",
          "691,000",
          "678,000",
          "479,000",
          "466,000",
          "449,000",
          "256,000",
          "246,000",
          "220,000",
          "137,000",
          "136,000",
          "123,000"
         ],
         "textposition": "auto",
         "x": [
          "General",
          "Billing Balance",
          "Start/Stop/ Transfer",
          "Solar",
          "BCSC",
          "Emergency",
          "Spanish (General)",
          "Outage",
          "Specialty Lines",
          "Payments",
          "Other Transactions",
          "Pay Plans"
         ],
         "y": [
          1341000,
          691000,
          678000,
          479000,
          466000,
          449000,
          256000,
          246000,
          220000,
          137000,
          136000,
          123000
         ],
         "type": "bar"
        }
       ],
       "layout": {
        "barmode": "stack",
        "height": 900,
        "legend": {
         "title": {
          "text": "Transaction Channels"
         }
        },
        "title": {
         "text": "Total Customer Interactions by Service"
        },
        "xaxis": {
         "title": {
          "text": "Service"
         }
        },
        "yaxis": {
         "title": {
          "text": "Total Interactions"
         }
        },
        "template": {
         "data": {
          "histogram2dcontour": [
           {
            "type": "histogram2dcontour",
            "colorbar": {
             "outlinewidth": 0,
             "ticks": ""
            },
            "colorscale": [
             [
              0,
              "#0d0887"
             ],
             [
              0.1111111111111111,
              "#46039f"
             ],
             [
              0.2222222222222222,
              "#7201a8"
             ],
             [
              0.3333333333333333,
              "#9c179e"
             ],
             [
              0.4444444444444444,
              "#bd3786"
             ],
             [
              0.5555555555555556,
              "#d8576b"
             ],
             [
              0.6666666666666666,
              "#ed7953"
             ],
             [
              0.7777777777777778,
              "#fb9f3a"
             ],
             [
              0.8888888888888888,
              "#fdca26"
             ],
             [
              1,
              "#f0f921"
             ]
            ]
           }
          ],
          "choropleth": [
           {
            "type": "choropleth",
            "colorbar": {
             "outlinewidth": 0,
             "ticks": ""
            }
           }
          ],
          "histogram2d": [
           {
            "type": "histogram2d",
            "colorbar": {
             "outlinewidth": 0,
             "ticks": ""
            },
            "colorscale": [
             [
              0,
              "#0d0887"
             ],
             [
              0.1111111111111111,
              "#46039f"
             ],
             [
              0.2222222222222222,
              "#7201a8"
             ],
             [
              0.3333333333333333,
              "#9c179e"
             ],
             [
              0.4444444444444444,
              "#bd3786"
             ],
             [
              0.5555555555555556,
              "#d8576b"
             ],
             [
              0.6666666666666666,
              "#ed7953"
             ],
             [
              0.7777777777777778,
              "#fb9f3a"
             ],
             [
              0.8888888888888888,
              "#fdca26"
             ],
             [
              1,
              "#f0f921"
             ]
            ]
           }
          ],
          "heatmap": [
           {
            "type": "heatmap",
            "colorbar": {
             "outlinewidth": 0,
             "ticks": ""
            },
            "colorscale": [
             [
              0,
              "#0d0887"
             ],
             [
              0.1111111111111111,
              "#46039f"
             ],
             [
              0.2222222222222222,
              "#7201a8"
             ],
             [
              0.3333333333333333,
              "#9c179e"
             ],
             [
              0.4444444444444444,
              "#bd3786"
             ],
             [
              0.5555555555555556,
              "#d8576b"
             ],
             [
              0.6666666666666666,
              "#ed7953"
             ],
             [
              0.7777777777777778,
              "#fb9f3a"
             ],
             [
              0.8888888888888888,
              "#fdca26"
             ],
             [
              1,
              "#f0f921"
             ]
            ]
           }
          ],
          "heatmapgl": [
           {
            "type": "heatmapgl",
            "colorbar": {
             "outlinewidth": 0,
             "ticks": ""
            },
            "colorscale": [
             [
              0,
              "#0d0887"
             ],
             [
              0.1111111111111111,
              "#46039f"
             ],
             [
              0.2222222222222222,
              "#7201a8"
             ],
             [
              0.3333333333333333,
              "#9c179e"
             ],
             [
              0.4444444444444444,
              "#bd3786"
             ],
             [
              0.5555555555555556,
              "#d8576b"
             ],
             [
              0.6666666666666666,
              "#ed7953"
             ],
             [
              0.7777777777777778,
              "#fb9f3a"
             ],
             [
              0.8888888888888888,
              "#fdca26"
             ],
             [
              1,
              "#f0f921"
             ]
            ]
           }
          ],
          "contourcarpet": [
           {
            "type": "contourcarpet",
            "colorbar": {
             "outlinewidth": 0,
             "ticks": ""
            }
           }
          ],
          "contour": [
           {
            "type": "contour",
            "colorbar": {
             "outlinewidth": 0,
             "ticks": ""
            },
            "colorscale": [
             [
              0,
              "#0d0887"
             ],
             [
              0.1111111111111111,
              "#46039f"
             ],
             [
              0.2222222222222222,
              "#7201a8"
             ],
             [
              0.3333333333333333,
              "#9c179e"
             ],
             [
              0.4444444444444444,
              "#bd3786"
             ],
             [
              0.5555555555555556,
              "#d8576b"
             ],
             [
              0.6666666666666666,
              "#ed7953"
             ],
             [
              0.7777777777777778,
              "#fb9f3a"
             ],
             [
              0.8888888888888888,
              "#fdca26"
             ],
             [
              1,
              "#f0f921"
             ]
            ]
           }
          ],
          "surface": [
           {
            "type": "surface",
            "colorbar": {
             "outlinewidth": 0,
             "ticks": ""
            },
            "colorscale": [
             [
              0,
              "#0d0887"
             ],
             [
              0.1111111111111111,
              "#46039f"
             ],
             [
              0.2222222222222222,
              "#7201a8"
             ],
             [
              0.3333333333333333,
              "#9c179e"
             ],
             [
              0.4444444444444444,
              "#bd3786"
             ],
             [
              0.5555555555555556,
              "#d8576b"
             ],
             [
              0.6666666666666666,
              "#ed7953"
             ],
             [
              0.7777777777777778,
              "#fb9f3a"
             ],
             [
              0.8888888888888888,
              "#fdca26"
             ],
             [
              1,
              "#f0f921"
             ]
            ]
           }
          ],
          "mesh3d": [
           {
            "type": "mesh3d",
            "colorbar": {
             "outlinewidth": 0,
             "ticks": ""
            }
           }
          ],
          "scatter": [
           {
            "fillpattern": {
             "fillmode": "overlay",
             "size": 10,
             "solidity": 0.2
            },
            "type": "scatter"
           }
          ],
          "parcoords": [
           {
            "type": "parcoords",
            "line": {
             "colorbar": {
              "outlinewidth": 0,
              "ticks": ""
             }
            }
           }
          ],
          "scatterpolargl": [
           {
            "type": "scatterpolargl",
            "marker": {
             "colorbar": {
              "outlinewidth": 0,
              "ticks": ""
             }
            }
           }
          ],
          "bar": [
           {
            "error_x": {
             "color": "#2a3f5f"
            },
            "error_y": {
             "color": "#2a3f5f"
            },
            "marker": {
             "line": {
              "color": "#E5ECF6",
              "width": 0.5
             },
             "pattern": {
              "fillmode": "overlay",
              "size": 10,
              "solidity": 0.2
             }
            },
            "type": "bar"
           }
          ],
          "scattergeo": [
           {
            "type": "scattergeo",
            "marker": {
             "colorbar": {
              "outlinewidth": 0,
              "ticks": ""
             }
            }
           }
          ],
          "scatterpolar": [
           {
            "type": "scatterpolar",
            "marker": {
             "colorbar": {
              "outlinewidth": 0,
              "ticks": ""
             }
            }
           }
          ],
          "histogram": [
           {
            "marker": {
             "pattern": {
              "fillmode": "overlay",
              "size": 10,
              "solidity": 0.2
             }
            },
            "type": "histogram"
           }
          ],
          "scattergl": [
           {
            "type": "scattergl",
            "marker": {
             "colorbar": {
              "outlinewidth": 0,
              "ticks": ""
             }
            }
           }
          ],
          "scatter3d": [
           {
            "type": "scatter3d",
            "line": {
             "colorbar": {
              "outlinewidth": 0,
              "ticks": ""
             }
            },
            "marker": {
             "colorbar": {
              "outlinewidth": 0,
              "ticks": ""
             }
            }
           }
          ],
          "scattermapbox": [
           {
            "type": "scattermapbox",
            "marker": {
             "colorbar": {
              "outlinewidth": 0,
              "ticks": ""
             }
            }
           }
          ],
          "scatterternary": [
           {
            "type": "scatterternary",
            "marker": {
             "colorbar": {
              "outlinewidth": 0,
              "ticks": ""
             }
            }
           }
          ],
          "scattercarpet": [
           {
            "type": "scattercarpet",
            "marker": {
             "colorbar": {
              "outlinewidth": 0,
              "ticks": ""
             }
            }
           }
          ],
          "carpet": [
           {
            "aaxis": {
             "endlinecolor": "#2a3f5f",
             "gridcolor": "white",
             "linecolor": "white",
             "minorgridcolor": "white",
             "startlinecolor": "#2a3f5f"
            },
            "baxis": {
             "endlinecolor": "#2a3f5f",
             "gridcolor": "white",
             "linecolor": "white",
             "minorgridcolor": "white",
             "startlinecolor": "#2a3f5f"
            },
            "type": "carpet"
           }
          ],
          "table": [
           {
            "cells": {
             "fill": {
              "color": "#EBF0F8"
             },
             "line": {
              "color": "white"
             }
            },
            "header": {
             "fill": {
              "color": "#C8D4E3"
             },
             "line": {
              "color": "white"
             }
            },
            "type": "table"
           }
          ],
          "barpolar": [
           {
            "marker": {
             "line": {
              "color": "#E5ECF6",
              "width": 0.5
             },
             "pattern": {
              "fillmode": "overlay",
              "size": 10,
              "solidity": 0.2
             }
            },
            "type": "barpolar"
           }
          ],
          "pie": [
           {
            "automargin": true,
            "type": "pie"
           }
          ]
         },
         "layout": {
          "autotypenumbers": "strict",
          "colorway": [
           "#636efa",
           "#EF553B",
           "#00cc96",
           "#ab63fa",
           "#FFA15A",
           "#19d3f3",
           "#FF6692",
           "#B6E880",
           "#FF97FF",
           "#FECB52"
          ],
          "font": {
           "color": "#2a3f5f"
          },
          "hovermode": "closest",
          "hoverlabel": {
           "align": "left"
          },
          "paper_bgcolor": "white",
          "plot_bgcolor": "#E5ECF6",
          "polar": {
           "bgcolor": "#E5ECF6",
           "angularaxis": {
            "gridcolor": "white",
            "linecolor": "white",
            "ticks": ""
           },
           "radialaxis": {
            "gridcolor": "white",
            "linecolor": "white",
            "ticks": ""
           }
          },
          "ternary": {
           "bgcolor": "#E5ECF6",
           "aaxis": {
            "gridcolor": "white",
            "linecolor": "white",
            "ticks": ""
           },
           "baxis": {
            "gridcolor": "white",
            "linecolor": "white",
            "ticks": ""
           },
           "caxis": {
            "gridcolor": "white",
            "linecolor": "white",
            "ticks": ""
           }
          },
          "coloraxis": {
           "colorbar": {
            "outlinewidth": 0,
            "ticks": ""
           }
          },
          "colorscale": {
           "sequential": [
            [
             0,
             "#0d0887"
            ],
            [
             0.1111111111111111,
             "#46039f"
            ],
            [
             0.2222222222222222,
             "#7201a8"
            ],
            [
             0.3333333333333333,
             "#9c179e"
            ],
            [
             0.4444444444444444,
             "#bd3786"
            ],
            [
             0.5555555555555556,
             "#d8576b"
            ],
            [
             0.6666666666666666,
             "#ed7953"
            ],
            [
             0.7777777777777778,
             "#fb9f3a"
            ],
            [
             0.8888888888888888,
             "#fdca26"
            ],
            [
             1,
             "#f0f921"
            ]
           ],
           "sequentialminus": [
            [
             0,
             "#0d0887"
            ],
            [
             0.1111111111111111,
             "#46039f"
            ],
            [
             0.2222222222222222,
             "#7201a8"
            ],
            [
             0.3333333333333333,
             "#9c179e"
            ],
            [
             0.4444444444444444,
             "#bd3786"
            ],
            [
             0.5555555555555556,
             "#d8576b"
            ],
            [
             0.6666666666666666,
             "#ed7953"
            ],
            [
             0.7777777777777778,
             "#fb9f3a"
            ],
            [
             0.8888888888888888,
             "#fdca26"
            ],
            [
             1,
             "#f0f921"
            ]
           ],
           "diverging": [
            [
             0,
             "#8e0152"
            ],
            [
             0.1,
             "#c51b7d"
            ],
            [
             0.2,
             "#de77ae"
            ],
            [
             0.3,
             "#f1b6da"
            ],
            [
             0.4,
             "#fde0ef"
            ],
            [
             0.5,
             "#f7f7f7"
            ],
            [
             0.6,
             "#e6f5d0"
            ],
            [
             0.7,
             "#b8e186"
            ],
            [
             0.8,
             "#7fbc41"
            ],
            [
             0.9,
             "#4d9221"
            ],
            [
             1,
             "#276419"
            ]
           ]
          },
          "xaxis": {
           "gridcolor": "white",
           "linecolor": "white",
           "ticks": "",
           "title": {
            "standoff": 15
           },
           "zerolinecolor": "white",
           "automargin": true,
           "zerolinewidth": 2
          },
          "yaxis": {
           "gridcolor": "white",
           "linecolor": "white",
           "ticks": "",
           "title": {
            "standoff": 15
           },
           "zerolinecolor": "white",
           "automargin": true,
           "zerolinewidth": 2
          },
          "scene": {
           "xaxis": {
            "backgroundcolor": "#E5ECF6",
            "gridcolor": "white",
            "linecolor": "white",
            "showbackground": true,
            "ticks": "",
            "zerolinecolor": "white",
            "gridwidth": 2
           },
           "yaxis": {
            "backgroundcolor": "#E5ECF6",
            "gridcolor": "white",
            "linecolor": "white",
            "showbackground": true,
            "ticks": "",
            "zerolinecolor": "white",
            "gridwidth": 2
           },
           "zaxis": {
            "backgroundcolor": "#E5ECF6",
            "gridcolor": "white",
            "linecolor": "white",
            "showbackground": true,
            "ticks": "",
            "zerolinecolor": "white",
            "gridwidth": 2
           }
          },
          "shapedefaults": {
           "line": {
            "color": "#2a3f5f"
           }
          },
          "annotationdefaults": {
           "arrowcolor": "#2a3f5f",
           "arrowhead": 0,
           "arrowwidth": 1
          },
          "geo": {
           "bgcolor": "white",
           "landcolor": "#E5ECF6",
           "subunitcolor": "white",
           "showland": true,
           "showlakes": true,
           "lakecolor": "white"
          },
          "title": {
           "x": 0.05
          },
          "mapbox": {
           "style": "light"
          }
         }
        }
       },
       "config": {
        "plotlyServerURL": "https://plot.ly"
       }
      }
     },
     "metadata": {}
    }
   ],
   "metadata": {}
  },
  {
   "cell_type": "code",
   "execution_count": 11,
   "source": [
    "# Export the chart as an HTML file\r\n",
    "pyo.plot(bar_fig_root_L1, filename='Trxn_root_L1_barchart.html', auto_open=True)"
   ],
   "outputs": [
    {
     "output_type": "execute_result",
     "data": {
      "text/plain": [
       "'Trxn_root_L1_barchart.html'"
      ]
     },
     "metadata": {},
     "execution_count": 11
    }
   ],
   "metadata": {}
  },
  {
   "cell_type": "code",
   "execution_count": 12,
   "source": [
    "# Set the locale to use comma separators for thousands\r\n",
    "locale.setlocale(locale.LC_ALL, '')\r\n",
    "\r\n",
    "# Group the data by Root Level and Level 2 and sum the values\r\n",
    "grouped_data = df.groupby(['Root Level', 'Level 2'])['Value'].sum().reset_index()\r\n",
    "\r\n",
    "# Sort the grouped_data by Value column in descending order\r\n",
    "grouped_data = grouped_data.sort_values(by='Value', ascending=False) # Sort by descending order\r\n",
    "\r\n",
    "# Create a dictionary to map the Root Level to its corresponding color\r\n",
    "color_map = {'Web': 'orange', 'Other Electronic': 'gray', 'Mail': 'burlywood',   'Call Center - Live Agent': 'turquoise', 'Call Center - IVR': 'deepskyblue', 'Call Center - Other':'lightblue', 'NPC': 'gold'}\r\n",
    "\r\n",
    "\r\n",
    "\r\n",
    "# Create a list to store the bar chart traces\r\n",
    "bar_traces = []\r\n",
    "\r\n",
    "# Loop through each Root Level and create a stacked bar chart trace for its corresponding Level 2 data\r\n",
    "for root_level in grouped_data['Root Level'].unique():\r\n",
    "    temp_df = grouped_data[grouped_data['Root Level'] == root_level]\r\n",
    "    values = temp_df['Value'].values\r\n",
    "    formatted_values = [locale.format_string(\"%d\", val, grouping=True) for val in values] # Format values with comma separators\r\n",
    "    y_values = temp_df['Level 2'].values\r\n",
    "    bar_trace = go.Bar(\r\n",
    "        y=y_values,\r\n",
    "        x=values,\r\n",
    "        text=formatted_values,\r\n",
    "        textposition='auto',\r\n",
    "        name=root_level,\r\n",
    "        orientation='h',\r\n",
    "        marker=dict(color=color_map[root_level])\r\n",
    "    )\r\n",
    "    bar_traces.append(bar_trace)\r\n",
    "\r\n",
    "# Create the stacked bar chart layout\r\n",
    "bar_layout = go.Layout(\r\n",
    "    title='Total Customer Interactions by Service - Breakdown',\r\n",
    "    xaxis=dict(title='Total Interactions'),\r\n",
    "    yaxis=dict(title='Service Detail (from lowest to highest)'),\r\n",
    "    barmode='stack',\r\n",
    "    height=1600,\r\n",
    "    legend=dict(title=dict(text='Transaction Channels'))\r\n",
    ")\r\n",
    "\r\n",
    "# Create the stacked bar chart figure\r\n",
    "bar_fig_L2 = go.Figure(data=bar_traces, layout=bar_layout)\r\n",
    "\r\n",
    "# Display the stacked bar chart\r\n",
    "bar_fig_L2.show()\r\n"
   ],
   "outputs": [
    {
     "output_type": "display_data",
     "data": {
      "application/vnd.plotly.v1+json": {
       "data": [
        {
         "marker": {
          "color": "orange"
         },
         "name": "Web",
         "orientation": "h",
         "text": [
          "24,316,220",
          "18,353,470",
          "4,516,009",
          "3,633,827",
          "1,425,106",
          "756,747",
          "663,126",
          "633,871",
          "549,793",
          "541,515",
          "538,774",
          "362,420",
          "310,259",
          "302,380",
          "278,569",
          "244,317",
          "233,548",
          "220,049",
          "159,607",
          "140,820",
          "137,600",
          "83,947",
          "80,199",
          "79,960",
          "25,758",
          "18,987",
          "16,692",
          "16,176",
          "16,104",
          "15,393",
          "12,242",
          "10,738",
          "3,892",
          "3,697",
          "1,907",
          "1,148"
         ],
         "textposition": "auto",
         "x": [
          24316220,
          18353470,
          4516009,
          3633827,
          1425106,
          756747,
          663126,
          633871,
          549793,
          541515,
          538774,
          362420,
          310259,
          302380,
          278569,
          244317,
          233548,
          220049,
          159607,
          140820,
          137600,
          83947,
          80199,
          79960,
          25758,
          18987,
          16692,
          16176,
          16104,
          15393,
          12242,
          10738,
          3892,
          3697,
          1907,
          1148
         ],
         "y": [
          "Payments > Your Account",
          "Billing > ViewBillCurrentPDF",
          "Outage > Search Outage By Address",
          "Payments > One Time Access",
          "Usage and Rates > Compare My Bills",
          "Other Interactions  > Recurring Payment Schedule",
          "Create_Payment_Account - NEW",
          "Usage and Rates > View Usage",
          "Outage > Report Outage",
          "Start/Stop/ Transfer",
          "Other Interactions  > Registration",
          "Usage and Rates > Home Energy Checkup",
          "Usage and Rates > Rate Comparison",
          "Alerts & Notifications > Change Billing & Payment Alerts",
          "CARE/FERA",
          "Delete_Payment_Account - NEW",
          "Alerts & Notifications > Energy Alerts",
          "Pay Plans > Installment Pay",
          "Account Mgmt > Change User Name, Password",
          "Usage and Rates > Online Rate Enrollment",
          "Account Mgmt > Add/Edit Phone Number",
          "Account Mgmt > Change Billing Address",
          "Outage > Subscribe Outage (EW Pages)",
          "Pay Plans > Extension Pay",
          "Alerts & Notifications > Go Paperless Alerts NEW",
          "Pilot Light Appointments  > Schedule_Service_Appointment",
          "Budget Billing (Login) ",
          "Update_Payment_Account - NEW",
          "Alerts & Notifications > Event Day Alerts NEW",
          "Other Interactions  > Gas Pipeline Map Views",
          "Alerts & Notifications > Outages Alerts New",
          "Alerts & Notifications > Notices & Services Information NEW",
          "Alerts & Notifications > Additional Communication Alerts NEW",
          "Alerts & Notifications > Service Visit Alerts NEW",
          "Pilot Light Appointments  > Cancel_Service_Appointment",
          "Pilot Light Appointments  > Reschedule_Service_Appointment"
         ],
         "type": "bar"
        },
        {
         "marker": {
          "color": "burlywood"
         },
         "name": "Mail",
         "orientation": "h",
         "text": [
          "11,200,000"
         ],
         "textposition": "auto",
         "x": [
          11200000
         ],
         "y": [
          "Payments > Mail"
         ],
         "type": "bar"
        },
        {
         "marker": {
          "color": "gray"
         },
         "name": "Other Electronic",
         "orientation": "h",
         "text": [
          "10,393,000",
          "2,735,000",
          "726,000",
          "637,000",
          "102,000",
          "2,960",
          "388"
         ],
         "textposition": "auto",
         "x": [
          10393000,
          2735000,
          726000,
          637000,
          102000,
          2960,
          388
         ],
         "y": [
          "Payments > Online Banking",
          "Payments > APS",
          "Payments > ACH",
          "Payments > EDI",
          "Payments > LiHEAP",
          "Payments > Wire Transfer",
          "Payments > Secure Email"
         ],
         "type": "bar"
        },
        {
         "marker": {
          "color": "deepskyblue"
         },
         "name": "Call Center - IVR",
         "orientation": "h",
         "text": [
          "4,474,000",
          "1,241,000",
          "843,000",
          "678,000",
          "337,000",
          "209,000",
          "205,000"
         ],
         "textposition": "auto",
         "x": [
          4474000,
          1241000,
          843000,
          678000,
          337000,
          209000,
          205000
         ],
         "y": [
          "Payments",
          "Billing",
          "Outage",
          "Other Transactions",
          "Start/Stop/ Transfer",
          "Pay Plans",
          "Account Balance"
         ],
         "type": "bar"
        },
        {
         "marker": {
          "color": "lightblue"
         },
         "name": "Call Center - Other",
         "orientation": "h",
         "text": [
          "3,918,000",
          "2,630,000",
          "267,000",
          "29,000"
         ],
         "textposition": "auto",
         "x": [
          3918000,
          2630000,
          267000,
          29000
         ],
         "y": [
          "Transferred calls",
          "ICM Technology Handled",
          "Abandoned Calls",
          "Non-IVR Technology"
         ],
         "type": "bar"
        },
        {
         "marker": {
          "color": "gold"
         },
         "name": "NPC",
         "orientation": "h",
         "text": [
          "1,770,000"
         ],
         "textposition": "auto",
         "x": [
          1770000
         ],
         "y": [
          "Payments > Neighborhood Payment Center"
         ],
         "type": "bar"
        },
        {
         "marker": {
          "color": "turquoise"
         },
         "name": "Call Center - Live Agent",
         "orientation": "h",
         "text": [
          "1,341,000",
          "691,000",
          "678,000",
          "479,000",
          "466,000",
          "449,000",
          "256,000",
          "246,000",
          "220,000",
          "137,000",
          "136,000",
          "123,000"
         ],
         "textposition": "auto",
         "x": [
          1341000,
          691000,
          678000,
          479000,
          466000,
          449000,
          256000,
          246000,
          220000,
          137000,
          136000,
          123000
         ],
         "y": [
          "General",
          "Billing Balance",
          "Start/Stop/ Transfer",
          "Solar",
          "BCSC",
          "Emergency",
          "Spanish (General)",
          "Outage",
          "Specialty Lines",
          "Payments",
          "Other Transactions",
          "Pay Plans"
         ],
         "type": "bar"
        }
       ],
       "layout": {
        "barmode": "stack",
        "height": 1600,
        "legend": {
         "title": {
          "text": "Transaction Channels"
         }
        },
        "title": {
         "text": "Total Customer Interactions by Service - Breakdown"
        },
        "xaxis": {
         "title": {
          "text": "Total Interactions"
         }
        },
        "yaxis": {
         "title": {
          "text": "Service Detail (from lowest to highest)"
         }
        },
        "template": {
         "data": {
          "histogram2dcontour": [
           {
            "type": "histogram2dcontour",
            "colorbar": {
             "outlinewidth": 0,
             "ticks": ""
            },
            "colorscale": [
             [
              0,
              "#0d0887"
             ],
             [
              0.1111111111111111,
              "#46039f"
             ],
             [
              0.2222222222222222,
              "#7201a8"
             ],
             [
              0.3333333333333333,
              "#9c179e"
             ],
             [
              0.4444444444444444,
              "#bd3786"
             ],
             [
              0.5555555555555556,
              "#d8576b"
             ],
             [
              0.6666666666666666,
              "#ed7953"
             ],
             [
              0.7777777777777778,
              "#fb9f3a"
             ],
             [
              0.8888888888888888,
              "#fdca26"
             ],
             [
              1,
              "#f0f921"
             ]
            ]
           }
          ],
          "choropleth": [
           {
            "type": "choropleth",
            "colorbar": {
             "outlinewidth": 0,
             "ticks": ""
            }
           }
          ],
          "histogram2d": [
           {
            "type": "histogram2d",
            "colorbar": {
             "outlinewidth": 0,
             "ticks": ""
            },
            "colorscale": [
             [
              0,
              "#0d0887"
             ],
             [
              0.1111111111111111,
              "#46039f"
             ],
             [
              0.2222222222222222,
              "#7201a8"
             ],
             [
              0.3333333333333333,
              "#9c179e"
             ],
             [
              0.4444444444444444,
              "#bd3786"
             ],
             [
              0.5555555555555556,
              "#d8576b"
             ],
             [
              0.6666666666666666,
              "#ed7953"
             ],
             [
              0.7777777777777778,
              "#fb9f3a"
             ],
             [
              0.8888888888888888,
              "#fdca26"
             ],
             [
              1,
              "#f0f921"
             ]
            ]
           }
          ],
          "heatmap": [
           {
            "type": "heatmap",
            "colorbar": {
             "outlinewidth": 0,
             "ticks": ""
            },
            "colorscale": [
             [
              0,
              "#0d0887"
             ],
             [
              0.1111111111111111,
              "#46039f"
             ],
             [
              0.2222222222222222,
              "#7201a8"
             ],
             [
              0.3333333333333333,
              "#9c179e"
             ],
             [
              0.4444444444444444,
              "#bd3786"
             ],
             [
              0.5555555555555556,
              "#d8576b"
             ],
             [
              0.6666666666666666,
              "#ed7953"
             ],
             [
              0.7777777777777778,
              "#fb9f3a"
             ],
             [
              0.8888888888888888,
              "#fdca26"
             ],
             [
              1,
              "#f0f921"
             ]
            ]
           }
          ],
          "heatmapgl": [
           {
            "type": "heatmapgl",
            "colorbar": {
             "outlinewidth": 0,
             "ticks": ""
            },
            "colorscale": [
             [
              0,
              "#0d0887"
             ],
             [
              0.1111111111111111,
              "#46039f"
             ],
             [
              0.2222222222222222,
              "#7201a8"
             ],
             [
              0.3333333333333333,
              "#9c179e"
             ],
             [
              0.4444444444444444,
              "#bd3786"
             ],
             [
              0.5555555555555556,
              "#d8576b"
             ],
             [
              0.6666666666666666,
              "#ed7953"
             ],
             [
              0.7777777777777778,
              "#fb9f3a"
             ],
             [
              0.8888888888888888,
              "#fdca26"
             ],
             [
              1,
              "#f0f921"
             ]
            ]
           }
          ],
          "contourcarpet": [
           {
            "type": "contourcarpet",
            "colorbar": {
             "outlinewidth": 0,
             "ticks": ""
            }
           }
          ],
          "contour": [
           {
            "type": "contour",
            "colorbar": {
             "outlinewidth": 0,
             "ticks": ""
            },
            "colorscale": [
             [
              0,
              "#0d0887"
             ],
             [
              0.1111111111111111,
              "#46039f"
             ],
             [
              0.2222222222222222,
              "#7201a8"
             ],
             [
              0.3333333333333333,
              "#9c179e"
             ],
             [
              0.4444444444444444,
              "#bd3786"
             ],
             [
              0.5555555555555556,
              "#d8576b"
             ],
             [
              0.6666666666666666,
              "#ed7953"
             ],
             [
              0.7777777777777778,
              "#fb9f3a"
             ],
             [
              0.8888888888888888,
              "#fdca26"
             ],
             [
              1,
              "#f0f921"
             ]
            ]
           }
          ],
          "surface": [
           {
            "type": "surface",
            "colorbar": {
             "outlinewidth": 0,
             "ticks": ""
            },
            "colorscale": [
             [
              0,
              "#0d0887"
             ],
             [
              0.1111111111111111,
              "#46039f"
             ],
             [
              0.2222222222222222,
              "#7201a8"
             ],
             [
              0.3333333333333333,
              "#9c179e"
             ],
             [
              0.4444444444444444,
              "#bd3786"
             ],
             [
              0.5555555555555556,
              "#d8576b"
             ],
             [
              0.6666666666666666,
              "#ed7953"
             ],
             [
              0.7777777777777778,
              "#fb9f3a"
             ],
             [
              0.8888888888888888,
              "#fdca26"
             ],
             [
              1,
              "#f0f921"
             ]
            ]
           }
          ],
          "mesh3d": [
           {
            "type": "mesh3d",
            "colorbar": {
             "outlinewidth": 0,
             "ticks": ""
            }
           }
          ],
          "scatter": [
           {
            "fillpattern": {
             "fillmode": "overlay",
             "size": 10,
             "solidity": 0.2
            },
            "type": "scatter"
           }
          ],
          "parcoords": [
           {
            "type": "parcoords",
            "line": {
             "colorbar": {
              "outlinewidth": 0,
              "ticks": ""
             }
            }
           }
          ],
          "scatterpolargl": [
           {
            "type": "scatterpolargl",
            "marker": {
             "colorbar": {
              "outlinewidth": 0,
              "ticks": ""
             }
            }
           }
          ],
          "bar": [
           {
            "error_x": {
             "color": "#2a3f5f"
            },
            "error_y": {
             "color": "#2a3f5f"
            },
            "marker": {
             "line": {
              "color": "#E5ECF6",
              "width": 0.5
             },
             "pattern": {
              "fillmode": "overlay",
              "size": 10,
              "solidity": 0.2
             }
            },
            "type": "bar"
           }
          ],
          "scattergeo": [
           {
            "type": "scattergeo",
            "marker": {
             "colorbar": {
              "outlinewidth": 0,
              "ticks": ""
             }
            }
           }
          ],
          "scatterpolar": [
           {
            "type": "scatterpolar",
            "marker": {
             "colorbar": {
              "outlinewidth": 0,
              "ticks": ""
             }
            }
           }
          ],
          "histogram": [
           {
            "marker": {
             "pattern": {
              "fillmode": "overlay",
              "size": 10,
              "solidity": 0.2
             }
            },
            "type": "histogram"
           }
          ],
          "scattergl": [
           {
            "type": "scattergl",
            "marker": {
             "colorbar": {
              "outlinewidth": 0,
              "ticks": ""
             }
            }
           }
          ],
          "scatter3d": [
           {
            "type": "scatter3d",
            "line": {
             "colorbar": {
              "outlinewidth": 0,
              "ticks": ""
             }
            },
            "marker": {
             "colorbar": {
              "outlinewidth": 0,
              "ticks": ""
             }
            }
           }
          ],
          "scattermapbox": [
           {
            "type": "scattermapbox",
            "marker": {
             "colorbar": {
              "outlinewidth": 0,
              "ticks": ""
             }
            }
           }
          ],
          "scatterternary": [
           {
            "type": "scatterternary",
            "marker": {
             "colorbar": {
              "outlinewidth": 0,
              "ticks": ""
             }
            }
           }
          ],
          "scattercarpet": [
           {
            "type": "scattercarpet",
            "marker": {
             "colorbar": {
              "outlinewidth": 0,
              "ticks": ""
             }
            }
           }
          ],
          "carpet": [
           {
            "aaxis": {
             "endlinecolor": "#2a3f5f",
             "gridcolor": "white",
             "linecolor": "white",
             "minorgridcolor": "white",
             "startlinecolor": "#2a3f5f"
            },
            "baxis": {
             "endlinecolor": "#2a3f5f",
             "gridcolor": "white",
             "linecolor": "white",
             "minorgridcolor": "white",
             "startlinecolor": "#2a3f5f"
            },
            "type": "carpet"
           }
          ],
          "table": [
           {
            "cells": {
             "fill": {
              "color": "#EBF0F8"
             },
             "line": {
              "color": "white"
             }
            },
            "header": {
             "fill": {
              "color": "#C8D4E3"
             },
             "line": {
              "color": "white"
             }
            },
            "type": "table"
           }
          ],
          "barpolar": [
           {
            "marker": {
             "line": {
              "color": "#E5ECF6",
              "width": 0.5
             },
             "pattern": {
              "fillmode": "overlay",
              "size": 10,
              "solidity": 0.2
             }
            },
            "type": "barpolar"
           }
          ],
          "pie": [
           {
            "automargin": true,
            "type": "pie"
           }
          ]
         },
         "layout": {
          "autotypenumbers": "strict",
          "colorway": [
           "#636efa",
           "#EF553B",
           "#00cc96",
           "#ab63fa",
           "#FFA15A",
           "#19d3f3",
           "#FF6692",
           "#B6E880",
           "#FF97FF",
           "#FECB52"
          ],
          "font": {
           "color": "#2a3f5f"
          },
          "hovermode": "closest",
          "hoverlabel": {
           "align": "left"
          },
          "paper_bgcolor": "white",
          "plot_bgcolor": "#E5ECF6",
          "polar": {
           "bgcolor": "#E5ECF6",
           "angularaxis": {
            "gridcolor": "white",
            "linecolor": "white",
            "ticks": ""
           },
           "radialaxis": {
            "gridcolor": "white",
            "linecolor": "white",
            "ticks": ""
           }
          },
          "ternary": {
           "bgcolor": "#E5ECF6",
           "aaxis": {
            "gridcolor": "white",
            "linecolor": "white",
            "ticks": ""
           },
           "baxis": {
            "gridcolor": "white",
            "linecolor": "white",
            "ticks": ""
           },
           "caxis": {
            "gridcolor": "white",
            "linecolor": "white",
            "ticks": ""
           }
          },
          "coloraxis": {
           "colorbar": {
            "outlinewidth": 0,
            "ticks": ""
           }
          },
          "colorscale": {
           "sequential": [
            [
             0,
             "#0d0887"
            ],
            [
             0.1111111111111111,
             "#46039f"
            ],
            [
             0.2222222222222222,
             "#7201a8"
            ],
            [
             0.3333333333333333,
             "#9c179e"
            ],
            [
             0.4444444444444444,
             "#bd3786"
            ],
            [
             0.5555555555555556,
             "#d8576b"
            ],
            [
             0.6666666666666666,
             "#ed7953"
            ],
            [
             0.7777777777777778,
             "#fb9f3a"
            ],
            [
             0.8888888888888888,
             "#fdca26"
            ],
            [
             1,
             "#f0f921"
            ]
           ],
           "sequentialminus": [
            [
             0,
             "#0d0887"
            ],
            [
             0.1111111111111111,
             "#46039f"
            ],
            [
             0.2222222222222222,
             "#7201a8"
            ],
            [
             0.3333333333333333,
             "#9c179e"
            ],
            [
             0.4444444444444444,
             "#bd3786"
            ],
            [
             0.5555555555555556,
             "#d8576b"
            ],
            [
             0.6666666666666666,
             "#ed7953"
            ],
            [
             0.7777777777777778,
             "#fb9f3a"
            ],
            [
             0.8888888888888888,
             "#fdca26"
            ],
            [
             1,
             "#f0f921"
            ]
           ],
           "diverging": [
            [
             0,
             "#8e0152"
            ],
            [
             0.1,
             "#c51b7d"
            ],
            [
             0.2,
             "#de77ae"
            ],
            [
             0.3,
             "#f1b6da"
            ],
            [
             0.4,
             "#fde0ef"
            ],
            [
             0.5,
             "#f7f7f7"
            ],
            [
             0.6,
             "#e6f5d0"
            ],
            [
             0.7,
             "#b8e186"
            ],
            [
             0.8,
             "#7fbc41"
            ],
            [
             0.9,
             "#4d9221"
            ],
            [
             1,
             "#276419"
            ]
           ]
          },
          "xaxis": {
           "gridcolor": "white",
           "linecolor": "white",
           "ticks": "",
           "title": {
            "standoff": 15
           },
           "zerolinecolor": "white",
           "automargin": true,
           "zerolinewidth": 2
          },
          "yaxis": {
           "gridcolor": "white",
           "linecolor": "white",
           "ticks": "",
           "title": {
            "standoff": 15
           },
           "zerolinecolor": "white",
           "automargin": true,
           "zerolinewidth": 2
          },
          "scene": {
           "xaxis": {
            "backgroundcolor": "#E5ECF6",
            "gridcolor": "white",
            "linecolor": "white",
            "showbackground": true,
            "ticks": "",
            "zerolinecolor": "white",
            "gridwidth": 2
           },
           "yaxis": {
            "backgroundcolor": "#E5ECF6",
            "gridcolor": "white",
            "linecolor": "white",
            "showbackground": true,
            "ticks": "",
            "zerolinecolor": "white",
            "gridwidth": 2
           },
           "zaxis": {
            "backgroundcolor": "#E5ECF6",
            "gridcolor": "white",
            "linecolor": "white",
            "showbackground": true,
            "ticks": "",
            "zerolinecolor": "white",
            "gridwidth": 2
           }
          },
          "shapedefaults": {
           "line": {
            "color": "#2a3f5f"
           }
          },
          "annotationdefaults": {
           "arrowcolor": "#2a3f5f",
           "arrowhead": 0,
           "arrowwidth": 1
          },
          "geo": {
           "bgcolor": "white",
           "landcolor": "#E5ECF6",
           "subunitcolor": "white",
           "showland": true,
           "showlakes": true,
           "lakecolor": "white"
          },
          "title": {
           "x": 0.05
          },
          "mapbox": {
           "style": "light"
          }
         }
        }
       },
       "config": {
        "plotlyServerURL": "https://plot.ly"
       }
      }
     },
     "metadata": {}
    }
   ],
   "metadata": {}
  },
  {
   "cell_type": "code",
   "execution_count": 13,
   "source": [
    "# Export the chart as an HTML file\r\n",
    "pyo.plot(bar_fig_L2, filename='Trxn_barchart_L2.html', auto_open=True)"
   ],
   "outputs": [
    {
     "output_type": "execute_result",
     "data": {
      "text/plain": [
       "'Trxn_barchart_L2.html'"
      ]
     },
     "metadata": {},
     "execution_count": 13
    }
   ],
   "metadata": {}
  }
 ],
 "metadata": {
  "kernelspec": {
   "name": "python3",
   "display_name": "Python 3.9.4 64-bit"
  },
  "language_info": {
   "codemirror_mode": {
    "name": "ipython",
    "version": 3
   },
   "file_extension": ".py",
   "mimetype": "text/x-python",
   "name": "python",
   "nbconvert_exporter": "python",
   "pygments_lexer": "ipython3",
   "version": "3.9.4"
  },
  "orig_nbformat": 4,
  "vscode": {
   "interpreter": {
    "hash": "c9b21536a9acc6760abd1e254054ae2e4835a519c52255661df32ba21613e772"
   }
  },
  "interpreter": {
   "hash": "ac59ebe37160ed0dfa835113d9b8498d9f09ceb179beaac4002f036b9467c963"
  }
 },
 "nbformat": 4,
 "nbformat_minor": 2
}