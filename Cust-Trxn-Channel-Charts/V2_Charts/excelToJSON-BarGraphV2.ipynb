{
 "cells": [
  {
   "cell_type": "markdown",
   "source": [
    "This Version looks up the Publication Spreadsheet to pull data direct from intake form"
   ],
   "metadata": {}
  },
  {
   "cell_type": "code",
   "execution_count": 164,
   "source": [
    "# Install packages as needed\r\n",
    "#%pip install openpyxl\r\n",
    "#%pip install pandas \r\n",
    "#%pip install plotly\r\n",
    "#%pip install nbformat\r\n",
    "#%pip install --upgrade ipython"
   ],
   "outputs": [],
   "metadata": {}
  },
  {
   "cell_type": "code",
   "execution_count": 165,
   "source": [
    "#import libraries\r\n",
    "import pandas as pd\r\n",
    "import json\r\n",
    "import os\r\n",
    "import plotly.express as px\r\n",
    "import plotly.offline as pyo\r\n",
    "import plotly.graph_objs as go\r\n",
    "import locale\r\n",
    "import numpy as np\r\n",
    "import re\r\n",
    "import plotly.io as pio"
   ],
   "outputs": [],
   "metadata": {}
  },
  {
   "cell_type": "markdown",
   "source": [
    "Extract"
   ],
   "metadata": {}
  },
  {
   "cell_type": "code",
   "execution_count": 166,
   "source": [
    "###EXTRACT###\r\n",
    "# Read Transaction Excel data into a Pandas dataframe\r\n",
    "file = r'C:\\Users\\DIM6\\OneDrive - PGE\\[Work] [Shared]\\CXI Projects\\20200122 03 CC Fact Sheet\\2022\\2022 Customer Transactions Map - Publication Sheets.xlsx'\r\n",
    "sheet_name = 'BarGraphs'\r\n",
    "\r\n",
    "# Read the specific sheet from the Excel file\r\n",
    "df_raw = pd.read_excel(file, sheet_name=sheet_name)\r\n",
    "\r\n",
    "print(df_raw.head())"
   ],
   "outputs": [
    {
     "output_type": "stream",
     "name": "stdout",
     "text": [
      "  Root Level Level 1 Level 2a Level 2  Value  TableBlank?  Level\n",
      "0        NaN     NaN      NaN     NaN    NaN        False    NaN\n",
      "1        NaN     NaN      NaN     NaN    NaN        False    NaN\n",
      "2        NaN     NaN      NaN     NaN    NaN        False    NaN\n",
      "3        NaN     NaN      NaN     NaN    NaN        False    NaN\n",
      "4        NaN     NaN      NaN     NaN    NaN        False    NaN\n"
     ]
    }
   ],
   "metadata": {}
  },
  {
   "cell_type": "code",
   "execution_count": 167,
   "source": [
    "#Column Headers\r\n",
    "Root = 'Root Level'\r\n",
    "L1 = \"Level 1\" \r\n",
    "L2 = \"Level 2\"\r\n",
    "Value = \"Value\"\r\n",
    "Cat_Level = \"Level\""
   ],
   "outputs": [],
   "metadata": {}
  },
  {
   "cell_type": "markdown",
   "source": [
    "Transform"
   ],
   "metadata": {}
  },
  {
   "cell_type": "code",
   "execution_count": 168,
   "source": [
    "#Remove columns not needed for barchart\r\n",
    "df = df_raw[[Root, L1, L2, Value, Cat_Level]]\r\n",
    "\r\n",
    "# convert cells in column \"Value\" to numeric values\r\n",
    "df[Value] = pd.to_numeric(df[Value], errors='coerce')\r\n",
    "\r\n",
    "# Remove rows with all NaN values\r\n",
    "df = df.dropna(how='all')\r\n",
    "\r\n",
    "# Filter out rows where \"Level\" is 0\r\n",
    "df = df[df[Cat_Level] != 0]\r\n",
    "\r\n",
    "# Filter out rows with NaN or blank values in the \"Value\" column\r\n",
    "df = df[(df[Value].notna()) & (df[Value] != '')]\r\n",
    "\r\n",
    "# multiply the dataframe by 1 million to return to nominal units (from Million to 0)\r\n",
    "df[Value] = df[Value].mul(1000000)\r\n",
    "\r\n",
    " #convert the float columns to integers\r\n",
    "df[Value] = df[Value].astype(int)\r\n",
    "\r\n",
    "## Replace NaN with None for plotly sunburst chart\r\n",
    "df = df.where(pd.notna(df), \"\")\r\n",
    "\r\n",
    "# Remove \"-\" and whitespace\r\n",
    "df[L1] = df[L1].str.replace(r\"\\s*-\\s*\", \"\").str.strip().astype(str)\r\n",
    "df[L2] = df[L2].str.replace(r\"\\s*-\\s*\", \"\").str.strip().astype(str)\r\n",
    "\r\n",
    "# Splice a new df\r\n",
    "df = df.copy()\r\n",
    "\r\n",
    "print(df.head())"
   ],
   "outputs": [
    {
     "output_type": "stream",
     "name": "stdout",
     "text": [
      "          Root Level   Level 1   Level 2     Value  Level\n",
      "43               NPC  Payments  Payments   1770000    1.0\n",
      "49              Mail  Payments  Payments  11200000    1.0\n",
      "58  Other Electronic  Payments  Payments  10393000    1.0\n",
      "59  Other Electronic  Payments  Payments   2735000    1.0\n",
      "60  Other Electronic  Payments  Payments    637000    1.0\n"
     ]
    },
    {
     "output_type": "stream",
     "name": "stderr",
     "text": [
      "C:\\Users\\DIM6\\AppData\\Local\\Temp\\1\\ipykernel_10492\\2265567015.py:5: SettingWithCopyWarning:\n",
      "\n",
      "\n",
      "A value is trying to be set on a copy of a slice from a DataFrame.\n",
      "Try using .loc[row_indexer,col_indexer] = value instead\n",
      "\n",
      "See the caveats in the documentation: https://pandas.pydata.org/pandas-docs/stable/user_guide/indexing.html#returning-a-view-versus-a-copy\n",
      "\n",
      "C:\\Users\\DIM6\\AppData\\Local\\Temp\\1\\ipykernel_10492\\2265567015.py:26: FutureWarning:\n",
      "\n",
      "The default value of regex will change from True to False in a future version.\n",
      "\n",
      "C:\\Users\\DIM6\\AppData\\Local\\Temp\\1\\ipykernel_10492\\2265567015.py:27: FutureWarning:\n",
      "\n",
      "The default value of regex will change from True to False in a future version.\n",
      "\n"
     ]
    }
   ],
   "metadata": {}
  },
  {
   "cell_type": "code",
   "execution_count": 169,
   "source": [
    "# Convert dataframe to a hierarchical dictionary\r\n",
    "def make_hierarchy_dict(df, path=[], value_col=Value, threshold=10):\r\n",
    "    if len(path) == df.columns.nlevels - 1:\r\n",
    "        total = int(df[value_col].sum())\r\n",
    "        if total < threshold:\r\n",
    "            return None\r\n",
    "        else:\r\n",
    "            return total\r\n",
    "    else:\r\n",
    "        level = df.columns[len(path)]\r\n",
    "        subdict = {}\r\n",
    "        for key in df[level].dropna().unique():\r\n",
    "            subdf = df[df[level] == key].drop(columns=[level])\r\n",
    "            subhierarchy_dict = make_hierarchy_dict(subdf, path + [key], value_col, threshold)\r\n",
    "            if subhierarchy_dict is not None:\r\n",
    "                subdict[key] = subhierarchy_dict\r\n",
    "        if len(subdict) == 0:\r\n",
    "            return None\r\n",
    "        else:\r\n",
    "            return subdict\r\n",
    "\r\n",
    "hierarchy_dict = make_hierarchy_dict(df.set_index(list(df.columns[:3])), value_col=Value, threshold=10)\r\n",
    "\r\n",
    "print(hierarchy_dict)"
   ],
   "outputs": [
    {
     "output_type": "stream",
     "name": "stdout",
     "text": [
      "110216274\n"
     ]
    }
   ],
   "metadata": {}
  },
  {
   "cell_type": "code",
   "execution_count": 170,
   "source": [
    "# Convert hierarchical dictionary to Plotly-compatible JSON\r\n",
    "def make_plotly_sunburst(hierarchy_dict, name=\"\"):\r\n",
    "    if isinstance(hierarchy_dict, dict):\r\n",
    "        children = []\r\n",
    "        for key, value in hierarchy_dict.items():\r\n",
    "            children.append(make_plotly_sunburst(value, key))\r\n",
    "        return {\r\n",
    "            \"name\": name,\r\n",
    "            \"children\": children\r\n",
    "        }\r\n",
    "    else:\r\n",
    "        return {\r\n",
    "            \"label\": name,\r\n",
    "            \"value\": hierarchy_dict\r\n",
    "        }"
   ],
   "outputs": [],
   "metadata": {}
  },
  {
   "cell_type": "code",
   "execution_count": 171,
   "source": [
    "# Write JSON data to a file\r\n",
    "plotly_data = make_plotly_sunburst(hierarchy_dict)\r\n",
    "\r\n",
    "with open(\"plotly_data.json\", \"w\") as f:\r\n",
    "    json.dump(plotly_data, f)\r\n",
    "\r\n",
    "    print(plotly_data)"
   ],
   "outputs": [
    {
     "output_type": "stream",
     "name": "stdout",
     "text": [
      "{'label': '', 'value': 110216274}\n"
     ]
    }
   ],
   "metadata": {}
  },
  {
   "cell_type": "code",
   "execution_count": 172,
   "source": [
    "# Write dataframe to an Excel file for QC\r\n",
    "with pd.ExcelWriter('dataframe-bargraph-tmp.xlsx') as writer:\r\n",
    "    df.to_excel(writer, sheet_name='dataframe-bargraph', index=False)"
   ],
   "outputs": [],
   "metadata": {}
  },
  {
   "cell_type": "markdown",
   "source": [
    "Load"
   ],
   "metadata": {}
  },
  {
   "cell_type": "code",
   "execution_count": 173,
   "source": [
    "#Group the data by Root Level and sum the values\r\n",
    "grouped_data = df.groupby([Root])[Value].sum().reset_index()\r\n",
    "\r\n",
    "# Sort the grouped_data by Value column in descending order\r\n",
    "grouped_data = grouped_data.sort_values(by=Value, ascending=False)\r\n",
    "\r\n",
    "# Create a dictionary to map the Root Level to its corresponding color\r\n",
    "color_map = {'Web': 'orange', 'Other Electronic': 'gray', 'Mail': 'burlywood', 'Call Center IVR': 'deepskyblue','Call Center Other':'lightblue', \\\r\n",
    "              'Call Center - Live Agent':'Turquoise', 'NPC': 'gold'}\r\n",
    "\r\n",
    "# Create the bar chart trace\r\n",
    "bar_trace = go.Bar(\r\n",
    "    x=grouped_data[Root],\r\n",
    "    y=grouped_data[Value],\r\n",
    "    marker=dict(color=[color_map.get(root_level, 'grey') for root_level in grouped_data[Root]]),\r\n",
    "    text=[f\"{value:,}\" for value in grouped_data[Value]],\r\n",
    "    textposition='auto'\r\n",
    ")\r\n",
    "\r\n",
    "# Create the bar chart layout\r\n",
    "bar_layout = go.Layout(\r\n",
    "    title='Total Customer Interactions by Transaction Channel',\r\n",
    "    xaxis=dict(title='Channel'),\r\n",
    "    yaxis=dict(title='Total Interactions'),\r\n",
    "    legend=dict(title=dict(text='Transaction Channels'))\r\n",
    ")\r\n",
    "\r\n",
    "# Create the bar chart figure\r\n",
    "bar_fig_root = go.Figure(data=[bar_trace], layout=bar_layout)\r\n",
    "\r\n",
    "# Display the bar chart\r\n",
    "bar_fig_root.show()\r\n"
   ],
   "outputs": [
    {
     "output_type": "display_data",
     "data": {
      "application/vnd.plotly.v1+json": {
       "data": [
        {
         "marker": {
          "color": [
           "orange",
           "gray",
           "burlywood",
           "Turquoise",
           "deepskyblue",
           "lightblue",
           "gold"
          ]
         },
         "text": [
          "62,596,926",
          "14,596,348",
          "11,200,000",
          "9,407,000",
          "7,987,000",
          "2,659,000",
          "1,770,000"
         ],
         "textposition": "auto",
         "x": [
          "Web",
          "Other Electronic",
          "Mail",
          "Call Center - Live Agent",
          "Call Center IVR",
          "Call Center Other",
          "NPC"
         ],
         "y": [
          62596926,
          14596348,
          11200000,
          9407000,
          7987000,
          2659000,
          1770000
         ],
         "type": "bar"
        }
       ],
       "layout": {
        "legend": {
         "title": {
          "text": "Transaction Channels"
         }
        },
        "title": {
         "text": "Total Customer Interactions by Transaction Channel"
        },
        "xaxis": {
         "title": {
          "text": "Channel"
         }
        },
        "yaxis": {
         "title": {
          "text": "Total Interactions"
         }
        },
        "template": {
         "data": {
          "histogram2dcontour": [
           {
            "type": "histogram2dcontour",
            "colorbar": {
             "outlinewidth": 0,
             "ticks": ""
            },
            "colorscale": [
             [
              0,
              "#0d0887"
             ],
             [
              0.1111111111111111,
              "#46039f"
             ],
             [
              0.2222222222222222,
              "#7201a8"
             ],
             [
              0.3333333333333333,
              "#9c179e"
             ],
             [
              0.4444444444444444,
              "#bd3786"
             ],
             [
              0.5555555555555556,
              "#d8576b"
             ],
             [
              0.6666666666666666,
              "#ed7953"
             ],
             [
              0.7777777777777778,
              "#fb9f3a"
             ],
             [
              0.8888888888888888,
              "#fdca26"
             ],
             [
              1,
              "#f0f921"
             ]
            ]
           }
          ],
          "choropleth": [
           {
            "type": "choropleth",
            "colorbar": {
             "outlinewidth": 0,
             "ticks": ""
            }
           }
          ],
          "histogram2d": [
           {
            "type": "histogram2d",
            "colorbar": {
             "outlinewidth": 0,
             "ticks": ""
            },
            "colorscale": [
             [
              0,
              "#0d0887"
             ],
             [
              0.1111111111111111,
              "#46039f"
             ],
             [
              0.2222222222222222,
              "#7201a8"
             ],
             [
              0.3333333333333333,
              "#9c179e"
             ],
             [
              0.4444444444444444,
              "#bd3786"
             ],
             [
              0.5555555555555556,
              "#d8576b"
             ],
             [
              0.6666666666666666,
              "#ed7953"
             ],
             [
              0.7777777777777778,
              "#fb9f3a"
             ],
             [
              0.8888888888888888,
              "#fdca26"
             ],
             [
              1,
              "#f0f921"
             ]
            ]
           }
          ],
          "heatmap": [
           {
            "type": "heatmap",
            "colorbar": {
             "outlinewidth": 0,
             "ticks": ""
            },
            "colorscale": [
             [
              0,
              "#0d0887"
             ],
             [
              0.1111111111111111,
              "#46039f"
             ],
             [
              0.2222222222222222,
              "#7201a8"
             ],
             [
              0.3333333333333333,
              "#9c179e"
             ],
             [
              0.4444444444444444,
              "#bd3786"
             ],
             [
              0.5555555555555556,
              "#d8576b"
             ],
             [
              0.6666666666666666,
              "#ed7953"
             ],
             [
              0.7777777777777778,
              "#fb9f3a"
             ],
             [
              0.8888888888888888,
              "#fdca26"
             ],
             [
              1,
              "#f0f921"
             ]
            ]
           }
          ],
          "heatmapgl": [
           {
            "type": "heatmapgl",
            "colorbar": {
             "outlinewidth": 0,
             "ticks": ""
            },
            "colorscale": [
             [
              0,
              "#0d0887"
             ],
             [
              0.1111111111111111,
              "#46039f"
             ],
             [
              0.2222222222222222,
              "#7201a8"
             ],
             [
              0.3333333333333333,
              "#9c179e"
             ],
             [
              0.4444444444444444,
              "#bd3786"
             ],
             [
              0.5555555555555556,
              "#d8576b"
             ],
             [
              0.6666666666666666,
              "#ed7953"
             ],
             [
              0.7777777777777778,
              "#fb9f3a"
             ],
             [
              0.8888888888888888,
              "#fdca26"
             ],
             [
              1,
              "#f0f921"
             ]
            ]
           }
          ],
          "contourcarpet": [
           {
            "type": "contourcarpet",
            "colorbar": {
             "outlinewidth": 0,
             "ticks": ""
            }
           }
          ],
          "contour": [
           {
            "type": "contour",
            "colorbar": {
             "outlinewidth": 0,
             "ticks": ""
            },
            "colorscale": [
             [
              0,
              "#0d0887"
             ],
             [
              0.1111111111111111,
              "#46039f"
             ],
             [
              0.2222222222222222,
              "#7201a8"
             ],
             [
              0.3333333333333333,
              "#9c179e"
             ],
             [
              0.4444444444444444,
              "#bd3786"
             ],
             [
              0.5555555555555556,
              "#d8576b"
             ],
             [
              0.6666666666666666,
              "#ed7953"
             ],
             [
              0.7777777777777778,
              "#fb9f3a"
             ],
             [
              0.8888888888888888,
              "#fdca26"
             ],
             [
              1,
              "#f0f921"
             ]
            ]
           }
          ],
          "surface": [
           {
            "type": "surface",
            "colorbar": {
             "outlinewidth": 0,
             "ticks": ""
            },
            "colorscale": [
             [
              0,
              "#0d0887"
             ],
             [
              0.1111111111111111,
              "#46039f"
             ],
             [
              0.2222222222222222,
              "#7201a8"
             ],
             [
              0.3333333333333333,
              "#9c179e"
             ],
             [
              0.4444444444444444,
              "#bd3786"
             ],
             [
              0.5555555555555556,
              "#d8576b"
             ],
             [
              0.6666666666666666,
              "#ed7953"
             ],
             [
              0.7777777777777778,
              "#fb9f3a"
             ],
             [
              0.8888888888888888,
              "#fdca26"
             ],
             [
              1,
              "#f0f921"
             ]
            ]
           }
          ],
          "mesh3d": [
           {
            "type": "mesh3d",
            "colorbar": {
             "outlinewidth": 0,
             "ticks": ""
            }
           }
          ],
          "scatter": [
           {
            "fillpattern": {
             "fillmode": "overlay",
             "size": 10,
             "solidity": 0.2
            },
            "type": "scatter"
           }
          ],
          "parcoords": [
           {
            "type": "parcoords",
            "line": {
             "colorbar": {
              "outlinewidth": 0,
              "ticks": ""
             }
            }
           }
          ],
          "scatterpolargl": [
           {
            "type": "scatterpolargl",
            "marker": {
             "colorbar": {
              "outlinewidth": 0,
              "ticks": ""
             }
            }
           }
          ],
          "bar": [
           {
            "error_x": {
             "color": "#2a3f5f"
            },
            "error_y": {
             "color": "#2a3f5f"
            },
            "marker": {
             "line": {
              "color": "#E5ECF6",
              "width": 0.5
             },
             "pattern": {
              "fillmode": "overlay",
              "size": 10,
              "solidity": 0.2
             }
            },
            "type": "bar"
           }
          ],
          "scattergeo": [
           {
            "type": "scattergeo",
            "marker": {
             "colorbar": {
              "outlinewidth": 0,
              "ticks": ""
             }
            }
           }
          ],
          "scatterpolar": [
           {
            "type": "scatterpolar",
            "marker": {
             "colorbar": {
              "outlinewidth": 0,
              "ticks": ""
             }
            }
           }
          ],
          "histogram": [
           {
            "marker": {
             "pattern": {
              "fillmode": "overlay",
              "size": 10,
              "solidity": 0.2
             }
            },
            "type": "histogram"
           }
          ],
          "scattergl": [
           {
            "type": "scattergl",
            "marker": {
             "colorbar": {
              "outlinewidth": 0,
              "ticks": ""
             }
            }
           }
          ],
          "scatter3d": [
           {
            "type": "scatter3d",
            "line": {
             "colorbar": {
              "outlinewidth": 0,
              "ticks": ""
             }
            },
            "marker": {
             "colorbar": {
              "outlinewidth": 0,
              "ticks": ""
             }
            }
           }
          ],
          "scattermapbox": [
           {
            "type": "scattermapbox",
            "marker": {
             "colorbar": {
              "outlinewidth": 0,
              "ticks": ""
             }
            }
           }
          ],
          "scatterternary": [
           {
            "type": "scatterternary",
            "marker": {
             "colorbar": {
              "outlinewidth": 0,
              "ticks": ""
             }
            }
           }
          ],
          "scattercarpet": [
           {
            "type": "scattercarpet",
            "marker": {
             "colorbar": {
              "outlinewidth": 0,
              "ticks": ""
             }
            }
           }
          ],
          "carpet": [
           {
            "aaxis": {
             "endlinecolor": "#2a3f5f",
             "gridcolor": "white",
             "linecolor": "white",
             "minorgridcolor": "white",
             "startlinecolor": "#2a3f5f"
            },
            "baxis": {
             "endlinecolor": "#2a3f5f",
             "gridcolor": "white",
             "linecolor": "white",
             "minorgridcolor": "white",
             "startlinecolor": "#2a3f5f"
            },
            "type": "carpet"
           }
          ],
          "table": [
           {
            "cells": {
             "fill": {
              "color": "#EBF0F8"
             },
             "line": {
              "color": "white"
             }
            },
            "header": {
             "fill": {
              "color": "#C8D4E3"
             },
             "line": {
              "color": "white"
             }
            },
            "type": "table"
           }
          ],
          "barpolar": [
           {
            "marker": {
             "line": {
              "color": "#E5ECF6",
              "width": 0.5
             },
             "pattern": {
              "fillmode": "overlay",
              "size": 10,
              "solidity": 0.2
             }
            },
            "type": "barpolar"
           }
          ],
          "pie": [
           {
            "automargin": true,
            "type": "pie"
           }
          ]
         },
         "layout": {
          "autotypenumbers": "strict",
          "colorway": [
           "#636efa",
           "#EF553B",
           "#00cc96",
           "#ab63fa",
           "#FFA15A",
           "#19d3f3",
           "#FF6692",
           "#B6E880",
           "#FF97FF",
           "#FECB52"
          ],
          "font": {
           "color": "#2a3f5f"
          },
          "hovermode": "closest",
          "hoverlabel": {
           "align": "left"
          },
          "paper_bgcolor": "white",
          "plot_bgcolor": "#E5ECF6",
          "polar": {
           "bgcolor": "#E5ECF6",
           "angularaxis": {
            "gridcolor": "white",
            "linecolor": "white",
            "ticks": ""
           },
           "radialaxis": {
            "gridcolor": "white",
            "linecolor": "white",
            "ticks": ""
           }
          },
          "ternary": {
           "bgcolor": "#E5ECF6",
           "aaxis": {
            "gridcolor": "white",
            "linecolor": "white",
            "ticks": ""
           },
           "baxis": {
            "gridcolor": "white",
            "linecolor": "white",
            "ticks": ""
           },
           "caxis": {
            "gridcolor": "white",
            "linecolor": "white",
            "ticks": ""
           }
          },
          "coloraxis": {
           "colorbar": {
            "outlinewidth": 0,
            "ticks": ""
           }
          },
          "colorscale": {
           "sequential": [
            [
             0,
             "#0d0887"
            ],
            [
             0.1111111111111111,
             "#46039f"
            ],
            [
             0.2222222222222222,
             "#7201a8"
            ],
            [
             0.3333333333333333,
             "#9c179e"
            ],
            [
             0.4444444444444444,
             "#bd3786"
            ],
            [
             0.5555555555555556,
             "#d8576b"
            ],
            [
             0.6666666666666666,
             "#ed7953"
            ],
            [
             0.7777777777777778,
             "#fb9f3a"
            ],
            [
             0.8888888888888888,
             "#fdca26"
            ],
            [
             1,
             "#f0f921"
            ]
           ],
           "sequentialminus": [
            [
             0,
             "#0d0887"
            ],
            [
             0.1111111111111111,
             "#46039f"
            ],
            [
             0.2222222222222222,
             "#7201a8"
            ],
            [
             0.3333333333333333,
             "#9c179e"
            ],
            [
             0.4444444444444444,
             "#bd3786"
            ],
            [
             0.5555555555555556,
             "#d8576b"
            ],
            [
             0.6666666666666666,
             "#ed7953"
            ],
            [
             0.7777777777777778,
             "#fb9f3a"
            ],
            [
             0.8888888888888888,
             "#fdca26"
            ],
            [
             1,
             "#f0f921"
            ]
           ],
           "diverging": [
            [
             0,
             "#8e0152"
            ],
            [
             0.1,
             "#c51b7d"
            ],
            [
             0.2,
             "#de77ae"
            ],
            [
             0.3,
             "#f1b6da"
            ],
            [
             0.4,
             "#fde0ef"
            ],
            [
             0.5,
             "#f7f7f7"
            ],
            [
             0.6,
             "#e6f5d0"
            ],
            [
             0.7,
             "#b8e186"
            ],
            [
             0.8,
             "#7fbc41"
            ],
            [
             0.9,
             "#4d9221"
            ],
            [
             1,
             "#276419"
            ]
           ]
          },
          "xaxis": {
           "gridcolor": "white",
           "linecolor": "white",
           "ticks": "",
           "title": {
            "standoff": 15
           },
           "zerolinecolor": "white",
           "automargin": true,
           "zerolinewidth": 2
          },
          "yaxis": {
           "gridcolor": "white",
           "linecolor": "white",
           "ticks": "",
           "title": {
            "standoff": 15
           },
           "zerolinecolor": "white",
           "automargin": true,
           "zerolinewidth": 2
          },
          "scene": {
           "xaxis": {
            "backgroundcolor": "#E5ECF6",
            "gridcolor": "white",
            "linecolor": "white",
            "showbackground": true,
            "ticks": "",
            "zerolinecolor": "white",
            "gridwidth": 2
           },
           "yaxis": {
            "backgroundcolor": "#E5ECF6",
            "gridcolor": "white",
            "linecolor": "white",
            "showbackground": true,
            "ticks": "",
            "zerolinecolor": "white",
            "gridwidth": 2
           },
           "zaxis": {
            "backgroundcolor": "#E5ECF6",
            "gridcolor": "white",
            "linecolor": "white",
            "showbackground": true,
            "ticks": "",
            "zerolinecolor": "white",
            "gridwidth": 2
           }
          },
          "shapedefaults": {
           "line": {
            "color": "#2a3f5f"
           }
          },
          "annotationdefaults": {
           "arrowcolor": "#2a3f5f",
           "arrowhead": 0,
           "arrowwidth": 1
          },
          "geo": {
           "bgcolor": "white",
           "landcolor": "#E5ECF6",
           "subunitcolor": "white",
           "showland": true,
           "showlakes": true,
           "lakecolor": "white"
          },
          "title": {
           "x": 0.05
          },
          "mapbox": {
           "style": "light"
          }
         }
        }
       },
       "config": {
        "plotlyServerURL": "https://plot.ly"
       }
      }
     },
     "metadata": {}
    }
   ],
   "metadata": {}
  },
  {
   "cell_type": "code",
   "execution_count": 174,
   "source": [
    "# Export the chart as an HTML file\r\n",
    "html = \".html\"\r\n",
    "rootbarchart = 'Trxn_root_barchart'\r\n",
    "pyo.plot(bar_fig_root, filename=(rootbarchart + html), auto_open=True)\r\n",
    "\r\n",
    "# Generate the chart as an ASPX file\r\n",
    "aspx = '.aspx'\r\n",
    "pio.write_html(bar_fig_root, file=(rootbarchart + aspx), auto_open=False)"
   ],
   "outputs": [],
   "metadata": {}
  },
  {
   "cell_type": "code",
   "execution_count": 175,
   "source": [
    "# Set the locale to use comma separators for thousands\r\n",
    "locale.setlocale(locale.LC_ALL, '')\r\n",
    "\r\n",
    "# Group the data by Root Level and Level 1 and sum the values\r\n",
    "grouped_data = df.groupby([Root, L1])[Value].sum().reset_index()\r\n",
    "\r\n",
    "# Sort the grouped_data by Value column in descending order\r\n",
    "grouped_data = grouped_data.sort_values(by=Value, ascending=False)\r\n",
    "\r\n",
    "# Create a dictionary to map the Root Level to its corresponding color\r\n",
    "color_map = {'Web': 'orange', 'Other Electronic': 'gray', 'Mail': 'burlywood', 'Call Center - Live Agent': 'turquoise', 'Call Center IVR': 'deepskyblue', 'Call Center Other':'lightblue', 'NPC': 'gold'}\r\n",
    "\r\n",
    "\r\n",
    "# Create a list to store the bar chart traces\r\n",
    "bar_traces = []\r\n",
    "\r\n",
    "# Loop through each Root Level and create a stacked bar chart trace for its corresponding Level 1 data\r\n",
    "for root_level in grouped_data[Root].unique():\r\n",
    "    temp_df = grouped_data[grouped_data[Root] == root_level]\r\n",
    "    values = temp_df[Value].values\r\n",
    "    formatted_values = [locale.format_string(\"%d\", val, grouping=True) for val in values] # Format values with comma separators\r\n",
    "    bar_trace = go.Bar(\r\n",
    "        x=temp_df[L1],\r\n",
    "        y=values,\r\n",
    "        text=formatted_values, # Set the formatted values as the text labels\r\n",
    "        textposition='auto', # Position the text labels automatically above the bars\r\n",
    "        name=root_level,\r\n",
    "        marker=dict(color=color_map[root_level])\r\n",
    "    )\r\n",
    "    bar_traces.append(bar_trace)\r\n",
    "\r\n",
    "# Create the stacked bar chart layout\r\n",
    "bar_layout = go.Layout(\r\n",
    "    title='Total Customer Interactions by Service',\r\n",
    "    xaxis=dict(title='Service'),\r\n",
    "    yaxis=dict(title='Total Interactions'),\r\n",
    "    barmode='stack',\r\n",
    "    height=900,\r\n",
    "    legend=dict(title=dict(text='Transaction Channels'))\r\n",
    ")\r\n",
    "\r\n",
    "# Create the stacked bar chart figure\r\n",
    "bar_fig_root_L1 = go.Figure(data=bar_traces, layout=bar_layout)\r\n",
    "\r\n",
    "# Display the stacked bar chart\r\n",
    "bar_fig_root_L1.show()\r\n"
   ],
   "outputs": [
    {
     "output_type": "display_data",
     "data": {
      "application/vnd.plotly.v1+json": {
       "data": [
        {
         "marker": {
          "color": "orange"
         },
         "name": "Web",
         "text": [
          "27,950,047",
          "18,353,470",
          "6,742,749",
          "5,146,001",
          "1,310,914",
          "923,619",
          "630,145",
          "541,515",
          "381,154",
          "300,009",
          "278,569",
          "22,042",
          "16,692"
         ],
         "textposition": "auto",
         "x": [
          "Payments",
          "Billing",
          "Usage and Rates",
          "Outage",
          "Other Interactions",
          "Payment Account NEW",
          "Alerts & Notifications",
          "Start/Stop/ Transfer",
          "Account Mgmt",
          "Pay Plans",
          "CARE/FERA",
          "Pilot Light Appointments",
          "Budget Billing (Login)"
         ],
         "y": [
          27950047,
          18353470,
          6742749,
          5146001,
          1310914,
          923619,
          630145,
          541515,
          381154,
          300009,
          278569,
          22042,
          16692
         ],
         "type": "bar"
        },
        {
         "marker": {
          "color": "gray"
         },
         "name": "Other Electronic",
         "text": [
          "14,596,348"
         ],
         "textposition": "auto",
         "x": [
          "Payments"
         ],
         "y": [
          14596348
         ],
         "type": "bar"
        },
        {
         "marker": {
          "color": "burlywood"
         },
         "name": "Mail",
         "text": [
          "11,200,000"
         ],
         "textposition": "auto",
         "x": [
          "Payments"
         ],
         "y": [
          11200000
         ],
         "type": "bar"
        },
        {
         "marker": {
          "color": "deepskyblue"
         },
         "name": "Call Center IVR",
         "text": [
          "4,474,000",
          "1,241,000",
          "843,000",
          "678,000",
          "337,000",
          "209,000",
          "205,000"
         ],
         "textposition": "auto",
         "x": [
          "Payments",
          "Billing",
          "Outage",
          "Other Transactions",
          "Start/Stop/ Transfer",
          "Pay Plans",
          "Account Balance"
         ],
         "y": [
          4474000,
          1241000,
          843000,
          678000,
          337000,
          209000,
          205000
         ],
         "type": "bar"
        },
        {
         "marker": {
          "color": "turquoise"
         },
         "name": "Call Center - Live Agent",
         "text": [
          "3,918,000",
          "1,341,000",
          "691,000",
          "678,000",
          "479,000",
          "466,000",
          "449,000",
          "267,000",
          "256,000",
          "246,000",
          "220,000",
          "137,000",
          "136,000",
          "123,000"
         ],
         "textposition": "auto",
         "x": [
          "Transferred calls",
          "General",
          "Billing Balance",
          "Start/Stop/ Transfer",
          "Solar",
          "BCSC (Business Customer Service Center)",
          "Emergency",
          "Abandoned Calls",
          "Spanish (General)",
          "Outage",
          "Specialty Lines",
          "Payments",
          "Other Transactions",
          "Pay Plans"
         ],
         "y": [
          3918000,
          1341000,
          691000,
          678000,
          479000,
          466000,
          449000,
          267000,
          256000,
          246000,
          220000,
          137000,
          136000,
          123000
         ],
         "type": "bar"
        },
        {
         "marker": {
          "color": "lightblue"
         },
         "name": "Call Center Other",
         "text": [
          "2,630,000",
          "29,000"
         ],
         "textposition": "auto",
         "x": [
          "ICM Technology Handled",
          "NonIVR Technology"
         ],
         "y": [
          2630000,
          29000
         ],
         "type": "bar"
        },
        {
         "marker": {
          "color": "gold"
         },
         "name": "NPC",
         "text": [
          "1,770,000"
         ],
         "textposition": "auto",
         "x": [
          "Payments"
         ],
         "y": [
          1770000
         ],
         "type": "bar"
        }
       ],
       "layout": {
        "barmode": "stack",
        "height": 900,
        "legend": {
         "title": {
          "text": "Transaction Channels"
         }
        },
        "title": {
         "text": "Total Customer Interactions by Service"
        },
        "xaxis": {
         "title": {
          "text": "Service"
         }
        },
        "yaxis": {
         "title": {
          "text": "Total Interactions"
         }
        },
        "template": {
         "data": {
          "histogram2dcontour": [
           {
            "type": "histogram2dcontour",
            "colorbar": {
             "outlinewidth": 0,
             "ticks": ""
            },
            "colorscale": [
             [
              0,
              "#0d0887"
             ],
             [
              0.1111111111111111,
              "#46039f"
             ],
             [
              0.2222222222222222,
              "#7201a8"
             ],
             [
              0.3333333333333333,
              "#9c179e"
             ],
             [
              0.4444444444444444,
              "#bd3786"
             ],
             [
              0.5555555555555556,
              "#d8576b"
             ],
             [
              0.6666666666666666,
              "#ed7953"
             ],
             [
              0.7777777777777778,
              "#fb9f3a"
             ],
             [
              0.8888888888888888,
              "#fdca26"
             ],
             [
              1,
              "#f0f921"
             ]
            ]
           }
          ],
          "choropleth": [
           {
            "type": "choropleth",
            "colorbar": {
             "outlinewidth": 0,
             "ticks": ""
            }
           }
          ],
          "histogram2d": [
           {
            "type": "histogram2d",
            "colorbar": {
             "outlinewidth": 0,
             "ticks": ""
            },
            "colorscale": [
             [
              0,
              "#0d0887"
             ],
             [
              0.1111111111111111,
              "#46039f"
             ],
             [
              0.2222222222222222,
              "#7201a8"
             ],
             [
              0.3333333333333333,
              "#9c179e"
             ],
             [
              0.4444444444444444,
              "#bd3786"
             ],
             [
              0.5555555555555556,
              "#d8576b"
             ],
             [
              0.6666666666666666,
              "#ed7953"
             ],
             [
              0.7777777777777778,
              "#fb9f3a"
             ],
             [
              0.8888888888888888,
              "#fdca26"
             ],
             [
              1,
              "#f0f921"
             ]
            ]
           }
          ],
          "heatmap": [
           {
            "type": "heatmap",
            "colorbar": {
             "outlinewidth": 0,
             "ticks": ""
            },
            "colorscale": [
             [
              0,
              "#0d0887"
             ],
             [
              0.1111111111111111,
              "#46039f"
             ],
             [
              0.2222222222222222,
              "#7201a8"
             ],
             [
              0.3333333333333333,
              "#9c179e"
             ],
             [
              0.4444444444444444,
              "#bd3786"
             ],
             [
              0.5555555555555556,
              "#d8576b"
             ],
             [
              0.6666666666666666,
              "#ed7953"
             ],
             [
              0.7777777777777778,
              "#fb9f3a"
             ],
             [
              0.8888888888888888,
              "#fdca26"
             ],
             [
              1,
              "#f0f921"
             ]
            ]
           }
          ],
          "heatmapgl": [
           {
            "type": "heatmapgl",
            "colorbar": {
             "outlinewidth": 0,
             "ticks": ""
            },
            "colorscale": [
             [
              0,
              "#0d0887"
             ],
             [
              0.1111111111111111,
              "#46039f"
             ],
             [
              0.2222222222222222,
              "#7201a8"
             ],
             [
              0.3333333333333333,
              "#9c179e"
             ],
             [
              0.4444444444444444,
              "#bd3786"
             ],
             [
              0.5555555555555556,
              "#d8576b"
             ],
             [
              0.6666666666666666,
              "#ed7953"
             ],
             [
              0.7777777777777778,
              "#fb9f3a"
             ],
             [
              0.8888888888888888,
              "#fdca26"
             ],
             [
              1,
              "#f0f921"
             ]
            ]
           }
          ],
          "contourcarpet": [
           {
            "type": "contourcarpet",
            "colorbar": {
             "outlinewidth": 0,
             "ticks": ""
            }
           }
          ],
          "contour": [
           {
            "type": "contour",
            "colorbar": {
             "outlinewidth": 0,
             "ticks": ""
            },
            "colorscale": [
             [
              0,
              "#0d0887"
             ],
             [
              0.1111111111111111,
              "#46039f"
             ],
             [
              0.2222222222222222,
              "#7201a8"
             ],
             [
              0.3333333333333333,
              "#9c179e"
             ],
             [
              0.4444444444444444,
              "#bd3786"
             ],
             [
              0.5555555555555556,
              "#d8576b"
             ],
             [
              0.6666666666666666,
              "#ed7953"
             ],
             [
              0.7777777777777778,
              "#fb9f3a"
             ],
             [
              0.8888888888888888,
              "#fdca26"
             ],
             [
              1,
              "#f0f921"
             ]
            ]
           }
          ],
          "surface": [
           {
            "type": "surface",
            "colorbar": {
             "outlinewidth": 0,
             "ticks": ""
            },
            "colorscale": [
             [
              0,
              "#0d0887"
             ],
             [
              0.1111111111111111,
              "#46039f"
             ],
             [
              0.2222222222222222,
              "#7201a8"
             ],
             [
              0.3333333333333333,
              "#9c179e"
             ],
             [
              0.4444444444444444,
              "#bd3786"
             ],
             [
              0.5555555555555556,
              "#d8576b"
             ],
             [
              0.6666666666666666,
              "#ed7953"
             ],
             [
              0.7777777777777778,
              "#fb9f3a"
             ],
             [
              0.8888888888888888,
              "#fdca26"
             ],
             [
              1,
              "#f0f921"
             ]
            ]
           }
          ],
          "mesh3d": [
           {
            "type": "mesh3d",
            "colorbar": {
             "outlinewidth": 0,
             "ticks": ""
            }
           }
          ],
          "scatter": [
           {
            "fillpattern": {
             "fillmode": "overlay",
             "size": 10,
             "solidity": 0.2
            },
            "type": "scatter"
           }
          ],
          "parcoords": [
           {
            "type": "parcoords",
            "line": {
             "colorbar": {
              "outlinewidth": 0,
              "ticks": ""
             }
            }
           }
          ],
          "scatterpolargl": [
           {
            "type": "scatterpolargl",
            "marker": {
             "colorbar": {
              "outlinewidth": 0,
              "ticks": ""
             }
            }
           }
          ],
          "bar": [
           {
            "error_x": {
             "color": "#2a3f5f"
            },
            "error_y": {
             "color": "#2a3f5f"
            },
            "marker": {
             "line": {
              "color": "#E5ECF6",
              "width": 0.5
             },
             "pattern": {
              "fillmode": "overlay",
              "size": 10,
              "solidity": 0.2
             }
            },
            "type": "bar"
           }
          ],
          "scattergeo": [
           {
            "type": "scattergeo",
            "marker": {
             "colorbar": {
              "outlinewidth": 0,
              "ticks": ""
             }
            }
           }
          ],
          "scatterpolar": [
           {
            "type": "scatterpolar",
            "marker": {
             "colorbar": {
              "outlinewidth": 0,
              "ticks": ""
             }
            }
           }
          ],
          "histogram": [
           {
            "marker": {
             "pattern": {
              "fillmode": "overlay",
              "size": 10,
              "solidity": 0.2
             }
            },
            "type": "histogram"
           }
          ],
          "scattergl": [
           {
            "type": "scattergl",
            "marker": {
             "colorbar": {
              "outlinewidth": 0,
              "ticks": ""
             }
            }
           }
          ],
          "scatter3d": [
           {
            "type": "scatter3d",
            "line": {
             "colorbar": {
              "outlinewidth": 0,
              "ticks": ""
             }
            },
            "marker": {
             "colorbar": {
              "outlinewidth": 0,
              "ticks": ""
             }
            }
           }
          ],
          "scattermapbox": [
           {
            "type": "scattermapbox",
            "marker": {
             "colorbar": {
              "outlinewidth": 0,
              "ticks": ""
             }
            }
           }
          ],
          "scatterternary": [
           {
            "type": "scatterternary",
            "marker": {
             "colorbar": {
              "outlinewidth": 0,
              "ticks": ""
             }
            }
           }
          ],
          "scattercarpet": [
           {
            "type": "scattercarpet",
            "marker": {
             "colorbar": {
              "outlinewidth": 0,
              "ticks": ""
             }
            }
           }
          ],
          "carpet": [
           {
            "aaxis": {
             "endlinecolor": "#2a3f5f",
             "gridcolor": "white",
             "linecolor": "white",
             "minorgridcolor": "white",
             "startlinecolor": "#2a3f5f"
            },
            "baxis": {
             "endlinecolor": "#2a3f5f",
             "gridcolor": "white",
             "linecolor": "white",
             "minorgridcolor": "white",
             "startlinecolor": "#2a3f5f"
            },
            "type": "carpet"
           }
          ],
          "table": [
           {
            "cells": {
             "fill": {
              "color": "#EBF0F8"
             },
             "line": {
              "color": "white"
             }
            },
            "header": {
             "fill": {
              "color": "#C8D4E3"
             },
             "line": {
              "color": "white"
             }
            },
            "type": "table"
           }
          ],
          "barpolar": [
           {
            "marker": {
             "line": {
              "color": "#E5ECF6",
              "width": 0.5
             },
             "pattern": {
              "fillmode": "overlay",
              "size": 10,
              "solidity": 0.2
             }
            },
            "type": "barpolar"
           }
          ],
          "pie": [
           {
            "automargin": true,
            "type": "pie"
           }
          ]
         },
         "layout": {
          "autotypenumbers": "strict",
          "colorway": [
           "#636efa",
           "#EF553B",
           "#00cc96",
           "#ab63fa",
           "#FFA15A",
           "#19d3f3",
           "#FF6692",
           "#B6E880",
           "#FF97FF",
           "#FECB52"
          ],
          "font": {
           "color": "#2a3f5f"
          },
          "hovermode": "closest",
          "hoverlabel": {
           "align": "left"
          },
          "paper_bgcolor": "white",
          "plot_bgcolor": "#E5ECF6",
          "polar": {
           "bgcolor": "#E5ECF6",
           "angularaxis": {
            "gridcolor": "white",
            "linecolor": "white",
            "ticks": ""
           },
           "radialaxis": {
            "gridcolor": "white",
            "linecolor": "white",
            "ticks": ""
           }
          },
          "ternary": {
           "bgcolor": "#E5ECF6",
           "aaxis": {
            "gridcolor": "white",
            "linecolor": "white",
            "ticks": ""
           },
           "baxis": {
            "gridcolor": "white",
            "linecolor": "white",
            "ticks": ""
           },
           "caxis": {
            "gridcolor": "white",
            "linecolor": "white",
            "ticks": ""
           }
          },
          "coloraxis": {
           "colorbar": {
            "outlinewidth": 0,
            "ticks": ""
           }
          },
          "colorscale": {
           "sequential": [
            [
             0,
             "#0d0887"
            ],
            [
             0.1111111111111111,
             "#46039f"
            ],
            [
             0.2222222222222222,
             "#7201a8"
            ],
            [
             0.3333333333333333,
             "#9c179e"
            ],
            [
             0.4444444444444444,
             "#bd3786"
            ],
            [
             0.5555555555555556,
             "#d8576b"
            ],
            [
             0.6666666666666666,
             "#ed7953"
            ],
            [
             0.7777777777777778,
             "#fb9f3a"
            ],
            [
             0.8888888888888888,
             "#fdca26"
            ],
            [
             1,
             "#f0f921"
            ]
           ],
           "sequentialminus": [
            [
             0,
             "#0d0887"
            ],
            [
             0.1111111111111111,
             "#46039f"
            ],
            [
             0.2222222222222222,
             "#7201a8"
            ],
            [
             0.3333333333333333,
             "#9c179e"
            ],
            [
             0.4444444444444444,
             "#bd3786"
            ],
            [
             0.5555555555555556,
             "#d8576b"
            ],
            [
             0.6666666666666666,
             "#ed7953"
            ],
            [
             0.7777777777777778,
             "#fb9f3a"
            ],
            [
             0.8888888888888888,
             "#fdca26"
            ],
            [
             1,
             "#f0f921"
            ]
           ],
           "diverging": [
            [
             0,
             "#8e0152"
            ],
            [
             0.1,
             "#c51b7d"
            ],
            [
             0.2,
             "#de77ae"
            ],
            [
             0.3,
             "#f1b6da"
            ],
            [
             0.4,
             "#fde0ef"
            ],
            [
             0.5,
             "#f7f7f7"
            ],
            [
             0.6,
             "#e6f5d0"
            ],
            [
             0.7,
             "#b8e186"
            ],
            [
             0.8,
             "#7fbc41"
            ],
            [
             0.9,
             "#4d9221"
            ],
            [
             1,
             "#276419"
            ]
           ]
          },
          "xaxis": {
           "gridcolor": "white",
           "linecolor": "white",
           "ticks": "",
           "title": {
            "standoff": 15
           },
           "zerolinecolor": "white",
           "automargin": true,
           "zerolinewidth": 2
          },
          "yaxis": {
           "gridcolor": "white",
           "linecolor": "white",
           "ticks": "",
           "title": {
            "standoff": 15
           },
           "zerolinecolor": "white",
           "automargin": true,
           "zerolinewidth": 2
          },
          "scene": {
           "xaxis": {
            "backgroundcolor": "#E5ECF6",
            "gridcolor": "white",
            "linecolor": "white",
            "showbackground": true,
            "ticks": "",
            "zerolinecolor": "white",
            "gridwidth": 2
           },
           "yaxis": {
            "backgroundcolor": "#E5ECF6",
            "gridcolor": "white",
            "linecolor": "white",
            "showbackground": true,
            "ticks": "",
            "zerolinecolor": "white",
            "gridwidth": 2
           },
           "zaxis": {
            "backgroundcolor": "#E5ECF6",
            "gridcolor": "white",
            "linecolor": "white",
            "showbackground": true,
            "ticks": "",
            "zerolinecolor": "white",
            "gridwidth": 2
           }
          },
          "shapedefaults": {
           "line": {
            "color": "#2a3f5f"
           }
          },
          "annotationdefaults": {
           "arrowcolor": "#2a3f5f",
           "arrowhead": 0,
           "arrowwidth": 1
          },
          "geo": {
           "bgcolor": "white",
           "landcolor": "#E5ECF6",
           "subunitcolor": "white",
           "showland": true,
           "showlakes": true,
           "lakecolor": "white"
          },
          "title": {
           "x": 0.05
          },
          "mapbox": {
           "style": "light"
          }
         }
        }
       },
       "config": {
        "plotlyServerURL": "https://plot.ly"
       }
      }
     },
     "metadata": {}
    }
   ],
   "metadata": {}
  },
  {
   "cell_type": "code",
   "execution_count": 176,
   "source": [
    "# Export the chart as an HTML file\r\n",
    "html = \".html\"\r\n",
    "rootbarchartL1 = 'Trxn_root_barchart_L1'\r\n",
    "\r\n",
    "pyo.plot(bar_fig_root_L1, filename=(rootbarchartL1 + html), auto_open=True)\r\n",
    "\r\n",
    "# Generate the chart as an ASPX file\r\n",
    "aspx = '.aspx'\r\n",
    "pio.write_html(bar_fig_root_L1, file=(rootbarchartL1 + aspx), auto_open=False)"
   ],
   "outputs": [],
   "metadata": {}
  },
  {
   "cell_type": "code",
   "execution_count": 177,
   "source": [
    "# Set the locale to use comma separators for thousands\r\n",
    "locale.setlocale(locale.LC_ALL, '')\r\n",
    "\r\n",
    "# Group the data by Root Level and Level 2 and sum the values\r\n",
    "grouped_data = df.groupby([Root, L2])[Value].sum().reset_index()\r\n",
    "\r\n",
    "# Sort the grouped_data by Value column in descending order\r\n",
    "grouped_data = grouped_data.sort_values(by=Value, ascending=False) # Sort by descending order\r\n",
    "\r\n",
    "# Create a dictionary to map the Root Level to its corresponding color\r\n",
    "color_map = {'Web': 'orange', 'Other Electronic': 'gray', 'Mail': 'burlywood',   'Call Center - Live Agent': 'turquoise', 'Call Center IVR': 'deepskyblue', 'Call Center Other':'lightblue', 'NPC': 'gold'}\r\n",
    "\r\n",
    "\r\n",
    "\r\n",
    "# Create a list to store the bar chart traces\r\n",
    "bar_traces = []\r\n",
    "\r\n",
    "# Loop through each Root Level and create a stacked bar chart trace for its corresponding Level 2 data\r\n",
    "for root_level in grouped_data[Root].unique():\r\n",
    "    temp_df = grouped_data[grouped_data[Root] == root_level]\r\n",
    "    values = temp_df[Value].values\r\n",
    "    formatted_values = [locale.format_string(\"%d\", val, grouping=True) for val in values] # Format values with comma separators\r\n",
    "    y_values = temp_df[L2].values\r\n",
    "    bar_trace = go.Bar(\r\n",
    "        y=y_values,\r\n",
    "        x=values,\r\n",
    "        text=formatted_values,\r\n",
    "        textposition='auto',\r\n",
    "        name=root_level,\r\n",
    "        orientation='h',\r\n",
    "        marker=dict(color=color_map[root_level])\r\n",
    "    )\r\n",
    "    bar_traces.append(bar_trace)\r\n",
    "\r\n",
    "# Create the stacked bar chart layout\r\n",
    "bar_layout = go.Layout(\r\n",
    "    title='Total Customer Interactions by Service - Breakdown',\r\n",
    "    xaxis=dict(title='Total Interactions'),\r\n",
    "    yaxis=dict(title='Service Detail (from lowest to highest)'),\r\n",
    "    barmode='stack',\r\n",
    "    height=1600,\r\n",
    "    legend=dict(title=dict(text='Transaction Channels'))\r\n",
    ")\r\n",
    "\r\n",
    "# Create the stacked bar chart figure\r\n",
    "bar_fig_L2 = go.Figure(data=bar_traces, layout=bar_layout)\r\n",
    "\r\n",
    "# Display the stacked bar chart\r\n",
    "bar_fig_L2.show()\r\n"
   ],
   "outputs": [
    {
     "output_type": "display_data",
     "data": {
      "application/vnd.plotly.v1+json": {
       "data": [
        {
         "marker": {
          "color": "orange"
         },
         "name": "Web",
         "orientation": "h",
         "text": [
          "24,316,220",
          "9,361,207",
          "8,992,263",
          "4,516,009",
          "3,633,827",
          "3,193,489",
          "2,735,761",
          "756,747",
          "663,126",
          "549,793",
          "538,774",
          "362,420",
          "310,259",
          "302,380",
          "282,883",
          "278,569",
          "244,317",
          "233,548",
          "220,049",
          "178,445",
          "159,607",
          "140,820",
          "137,600",
          "83,947",
          "80,199",
          "80,187",
          "79,960",
          "25,758",
          "18,987",
          "16,992",
          "16,692",
          "16,176",
          "16,104",
          "15,393",
          "12,242",
          "10,738",
          "8,686",
          "3,697",
          "1,907",
          "1,148"
         ],
         "textposition": "auto",
         "x": [
          24316220,
          9361207,
          8992263,
          4516009,
          3633827,
          3193489,
          2735761,
          756747,
          663126,
          549793,
          538774,
          362420,
          310259,
          302380,
          282883,
          278569,
          244317,
          233548,
          220049,
          178445,
          159607,
          140820,
          137600,
          83947,
          80199,
          80187,
          79960,
          25758,
          18987,
          16992,
          16692,
          16176,
          16104,
          15393,
          12242,
          10738,
          8686,
          3697,
          1907,
          1148
         ],
         "y": [
          "Payments > Your Account",
          "Billing > ViewBillCurrentPDF historical",
          "Billing > ViewBillCurrentPDF",
          "Outage > Search Outage By Address",
          "Payments > One Time Access",
          "Usage and Rates > View Usage",
          "Usage and Rates > Compare My Bills",
          "Other Interactions  > Recurring Payment Schedule",
          "Payment Account NEW > CREATE_PAYMENT_ACCOUNT",
          "Outage > Report Outage",
          "Other Interactions  > Registration",
          "Usage and Rates > Home Energy Checkup",
          "Usage and Rates > Rate Comparison",
          "Alerts & Notifications > Change Billing & Payment Alerts",
          "Start/Stop/ Transfer > Start",
          "CARE/FERA",
          "Payment Account NEW > DELETE_PAYMENT_ACCOUNT",
          "Alerts & Notifications > Energy Alerts",
          "Pay Plans > Installment Pay",
          "Start/Stop/ Transfer > Stop",
          "Account Mgmt > Change User Name, Password",
          "Usage and Rates > Online Rate Enrollment",
          "Account Mgmt > Add/Edit Phone Number",
          "Account Mgmt > Change Billing Address",
          "Outage > Subscribe Outage (EW Pages)",
          "Start/Stop/ Transfer > Transfer",
          "Pay Plans > Extension Pay",
          "Alerts & Notifications > Go Paperless Alerts NEW",
          "Pilot Light Appointments  > SCHEDULE_SERVICE_APPOINTMENT",
          "Alerts & Notifications > Pay Plan & Shutoff Nonpayment Alerts NEW",
          "Budget Billing (Login)",
          "Payment Account NEW > UPDATE_PAYMENT_ACCOUNT",
          "Alerts & Notifications > Event Day Alerts NEW",
          "Other Interactions  > Gas Pipeline Map Views",
          "Alerts & Notifications > Outages Alerts New",
          "Alerts & Notifications > Notices & Services Information NEW",
          "Alerts & Notifications > Additional Communication Alerts NEW",
          "Alerts & Notifications > Service Visit Alerts NEW",
          "Pilot Light Appointments  > CANCEL_SERVICE_APPOINTMENT",
          "Pilot Light Appointments  > RESCHEDULE_SERVICE_APPOINTMENT"
         ],
         "type": "bar"
        },
        {
         "marker": {
          "color": "gray"
         },
         "name": "Other Electronic",
         "orientation": "h",
         "text": [
          "14,596,348"
         ],
         "textposition": "auto",
         "x": [
          14596348
         ],
         "y": [
          "Payments"
         ],
         "type": "bar"
        },
        {
         "marker": {
          "color": "burlywood"
         },
         "name": "Mail",
         "orientation": "h",
         "text": [
          "11,200,000"
         ],
         "textposition": "auto",
         "x": [
          11200000
         ],
         "y": [
          "Payments"
         ],
         "type": "bar"
        },
        {
         "marker": {
          "color": "deepskyblue"
         },
         "name": "Call Center IVR",
         "orientation": "h",
         "text": [
          "4,474,000",
          "1,241,000",
          "843,000",
          "678,000",
          "209,000",
          "205,000",
          "155,000",
          "124,000",
          "58,000"
         ],
         "textposition": "auto",
         "x": [
          4474000,
          1241000,
          843000,
          678000,
          209000,
          205000,
          155000,
          124000,
          58000
         ],
         "y": [
          "Payments",
          "Billing",
          "Outage",
          "Other Transactions",
          "Pay Plans",
          "Account Balance",
          "Start/Stop/ Transfer >Start",
          "Start/Stop/ Transfer >Stop",
          "Start/Stop/ Transfer >Transfer"
         ],
         "type": "bar"
        },
        {
         "marker": {
          "color": "turquoise"
         },
         "name": "Call Center - Live Agent",
         "orientation": "h",
         "text": [
          "3,918,000",
          "1,341,000",
          "691,000",
          "479,000",
          "466,000",
          "449,000",
          "374,000",
          "267,000",
          "256,000",
          "246,000",
          "220,000",
          "171,000",
          "137,000",
          "136,000",
          "133,000",
          "123,000"
         ],
         "textposition": "auto",
         "x": [
          3918000,
          1341000,
          691000,
          479000,
          466000,
          449000,
          374000,
          267000,
          256000,
          246000,
          220000,
          171000,
          137000,
          136000,
          133000,
          123000
         ],
         "y": [
          "Transferred calls",
          "General",
          "Billing Balance",
          "Solar",
          "BCSC (Business Customer Service Center)",
          "Emergency",
          "Start/Stop/ Transfer >Start",
          "Abandoned Calls",
          "Spanish (General)",
          "Outage",
          "Specialty Lines",
          "Start/Stop/ Transfer >Transfer",
          "Payments",
          "Other Transactions",
          "Start/Stop/ Transfer >Stop",
          "Pay Plans"
         ],
         "type": "bar"
        },
        {
         "marker": {
          "color": "lightblue"
         },
         "name": "Call Center Other",
         "orientation": "h",
         "text": [
          "2,630,000",
          "29,000"
         ],
         "textposition": "auto",
         "x": [
          2630000,
          29000
         ],
         "y": [
          "ICM Technology Handled",
          "NonIVR Technology"
         ],
         "type": "bar"
        },
        {
         "marker": {
          "color": "gold"
         },
         "name": "NPC",
         "orientation": "h",
         "text": [
          "1,770,000"
         ],
         "textposition": "auto",
         "x": [
          1770000
         ],
         "y": [
          "Payments"
         ],
         "type": "bar"
        }
       ],
       "layout": {
        "barmode": "stack",
        "height": 1600,
        "legend": {
         "title": {
          "text": "Transaction Channels"
         }
        },
        "title": {
         "text": "Total Customer Interactions by Service - Breakdown"
        },
        "xaxis": {
         "title": {
          "text": "Total Interactions"
         }
        },
        "yaxis": {
         "title": {
          "text": "Service Detail (from lowest to highest)"
         }
        },
        "template": {
         "data": {
          "histogram2dcontour": [
           {
            "type": "histogram2dcontour",
            "colorbar": {
             "outlinewidth": 0,
             "ticks": ""
            },
            "colorscale": [
             [
              0,
              "#0d0887"
             ],
             [
              0.1111111111111111,
              "#46039f"
             ],
             [
              0.2222222222222222,
              "#7201a8"
             ],
             [
              0.3333333333333333,
              "#9c179e"
             ],
             [
              0.4444444444444444,
              "#bd3786"
             ],
             [
              0.5555555555555556,
              "#d8576b"
             ],
             [
              0.6666666666666666,
              "#ed7953"
             ],
             [
              0.7777777777777778,
              "#fb9f3a"
             ],
             [
              0.8888888888888888,
              "#fdca26"
             ],
             [
              1,
              "#f0f921"
             ]
            ]
           }
          ],
          "choropleth": [
           {
            "type": "choropleth",
            "colorbar": {
             "outlinewidth": 0,
             "ticks": ""
            }
           }
          ],
          "histogram2d": [
           {
            "type": "histogram2d",
            "colorbar": {
             "outlinewidth": 0,
             "ticks": ""
            },
            "colorscale": [
             [
              0,
              "#0d0887"
             ],
             [
              0.1111111111111111,
              "#46039f"
             ],
             [
              0.2222222222222222,
              "#7201a8"
             ],
             [
              0.3333333333333333,
              "#9c179e"
             ],
             [
              0.4444444444444444,
              "#bd3786"
             ],
             [
              0.5555555555555556,
              "#d8576b"
             ],
             [
              0.6666666666666666,
              "#ed7953"
             ],
             [
              0.7777777777777778,
              "#fb9f3a"
             ],
             [
              0.8888888888888888,
              "#fdca26"
             ],
             [
              1,
              "#f0f921"
             ]
            ]
           }
          ],
          "heatmap": [
           {
            "type": "heatmap",
            "colorbar": {
             "outlinewidth": 0,
             "ticks": ""
            },
            "colorscale": [
             [
              0,
              "#0d0887"
             ],
             [
              0.1111111111111111,
              "#46039f"
             ],
             [
              0.2222222222222222,
              "#7201a8"
             ],
             [
              0.3333333333333333,
              "#9c179e"
             ],
             [
              0.4444444444444444,
              "#bd3786"
             ],
             [
              0.5555555555555556,
              "#d8576b"
             ],
             [
              0.6666666666666666,
              "#ed7953"
             ],
             [
              0.7777777777777778,
              "#fb9f3a"
             ],
             [
              0.8888888888888888,
              "#fdca26"
             ],
             [
              1,
              "#f0f921"
             ]
            ]
           }
          ],
          "heatmapgl": [
           {
            "type": "heatmapgl",
            "colorbar": {
             "outlinewidth": 0,
             "ticks": ""
            },
            "colorscale": [
             [
              0,
              "#0d0887"
             ],
             [
              0.1111111111111111,
              "#46039f"
             ],
             [
              0.2222222222222222,
              "#7201a8"
             ],
             [
              0.3333333333333333,
              "#9c179e"
             ],
             [
              0.4444444444444444,
              "#bd3786"
             ],
             [
              0.5555555555555556,
              "#d8576b"
             ],
             [
              0.6666666666666666,
              "#ed7953"
             ],
             [
              0.7777777777777778,
              "#fb9f3a"
             ],
             [
              0.8888888888888888,
              "#fdca26"
             ],
             [
              1,
              "#f0f921"
             ]
            ]
           }
          ],
          "contourcarpet": [
           {
            "type": "contourcarpet",
            "colorbar": {
             "outlinewidth": 0,
             "ticks": ""
            }
           }
          ],
          "contour": [
           {
            "type": "contour",
            "colorbar": {
             "outlinewidth": 0,
             "ticks": ""
            },
            "colorscale": [
             [
              0,
              "#0d0887"
             ],
             [
              0.1111111111111111,
              "#46039f"
             ],
             [
              0.2222222222222222,
              "#7201a8"
             ],
             [
              0.3333333333333333,
              "#9c179e"
             ],
             [
              0.4444444444444444,
              "#bd3786"
             ],
             [
              0.5555555555555556,
              "#d8576b"
             ],
             [
              0.6666666666666666,
              "#ed7953"
             ],
             [
              0.7777777777777778,
              "#fb9f3a"
             ],
             [
              0.8888888888888888,
              "#fdca26"
             ],
             [
              1,
              "#f0f921"
             ]
            ]
           }
          ],
          "surface": [
           {
            "type": "surface",
            "colorbar": {
             "outlinewidth": 0,
             "ticks": ""
            },
            "colorscale": [
             [
              0,
              "#0d0887"
             ],
             [
              0.1111111111111111,
              "#46039f"
             ],
             [
              0.2222222222222222,
              "#7201a8"
             ],
             [
              0.3333333333333333,
              "#9c179e"
             ],
             [
              0.4444444444444444,
              "#bd3786"
             ],
             [
              0.5555555555555556,
              "#d8576b"
             ],
             [
              0.6666666666666666,
              "#ed7953"
             ],
             [
              0.7777777777777778,
              "#fb9f3a"
             ],
             [
              0.8888888888888888,
              "#fdca26"
             ],
             [
              1,
              "#f0f921"
             ]
            ]
           }
          ],
          "mesh3d": [
           {
            "type": "mesh3d",
            "colorbar": {
             "outlinewidth": 0,
             "ticks": ""
            }
           }
          ],
          "scatter": [
           {
            "fillpattern": {
             "fillmode": "overlay",
             "size": 10,
             "solidity": 0.2
            },
            "type": "scatter"
           }
          ],
          "parcoords": [
           {
            "type": "parcoords",
            "line": {
             "colorbar": {
              "outlinewidth": 0,
              "ticks": ""
             }
            }
           }
          ],
          "scatterpolargl": [
           {
            "type": "scatterpolargl",
            "marker": {
             "colorbar": {
              "outlinewidth": 0,
              "ticks": ""
             }
            }
           }
          ],
          "bar": [
           {
            "error_x": {
             "color": "#2a3f5f"
            },
            "error_y": {
             "color": "#2a3f5f"
            },
            "marker": {
             "line": {
              "color": "#E5ECF6",
              "width": 0.5
             },
             "pattern": {
              "fillmode": "overlay",
              "size": 10,
              "solidity": 0.2
             }
            },
            "type": "bar"
           }
          ],
          "scattergeo": [
           {
            "type": "scattergeo",
            "marker": {
             "colorbar": {
              "outlinewidth": 0,
              "ticks": ""
             }
            }
           }
          ],
          "scatterpolar": [
           {
            "type": "scatterpolar",
            "marker": {
             "colorbar": {
              "outlinewidth": 0,
              "ticks": ""
             }
            }
           }
          ],
          "histogram": [
           {
            "marker": {
             "pattern": {
              "fillmode": "overlay",
              "size": 10,
              "solidity": 0.2
             }
            },
            "type": "histogram"
           }
          ],
          "scattergl": [
           {
            "type": "scattergl",
            "marker": {
             "colorbar": {
              "outlinewidth": 0,
              "ticks": ""
             }
            }
           }
          ],
          "scatter3d": [
           {
            "type": "scatter3d",
            "line": {
             "colorbar": {
              "outlinewidth": 0,
              "ticks": ""
             }
            },
            "marker": {
             "colorbar": {
              "outlinewidth": 0,
              "ticks": ""
             }
            }
           }
          ],
          "scattermapbox": [
           {
            "type": "scattermapbox",
            "marker": {
             "colorbar": {
              "outlinewidth": 0,
              "ticks": ""
             }
            }
           }
          ],
          "scatterternary": [
           {
            "type": "scatterternary",
            "marker": {
             "colorbar": {
              "outlinewidth": 0,
              "ticks": ""
             }
            }
           }
          ],
          "scattercarpet": [
           {
            "type": "scattercarpet",
            "marker": {
             "colorbar": {
              "outlinewidth": 0,
              "ticks": ""
             }
            }
           }
          ],
          "carpet": [
           {
            "aaxis": {
             "endlinecolor": "#2a3f5f",
             "gridcolor": "white",
             "linecolor": "white",
             "minorgridcolor": "white",
             "startlinecolor": "#2a3f5f"
            },
            "baxis": {
             "endlinecolor": "#2a3f5f",
             "gridcolor": "white",
             "linecolor": "white",
             "minorgridcolor": "white",
             "startlinecolor": "#2a3f5f"
            },
            "type": "carpet"
           }
          ],
          "table": [
           {
            "cells": {
             "fill": {
              "color": "#EBF0F8"
             },
             "line": {
              "color": "white"
             }
            },
            "header": {
             "fill": {
              "color": "#C8D4E3"
             },
             "line": {
              "color": "white"
             }
            },
            "type": "table"
           }
          ],
          "barpolar": [
           {
            "marker": {
             "line": {
              "color": "#E5ECF6",
              "width": 0.5
             },
             "pattern": {
              "fillmode": "overlay",
              "size": 10,
              "solidity": 0.2
             }
            },
            "type": "barpolar"
           }
          ],
          "pie": [
           {
            "automargin": true,
            "type": "pie"
           }
          ]
         },
         "layout": {
          "autotypenumbers": "strict",
          "colorway": [
           "#636efa",
           "#EF553B",
           "#00cc96",
           "#ab63fa",
           "#FFA15A",
           "#19d3f3",
           "#FF6692",
           "#B6E880",
           "#FF97FF",
           "#FECB52"
          ],
          "font": {
           "color": "#2a3f5f"
          },
          "hovermode": "closest",
          "hoverlabel": {
           "align": "left"
          },
          "paper_bgcolor": "white",
          "plot_bgcolor": "#E5ECF6",
          "polar": {
           "bgcolor": "#E5ECF6",
           "angularaxis": {
            "gridcolor": "white",
            "linecolor": "white",
            "ticks": ""
           },
           "radialaxis": {
            "gridcolor": "white",
            "linecolor": "white",
            "ticks": ""
           }
          },
          "ternary": {
           "bgcolor": "#E5ECF6",
           "aaxis": {
            "gridcolor": "white",
            "linecolor": "white",
            "ticks": ""
           },
           "baxis": {
            "gridcolor": "white",
            "linecolor": "white",
            "ticks": ""
           },
           "caxis": {
            "gridcolor": "white",
            "linecolor": "white",
            "ticks": ""
           }
          },
          "coloraxis": {
           "colorbar": {
            "outlinewidth": 0,
            "ticks": ""
           }
          },
          "colorscale": {
           "sequential": [
            [
             0,
             "#0d0887"
            ],
            [
             0.1111111111111111,
             "#46039f"
            ],
            [
             0.2222222222222222,
             "#7201a8"
            ],
            [
             0.3333333333333333,
             "#9c179e"
            ],
            [
             0.4444444444444444,
             "#bd3786"
            ],
            [
             0.5555555555555556,
             "#d8576b"
            ],
            [
             0.6666666666666666,
             "#ed7953"
            ],
            [
             0.7777777777777778,
             "#fb9f3a"
            ],
            [
             0.8888888888888888,
             "#fdca26"
            ],
            [
             1,
             "#f0f921"
            ]
           ],
           "sequentialminus": [
            [
             0,
             "#0d0887"
            ],
            [
             0.1111111111111111,
             "#46039f"
            ],
            [
             0.2222222222222222,
             "#7201a8"
            ],
            [
             0.3333333333333333,
             "#9c179e"
            ],
            [
             0.4444444444444444,
             "#bd3786"
            ],
            [
             0.5555555555555556,
             "#d8576b"
            ],
            [
             0.6666666666666666,
             "#ed7953"
            ],
            [
             0.7777777777777778,
             "#fb9f3a"
            ],
            [
             0.8888888888888888,
             "#fdca26"
            ],
            [
             1,
             "#f0f921"
            ]
           ],
           "diverging": [
            [
             0,
             "#8e0152"
            ],
            [
             0.1,
             "#c51b7d"
            ],
            [
             0.2,
             "#de77ae"
            ],
            [
             0.3,
             "#f1b6da"
            ],
            [
             0.4,
             "#fde0ef"
            ],
            [
             0.5,
             "#f7f7f7"
            ],
            [
             0.6,
             "#e6f5d0"
            ],
            [
             0.7,
             "#b8e186"
            ],
            [
             0.8,
             "#7fbc41"
            ],
            [
             0.9,
             "#4d9221"
            ],
            [
             1,
             "#276419"
            ]
           ]
          },
          "xaxis": {
           "gridcolor": "white",
           "linecolor": "white",
           "ticks": "",
           "title": {
            "standoff": 15
           },
           "zerolinecolor": "white",
           "automargin": true,
           "zerolinewidth": 2
          },
          "yaxis": {
           "gridcolor": "white",
           "linecolor": "white",
           "ticks": "",
           "title": {
            "standoff": 15
           },
           "zerolinecolor": "white",
           "automargin": true,
           "zerolinewidth": 2
          },
          "scene": {
           "xaxis": {
            "backgroundcolor": "#E5ECF6",
            "gridcolor": "white",
            "linecolor": "white",
            "showbackground": true,
            "ticks": "",
            "zerolinecolor": "white",
            "gridwidth": 2
           },
           "yaxis": {
            "backgroundcolor": "#E5ECF6",
            "gridcolor": "white",
            "linecolor": "white",
            "showbackground": true,
            "ticks": "",
            "zerolinecolor": "white",
            "gridwidth": 2
           },
           "zaxis": {
            "backgroundcolor": "#E5ECF6",
            "gridcolor": "white",
            "linecolor": "white",
            "showbackground": true,
            "ticks": "",
            "zerolinecolor": "white",
            "gridwidth": 2
           }
          },
          "shapedefaults": {
           "line": {
            "color": "#2a3f5f"
           }
          },
          "annotationdefaults": {
           "arrowcolor": "#2a3f5f",
           "arrowhead": 0,
           "arrowwidth": 1
          },
          "geo": {
           "bgcolor": "white",
           "landcolor": "#E5ECF6",
           "subunitcolor": "white",
           "showland": true,
           "showlakes": true,
           "lakecolor": "white"
          },
          "title": {
           "x": 0.05
          },
          "mapbox": {
           "style": "light"
          }
         }
        }
       },
       "config": {
        "plotlyServerURL": "https://plot.ly"
       }
      }
     },
     "metadata": {}
    }
   ],
   "metadata": {}
  },
  {
   "cell_type": "code",
   "execution_count": 178,
   "source": [
    "# Export the chart as an HTML file\r\n",
    "html = \".html\"\r\n",
    "rootbarchartL2 = 'Trxn_root_barchart_L2'\r\n",
    "\r\n",
    "pyo.plot(bar_fig_L2, filename=(rootbarchartL2 + html), auto_open=True)\r\n",
    "\r\n",
    "# Generate the chart as an ASPX file\r\n",
    "aspx = '.aspx'\r\n",
    "pio.write_html(bar_fig_L2, file=(rootbarchartL2 + aspx), auto_open=False)"
   ],
   "outputs": [],
   "metadata": {}
  }
 ],
 "metadata": {
  "kernelspec": {
   "name": "python3",
   "display_name": "Python 3.9.4 64-bit"
  },
  "language_info": {
   "codemirror_mode": {
    "name": "ipython",
    "version": 3
   },
   "file_extension": ".py",
   "mimetype": "text/x-python",
   "name": "python",
   "nbconvert_exporter": "python",
   "pygments_lexer": "ipython3",
   "version": "3.9.4"
  },
  "orig_nbformat": 4,
  "interpreter": {
   "hash": "ac59ebe37160ed0dfa835113d9b8498d9f09ceb179beaac4002f036b9467c963"
  }
 },
 "nbformat": 4,
 "nbformat_minor": 2
}