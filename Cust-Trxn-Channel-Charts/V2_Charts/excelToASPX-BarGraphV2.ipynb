{
 "cells": [
  {
   "cell_type": "markdown",
   "source": [
    "This Version looks up the Publication Spreadsheet to pull data direct from intake form (Customer Transaction Map - 'Publication' File)"
   ],
   "metadata": {}
  },
  {
   "cell_type": "code",
   "execution_count": 18,
   "source": [
    "# Install packages as needed\r\n",
    "#%pip install openpyxl\r\n",
    "#%pip install pandas \r\n",
    "#%pip install plotly\r\n",
    "#%pip install nbformat\r\n",
    "#%pip install --upgrade ipython"
   ],
   "outputs": [],
   "metadata": {}
  },
  {
   "cell_type": "code",
   "execution_count": 19,
   "source": [
    "#import libraries\r\n",
    "import pandas as pd\r\n",
    "import json\r\n",
    "import os\r\n",
    "import plotly.express as px\r\n",
    "import plotly.offline as pyo\r\n",
    "import plotly.graph_objs as go\r\n",
    "import locale\r\n",
    "import numpy as np\r\n",
    "import re\r\n",
    "import plotly.io as pio"
   ],
   "outputs": [],
   "metadata": {}
  },
  {
   "cell_type": "markdown",
   "source": [
    "Extract"
   ],
   "metadata": {}
  },
  {
   "cell_type": "code",
   "execution_count": null,
   "source": [
    "###EXTRACT###\r\n",
    "# Read Transaction Excel data into a Pandas dataframe\r\n",
    "file = r'C:\\Users\\DIM6\\OneDrive - PGE\\[Work] [Shared]\\CXI Projects\\20200122 03 CC Fact Sheet\\2022\\2022 Customer Transactions Map - Publication Sheets.xlsx'\r\n",
    "sheet_name = 'BarGraphs'\r\n",
    "\r\n",
    "# Read the specific sheet from the Excel file\r\n",
    "df_raw = pd.read_excel(file, sheet_name=sheet_name)\r\n",
    "\r\n",
    "print(df_raw.head())"
   ],
   "outputs": [],
   "metadata": {}
  },
  {
   "cell_type": "code",
   "execution_count": 21,
   "source": [
    "#Column Headers\r\n",
    "Root = 'Root Level'\r\n",
    "L1 = \"Level 1\" \r\n",
    "L2 = \"Level 2\"\r\n",
    "Value = \"Value\"\r\n",
    "Cat_Level = \"Level\""
   ],
   "outputs": [],
   "metadata": {}
  },
  {
   "cell_type": "markdown",
   "source": [
    "Transform"
   ],
   "metadata": {}
  },
  {
   "cell_type": "code",
   "execution_count": null,
   "source": [
    "#Remove columns not needed for barchart\r\n",
    "df = df_raw[[Root, L1, L2, Value, Cat_Level]]\r\n",
    "\r\n",
    "# convert cells in column \"Value\" to numeric values\r\n",
    "df[Value] = pd.to_numeric(df[Value], errors='coerce')\r\n",
    "\r\n",
    "# Remove rows with all NaN values\r\n",
    "df = df.dropna(how='all')\r\n",
    "\r\n",
    "# Filter out rows where \"Level\" is 0\r\n",
    "df = df[df[Cat_Level] != 0]\r\n",
    "\r\n",
    "# Filter out rows with NaN or blank values in the \"Value\" column\r\n",
    "df = df[(df[Value].notna()) & (df[Value] != '')]\r\n",
    "\r\n",
    "# multiply the dataframe by 1 million to return to nominal units (from Million to 0)\r\n",
    "df[Value] = df[Value].mul(1000000)\r\n",
    "\r\n",
    " #convert the float columns to integers\r\n",
    "df[Value] = df[Value].astype(int)\r\n",
    "\r\n",
    "## Replace NaN with None for plotly sunburst chart\r\n",
    "df = df.where(pd.notna(df), \"\")\r\n",
    "\r\n",
    "# Remove \"-\" and whitespace\r\n",
    "df[L1] = df[L1].str.replace(r\"\\s*-\\s*\", \"\").str.strip().astype(str)\r\n",
    "df[L2] = df[L2].str.replace(r\"\\s*-\\s*\", \"\").str.strip().astype(str)\r\n",
    "\r\n",
    "# Splice a new df\r\n",
    "df = df.copy()\r\n",
    "\r\n",
    "print(df.head())"
   ],
   "outputs": [],
   "metadata": {}
  },
  {
   "cell_type": "code",
   "execution_count": 23,
   "source": [
    "# Write dataframe to an Excel file for QC\r\n",
    "with pd.ExcelWriter('dataframe-bargraph-tmp.xlsx') as writer:\r\n",
    "    df.to_excel(writer, sheet_name='dataframe-bargraph', index=False)"
   ],
   "outputs": [],
   "metadata": {}
  },
  {
   "cell_type": "markdown",
   "source": [
    "Load"
   ],
   "metadata": {}
  },
  {
   "cell_type": "code",
   "execution_count": null,
   "source": [
    "#Group the data by Root Level and sum the values\r\n",
    "grouped_data = df.groupby([Root])[Value].sum().reset_index()\r\n",
    "\r\n",
    "# Sort the grouped_data by Value column in descending order\r\n",
    "grouped_data = grouped_data.sort_values(by=Value, ascending=False)\r\n",
    "\r\n",
    "# Create a dictionary to map the Root Level to its corresponding color\r\n",
    "color_map = {'Web': 'orange', 'Other Electronic': 'gray', 'Mail': 'burlywood', 'Call Center IVR': 'deepskyblue','Call Center Other':'lightblue', \\\r\n",
    "              'Call Center - Live Agent':'Turquoise', 'NPC': 'gold'}\r\n",
    "\r\n",
    "# Create the bar chart trace\r\n",
    "bar_trace = go.Bar(\r\n",
    "    x=grouped_data[Root],\r\n",
    "    y=grouped_data[Value],\r\n",
    "    marker=dict(color=[color_map.get(root_level, 'grey') for root_level in grouped_data[Root]]),\r\n",
    "    text=[f\"{value:,}\" for value in grouped_data[Value]],\r\n",
    "    textposition='auto'\r\n",
    ")\r\n",
    "\r\n",
    "# Create the bar chart layout\r\n",
    "bar_layout = go.Layout(\r\n",
    "    title='Total Customer Interactions by Transaction Channel',\r\n",
    "    xaxis=dict(title='Channel'),\r\n",
    "    yaxis=dict(title='Total Interactions'),\r\n",
    "    legend=dict(title=dict(text='Transaction Channels'))\r\n",
    ")\r\n",
    "\r\n",
    "# Create the bar chart figure\r\n",
    "bar_fig_root = go.Figure(data=[bar_trace], layout=bar_layout)\r\n",
    "\r\n",
    "# Display the bar chart\r\n",
    "bar_fig_root.show()\r\n"
   ],
   "outputs": [],
   "metadata": {}
  },
  {
   "cell_type": "code",
   "execution_count": 25,
   "source": [
    "# Export the chart as an HTML file\r\n",
    "html = \".html\"\r\n",
    "rootbarchart = 'Trxn_root_barchart'\r\n",
    "pyo.plot(bar_fig_root, filename=(rootbarchart + html), auto_open=False)\r\n",
    "\r\n",
    "# Generate the chart as an ASPX file\r\n",
    "aspx = '.aspx'\r\n",
    "pio.write_html(bar_fig_root, file=(rootbarchart + aspx), auto_open=False)"
   ],
   "outputs": [],
   "metadata": {}
  },
  {
   "cell_type": "code",
   "execution_count": null,
   "source": [
    "# Set the locale to use comma separators for thousands\r\n",
    "locale.setlocale(locale.LC_ALL, '')\r\n",
    "\r\n",
    "# Group the data by Root Level and Level 1 and sum the values\r\n",
    "grouped_data = df.groupby([Root, L1])[Value].sum().reset_index()\r\n",
    "\r\n",
    "# Sort the grouped_data by Value column in descending order\r\n",
    "grouped_data = grouped_data.sort_values(by=Value, ascending=False)\r\n",
    "\r\n",
    "# Create a dictionary to map the Root Level to its corresponding color\r\n",
    "color_map = {'Web': 'orange', 'Other Electronic': 'gray', 'Mail': 'burlywood', 'Call Center - Live Agent': 'turquoise', 'Call Center IVR': 'deepskyblue', 'Call Center Other':'lightblue', 'NPC': 'gold'}\r\n",
    "\r\n",
    "\r\n",
    "# Create a list to store the bar chart traces\r\n",
    "bar_traces = []\r\n",
    "\r\n",
    "# Loop through each Root Level and create a stacked bar chart trace for its corresponding Level 1 data\r\n",
    "for root_level in grouped_data[Root].unique():\r\n",
    "    temp_df = grouped_data[grouped_data[Root] == root_level]\r\n",
    "    values = temp_df[Value].values\r\n",
    "    formatted_values = [locale.format_string(\"%d\", val, grouping=True) for val in values] # Format values with comma separators\r\n",
    "    bar_trace = go.Bar(\r\n",
    "        x=temp_df[L1],\r\n",
    "        y=values,\r\n",
    "        text=formatted_values, # Set the formatted values as the text labels\r\n",
    "        textposition='auto', # Position the text labels automatically above the bars\r\n",
    "        name=root_level,\r\n",
    "        marker=dict(color=color_map[root_level])\r\n",
    "    )\r\n",
    "    bar_traces.append(bar_trace)\r\n",
    "\r\n",
    "# Create the stacked bar chart layout\r\n",
    "bar_layout = go.Layout(\r\n",
    "    title='Total Customer Interactions by Service',\r\n",
    "    xaxis=dict(title='Service'),\r\n",
    "    yaxis=dict(title='Total Interactions'),\r\n",
    "    barmode='stack',\r\n",
    "    height=900,\r\n",
    "    legend=dict(title=dict(text='Transaction Channels'))\r\n",
    ")\r\n",
    "\r\n",
    "# Create the stacked bar chart figure\r\n",
    "bar_fig_root_L1 = go.Figure(data=bar_traces, layout=bar_layout)\r\n",
    "\r\n",
    "# Display the stacked bar chart\r\n",
    "bar_fig_root_L1.show()\r\n"
   ],
   "outputs": [],
   "metadata": {}
  },
  {
   "cell_type": "code",
   "execution_count": 27,
   "source": [
    "# Export the chart as an HTML file\r\n",
    "html = \".html\"\r\n",
    "rootbarchartL1 = 'Trxn_root_barchart_L1'\r\n",
    "\r\n",
    "pyo.plot(bar_fig_root_L1, filename=(rootbarchartL1 + html), auto_open=False)\r\n",
    "\r\n",
    "# Generate the chart as an ASPX file\r\n",
    "aspx = '.aspx'\r\n",
    "pio.write_html(bar_fig_root_L1, file=(rootbarchartL1 + aspx), auto_open=False)"
   ],
   "outputs": [],
   "metadata": {}
  },
  {
   "cell_type": "code",
   "execution_count": null,
   "source": [
    "# Set the locale to use comma separators for thousands\r\n",
    "locale.setlocale(locale.LC_ALL, '')\r\n",
    "\r\n",
    "# Group the data by Root Level and Level 2 and sum the values\r\n",
    "grouped_data = df.groupby([Root, L2])[Value].sum().reset_index()\r\n",
    "\r\n",
    "# Sort the grouped_data by Value column in descending order\r\n",
    "grouped_data = grouped_data.sort_values(by=Value, ascending=False) # Sort by descending order\r\n",
    "\r\n",
    "# Create a dictionary to map the Root Level to its corresponding color\r\n",
    "color_map = {'Web': 'orange', 'Other Electronic': 'gray', 'Mail': 'burlywood',   'Call Center - Live Agent': 'turquoise', 'Call Center IVR': 'deepskyblue', 'Call Center Other':'lightblue', 'NPC': 'gold'}\r\n",
    "\r\n",
    "\r\n",
    "\r\n",
    "# Create a list to store the bar chart traces\r\n",
    "bar_traces = []\r\n",
    "\r\n",
    "# Loop through each Root Level and create a stacked bar chart trace for its corresponding Level 2 data\r\n",
    "for root_level in grouped_data[Root].unique():\r\n",
    "    temp_df = grouped_data[grouped_data[Root] == root_level]\r\n",
    "    values = temp_df[Value].values\r\n",
    "    formatted_values = [locale.format_string(\"%d\", val, grouping=True) for val in values] # Format values with comma separators\r\n",
    "    y_values = temp_df[L2].values\r\n",
    "    bar_trace = go.Bar(\r\n",
    "        y=y_values,\r\n",
    "        x=values,\r\n",
    "        text=formatted_values,\r\n",
    "        textposition='auto',\r\n",
    "        name=root_level,\r\n",
    "        orientation='h',\r\n",
    "        marker=dict(color=color_map[root_level])\r\n",
    "    )\r\n",
    "    bar_traces.append(bar_trace)\r\n",
    "\r\n",
    "# Create the stacked bar chart layout\r\n",
    "bar_layout = go.Layout(\r\n",
    "    title='Total Customer Interactions by Service - Breakdown',\r\n",
    "    xaxis=dict(title='Total Interactions'),\r\n",
    "    yaxis=dict(title='Service Detail (from lowest to highest)'),\r\n",
    "    barmode='stack',\r\n",
    "    height=1600,\r\n",
    "    legend=dict(title=dict(text='Transaction Channels'))\r\n",
    ")\r\n",
    "\r\n",
    "# Create the stacked bar chart figure\r\n",
    "bar_fig_L2 = go.Figure(data=bar_traces, layout=bar_layout)\r\n",
    "\r\n",
    "# Display the stacked bar chart\r\n",
    "bar_fig_L2.show()\r\n"
   ],
   "outputs": [],
   "metadata": {}
  },
  {
   "cell_type": "code",
   "execution_count": 29,
   "source": [
    "# Export the chart as an HTML file\r\n",
    "html = \".html\"\r\n",
    "rootbarchartL2 = 'Trxn_root_barchart_L2'\r\n",
    "\r\n",
    "pyo.plot(bar_fig_L2, filename=(rootbarchartL2 + html), auto_open=False)\r\n",
    "\r\n",
    "# Generate the chart as an ASPX file\r\n",
    "aspx = '.aspx'\r\n",
    "pio.write_html(bar_fig_L2, file=(rootbarchartL2 + aspx), auto_open=False)"
   ],
   "outputs": [],
   "metadata": {}
  }
 ],
 "metadata": {
  "kernelspec": {
   "name": "python3",
   "display_name": "Python 3.9.4 64-bit"
  },
  "language_info": {
   "codemirror_mode": {
    "name": "ipython",
    "version": 3
   },
   "file_extension": ".py",
   "mimetype": "text/x-python",
   "name": "python",
   "nbconvert_exporter": "python",
   "pygments_lexer": "ipython3",
   "version": "3.9.4"
  },
  "orig_nbformat": 4,
  "interpreter": {
   "hash": "ac59ebe37160ed0dfa835113d9b8498d9f09ceb179beaac4002f036b9467c963"
  }
 },
 "nbformat": 4,
 "nbformat_minor": 2
}