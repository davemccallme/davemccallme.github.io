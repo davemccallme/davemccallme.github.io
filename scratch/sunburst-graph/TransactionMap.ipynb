import plotly.graph_objects as go

fig = go.Figure(go.Sunburst(
    ids=[item["id"] for item in data],
    parents=[item["parent"] for item in data],
    values=[item["value"] for item in data],
    branchvalues='total',
    textinfo='label+percent parent'
))

fig.update_layout(margin=dict(t=0, l=0, r=0, b=0))
fig.show()




