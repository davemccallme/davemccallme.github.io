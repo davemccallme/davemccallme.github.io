
import string
class analyzedText(object):
    
    def __init__ (self, file_name):
            # Open the file and read its contents
            with open(file_name, 'r') as f:
                text = f.read()

        # TODO: Remove the punctuation from <text> and make it lower case.
        # Remove punctuation and lowercase the text
            translator = str.maketrans('', '', string.punctuation)
        
        # TODO: Assign the formatted text to a new attribute called "fmtText"
            self.fmtText = text.translate(translator).lower()
            pass 
    
    def freqAll(self):    

        # TODO: Split the text into a list of words  
        words = self.fmtText.split()
        # TODO: Create a dictionary with the unique words in the text as keys
        # and the number of times they occur in the text as values
        # create an empty dictionary
        word_count = {}

        # loop through the list of words
        for word in words:
            # if the word is already in the dictionary, increment its count
            if word in word_count:
                word_count[word] += 1
            # otherwise, add the word to the dictionary with a count of 1
            else:
                word_count[word] = 1

        # return the created dictionary
        return word_count

    def freqOf(self, word):

        # TODO: return the number of occurrences of <word> in <fmtText>
        words = self.fmtText.split()
        return words.count(word)

        # Create an instance of the analysedText class
textfile = 'text.txt'     # Example "The quick brown fox jumps over the lazy dog"
analyzed_text = analyzedText(textfile)

# Call the freqAll method to get the frequency of all words in the text
word_count = analyzed_text.freqAll()
print(word_count) # Example Output: {'the': 2, 'quick': 1, 'brown': 1, 'fox': 1, 'jumps': 1, 'over': 1, 'lazy': 1, 'dog': 1}
