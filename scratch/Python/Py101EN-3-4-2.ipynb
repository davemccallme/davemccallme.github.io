{
 "cells": [
  {
   "cell_type": "code",
   "execution_count": 5,
   "metadata": {},
   "outputs": [
    {
     "ename": "AttributeError",
     "evalue": "'dict' object has no attribute 'sort'",
     "output_type": "error",
     "traceback": [
      "\u001b[1;31m---------------------------------------------------------------------------\u001b[0m",
      "\u001b[1;31mAttributeError\u001b[0m                            Traceback (most recent call last)",
      "\u001b[1;32m~\\AppData\\Local\\Temp\\ipykernel_17796\\1376192338.py\u001b[0m in \u001b[0;36m<module>\u001b[1;34m\u001b[0m\n\u001b[0;32m     48\u001b[0m \u001b[1;31m# Call the freqAll method to get the frequency of all words in the text\u001b[0m\u001b[1;33m\u001b[0m\u001b[1;33m\u001b[0m\u001b[0m\n\u001b[0;32m     49\u001b[0m \u001b[0mword_count\u001b[0m \u001b[1;33m=\u001b[0m \u001b[0manalyzed_text\u001b[0m\u001b[1;33m.\u001b[0m\u001b[0mfreqAll\u001b[0m\u001b[1;33m(\u001b[0m\u001b[1;33m)\u001b[0m\u001b[1;33m\u001b[0m\u001b[1;33m\u001b[0m\u001b[0m\n\u001b[1;32m---> 50\u001b[1;33m \u001b[0mprint\u001b[0m\u001b[1;33m(\u001b[0m\u001b[0mword_count\u001b[0m\u001b[1;33m.\u001b[0m\u001b[0msort\u001b[0m\u001b[1;33m)\u001b[0m \u001b[1;31m# Example Output: {'the': 2, 'quick': 1, 'brown': 1, 'fox': 1, 'jumps': 1, 'over': 1, 'lazy': 1, 'dog': 1}\u001b[0m\u001b[1;33m\u001b[0m\u001b[1;33m\u001b[0m\u001b[0m\n\u001b[0m",
      "\u001b[1;31mAttributeError\u001b[0m: 'dict' object has no attribute 'sort'"
     ]
    }
   ],
   "source": [
    "import string\n",
    "class analyzedText(object):\n",
    "    \n",
    "    def __init__ (self, file_name):\n",
    "            # Open the file and read its contents\n",
    "            with open(file_name, 'r') as f:\n",
    "                text = f.read()\n",
    "\n",
    "        # TODO: Remove the punctuation from <text> and make it lower case.\n",
    "        # Remove punctuation and lowercase the text\n",
    "            translator = str.maketrans('', '', string.punctuation)\n",
    "        \n",
    "        # TODO: Assign the formatted text to a new attribute called \"fmtText\"\n",
    "            self.fmtText = text.translate(translator).lower()\n",
    "            pass \n",
    "    \n",
    "    def freqAll(self):    \n",
    "\n",
    "        # TODO: Split the text into a list of words  \n",
    "        words = self.fmtText.split()\n",
    "        # TODO: Create a dictionary with the unique words in the text as keys\n",
    "        # and the number of times they occur in the text as values\n",
    "        # create an empty dictionary\n",
    "        word_count = {}\n",
    "\n",
    "        # loop through the list of words\n",
    "        for word in words:\n",
    "            # if the word is already in the dictionary, increment its count\n",
    "            if word in word_count:\n",
    "                word_count[word] += 1\n",
    "            # otherwise, add the word to the dictionary with a count of 1\n",
    "            else:\n",
    "                word_count[word] = 1\n",
    "\n",
    "        # return the created dictionary\n",
    "        return word_count\n",
    "\n",
    "    def freqOf(self, word):\n",
    "\n",
    "        # TODO: return the number of occurrences of <word> in <fmtText>\n",
    "        words = self.fmtText.split()\n",
    "        return words.count(word)\n",
    "\n",
    "        # Create an instance of the analysedText class\n",
    "file_name = 'text.txt'     # Example \"The quick brown fox jumps over the lazy dog\"\n",
    "analyzed_text = analyzedText(file_name)\n",
    "\n",
    "# Call the freqAll method to get the frequency of all words in the text\n",
    "word_count = analyzed_text.freqAll()\n",
    "print(word_count.sort) # Example Output: {'the': 2, 'quick': 1, 'brown': 1, 'fox': 1, 'jumps': 1, 'over': 1, 'lazy': 1, 'dog': 1}\n"
   ]
  }
 ],
 "metadata": {
  "kernelspec": {
   "display_name": "base",
   "language": "python",
   "name": "python3"
  },
  "language_info": {
   "codemirror_mode": {
    "name": "ipython",
    "version": 3
   },
   "file_extension": ".py",
   "mimetype": "text/x-python",
   "name": "python",
   "nbconvert_exporter": "python",
   "pygments_lexer": "ipython3",
   "version": "3.9.13"
  },
  "orig_nbformat": 4,
  "vscode": {
   "interpreter": {
    "hash": "610a6f344c2137faf927ea819c63f6cee33a2c04455044b28099f39fe9722347"
   }
  }
 },
 "nbformat": 4,
 "nbformat_minor": 2
}
