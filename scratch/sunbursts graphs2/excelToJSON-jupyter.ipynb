{
 "cells": [
  {
   "cell_type": "code",
   "execution_count": 202,
   "metadata": {},
   "outputs": [],
   "source": [
    "#%pip install openpyxl"
   ]
  },
  {
   "cell_type": "code",
   "execution_count": 203,
   "metadata": {},
   "outputs": [],
   "source": [
    "import pandas as pd\n",
    "import json\n",
    "import os\n",
    "import plotly.express as px\n",
    "import plotly.offline as pyo\n",
    "import plotly.graph_objs as go"
   ]
  },
  {
   "cell_type": "code",
   "execution_count": 205,
   "metadata": {},
   "outputs": [
    {
     "name": "stdout",
     "output_type": "stream",
     "text": [
      "  Root Level                 Level 1                          Level 2   Value\n",
      "0        Web            Account Mgmt          Change Billing Address    83947\n",
      "1        Web            Account Mgmt            Add/Edit Phone Number  137600\n",
      "2        Web            Account Mgmt      Change User Name, Password   159607\n",
      "3        Web  Alerts & Notifications  Change Billing & Payment Alerts  302380\n",
      "4        Web  Alerts & Notifications                    Energy Alerts  233548\n"
     ]
    }
   ],
   "source": [
    "# Read Transaction Excel data into a Pandas dataframe\n",
    "df = pd.read_excel('C:/Users/admin/Documents/GitHub/davemccallme.github.io/scratch/sunbursts graphs2/exceldata-trxn.xlsx')\n",
    "df['Value'] = pd.to_numeric(df['Value'])\n",
    "print(df.head())"
   ]
  },
  {
   "cell_type": "code",
   "execution_count": 206,
   "metadata": {},
   "outputs": [
    {
     "name": "stdout",
     "output_type": "stream",
     "text": [
      "127553926\n"
     ]
    }
   ],
   "source": [
    "# Convert dataframe to a hierarchical dictionary\n",
    "def make_hierarchy_dict(df, path=[], value_col=\"Value\", threshold=10):\n",
    "    if len(path) == df.columns.nlevels - 1:\n",
    "        total = int(df[value_col].sum())\n",
    "        if total < threshold:\n",
    "            return None\n",
    "        else:\n",
    "            return total\n",
    "    else:\n",
    "        level = df.columns[len(path)]\n",
    "        subdict = {}\n",
    "        for key in df[level].dropna().unique():\n",
    "            subdf = df[df[level] == key].drop(columns=[level])\n",
    "            subhierarchy_dict = make_hierarchy_dict(subdf, path + [key], value_col, threshold)\n",
    "            if subhierarchy_dict is not None:\n",
    "                subdict[key] = subhierarchy_dict\n",
    "        if len(subdict) == 0:\n",
    "            return None\n",
    "        else:\n",
    "            return subdict\n",
    "\n",
    "hierarchy_dict = make_hierarchy_dict(df.set_index(list(df.columns[:3])), value_col=\"Value\", threshold=10)\n",
    "\n",
    "print(hierarchy_dict)"
   ]
  },
  {
   "cell_type": "code",
   "execution_count": 207,
   "metadata": {},
   "outputs": [],
   "source": [
    "# Convert hierarchical dictionary to Plotly-compatible JSON\n",
    "def make_plotly_sunburst(hierarchy_dict, name=\"\"):\n",
    "    if isinstance(hierarchy_dict, dict):\n",
    "        children = []\n",
    "        for key, value in hierarchy_dict.items():\n",
    "            children.append(make_plotly_sunburst(value, key))\n",
    "        return {\n",
    "            \"name\": name,\n",
    "            \"children\": children\n",
    "        }\n",
    "    else:\n",
    "        return {\n",
    "            \"label\": name,\n",
    "            \"value\": hierarchy_dict\n",
    "        }"
   ]
  },
  {
   "cell_type": "code",
   "execution_count": 208,
   "metadata": {},
   "outputs": [
    {
     "name": "stdout",
     "output_type": "stream",
     "text": [
      "{'label': '', 'value': 127553926}\n"
     ]
    }
   ],
   "source": [
    "plotly_data = make_plotly_sunburst(hierarchy_dict)\n",
    "print(plotly_data)"
   ]
  },
  {
   "cell_type": "code",
   "execution_count": 209,
   "metadata": {},
   "outputs": [],
   "source": [
    "# Write JSON data to a file\n",
    "with open(\"plotly_data.json\", \"w\") as f:\n",
    "    json.dump(plotly_data, f)"
   ]
  },
  {
   "cell_type": "code",
   "execution_count": null,
   "metadata": {},
   "outputs": [],
   "source": [
    "#Error Check rows for data discrepencies\n",
    "for i, row in df.iterrows():\n",
    "    try:\n",
    "        fig = px.sunburst(df.loc[[i]], path=[\"Root Level\", \"Level 1\", \"Level 2\"], values='Value')\n",
    "    except ValueError as e:\n",
    "        print(e)"
   ]
  },
  {
   "cell_type": "code",
   "execution_count": 210,
   "metadata": {},
   "outputs": [
    {
     "data": {
      "text/html": [
       "<div>                            <div id=\"0a660d17-38e1-459e-ad47-9f6c1d51b11a\" class=\"plotly-graph-div\" style=\"height:525px; width:100%;\"></div>            <script type=\"text/javascript\">                require([\"plotly\"], function(Plotly) {                    window.PLOTLYENV=window.PLOTLYENV || {};                                    if (document.getElementById(\"0a660d17-38e1-459e-ad47-9f6c1d51b11a\")) {                    Plotly.newPlot(                        \"0a660d17-38e1-459e-ad47-9f6c1d51b11a\",                        [{\"branchvalues\":\"total\",\"domain\":{\"x\":[0.0,1.0],\"y\":[0.0,1.0]},\"hovertemplate\":\"labels=%{label}<br>Value=%{value}<br>parent=%{parent}<br>id=%{id}<extra></extra>\",\"ids\":[\"Web/Account Mgmt/ Add/Edit Phone Number\",\"Web/Account Mgmt/ Change Billing Address \",\"Web/Account Mgmt/ Change User Name, Password \",\"Web/Usage and Rates/ Compare My Bills\",\"Web/Usage and Rates/ Compare My Bills UPDATED\",\"Web/Start/Stop/Transfer (total)/ Existing Customer\",\"Web/Usage and Rates/ Home Energy Checkup\",\"Web/Start/Stop/Transfer (total)/ New Customer \",\"Web/Payments/ One Time Access\",\"Web/Usage and Rates/ Online Rate Enrollment\",\"Web/Usage and Rates/ Rate Comparison\",\"Web/Start/Stop/Transfer (total)/ Stop \",\"Web/Start/Stop/Transfer (total)/ Transfer \",\"Web/Usage and Rates/ View Usage \",\"Web/Usage and Rates/ View Usage (July Onward)\",\"Web/Payments/ Your Account\",\"Other Elec Pay Channels/Other Elec Pay Channels/ACH\",\"Other Elec Pay Channels/Other Elec Pay Channels/APS\",\"Call Center/Live Agent/Abandoned Calls (total)\",\"Call Center/IVR/Account Balance\",\"Web/Alerts & Notifications/Additional Communication Alerts\",\"Web/Alerts & Notifications/Additional Communication Alerts (Aug Onward)\",\"Call Center/Live Agent/BCSC (Bus. Cust. Service Center)\",\"Call Center/Live Agent/Billing Balance \",\"Call Center/IVR/Billing IVR\",\"Web/Budget Billing (Login) /Budget Billing (Login) \",\"Web/Pilot Light Appointments /Cancel Service Appointment\",\"Web/Alerts & Notifications/Change Billing & Payment Alerts\",\"Web/Payment Account/Create Payment Account\",\"Web/Payment Account/Delete Payment Account\",\"Other Elec Pay Channels/Other Elec Pay Channels/EDI\",\"Call Center/Live Agent/Emergency \",\"Web/Alerts & Notifications/Energy Alerts\",\"Web/Alerts & Notifications/Event Day Alerts\",\"Web/Pay Plans/Extension Pay\",\"Web/Other Interactions /Gas Pipeline Map Views\",\"Call Center/Live Agent/General\",\"Web/Alerts & Notifications/Go Paperless Alerts\",\"Call Center/Tech/ICM\",\"Web/Pay Plans/Installment Pay\",\"Other Elec Pay Channels/Other Elec Pay Channels/LiHEAP\",\"Web/CARE/FERA /New Pages\",\"Call Center/Tech/Non-IVR\",\"Web/Alerts & Notifications/Notices & Services Information\",\"Other Elec Pay Channels/Other Elec Pay Channels/Online Banking\",\"Call Center/IVR/Other Transactions \",\"Call Center/Live Agent/Other Transactions \",\"Call Center/Live Agent/Outage - Live\",\"Call Center/IVR/Outage IVR\",\"Web/Alerts & Notifications/Outages Alerts\",\"Call Center/Live Agent/Pay Plans - Live\",\"Call Center/IVR/Pay Plans IVR\",\"Web/Alerts & Notifications/Payment Plan & Shutoff Nonpayment Alerts\",\"Mail/Mail/Payments\",\"Other Elec Pay Channels/Other Elec Pay Channels/Payments \",\"Call Center/IVR/Payments (IVR PaybyPhone)\",\"Call Center/Live Agent/Payments (PayByPhone)\",\"Web/Other Interactions /Recurring Payment Schedule\",\"Web/Other Interactions /Registration \",\"Web/Outage/Report Outage\\u00a0 Outage Map\",\"Web/Pilot Light Appointments /Reschedule Service Appointment\",\"Web/Pilot Light Appointments /Schedule Service Appointment\",\"Web/Outage/Search Outage By Address\\u00a0(outage Center/ Outage Map/ Address Look up)\",\"Other Elec Pay Channels/Other Elec Pay Channels/Secure Email\",\"Web/Alerts & Notifications/Service Visit Alerts\",\"Call Center/Live Agent/Solar \",\"Call Center/Live Agent/Spanish (General) \",\"Call Center/Live Agent/Specialty Lines \",\"Call Center/Live Agent/Start/Stop/Transfer (total) - Live\",\"Call Center/IVR/Start/Stop/Transfer (total) IVR\",\"Web/Outage/Subscribe Outage\\u00a0(EW Pages)\",\"Call Center/Live Agent/Transferred calls (total)\",\"Web/Payment Account/Update Payment Account\",\"Web/Billing/ViewBillCurrentPDF \",\"Web/Billing/ViewBillCurrentPDF historical\",\"Other Elec Pay Channels/Other Elec Pay Channels/Wire Transfer\",\"Web/Account Mgmt\",\"Web/Alerts & Notifications\",\"Web/Billing\",\"Web/Budget Billing (Login) \",\"Web/CARE/FERA \",\"Call Center/IVR\",\"Call Center/Live Agent\",\"Mail/Mail\",\"Other Elec Pay Channels/Other Elec Pay Channels\",\"Web/Other Interactions \",\"Web/Outage\",\"Web/Pay Plans\",\"Web/Payment Account\",\"Web/Payments\",\"Web/Pilot Light Appointments \",\"Web/Start/Stop/Transfer (total)\",\"Call Center/Tech\",\"Web/Usage and Rates\",\"Call Center\",\"Mail\",\"Other Elec Pay Channels\",\"Web\"],\"labels\":[\" Add/Edit Phone Number\",\" Change Billing Address \",\" Change User Name, Password \",\" Compare My Bills\",\" Compare My Bills UPDATED\",\" Existing Customer\",\" Home Energy Checkup\",\" New Customer \",\" One Time Access\",\" Online Rate Enrollment\",\" Rate Comparison\",\" Stop \",\" Transfer \",\" View Usage \",\" View Usage (July Onward)\",\" Your Account\",\"ACH\",\"APS\",\"Abandoned Calls (total)\",\"Account Balance\",\"Additional Communication Alerts\",\"Additional Communication Alerts (Aug Onward)\",\"BCSC (Bus. Cust. Service Center)\",\"Billing Balance \",\"Billing IVR\",\"Budget Billing (Login) \",\"Cancel Service Appointment\",\"Change Billing & Payment Alerts\",\"Create Payment Account\",\"Delete Payment Account\",\"EDI\",\"Emergency \",\"Energy Alerts\",\"Event Day Alerts\",\"Extension Pay\",\"Gas Pipeline Map Views\",\"General\",\"Go Paperless Alerts\",\"ICM\",\"Installment Pay\",\"LiHEAP\",\"New Pages\",\"Non-IVR\",\"Notices & Services Information\",\"Online Banking\",\"Other Transactions \",\"Other Transactions \",\"Outage - Live\",\"Outage IVR\",\"Outages Alerts\",\"Pay Plans - Live\",\"Pay Plans IVR\",\"Payment Plan & Shutoff Nonpayment Alerts\",\"Payments\",\"Payments \",\"Payments (IVR PaybyPhone)\",\"Payments (PayByPhone)\",\"Recurring Payment Schedule\",\"Registration \",\"Report Outage\\u00a0 Outage Map\",\"Reschedule Service Appointment\",\"Schedule Service Appointment\",\"Search Outage By Address\\u00a0(outage Center/ Outage Map/ Address Look up)\",\"Secure Email\",\"Service Visit Alerts\",\"Solar \",\"Spanish (General) \",\"Specialty Lines \",\"Start/Stop/Transfer (total) - Live\",\"Start/Stop/Transfer (total) IVR\",\"Subscribe Outage\\u00a0(EW Pages)\",\"Transferred calls (total)\",\"Update Payment Account\",\"ViewBillCurrentPDF \",\"ViewBillCurrentPDF historical\",\"Wire Transfer\",\"Account Mgmt\",\"Alerts & Notifications\",\"Billing\",\"Budget Billing (Login) \",\"CARE/FERA \",\"IVR\",\"Live Agent\",\"Mail\",\"Other Elec Pay Channels\",\"Other Interactions \",\"Outage\",\"Pay Plans\",\"Payment Account\",\"Payments\",\"Pilot Light Appointments \",\"Start/Stop/Transfer (total)\",\"Tech\",\"Usage and Rates\",\"Call Center\",\"Mail\",\"Other Elec Pay Channels\",\"Web\"],\"name\":\"\",\"parents\":[\"Web/Account Mgmt\",\"Web/Account Mgmt\",\"Web/Account Mgmt\",\"Web/Usage and Rates\",\"Web/Usage and Rates\",\"Web/Start/Stop/Transfer (total)\",\"Web/Usage and Rates\",\"Web/Start/Stop/Transfer (total)\",\"Web/Payments\",\"Web/Usage and Rates\",\"Web/Usage and Rates\",\"Web/Start/Stop/Transfer (total)\",\"Web/Start/Stop/Transfer (total)\",\"Web/Usage and Rates\",\"Web/Usage and Rates\",\"Web/Payments\",\"Other Elec Pay Channels/Other Elec Pay Channels\",\"Other Elec Pay Channels/Other Elec Pay Channels\",\"Call Center/Live Agent\",\"Call Center/IVR\",\"Web/Alerts & Notifications\",\"Web/Alerts & Notifications\",\"Call Center/Live Agent\",\"Call Center/Live Agent\",\"Call Center/IVR\",\"Web/Budget Billing (Login) \",\"Web/Pilot Light Appointments \",\"Web/Alerts & Notifications\",\"Web/Payment Account\",\"Web/Payment Account\",\"Other Elec Pay Channels/Other Elec Pay Channels\",\"Call Center/Live Agent\",\"Web/Alerts & Notifications\",\"Web/Alerts & Notifications\",\"Web/Pay Plans\",\"Web/Other Interactions \",\"Call Center/Live Agent\",\"Web/Alerts & Notifications\",\"Call Center/Tech\",\"Web/Pay Plans\",\"Other Elec Pay Channels/Other Elec Pay Channels\",\"Web/CARE/FERA \",\"Call Center/Tech\",\"Web/Alerts & Notifications\",\"Other Elec Pay Channels/Other Elec Pay Channels\",\"Call Center/IVR\",\"Call Center/Live Agent\",\"Call Center/Live Agent\",\"Call Center/IVR\",\"Web/Alerts & Notifications\",\"Call Center/Live Agent\",\"Call Center/IVR\",\"Web/Alerts & Notifications\",\"Mail/Mail\",\"Other Elec Pay Channels/Other Elec Pay Channels\",\"Call Center/IVR\",\"Call Center/Live Agent\",\"Web/Other Interactions \",\"Web/Other Interactions \",\"Web/Outage\",\"Web/Pilot Light Appointments \",\"Web/Pilot Light Appointments \",\"Web/Outage\",\"Other Elec Pay Channels/Other Elec Pay Channels\",\"Web/Alerts & Notifications\",\"Call Center/Live Agent\",\"Call Center/Live Agent\",\"Call Center/Live Agent\",\"Call Center/Live Agent\",\"Call Center/IVR\",\"Web/Outage\",\"Call Center/Live Agent\",\"Web/Payment Account\",\"Web/Billing\",\"Web/Billing\",\"Other Elec Pay Channels/Other Elec Pay Channels\",\"Web\",\"Web\",\"Web\",\"Web\",\"Web\",\"Call Center\",\"Call Center\",\"Mail\",\"Other Elec Pay Channels\",\"Web\",\"Web\",\"Web\",\"Web\",\"Web\",\"Web\",\"Web\",\"Call Center\",\"Web\",\"\",\"\",\"\",\"\"],\"values\":[137600,83947,159607,1425106,1310655,82019,362420,200864,3633827,140820,310259,178445,80187,2559618,633871,24316220,696000,3100000,267000,205000,3892,4794,466000,691000,1241000,16692,1907,302380,663126,244317,536000,449000,233548,16104,79960,15393,1341000,25758,2630000,220049,97000,278569,1200000,10738,11200000,678000,136000,246000,843000,12242,123000,209000,16992,12500000,15600000,4474000,137000,756747,538774,549793,1148,18987,4516009,1000,3697,479000,256000,220000,678000,337000,80199,3918000,16176,8992263,9361207,3000,381154,630145,18353470,16692,278569,7987000,9407000,12500000,31233000,1310914,5146001,300009,923619,27950047,22042,541515,3830000,6742749,21224000,12500000,31233000,62596926],\"type\":\"sunburst\"}],                        {\"template\":{\"data\":{\"histogram2dcontour\":[{\"type\":\"histogram2dcontour\",\"colorbar\":{\"outlinewidth\":0,\"ticks\":\"\"},\"colorscale\":[[0.0,\"#0d0887\"],[0.1111111111111111,\"#46039f\"],[0.2222222222222222,\"#7201a8\"],[0.3333333333333333,\"#9c179e\"],[0.4444444444444444,\"#bd3786\"],[0.5555555555555556,\"#d8576b\"],[0.6666666666666666,\"#ed7953\"],[0.7777777777777778,\"#fb9f3a\"],[0.8888888888888888,\"#fdca26\"],[1.0,\"#f0f921\"]]}],\"choropleth\":[{\"type\":\"choropleth\",\"colorbar\":{\"outlinewidth\":0,\"ticks\":\"\"}}],\"histogram2d\":[{\"type\":\"histogram2d\",\"colorbar\":{\"outlinewidth\":0,\"ticks\":\"\"},\"colorscale\":[[0.0,\"#0d0887\"],[0.1111111111111111,\"#46039f\"],[0.2222222222222222,\"#7201a8\"],[0.3333333333333333,\"#9c179e\"],[0.4444444444444444,\"#bd3786\"],[0.5555555555555556,\"#d8576b\"],[0.6666666666666666,\"#ed7953\"],[0.7777777777777778,\"#fb9f3a\"],[0.8888888888888888,\"#fdca26\"],[1.0,\"#f0f921\"]]}],\"heatmap\":[{\"type\":\"heatmap\",\"colorbar\":{\"outlinewidth\":0,\"ticks\":\"\"},\"colorscale\":[[0.0,\"#0d0887\"],[0.1111111111111111,\"#46039f\"],[0.2222222222222222,\"#7201a8\"],[0.3333333333333333,\"#9c179e\"],[0.4444444444444444,\"#bd3786\"],[0.5555555555555556,\"#d8576b\"],[0.6666666666666666,\"#ed7953\"],[0.7777777777777778,\"#fb9f3a\"],[0.8888888888888888,\"#fdca26\"],[1.0,\"#f0f921\"]]}],\"heatmapgl\":[{\"type\":\"heatmapgl\",\"colorbar\":{\"outlinewidth\":0,\"ticks\":\"\"},\"colorscale\":[[0.0,\"#0d0887\"],[0.1111111111111111,\"#46039f\"],[0.2222222222222222,\"#7201a8\"],[0.3333333333333333,\"#9c179e\"],[0.4444444444444444,\"#bd3786\"],[0.5555555555555556,\"#d8576b\"],[0.6666666666666666,\"#ed7953\"],[0.7777777777777778,\"#fb9f3a\"],[0.8888888888888888,\"#fdca26\"],[1.0,\"#f0f921\"]]}],\"contourcarpet\":[{\"type\":\"contourcarpet\",\"colorbar\":{\"outlinewidth\":0,\"ticks\":\"\"}}],\"contour\":[{\"type\":\"contour\",\"colorbar\":{\"outlinewidth\":0,\"ticks\":\"\"},\"colorscale\":[[0.0,\"#0d0887\"],[0.1111111111111111,\"#46039f\"],[0.2222222222222222,\"#7201a8\"],[0.3333333333333333,\"#9c179e\"],[0.4444444444444444,\"#bd3786\"],[0.5555555555555556,\"#d8576b\"],[0.6666666666666666,\"#ed7953\"],[0.7777777777777778,\"#fb9f3a\"],[0.8888888888888888,\"#fdca26\"],[1.0,\"#f0f921\"]]}],\"surface\":[{\"type\":\"surface\",\"colorbar\":{\"outlinewidth\":0,\"ticks\":\"\"},\"colorscale\":[[0.0,\"#0d0887\"],[0.1111111111111111,\"#46039f\"],[0.2222222222222222,\"#7201a8\"],[0.3333333333333333,\"#9c179e\"],[0.4444444444444444,\"#bd3786\"],[0.5555555555555556,\"#d8576b\"],[0.6666666666666666,\"#ed7953\"],[0.7777777777777778,\"#fb9f3a\"],[0.8888888888888888,\"#fdca26\"],[1.0,\"#f0f921\"]]}],\"mesh3d\":[{\"type\":\"mesh3d\",\"colorbar\":{\"outlinewidth\":0,\"ticks\":\"\"}}],\"scatter\":[{\"fillpattern\":{\"fillmode\":\"overlay\",\"size\":10,\"solidity\":0.2},\"type\":\"scatter\"}],\"parcoords\":[{\"type\":\"parcoords\",\"line\":{\"colorbar\":{\"outlinewidth\":0,\"ticks\":\"\"}}}],\"scatterpolargl\":[{\"type\":\"scatterpolargl\",\"marker\":{\"colorbar\":{\"outlinewidth\":0,\"ticks\":\"\"}}}],\"bar\":[{\"error_x\":{\"color\":\"#2a3f5f\"},\"error_y\":{\"color\":\"#2a3f5f\"},\"marker\":{\"line\":{\"color\":\"#E5ECF6\",\"width\":0.5},\"pattern\":{\"fillmode\":\"overlay\",\"size\":10,\"solidity\":0.2}},\"type\":\"bar\"}],\"scattergeo\":[{\"type\":\"scattergeo\",\"marker\":{\"colorbar\":{\"outlinewidth\":0,\"ticks\":\"\"}}}],\"scatterpolar\":[{\"type\":\"scatterpolar\",\"marker\":{\"colorbar\":{\"outlinewidth\":0,\"ticks\":\"\"}}}],\"histogram\":[{\"marker\":{\"pattern\":{\"fillmode\":\"overlay\",\"size\":10,\"solidity\":0.2}},\"type\":\"histogram\"}],\"scattergl\":[{\"type\":\"scattergl\",\"marker\":{\"colorbar\":{\"outlinewidth\":0,\"ticks\":\"\"}}}],\"scatter3d\":[{\"type\":\"scatter3d\",\"line\":{\"colorbar\":{\"outlinewidth\":0,\"ticks\":\"\"}},\"marker\":{\"colorbar\":{\"outlinewidth\":0,\"ticks\":\"\"}}}],\"scattermapbox\":[{\"type\":\"scattermapbox\",\"marker\":{\"colorbar\":{\"outlinewidth\":0,\"ticks\":\"\"}}}],\"scatterternary\":[{\"type\":\"scatterternary\",\"marker\":{\"colorbar\":{\"outlinewidth\":0,\"ticks\":\"\"}}}],\"scattercarpet\":[{\"type\":\"scattercarpet\",\"marker\":{\"colorbar\":{\"outlinewidth\":0,\"ticks\":\"\"}}}],\"carpet\":[{\"aaxis\":{\"endlinecolor\":\"#2a3f5f\",\"gridcolor\":\"white\",\"linecolor\":\"white\",\"minorgridcolor\":\"white\",\"startlinecolor\":\"#2a3f5f\"},\"baxis\":{\"endlinecolor\":\"#2a3f5f\",\"gridcolor\":\"white\",\"linecolor\":\"white\",\"minorgridcolor\":\"white\",\"startlinecolor\":\"#2a3f5f\"},\"type\":\"carpet\"}],\"table\":[{\"cells\":{\"fill\":{\"color\":\"#EBF0F8\"},\"line\":{\"color\":\"white\"}},\"header\":{\"fill\":{\"color\":\"#C8D4E3\"},\"line\":{\"color\":\"white\"}},\"type\":\"table\"}],\"barpolar\":[{\"marker\":{\"line\":{\"color\":\"#E5ECF6\",\"width\":0.5},\"pattern\":{\"fillmode\":\"overlay\",\"size\":10,\"solidity\":0.2}},\"type\":\"barpolar\"}],\"pie\":[{\"automargin\":true,\"type\":\"pie\"}]},\"layout\":{\"autotypenumbers\":\"strict\",\"colorway\":[\"#636efa\",\"#EF553B\",\"#00cc96\",\"#ab63fa\",\"#FFA15A\",\"#19d3f3\",\"#FF6692\",\"#B6E880\",\"#FF97FF\",\"#FECB52\"],\"font\":{\"color\":\"#2a3f5f\"},\"hovermode\":\"closest\",\"hoverlabel\":{\"align\":\"left\"},\"paper_bgcolor\":\"white\",\"plot_bgcolor\":\"#E5ECF6\",\"polar\":{\"bgcolor\":\"#E5ECF6\",\"angularaxis\":{\"gridcolor\":\"white\",\"linecolor\":\"white\",\"ticks\":\"\"},\"radialaxis\":{\"gridcolor\":\"white\",\"linecolor\":\"white\",\"ticks\":\"\"}},\"ternary\":{\"bgcolor\":\"#E5ECF6\",\"aaxis\":{\"gridcolor\":\"white\",\"linecolor\":\"white\",\"ticks\":\"\"},\"baxis\":{\"gridcolor\":\"white\",\"linecolor\":\"white\",\"ticks\":\"\"},\"caxis\":{\"gridcolor\":\"white\",\"linecolor\":\"white\",\"ticks\":\"\"}},\"coloraxis\":{\"colorbar\":{\"outlinewidth\":0,\"ticks\":\"\"}},\"colorscale\":{\"sequential\":[[0.0,\"#0d0887\"],[0.1111111111111111,\"#46039f\"],[0.2222222222222222,\"#7201a8\"],[0.3333333333333333,\"#9c179e\"],[0.4444444444444444,\"#bd3786\"],[0.5555555555555556,\"#d8576b\"],[0.6666666666666666,\"#ed7953\"],[0.7777777777777778,\"#fb9f3a\"],[0.8888888888888888,\"#fdca26\"],[1.0,\"#f0f921\"]],\"sequentialminus\":[[0.0,\"#0d0887\"],[0.1111111111111111,\"#46039f\"],[0.2222222222222222,\"#7201a8\"],[0.3333333333333333,\"#9c179e\"],[0.4444444444444444,\"#bd3786\"],[0.5555555555555556,\"#d8576b\"],[0.6666666666666666,\"#ed7953\"],[0.7777777777777778,\"#fb9f3a\"],[0.8888888888888888,\"#fdca26\"],[1.0,\"#f0f921\"]],\"diverging\":[[0,\"#8e0152\"],[0.1,\"#c51b7d\"],[0.2,\"#de77ae\"],[0.3,\"#f1b6da\"],[0.4,\"#fde0ef\"],[0.5,\"#f7f7f7\"],[0.6,\"#e6f5d0\"],[0.7,\"#b8e186\"],[0.8,\"#7fbc41\"],[0.9,\"#4d9221\"],[1,\"#276419\"]]},\"xaxis\":{\"gridcolor\":\"white\",\"linecolor\":\"white\",\"ticks\":\"\",\"title\":{\"standoff\":15},\"zerolinecolor\":\"white\",\"automargin\":true,\"zerolinewidth\":2},\"yaxis\":{\"gridcolor\":\"white\",\"linecolor\":\"white\",\"ticks\":\"\",\"title\":{\"standoff\":15},\"zerolinecolor\":\"white\",\"automargin\":true,\"zerolinewidth\":2},\"scene\":{\"xaxis\":{\"backgroundcolor\":\"#E5ECF6\",\"gridcolor\":\"white\",\"linecolor\":\"white\",\"showbackground\":true,\"ticks\":\"\",\"zerolinecolor\":\"white\",\"gridwidth\":2},\"yaxis\":{\"backgroundcolor\":\"#E5ECF6\",\"gridcolor\":\"white\",\"linecolor\":\"white\",\"showbackground\":true,\"ticks\":\"\",\"zerolinecolor\":\"white\",\"gridwidth\":2},\"zaxis\":{\"backgroundcolor\":\"#E5ECF6\",\"gridcolor\":\"white\",\"linecolor\":\"white\",\"showbackground\":true,\"ticks\":\"\",\"zerolinecolor\":\"white\",\"gridwidth\":2}},\"shapedefaults\":{\"line\":{\"color\":\"#2a3f5f\"}},\"annotationdefaults\":{\"arrowcolor\":\"#2a3f5f\",\"arrowhead\":0,\"arrowwidth\":1},\"geo\":{\"bgcolor\":\"white\",\"landcolor\":\"#E5ECF6\",\"subunitcolor\":\"white\",\"showland\":true,\"showlakes\":true,\"lakecolor\":\"white\"},\"title\":{\"x\":0.05},\"mapbox\":{\"style\":\"light\"}}},\"legend\":{\"tracegroupgap\":0},\"margin\":{\"t\":60}},                        {\"responsive\": true}                    ).then(function(){\n",
       "                            \n",
       "var gd = document.getElementById('0a660d17-38e1-459e-ad47-9f6c1d51b11a');\n",
       "var x = new MutationObserver(function (mutations, observer) {{\n",
       "        var display = window.getComputedStyle(gd).display;\n",
       "        if (!display || display === 'none') {{\n",
       "            console.log([gd, 'removed!']);\n",
       "            Plotly.purge(gd);\n",
       "            observer.disconnect();\n",
       "        }}\n",
       "}});\n",
       "\n",
       "// Listen for the removal of the full notebook cells\n",
       "var notebookContainer = gd.closest('#notebook-container');\n",
       "if (notebookContainer) {{\n",
       "    x.observe(notebookContainer, {childList: true});\n",
       "}}\n",
       "\n",
       "// Listen for the clearing of the current output cell\n",
       "var outputEl = gd.closest('.output');\n",
       "if (outputEl) {{\n",
       "    x.observe(outputEl, {childList: true});\n",
       "}}\n",
       "\n",
       "                        })                };                });            </script>        </div>"
      ]
     },
     "metadata": {},
     "output_type": "display_data"
    }
   ],
   "source": [
    "# Create a sunburst chart using Plotly Express\n",
    "fig = px.sunburst(df, path=[\"Root Level\", \"Level 1\", \"Level 2\"], values='Value')\n",
    "fig.show()"
   ]
  },
  {
   "cell_type": "code",
   "execution_count": 211,
   "metadata": {},
   "outputs": [
    {
     "data": {
      "text/html": [
       "<div>                            <div id=\"2d56f1d1-951f-4372-bcc4-c9fc600f2346\" class=\"plotly-graph-div\" style=\"height:480px; width:640px;\"></div>            <script type=\"text/javascript\">                require([\"plotly\"], function(Plotly) {                    window.PLOTLYENV=window.PLOTLYENV || {};                                    if (document.getElementById(\"2d56f1d1-951f-4372-bcc4-c9fc600f2346\")) {                    Plotly.newPlot(                        \"2d56f1d1-951f-4372-bcc4-c9fc600f2346\",                        [{\"branchvalues\":\"total\",\"domain\":{\"x\":[0.0,1.0],\"y\":[0.0,1.0]},\"hovertemplate\":\"<b>%{hovertext}</b><br><br>labels=%{label}<br>Value=%{value}<br>parent=%{parent}<br>id=%{id}<extra></extra>\",\"hovertext\":[137600.0,83947.0,159607.0,1425106.0,1310655.0,82019.0,362420.0,200864.0,3633827.0,140820.0,310259.0,178445.0,80187.0,2559618.0,633871.0,24316220.0,696000.0,3100000.0,267000.0,205000.0,3892.0,4794.0,466000.0,691000.0,1241000.0,16692.0,1907.0,302380.0,663126.0,244317.0,536000.0,449000.0,233548.0,16104.0,79960.0,15393.0,1341000.0,25758.0,2630000.0,220049.0,97000.0,278569.0,1200000.0,10738.0,11200000.0,678000.0,136000.0,246000.0,843000.0,12242.0,123000.0,209000.0,16992.0,12500000.0,15600000.0,4474000.0,137000.0,756747.0,538774.0,549793.0,1148.0,18987.0,4516009.0,1000.0,3697.0,479000.0,256000.0,220000.0,678000.0,337000.0,80199.0,3918000.0,16176.0,8992263.0,9361207.0,3000.0,381154.0,630145.0,18353470.0,16692.0,278569.0,7987000.0,9407000.0,12500000.0,31233000.0,1310914.0,5146001.0,300009.0,923619.0,27950047.0,22042.0,541515.0,3830000.0,6742749.0,21224000.0,12500000.0,31233000.0,62596926.0],\"ids\":[\"Web/Account Mgmt/ Add/Edit Phone Number\",\"Web/Account Mgmt/ Change Billing Address \",\"Web/Account Mgmt/ Change User Name, Password \",\"Web/Usage and Rates/ Compare My Bills\",\"Web/Usage and Rates/ Compare My Bills UPDATED\",\"Web/Start/Stop/Transfer (total)/ Existing Customer\",\"Web/Usage and Rates/ Home Energy Checkup\",\"Web/Start/Stop/Transfer (total)/ New Customer \",\"Web/Payments/ One Time Access\",\"Web/Usage and Rates/ Online Rate Enrollment\",\"Web/Usage and Rates/ Rate Comparison\",\"Web/Start/Stop/Transfer (total)/ Stop \",\"Web/Start/Stop/Transfer (total)/ Transfer \",\"Web/Usage and Rates/ View Usage \",\"Web/Usage and Rates/ View Usage (July Onward)\",\"Web/Payments/ Your Account\",\"Other Elec Pay Channels/Other Elec Pay Channels/ACH\",\"Other Elec Pay Channels/Other Elec Pay Channels/APS\",\"Call Center/Live Agent/Abandoned Calls (total)\",\"Call Center/IVR/Account Balance\",\"Web/Alerts & Notifications/Additional Communication Alerts\",\"Web/Alerts & Notifications/Additional Communication Alerts (Aug Onward)\",\"Call Center/Live Agent/BCSC (Bus. Cust. Service Center)\",\"Call Center/Live Agent/Billing Balance \",\"Call Center/IVR/Billing IVR\",\"Web/Budget Billing (Login) /Budget Billing (Login) \",\"Web/Pilot Light Appointments /Cancel Service Appointment\",\"Web/Alerts & Notifications/Change Billing & Payment Alerts\",\"Web/Payment Account/Create Payment Account\",\"Web/Payment Account/Delete Payment Account\",\"Other Elec Pay Channels/Other Elec Pay Channels/EDI\",\"Call Center/Live Agent/Emergency \",\"Web/Alerts & Notifications/Energy Alerts\",\"Web/Alerts & Notifications/Event Day Alerts\",\"Web/Pay Plans/Extension Pay\",\"Web/Other Interactions /Gas Pipeline Map Views\",\"Call Center/Live Agent/General\",\"Web/Alerts & Notifications/Go Paperless Alerts\",\"Call Center/Tech/ICM\",\"Web/Pay Plans/Installment Pay\",\"Other Elec Pay Channels/Other Elec Pay Channels/LiHEAP\",\"Web/CARE/FERA /New Pages\",\"Call Center/Tech/Non-IVR\",\"Web/Alerts & Notifications/Notices & Services Information\",\"Other Elec Pay Channels/Other Elec Pay Channels/Online Banking\",\"Call Center/IVR/Other Transactions \",\"Call Center/Live Agent/Other Transactions \",\"Call Center/Live Agent/Outage - Live\",\"Call Center/IVR/Outage IVR\",\"Web/Alerts & Notifications/Outages Alerts\",\"Call Center/Live Agent/Pay Plans - Live\",\"Call Center/IVR/Pay Plans IVR\",\"Web/Alerts & Notifications/Payment Plan & Shutoff Nonpayment Alerts\",\"Mail/Mail/Payments\",\"Other Elec Pay Channels/Other Elec Pay Channels/Payments \",\"Call Center/IVR/Payments (IVR PaybyPhone)\",\"Call Center/Live Agent/Payments (PayByPhone)\",\"Web/Other Interactions /Recurring Payment Schedule\",\"Web/Other Interactions /Registration \",\"Web/Outage/Report Outage\\u00a0 Outage Map\",\"Web/Pilot Light Appointments /Reschedule Service Appointment\",\"Web/Pilot Light Appointments /Schedule Service Appointment\",\"Web/Outage/Search Outage By Address\\u00a0(outage Center/ Outage Map/ Address Look up)\",\"Other Elec Pay Channels/Other Elec Pay Channels/Secure Email\",\"Web/Alerts & Notifications/Service Visit Alerts\",\"Call Center/Live Agent/Solar \",\"Call Center/Live Agent/Spanish (General) \",\"Call Center/Live Agent/Specialty Lines \",\"Call Center/Live Agent/Start/Stop/Transfer (total) - Live\",\"Call Center/IVR/Start/Stop/Transfer (total) IVR\",\"Web/Outage/Subscribe Outage\\u00a0(EW Pages)\",\"Call Center/Live Agent/Transferred calls (total)\",\"Web/Payment Account/Update Payment Account\",\"Web/Billing/ViewBillCurrentPDF \",\"Web/Billing/ViewBillCurrentPDF historical\",\"Other Elec Pay Channels/Other Elec Pay Channels/Wire Transfer\",\"Web/Account Mgmt\",\"Web/Alerts & Notifications\",\"Web/Billing\",\"Web/Budget Billing (Login) \",\"Web/CARE/FERA \",\"Call Center/IVR\",\"Call Center/Live Agent\",\"Mail/Mail\",\"Other Elec Pay Channels/Other Elec Pay Channels\",\"Web/Other Interactions \",\"Web/Outage\",\"Web/Pay Plans\",\"Web/Payment Account\",\"Web/Payments\",\"Web/Pilot Light Appointments \",\"Web/Start/Stop/Transfer (total)\",\"Call Center/Tech\",\"Web/Usage and Rates\",\"Call Center\",\"Mail\",\"Other Elec Pay Channels\",\"Web\"],\"labels\":[\" Add/Edit Phone Number\",\" Change Billing Address \",\" Change User Name, Password \",\" Compare My Bills\",\" Compare My Bills UPDATED\",\" Existing Customer\",\" Home Energy Checkup\",\" New Customer \",\" One Time Access\",\" Online Rate Enrollment\",\" Rate Comparison\",\" Stop \",\" Transfer \",\" View Usage \",\" View Usage (July Onward)\",\" Your Account\",\"ACH\",\"APS\",\"Abandoned Calls (total)\",\"Account Balance\",\"Additional Communication Alerts\",\"Additional Communication Alerts (Aug Onward)\",\"BCSC (Bus. Cust. Service Center)\",\"Billing Balance \",\"Billing IVR\",\"Budget Billing (Login) \",\"Cancel Service Appointment\",\"Change Billing & Payment Alerts\",\"Create Payment Account\",\"Delete Payment Account\",\"EDI\",\"Emergency \",\"Energy Alerts\",\"Event Day Alerts\",\"Extension Pay\",\"Gas Pipeline Map Views\",\"General\",\"Go Paperless Alerts\",\"ICM\",\"Installment Pay\",\"LiHEAP\",\"New Pages\",\"Non-IVR\",\"Notices & Services Information\",\"Online Banking\",\"Other Transactions \",\"Other Transactions \",\"Outage - Live\",\"Outage IVR\",\"Outages Alerts\",\"Pay Plans - Live\",\"Pay Plans IVR\",\"Payment Plan & Shutoff Nonpayment Alerts\",\"Payments\",\"Payments \",\"Payments (IVR PaybyPhone)\",\"Payments (PayByPhone)\",\"Recurring Payment Schedule\",\"Registration \",\"Report Outage\\u00a0 Outage Map\",\"Reschedule Service Appointment\",\"Schedule Service Appointment\",\"Search Outage By Address\\u00a0(outage Center/ Outage Map/ Address Look up)\",\"Secure Email\",\"Service Visit Alerts\",\"Solar \",\"Spanish (General) \",\"Specialty Lines \",\"Start/Stop/Transfer (total) - Live\",\"Start/Stop/Transfer (total) IVR\",\"Subscribe Outage\\u00a0(EW Pages)\",\"Transferred calls (total)\",\"Update Payment Account\",\"ViewBillCurrentPDF \",\"ViewBillCurrentPDF historical\",\"Wire Transfer\",\"Account Mgmt\",\"Alerts & Notifications\",\"Billing\",\"Budget Billing (Login) \",\"CARE/FERA \",\"IVR\",\"Live Agent\",\"Mail\",\"Other Elec Pay Channels\",\"Other Interactions \",\"Outage\",\"Pay Plans\",\"Payment Account\",\"Payments\",\"Pilot Light Appointments \",\"Start/Stop/Transfer (total)\",\"Tech\",\"Usage and Rates\",\"Call Center\",\"Mail\",\"Other Elec Pay Channels\",\"Web\"],\"name\":\"\",\"parents\":[\"Web/Account Mgmt\",\"Web/Account Mgmt\",\"Web/Account Mgmt\",\"Web/Usage and Rates\",\"Web/Usage and Rates\",\"Web/Start/Stop/Transfer (total)\",\"Web/Usage and Rates\",\"Web/Start/Stop/Transfer (total)\",\"Web/Payments\",\"Web/Usage and Rates\",\"Web/Usage and Rates\",\"Web/Start/Stop/Transfer (total)\",\"Web/Start/Stop/Transfer (total)\",\"Web/Usage and Rates\",\"Web/Usage and Rates\",\"Web/Payments\",\"Other Elec Pay Channels/Other Elec Pay Channels\",\"Other Elec Pay Channels/Other Elec Pay Channels\",\"Call Center/Live Agent\",\"Call Center/IVR\",\"Web/Alerts & Notifications\",\"Web/Alerts & Notifications\",\"Call Center/Live Agent\",\"Call Center/Live Agent\",\"Call Center/IVR\",\"Web/Budget Billing (Login) \",\"Web/Pilot Light Appointments \",\"Web/Alerts & Notifications\",\"Web/Payment Account\",\"Web/Payment Account\",\"Other Elec Pay Channels/Other Elec Pay Channels\",\"Call Center/Live Agent\",\"Web/Alerts & Notifications\",\"Web/Alerts & Notifications\",\"Web/Pay Plans\",\"Web/Other Interactions \",\"Call Center/Live Agent\",\"Web/Alerts & Notifications\",\"Call Center/Tech\",\"Web/Pay Plans\",\"Other Elec Pay Channels/Other Elec Pay Channels\",\"Web/CARE/FERA \",\"Call Center/Tech\",\"Web/Alerts & Notifications\",\"Other Elec Pay Channels/Other Elec Pay Channels\",\"Call Center/IVR\",\"Call Center/Live Agent\",\"Call Center/Live Agent\",\"Call Center/IVR\",\"Web/Alerts & Notifications\",\"Call Center/Live Agent\",\"Call Center/IVR\",\"Web/Alerts & Notifications\",\"Mail/Mail\",\"Other Elec Pay Channels/Other Elec Pay Channels\",\"Call Center/IVR\",\"Call Center/Live Agent\",\"Web/Other Interactions \",\"Web/Other Interactions \",\"Web/Outage\",\"Web/Pilot Light Appointments \",\"Web/Pilot Light Appointments \",\"Web/Outage\",\"Other Elec Pay Channels/Other Elec Pay Channels\",\"Web/Alerts & Notifications\",\"Call Center/Live Agent\",\"Call Center/Live Agent\",\"Call Center/Live Agent\",\"Call Center/Live Agent\",\"Call Center/IVR\",\"Web/Outage\",\"Call Center/Live Agent\",\"Web/Payment Account\",\"Web/Billing\",\"Web/Billing\",\"Other Elec Pay Channels/Other Elec Pay Channels\",\"Web\",\"Web\",\"Web\",\"Web\",\"Web\",\"Call Center\",\"Call Center\",\"Mail\",\"Other Elec Pay Channels\",\"Web\",\"Web\",\"Web\",\"Web\",\"Web\",\"Web\",\"Web\",\"Call Center\",\"Web\",\"\",\"\",\"\",\"\"],\"values\":[137600,83947,159607,1425106,1310655,82019,362420,200864,3633827,140820,310259,178445,80187,2559618,633871,24316220,696000,3100000,267000,205000,3892,4794,466000,691000,1241000,16692,1907,302380,663126,244317,536000,449000,233548,16104,79960,15393,1341000,25758,2630000,220049,97000,278569,1200000,10738,11200000,678000,136000,246000,843000,12242,123000,209000,16992,12500000,15600000,4474000,137000,756747,538774,549793,1148,18987,4516009,1000,3697,479000,256000,220000,678000,337000,80199,3918000,16176,8992263,9361207,3000,381154,630145,18353470,16692,278569,7987000,9407000,12500000,31233000,1310914,5146001,300009,923619,27950047,22042,541515,3830000,6742749,21224000,12500000,31233000,62596926],\"type\":\"sunburst\"}],                        {\"template\":{\"data\":{\"histogram2dcontour\":[{\"type\":\"histogram2dcontour\",\"colorbar\":{\"outlinewidth\":0,\"ticks\":\"\"},\"colorscale\":[[0.0,\"#0d0887\"],[0.1111111111111111,\"#46039f\"],[0.2222222222222222,\"#7201a8\"],[0.3333333333333333,\"#9c179e\"],[0.4444444444444444,\"#bd3786\"],[0.5555555555555556,\"#d8576b\"],[0.6666666666666666,\"#ed7953\"],[0.7777777777777778,\"#fb9f3a\"],[0.8888888888888888,\"#fdca26\"],[1.0,\"#f0f921\"]]}],\"choropleth\":[{\"type\":\"choropleth\",\"colorbar\":{\"outlinewidth\":0,\"ticks\":\"\"}}],\"histogram2d\":[{\"type\":\"histogram2d\",\"colorbar\":{\"outlinewidth\":0,\"ticks\":\"\"},\"colorscale\":[[0.0,\"#0d0887\"],[0.1111111111111111,\"#46039f\"],[0.2222222222222222,\"#7201a8\"],[0.3333333333333333,\"#9c179e\"],[0.4444444444444444,\"#bd3786\"],[0.5555555555555556,\"#d8576b\"],[0.6666666666666666,\"#ed7953\"],[0.7777777777777778,\"#fb9f3a\"],[0.8888888888888888,\"#fdca26\"],[1.0,\"#f0f921\"]]}],\"heatmap\":[{\"type\":\"heatmap\",\"colorbar\":{\"outlinewidth\":0,\"ticks\":\"\"},\"colorscale\":[[0.0,\"#0d0887\"],[0.1111111111111111,\"#46039f\"],[0.2222222222222222,\"#7201a8\"],[0.3333333333333333,\"#9c179e\"],[0.4444444444444444,\"#bd3786\"],[0.5555555555555556,\"#d8576b\"],[0.6666666666666666,\"#ed7953\"],[0.7777777777777778,\"#fb9f3a\"],[0.8888888888888888,\"#fdca26\"],[1.0,\"#f0f921\"]]}],\"heatmapgl\":[{\"type\":\"heatmapgl\",\"colorbar\":{\"outlinewidth\":0,\"ticks\":\"\"},\"colorscale\":[[0.0,\"#0d0887\"],[0.1111111111111111,\"#46039f\"],[0.2222222222222222,\"#7201a8\"],[0.3333333333333333,\"#9c179e\"],[0.4444444444444444,\"#bd3786\"],[0.5555555555555556,\"#d8576b\"],[0.6666666666666666,\"#ed7953\"],[0.7777777777777778,\"#fb9f3a\"],[0.8888888888888888,\"#fdca26\"],[1.0,\"#f0f921\"]]}],\"contourcarpet\":[{\"type\":\"contourcarpet\",\"colorbar\":{\"outlinewidth\":0,\"ticks\":\"\"}}],\"contour\":[{\"type\":\"contour\",\"colorbar\":{\"outlinewidth\":0,\"ticks\":\"\"},\"colorscale\":[[0.0,\"#0d0887\"],[0.1111111111111111,\"#46039f\"],[0.2222222222222222,\"#7201a8\"],[0.3333333333333333,\"#9c179e\"],[0.4444444444444444,\"#bd3786\"],[0.5555555555555556,\"#d8576b\"],[0.6666666666666666,\"#ed7953\"],[0.7777777777777778,\"#fb9f3a\"],[0.8888888888888888,\"#fdca26\"],[1.0,\"#f0f921\"]]}],\"surface\":[{\"type\":\"surface\",\"colorbar\":{\"outlinewidth\":0,\"ticks\":\"\"},\"colorscale\":[[0.0,\"#0d0887\"],[0.1111111111111111,\"#46039f\"],[0.2222222222222222,\"#7201a8\"],[0.3333333333333333,\"#9c179e\"],[0.4444444444444444,\"#bd3786\"],[0.5555555555555556,\"#d8576b\"],[0.6666666666666666,\"#ed7953\"],[0.7777777777777778,\"#fb9f3a\"],[0.8888888888888888,\"#fdca26\"],[1.0,\"#f0f921\"]]}],\"mesh3d\":[{\"type\":\"mesh3d\",\"colorbar\":{\"outlinewidth\":0,\"ticks\":\"\"}}],\"scatter\":[{\"fillpattern\":{\"fillmode\":\"overlay\",\"size\":10,\"solidity\":0.2},\"type\":\"scatter\"}],\"parcoords\":[{\"type\":\"parcoords\",\"line\":{\"colorbar\":{\"outlinewidth\":0,\"ticks\":\"\"}}}],\"scatterpolargl\":[{\"type\":\"scatterpolargl\",\"marker\":{\"colorbar\":{\"outlinewidth\":0,\"ticks\":\"\"}}}],\"bar\":[{\"error_x\":{\"color\":\"#2a3f5f\"},\"error_y\":{\"color\":\"#2a3f5f\"},\"marker\":{\"line\":{\"color\":\"#E5ECF6\",\"width\":0.5},\"pattern\":{\"fillmode\":\"overlay\",\"size\":10,\"solidity\":0.2}},\"type\":\"bar\"}],\"scattergeo\":[{\"type\":\"scattergeo\",\"marker\":{\"colorbar\":{\"outlinewidth\":0,\"ticks\":\"\"}}}],\"scatterpolar\":[{\"type\":\"scatterpolar\",\"marker\":{\"colorbar\":{\"outlinewidth\":0,\"ticks\":\"\"}}}],\"histogram\":[{\"marker\":{\"pattern\":{\"fillmode\":\"overlay\",\"size\":10,\"solidity\":0.2}},\"type\":\"histogram\"}],\"scattergl\":[{\"type\":\"scattergl\",\"marker\":{\"colorbar\":{\"outlinewidth\":0,\"ticks\":\"\"}}}],\"scatter3d\":[{\"type\":\"scatter3d\",\"line\":{\"colorbar\":{\"outlinewidth\":0,\"ticks\":\"\"}},\"marker\":{\"colorbar\":{\"outlinewidth\":0,\"ticks\":\"\"}}}],\"scattermapbox\":[{\"type\":\"scattermapbox\",\"marker\":{\"colorbar\":{\"outlinewidth\":0,\"ticks\":\"\"}}}],\"scatterternary\":[{\"type\":\"scatterternary\",\"marker\":{\"colorbar\":{\"outlinewidth\":0,\"ticks\":\"\"}}}],\"scattercarpet\":[{\"type\":\"scattercarpet\",\"marker\":{\"colorbar\":{\"outlinewidth\":0,\"ticks\":\"\"}}}],\"carpet\":[{\"aaxis\":{\"endlinecolor\":\"#2a3f5f\",\"gridcolor\":\"white\",\"linecolor\":\"white\",\"minorgridcolor\":\"white\",\"startlinecolor\":\"#2a3f5f\"},\"baxis\":{\"endlinecolor\":\"#2a3f5f\",\"gridcolor\":\"white\",\"linecolor\":\"white\",\"minorgridcolor\":\"white\",\"startlinecolor\":\"#2a3f5f\"},\"type\":\"carpet\"}],\"table\":[{\"cells\":{\"fill\":{\"color\":\"#EBF0F8\"},\"line\":{\"color\":\"white\"}},\"header\":{\"fill\":{\"color\":\"#C8D4E3\"},\"line\":{\"color\":\"white\"}},\"type\":\"table\"}],\"barpolar\":[{\"marker\":{\"line\":{\"color\":\"#E5ECF6\",\"width\":0.5},\"pattern\":{\"fillmode\":\"overlay\",\"size\":10,\"solidity\":0.2}},\"type\":\"barpolar\"}],\"pie\":[{\"automargin\":true,\"type\":\"pie\"}]},\"layout\":{\"autotypenumbers\":\"strict\",\"colorway\":[\"#636efa\",\"#EF553B\",\"#00cc96\",\"#ab63fa\",\"#FFA15A\",\"#19d3f3\",\"#FF6692\",\"#B6E880\",\"#FF97FF\",\"#FECB52\"],\"font\":{\"color\":\"#2a3f5f\"},\"hovermode\":\"closest\",\"hoverlabel\":{\"align\":\"left\"},\"paper_bgcolor\":\"white\",\"plot_bgcolor\":\"#E5ECF6\",\"polar\":{\"bgcolor\":\"#E5ECF6\",\"angularaxis\":{\"gridcolor\":\"white\",\"linecolor\":\"white\",\"ticks\":\"\"},\"radialaxis\":{\"gridcolor\":\"white\",\"linecolor\":\"white\",\"ticks\":\"\"}},\"ternary\":{\"bgcolor\":\"#E5ECF6\",\"aaxis\":{\"gridcolor\":\"white\",\"linecolor\":\"white\",\"ticks\":\"\"},\"baxis\":{\"gridcolor\":\"white\",\"linecolor\":\"white\",\"ticks\":\"\"},\"caxis\":{\"gridcolor\":\"white\",\"linecolor\":\"white\",\"ticks\":\"\"}},\"coloraxis\":{\"colorbar\":{\"outlinewidth\":0,\"ticks\":\"\"}},\"colorscale\":{\"sequential\":[[0.0,\"#0d0887\"],[0.1111111111111111,\"#46039f\"],[0.2222222222222222,\"#7201a8\"],[0.3333333333333333,\"#9c179e\"],[0.4444444444444444,\"#bd3786\"],[0.5555555555555556,\"#d8576b\"],[0.6666666666666666,\"#ed7953\"],[0.7777777777777778,\"#fb9f3a\"],[0.8888888888888888,\"#fdca26\"],[1.0,\"#f0f921\"]],\"sequentialminus\":[[0.0,\"#0d0887\"],[0.1111111111111111,\"#46039f\"],[0.2222222222222222,\"#7201a8\"],[0.3333333333333333,\"#9c179e\"],[0.4444444444444444,\"#bd3786\"],[0.5555555555555556,\"#d8576b\"],[0.6666666666666666,\"#ed7953\"],[0.7777777777777778,\"#fb9f3a\"],[0.8888888888888888,\"#fdca26\"],[1.0,\"#f0f921\"]],\"diverging\":[[0,\"#8e0152\"],[0.1,\"#c51b7d\"],[0.2,\"#de77ae\"],[0.3,\"#f1b6da\"],[0.4,\"#fde0ef\"],[0.5,\"#f7f7f7\"],[0.6,\"#e6f5d0\"],[0.7,\"#b8e186\"],[0.8,\"#7fbc41\"],[0.9,\"#4d9221\"],[1,\"#276419\"]]},\"xaxis\":{\"gridcolor\":\"white\",\"linecolor\":\"white\",\"ticks\":\"\",\"title\":{\"standoff\":15},\"zerolinecolor\":\"white\",\"automargin\":true,\"zerolinewidth\":2},\"yaxis\":{\"gridcolor\":\"white\",\"linecolor\":\"white\",\"ticks\":\"\",\"title\":{\"standoff\":15},\"zerolinecolor\":\"white\",\"automargin\":true,\"zerolinewidth\":2},\"scene\":{\"xaxis\":{\"backgroundcolor\":\"#E5ECF6\",\"gridcolor\":\"white\",\"linecolor\":\"white\",\"showbackground\":true,\"ticks\":\"\",\"zerolinecolor\":\"white\",\"gridwidth\":2},\"yaxis\":{\"backgroundcolor\":\"#E5ECF6\",\"gridcolor\":\"white\",\"linecolor\":\"white\",\"showbackground\":true,\"ticks\":\"\",\"zerolinecolor\":\"white\",\"gridwidth\":2},\"zaxis\":{\"backgroundcolor\":\"#E5ECF6\",\"gridcolor\":\"white\",\"linecolor\":\"white\",\"showbackground\":true,\"ticks\":\"\",\"zerolinecolor\":\"white\",\"gridwidth\":2}},\"shapedefaults\":{\"line\":{\"color\":\"#2a3f5f\"}},\"annotationdefaults\":{\"arrowcolor\":\"#2a3f5f\",\"arrowhead\":0,\"arrowwidth\":1},\"geo\":{\"bgcolor\":\"white\",\"landcolor\":\"#E5ECF6\",\"subunitcolor\":\"white\",\"showland\":true,\"showlakes\":true,\"lakecolor\":\"white\"},\"title\":{\"x\":0.05},\"mapbox\":{\"style\":\"light\"}}},\"legend\":{\"tracegroupgap\":0},\"margin\":{\"t\":50,\"b\":0,\"l\":0,\"r\":0},\"sunburstcolorway\":[\"darkblue\",\"blue\",\"lightblue\"],\"font\":{\"size\":14},\"title\":{\"text\":\"Transaction Channel Volume 2022\"},\"width\":640,\"height\":480},                        {\"responsive\": true}                    ).then(function(){\n",
       "                            \n",
       "var gd = document.getElementById('2d56f1d1-951f-4372-bcc4-c9fc600f2346');\n",
       "var x = new MutationObserver(function (mutations, observer) {{\n",
       "        var display = window.getComputedStyle(gd).display;\n",
       "        if (!display || display === 'none') {{\n",
       "            console.log([gd, 'removed!']);\n",
       "            Plotly.purge(gd);\n",
       "            observer.disconnect();\n",
       "        }}\n",
       "}});\n",
       "\n",
       "// Listen for the removal of the full notebook cells\n",
       "var notebookContainer = gd.closest('#notebook-container');\n",
       "if (notebookContainer) {{\n",
       "    x.observe(notebookContainer, {childList: true});\n",
       "}}\n",
       "\n",
       "// Listen for the clearing of the current output cell\n",
       "var outputEl = gd.closest('.output');\n",
       "if (outputEl) {{\n",
       "    x.observe(outputEl, {childList: true});\n",
       "}}\n",
       "\n",
       "                        })                };                });            </script>        </div>"
      ]
     },
     "metadata": {},
     "output_type": "display_data"
    }
   ],
   "source": [
    "# Format a sunburst chart using Plotly Express\n",
    "color_sequence = ['darkblue', 'blue', 'lightblue']\n",
    "\n",
    "fig = px.sunburst(df, path=[\"Root Level\", \"Level 1\", \"Level 2\"], values='Value', \n",
    "                  color_discrete_sequence=color_sequence, hover_name='Value')\n",
    "\n",
    "# Update the layout\n",
    "fig.update_layout(\n",
    "    title='Transaction Channel Volume 2022',\n",
    "    font=dict(size=14),\n",
    "    margin=dict(t=50, b=0, l=0, r=0),\n",
    "    width=640,\n",
    "    height=480,\n",
    "    sunburstcolorway=color_sequence\n",
    ")"
   ]
  },
  {
   "cell_type": "code",
   "execution_count": 212,
   "metadata": {},
   "outputs": [
    {
     "data": {
      "text/html": [
       "<div>                            <div id=\"25e458d7-bff6-4561-9e79-fc9ae62051e3\" class=\"plotly-graph-div\" style=\"height:900px; width:1400px;\"></div>            <script type=\"text/javascript\">                require([\"plotly\"], function(Plotly) {                    window.PLOTLYENV=window.PLOTLYENV || {};                                    if (document.getElementById(\"25e458d7-bff6-4561-9e79-fc9ae62051e3\")) {                    Plotly.newPlot(                        \"25e458d7-bff6-4561-9e79-fc9ae62051e3\",                        [{\"branchvalues\":\"total\",\"customdata\":[[137600],[83947],[159607],[1425106],[1310655],[82019],[362420],[200864],[3633827],[140820],[310259],[178445],[80187],[2559618],[633871],[24316220],[696000],[3100000],[267000],[205000],[3892],[4794],[466000],[691000],[1241000],[16692],[1907],[302380],[663126],[244317],[536000],[449000],[233548],[16104],[79960],[15393],[1341000],[25758],[2630000],[220049],[97000],[278569],[1200000],[10738],[11200000],[678000],[136000],[246000],[843000],[12242],[123000],[209000],[16992],[12500000],[15600000],[4474000],[137000],[756747],[538774],[549793],[1148],[18987],[4516009],[1000],[3697],[479000],[256000],[220000],[678000],[337000],[80199],[3918000],[16176],[8992263],[9361207],[3000],[381154],[630145],[18353470],[16692],[278569],[7987000],[9407000],[12500000],[31233000],[1310914],[5146001],[300009],[923619],[27950047],[22042],[541515],[3830000],[6742749],[21224000],[12500000],[31233000],[62596926]],\"domain\":{\"x\":[0.0,1.0],\"y\":[0.0,1.0]},\"hovertemplate\":\"%{label}<br>%{value:,.0f}\",\"ids\":[\"Web/Account Mgmt/ Add/Edit Phone Number\",\"Web/Account Mgmt/ Change Billing Address \",\"Web/Account Mgmt/ Change User Name, Password \",\"Web/Usage and Rates/ Compare My Bills\",\"Web/Usage and Rates/ Compare My Bills UPDATED\",\"Web/Start/Stop/Transfer (total)/ Existing Customer\",\"Web/Usage and Rates/ Home Energy Checkup\",\"Web/Start/Stop/Transfer (total)/ New Customer \",\"Web/Payments/ One Time Access\",\"Web/Usage and Rates/ Online Rate Enrollment\",\"Web/Usage and Rates/ Rate Comparison\",\"Web/Start/Stop/Transfer (total)/ Stop \",\"Web/Start/Stop/Transfer (total)/ Transfer \",\"Web/Usage and Rates/ View Usage \",\"Web/Usage and Rates/ View Usage (July Onward)\",\"Web/Payments/ Your Account\",\"Other Elec Pay Channels/Other Elec Pay Channels/ACH\",\"Other Elec Pay Channels/Other Elec Pay Channels/APS\",\"Call Center/Live Agent/Abandoned Calls (total)\",\"Call Center/IVR/Account Balance\",\"Web/Alerts & Notifications/Additional Communication Alerts\",\"Web/Alerts & Notifications/Additional Communication Alerts (Aug Onward)\",\"Call Center/Live Agent/BCSC (Bus. Cust. Service Center)\",\"Call Center/Live Agent/Billing Balance \",\"Call Center/IVR/Billing IVR\",\"Web/Budget Billing (Login) /Budget Billing (Login) \",\"Web/Pilot Light Appointments /Cancel Service Appointment\",\"Web/Alerts & Notifications/Change Billing & Payment Alerts\",\"Web/Payment Account/Create Payment Account\",\"Web/Payment Account/Delete Payment Account\",\"Other Elec Pay Channels/Other Elec Pay Channels/EDI\",\"Call Center/Live Agent/Emergency \",\"Web/Alerts & Notifications/Energy Alerts\",\"Web/Alerts & Notifications/Event Day Alerts\",\"Web/Pay Plans/Extension Pay\",\"Web/Other Interactions /Gas Pipeline Map Views\",\"Call Center/Live Agent/General\",\"Web/Alerts & Notifications/Go Paperless Alerts\",\"Call Center/Tech/ICM\",\"Web/Pay Plans/Installment Pay\",\"Other Elec Pay Channels/Other Elec Pay Channels/LiHEAP\",\"Web/CARE/FERA /New Pages\",\"Call Center/Tech/Non-IVR\",\"Web/Alerts & Notifications/Notices & Services Information\",\"Other Elec Pay Channels/Other Elec Pay Channels/Online Banking\",\"Call Center/IVR/Other Transactions \",\"Call Center/Live Agent/Other Transactions \",\"Call Center/Live Agent/Outage - Live\",\"Call Center/IVR/Outage IVR\",\"Web/Alerts & Notifications/Outages Alerts\",\"Call Center/Live Agent/Pay Plans - Live\",\"Call Center/IVR/Pay Plans IVR\",\"Web/Alerts & Notifications/Payment Plan & Shutoff Nonpayment Alerts\",\"Mail/Mail/Payments\",\"Other Elec Pay Channels/Other Elec Pay Channels/Payments \",\"Call Center/IVR/Payments (IVR PaybyPhone)\",\"Call Center/Live Agent/Payments (PayByPhone)\",\"Web/Other Interactions /Recurring Payment Schedule\",\"Web/Other Interactions /Registration \",\"Web/Outage/Report Outage\\u00a0 Outage Map\",\"Web/Pilot Light Appointments /Reschedule Service Appointment\",\"Web/Pilot Light Appointments /Schedule Service Appointment\",\"Web/Outage/Search Outage By Address\\u00a0(outage Center/ Outage Map/ Address Look up)\",\"Other Elec Pay Channels/Other Elec Pay Channels/Secure Email\",\"Web/Alerts & Notifications/Service Visit Alerts\",\"Call Center/Live Agent/Solar \",\"Call Center/Live Agent/Spanish (General) \",\"Call Center/Live Agent/Specialty Lines \",\"Call Center/Live Agent/Start/Stop/Transfer (total) - Live\",\"Call Center/IVR/Start/Stop/Transfer (total) IVR\",\"Web/Outage/Subscribe Outage\\u00a0(EW Pages)\",\"Call Center/Live Agent/Transferred calls (total)\",\"Web/Payment Account/Update Payment Account\",\"Web/Billing/ViewBillCurrentPDF \",\"Web/Billing/ViewBillCurrentPDF historical\",\"Other Elec Pay Channels/Other Elec Pay Channels/Wire Transfer\",\"Web/Account Mgmt\",\"Web/Alerts & Notifications\",\"Web/Billing\",\"Web/Budget Billing (Login) \",\"Web/CARE/FERA \",\"Call Center/IVR\",\"Call Center/Live Agent\",\"Mail/Mail\",\"Other Elec Pay Channels/Other Elec Pay Channels\",\"Web/Other Interactions \",\"Web/Outage\",\"Web/Pay Plans\",\"Web/Payment Account\",\"Web/Payments\",\"Web/Pilot Light Appointments \",\"Web/Start/Stop/Transfer (total)\",\"Call Center/Tech\",\"Web/Usage and Rates\",\"Call Center\",\"Mail\",\"Other Elec Pay Channels\",\"Web\"],\"labels\":[\" Add/Edit Phone Number\",\" Change Billing Address \",\" Change User Name, Password \",\" Compare My Bills\",\" Compare My Bills UPDATED\",\" Existing Customer\",\" Home Energy Checkup\",\" New Customer \",\" One Time Access\",\" Online Rate Enrollment\",\" Rate Comparison\",\" Stop \",\" Transfer \",\" View Usage \",\" View Usage (July Onward)\",\" Your Account\",\"ACH\",\"APS\",\"Abandoned Calls (total)\",\"Account Balance\",\"Additional Communication Alerts\",\"Additional Communication Alerts (Aug Onward)\",\"BCSC (Bus. Cust. Service Center)\",\"Billing Balance \",\"Billing IVR\",\"Budget Billing (Login) \",\"Cancel Service Appointment\",\"Change Billing & Payment Alerts\",\"Create Payment Account\",\"Delete Payment Account\",\"EDI\",\"Emergency \",\"Energy Alerts\",\"Event Day Alerts\",\"Extension Pay\",\"Gas Pipeline Map Views\",\"General\",\"Go Paperless Alerts\",\"ICM\",\"Installment Pay\",\"LiHEAP\",\"New Pages\",\"Non-IVR\",\"Notices & Services Information\",\"Online Banking\",\"Other Transactions \",\"Other Transactions \",\"Outage - Live\",\"Outage IVR\",\"Outages Alerts\",\"Pay Plans - Live\",\"Pay Plans IVR\",\"Payment Plan & Shutoff Nonpayment Alerts\",\"Payments\",\"Payments \",\"Payments (IVR PaybyPhone)\",\"Payments (PayByPhone)\",\"Recurring Payment Schedule\",\"Registration \",\"Report Outage\\u00a0 Outage Map\",\"Reschedule Service Appointment\",\"Schedule Service Appointment\",\"Search Outage By Address\\u00a0(outage Center/ Outage Map/ Address Look up)\",\"Secure Email\",\"Service Visit Alerts\",\"Solar \",\"Spanish (General) \",\"Specialty Lines \",\"Start/Stop/Transfer (total) - Live\",\"Start/Stop/Transfer (total) IVR\",\"Subscribe Outage\\u00a0(EW Pages)\",\"Transferred calls (total)\",\"Update Payment Account\",\"ViewBillCurrentPDF \",\"ViewBillCurrentPDF historical\",\"Wire Transfer\",\"Account Mgmt\",\"Alerts & Notifications\",\"Billing\",\"Budget Billing (Login) \",\"CARE/FERA \",\"IVR\",\"Live Agent\",\"Mail\",\"Other Elec Pay Channels\",\"Other Interactions \",\"Outage\",\"Pay Plans\",\"Payment Account\",\"Payments\",\"Pilot Light Appointments \",\"Start/Stop/Transfer (total)\",\"Tech\",\"Usage and Rates\",\"Call Center\",\"Mail\",\"Other Elec Pay Channels\",\"Web\"],\"name\":\"\",\"parents\":[\"Web/Account Mgmt\",\"Web/Account Mgmt\",\"Web/Account Mgmt\",\"Web/Usage and Rates\",\"Web/Usage and Rates\",\"Web/Start/Stop/Transfer (total)\",\"Web/Usage and Rates\",\"Web/Start/Stop/Transfer (total)\",\"Web/Payments\",\"Web/Usage and Rates\",\"Web/Usage and Rates\",\"Web/Start/Stop/Transfer (total)\",\"Web/Start/Stop/Transfer (total)\",\"Web/Usage and Rates\",\"Web/Usage and Rates\",\"Web/Payments\",\"Other Elec Pay Channels/Other Elec Pay Channels\",\"Other Elec Pay Channels/Other Elec Pay Channels\",\"Call Center/Live Agent\",\"Call Center/IVR\",\"Web/Alerts & Notifications\",\"Web/Alerts & Notifications\",\"Call Center/Live Agent\",\"Call Center/Live Agent\",\"Call Center/IVR\",\"Web/Budget Billing (Login) \",\"Web/Pilot Light Appointments \",\"Web/Alerts & Notifications\",\"Web/Payment Account\",\"Web/Payment Account\",\"Other Elec Pay Channels/Other Elec Pay Channels\",\"Call Center/Live Agent\",\"Web/Alerts & Notifications\",\"Web/Alerts & Notifications\",\"Web/Pay Plans\",\"Web/Other Interactions \",\"Call Center/Live Agent\",\"Web/Alerts & Notifications\",\"Call Center/Tech\",\"Web/Pay Plans\",\"Other Elec Pay Channels/Other Elec Pay Channels\",\"Web/CARE/FERA \",\"Call Center/Tech\",\"Web/Alerts & Notifications\",\"Other Elec Pay Channels/Other Elec Pay Channels\",\"Call Center/IVR\",\"Call Center/Live Agent\",\"Call Center/Live Agent\",\"Call Center/IVR\",\"Web/Alerts & Notifications\",\"Call Center/Live Agent\",\"Call Center/IVR\",\"Web/Alerts & Notifications\",\"Mail/Mail\",\"Other Elec Pay Channels/Other Elec Pay Channels\",\"Call Center/IVR\",\"Call Center/Live Agent\",\"Web/Other Interactions \",\"Web/Other Interactions \",\"Web/Outage\",\"Web/Pilot Light Appointments \",\"Web/Pilot Light Appointments \",\"Web/Outage\",\"Other Elec Pay Channels/Other Elec Pay Channels\",\"Web/Alerts & Notifications\",\"Call Center/Live Agent\",\"Call Center/Live Agent\",\"Call Center/Live Agent\",\"Call Center/Live Agent\",\"Call Center/IVR\",\"Web/Outage\",\"Call Center/Live Agent\",\"Web/Payment Account\",\"Web/Billing\",\"Web/Billing\",\"Other Elec Pay Channels/Other Elec Pay Channels\",\"Web\",\"Web\",\"Web\",\"Web\",\"Web\",\"Call Center\",\"Call Center\",\"Mail\",\"Other Elec Pay Channels\",\"Web\",\"Web\",\"Web\",\"Web\",\"Web\",\"Web\",\"Web\",\"Call Center\",\"Web\",\"\",\"\",\"\",\"\"],\"values\":[137600,83947,159607,1425106,1310655,82019,362420,200864,3633827,140820,310259,178445,80187,2559618,633871,24316220,696000,3100000,267000,205000,3892,4794,466000,691000,1241000,16692,1907,302380,663126,244317,536000,449000,233548,16104,79960,15393,1341000,25758,2630000,220049,97000,278569,1200000,10738,11200000,678000,136000,246000,843000,12242,123000,209000,16992,12500000,15600000,4474000,137000,756747,538774,549793,1148,18987,4516009,1000,3697,479000,256000,220000,678000,337000,80199,3918000,16176,8992263,9361207,3000,381154,630145,18353470,16692,278569,7987000,9407000,12500000,31233000,1310914,5146001,300009,923619,27950047,22042,541515,3830000,6742749,21224000,12500000,31233000,62596926],\"type\":\"sunburst\"}],                        {\"template\":{\"data\":{\"histogram2dcontour\":[{\"type\":\"histogram2dcontour\",\"colorbar\":{\"outlinewidth\":0,\"ticks\":\"\"},\"colorscale\":[[0.0,\"#0d0887\"],[0.1111111111111111,\"#46039f\"],[0.2222222222222222,\"#7201a8\"],[0.3333333333333333,\"#9c179e\"],[0.4444444444444444,\"#bd3786\"],[0.5555555555555556,\"#d8576b\"],[0.6666666666666666,\"#ed7953\"],[0.7777777777777778,\"#fb9f3a\"],[0.8888888888888888,\"#fdca26\"],[1.0,\"#f0f921\"]]}],\"choropleth\":[{\"type\":\"choropleth\",\"colorbar\":{\"outlinewidth\":0,\"ticks\":\"\"}}],\"histogram2d\":[{\"type\":\"histogram2d\",\"colorbar\":{\"outlinewidth\":0,\"ticks\":\"\"},\"colorscale\":[[0.0,\"#0d0887\"],[0.1111111111111111,\"#46039f\"],[0.2222222222222222,\"#7201a8\"],[0.3333333333333333,\"#9c179e\"],[0.4444444444444444,\"#bd3786\"],[0.5555555555555556,\"#d8576b\"],[0.6666666666666666,\"#ed7953\"],[0.7777777777777778,\"#fb9f3a\"],[0.8888888888888888,\"#fdca26\"],[1.0,\"#f0f921\"]]}],\"heatmap\":[{\"type\":\"heatmap\",\"colorbar\":{\"outlinewidth\":0,\"ticks\":\"\"},\"colorscale\":[[0.0,\"#0d0887\"],[0.1111111111111111,\"#46039f\"],[0.2222222222222222,\"#7201a8\"],[0.3333333333333333,\"#9c179e\"],[0.4444444444444444,\"#bd3786\"],[0.5555555555555556,\"#d8576b\"],[0.6666666666666666,\"#ed7953\"],[0.7777777777777778,\"#fb9f3a\"],[0.8888888888888888,\"#fdca26\"],[1.0,\"#f0f921\"]]}],\"heatmapgl\":[{\"type\":\"heatmapgl\",\"colorbar\":{\"outlinewidth\":0,\"ticks\":\"\"},\"colorscale\":[[0.0,\"#0d0887\"],[0.1111111111111111,\"#46039f\"],[0.2222222222222222,\"#7201a8\"],[0.3333333333333333,\"#9c179e\"],[0.4444444444444444,\"#bd3786\"],[0.5555555555555556,\"#d8576b\"],[0.6666666666666666,\"#ed7953\"],[0.7777777777777778,\"#fb9f3a\"],[0.8888888888888888,\"#fdca26\"],[1.0,\"#f0f921\"]]}],\"contourcarpet\":[{\"type\":\"contourcarpet\",\"colorbar\":{\"outlinewidth\":0,\"ticks\":\"\"}}],\"contour\":[{\"type\":\"contour\",\"colorbar\":{\"outlinewidth\":0,\"ticks\":\"\"},\"colorscale\":[[0.0,\"#0d0887\"],[0.1111111111111111,\"#46039f\"],[0.2222222222222222,\"#7201a8\"],[0.3333333333333333,\"#9c179e\"],[0.4444444444444444,\"#bd3786\"],[0.5555555555555556,\"#d8576b\"],[0.6666666666666666,\"#ed7953\"],[0.7777777777777778,\"#fb9f3a\"],[0.8888888888888888,\"#fdca26\"],[1.0,\"#f0f921\"]]}],\"surface\":[{\"type\":\"surface\",\"colorbar\":{\"outlinewidth\":0,\"ticks\":\"\"},\"colorscale\":[[0.0,\"#0d0887\"],[0.1111111111111111,\"#46039f\"],[0.2222222222222222,\"#7201a8\"],[0.3333333333333333,\"#9c179e\"],[0.4444444444444444,\"#bd3786\"],[0.5555555555555556,\"#d8576b\"],[0.6666666666666666,\"#ed7953\"],[0.7777777777777778,\"#fb9f3a\"],[0.8888888888888888,\"#fdca26\"],[1.0,\"#f0f921\"]]}],\"mesh3d\":[{\"type\":\"mesh3d\",\"colorbar\":{\"outlinewidth\":0,\"ticks\":\"\"}}],\"scatter\":[{\"fillpattern\":{\"fillmode\":\"overlay\",\"size\":10,\"solidity\":0.2},\"type\":\"scatter\"}],\"parcoords\":[{\"type\":\"parcoords\",\"line\":{\"colorbar\":{\"outlinewidth\":0,\"ticks\":\"\"}}}],\"scatterpolargl\":[{\"type\":\"scatterpolargl\",\"marker\":{\"colorbar\":{\"outlinewidth\":0,\"ticks\":\"\"}}}],\"bar\":[{\"error_x\":{\"color\":\"#2a3f5f\"},\"error_y\":{\"color\":\"#2a3f5f\"},\"marker\":{\"line\":{\"color\":\"#E5ECF6\",\"width\":0.5},\"pattern\":{\"fillmode\":\"overlay\",\"size\":10,\"solidity\":0.2}},\"type\":\"bar\"}],\"scattergeo\":[{\"type\":\"scattergeo\",\"marker\":{\"colorbar\":{\"outlinewidth\":0,\"ticks\":\"\"}}}],\"scatterpolar\":[{\"type\":\"scatterpolar\",\"marker\":{\"colorbar\":{\"outlinewidth\":0,\"ticks\":\"\"}}}],\"histogram\":[{\"marker\":{\"pattern\":{\"fillmode\":\"overlay\",\"size\":10,\"solidity\":0.2}},\"type\":\"histogram\"}],\"scattergl\":[{\"type\":\"scattergl\",\"marker\":{\"colorbar\":{\"outlinewidth\":0,\"ticks\":\"\"}}}],\"scatter3d\":[{\"type\":\"scatter3d\",\"line\":{\"colorbar\":{\"outlinewidth\":0,\"ticks\":\"\"}},\"marker\":{\"colorbar\":{\"outlinewidth\":0,\"ticks\":\"\"}}}],\"scattermapbox\":[{\"type\":\"scattermapbox\",\"marker\":{\"colorbar\":{\"outlinewidth\":0,\"ticks\":\"\"}}}],\"scatterternary\":[{\"type\":\"scatterternary\",\"marker\":{\"colorbar\":{\"outlinewidth\":0,\"ticks\":\"\"}}}],\"scattercarpet\":[{\"type\":\"scattercarpet\",\"marker\":{\"colorbar\":{\"outlinewidth\":0,\"ticks\":\"\"}}}],\"carpet\":[{\"aaxis\":{\"endlinecolor\":\"#2a3f5f\",\"gridcolor\":\"white\",\"linecolor\":\"white\",\"minorgridcolor\":\"white\",\"startlinecolor\":\"#2a3f5f\"},\"baxis\":{\"endlinecolor\":\"#2a3f5f\",\"gridcolor\":\"white\",\"linecolor\":\"white\",\"minorgridcolor\":\"white\",\"startlinecolor\":\"#2a3f5f\"},\"type\":\"carpet\"}],\"table\":[{\"cells\":{\"fill\":{\"color\":\"#EBF0F8\"},\"line\":{\"color\":\"white\"}},\"header\":{\"fill\":{\"color\":\"#C8D4E3\"},\"line\":{\"color\":\"white\"}},\"type\":\"table\"}],\"barpolar\":[{\"marker\":{\"line\":{\"color\":\"#E5ECF6\",\"width\":0.5},\"pattern\":{\"fillmode\":\"overlay\",\"size\":10,\"solidity\":0.2}},\"type\":\"barpolar\"}],\"pie\":[{\"automargin\":true,\"type\":\"pie\"}]},\"layout\":{\"autotypenumbers\":\"strict\",\"colorway\":[\"#636efa\",\"#EF553B\",\"#00cc96\",\"#ab63fa\",\"#FFA15A\",\"#19d3f3\",\"#FF6692\",\"#B6E880\",\"#FF97FF\",\"#FECB52\"],\"font\":{\"color\":\"#2a3f5f\"},\"hovermode\":\"closest\",\"hoverlabel\":{\"align\":\"left\"},\"paper_bgcolor\":\"white\",\"plot_bgcolor\":\"#E5ECF6\",\"polar\":{\"bgcolor\":\"#E5ECF6\",\"angularaxis\":{\"gridcolor\":\"white\",\"linecolor\":\"white\",\"ticks\":\"\"},\"radialaxis\":{\"gridcolor\":\"white\",\"linecolor\":\"white\",\"ticks\":\"\"}},\"ternary\":{\"bgcolor\":\"#E5ECF6\",\"aaxis\":{\"gridcolor\":\"white\",\"linecolor\":\"white\",\"ticks\":\"\"},\"baxis\":{\"gridcolor\":\"white\",\"linecolor\":\"white\",\"ticks\":\"\"},\"caxis\":{\"gridcolor\":\"white\",\"linecolor\":\"white\",\"ticks\":\"\"}},\"coloraxis\":{\"colorbar\":{\"outlinewidth\":0,\"ticks\":\"\"}},\"colorscale\":{\"sequential\":[[0.0,\"#0d0887\"],[0.1111111111111111,\"#46039f\"],[0.2222222222222222,\"#7201a8\"],[0.3333333333333333,\"#9c179e\"],[0.4444444444444444,\"#bd3786\"],[0.5555555555555556,\"#d8576b\"],[0.6666666666666666,\"#ed7953\"],[0.7777777777777778,\"#fb9f3a\"],[0.8888888888888888,\"#fdca26\"],[1.0,\"#f0f921\"]],\"sequentialminus\":[[0.0,\"#0d0887\"],[0.1111111111111111,\"#46039f\"],[0.2222222222222222,\"#7201a8\"],[0.3333333333333333,\"#9c179e\"],[0.4444444444444444,\"#bd3786\"],[0.5555555555555556,\"#d8576b\"],[0.6666666666666666,\"#ed7953\"],[0.7777777777777778,\"#fb9f3a\"],[0.8888888888888888,\"#fdca26\"],[1.0,\"#f0f921\"]],\"diverging\":[[0,\"#8e0152\"],[0.1,\"#c51b7d\"],[0.2,\"#de77ae\"],[0.3,\"#f1b6da\"],[0.4,\"#fde0ef\"],[0.5,\"#f7f7f7\"],[0.6,\"#e6f5d0\"],[0.7,\"#b8e186\"],[0.8,\"#7fbc41\"],[0.9,\"#4d9221\"],[1,\"#276419\"]]},\"xaxis\":{\"gridcolor\":\"white\",\"linecolor\":\"white\",\"ticks\":\"\",\"title\":{\"standoff\":15},\"zerolinecolor\":\"white\",\"automargin\":true,\"zerolinewidth\":2},\"yaxis\":{\"gridcolor\":\"white\",\"linecolor\":\"white\",\"ticks\":\"\",\"title\":{\"standoff\":15},\"zerolinecolor\":\"white\",\"automargin\":true,\"zerolinewidth\":2},\"scene\":{\"xaxis\":{\"backgroundcolor\":\"#E5ECF6\",\"gridcolor\":\"white\",\"linecolor\":\"white\",\"showbackground\":true,\"ticks\":\"\",\"zerolinecolor\":\"white\",\"gridwidth\":2},\"yaxis\":{\"backgroundcolor\":\"#E5ECF6\",\"gridcolor\":\"white\",\"linecolor\":\"white\",\"showbackground\":true,\"ticks\":\"\",\"zerolinecolor\":\"white\",\"gridwidth\":2},\"zaxis\":{\"backgroundcolor\":\"#E5ECF6\",\"gridcolor\":\"white\",\"linecolor\":\"white\",\"showbackground\":true,\"ticks\":\"\",\"zerolinecolor\":\"white\",\"gridwidth\":2}},\"shapedefaults\":{\"line\":{\"color\":\"#2a3f5f\"}},\"annotationdefaults\":{\"arrowcolor\":\"#2a3f5f\",\"arrowhead\":0,\"arrowwidth\":1},\"geo\":{\"bgcolor\":\"white\",\"landcolor\":\"#E5ECF6\",\"subunitcolor\":\"white\",\"showland\":true,\"showlakes\":true,\"lakecolor\":\"white\"},\"title\":{\"x\":0.05},\"mapbox\":{\"style\":\"light\"}}},\"legend\":{\"tracegroupgap\":0},\"margin\":{\"t\":50,\"l\":0,\"r\":0,\"b\":0},\"sunburstcolorway\":[\"darkorange\",\"lightgrey\",\"lightblue\",\"tan\"],\"font\":{\"size\":14},\"title\":{\"text\":\"Transaction Channel Volume 2022\"},\"width\":1400,\"height\":900},                        {\"responsive\": true}                    ).then(function(){\n",
       "                            \n",
       "var gd = document.getElementById('25e458d7-bff6-4561-9e79-fc9ae62051e3');\n",
       "var x = new MutationObserver(function (mutations, observer) {{\n",
       "        var display = window.getComputedStyle(gd).display;\n",
       "        if (!display || display === 'none') {{\n",
       "            console.log([gd, 'removed!']);\n",
       "            Plotly.purge(gd);\n",
       "            observer.disconnect();\n",
       "        }}\n",
       "}});\n",
       "\n",
       "// Listen for the removal of the full notebook cells\n",
       "var notebookContainer = gd.closest('#notebook-container');\n",
       "if (notebookContainer) {{\n",
       "    x.observe(notebookContainer, {childList: true});\n",
       "}}\n",
       "\n",
       "// Listen for the clearing of the current output cell\n",
       "var outputEl = gd.closest('.output');\n",
       "if (outputEl) {{\n",
       "    x.observe(outputEl, {childList: true});\n",
       "}}\n",
       "\n",
       "                        })                };                });            </script>        </div>"
      ]
     },
     "metadata": {},
     "output_type": "display_data"
    }
   ],
   "source": [
    "# Format a sunburst chart using Plotly Express\n",
    "color_sequence = ['darkorange', 'lightgrey', 'lightblue', 'tan']\n",
    "fig = px.sunburst(df, path=[\"Root Level\", \"Level 1\", \"Level 2\"], values='Value', \n",
    "                  hover_data=['Value'],\n",
    "                  color_discrete_sequence=px.colors.qualitative.Dark2)\n",
    "\n",
    "# format hover tooltip\n",
    "fig.update_traces(hovertemplate='%{label}<br>%{value:,.0f}')\n",
    "# Update the layout\n",
    "fig.update_layout(\n",
    "    title='Transaction Channel Volume 2022',\n",
    "    font=dict(size=14),\n",
    "    margin=dict(t=50, l=0, r=0, b=0),\n",
    "    width=1400,\n",
    "    height=900,\n",
    "    sunburstcolorway=color_sequence,\n",
    ")\n",
    "fig.show()"
   ]
  },
  {
   "cell_type": "code",
   "execution_count": null,
   "metadata": {},
   "outputs": [
    {
     "data": {
      "text/plain": [
       "'Trxn_sunburst_chart.html'"
      ]
     },
     "execution_count": 201,
     "metadata": {},
     "output_type": "execute_result"
    }
   ],
   "source": [
    "# Export the chart as an HTML file\n",
    "pyo.plot(fig, filename='Trxn_sunburst_chart.html', auto_open=True)"
   ]
  },
  {
   "cell_type": "code",
   "execution_count": null,
   "metadata": {},
   "outputs": [],
   "source": []
  }
 ],
 "metadata": {
  "kernelspec": {
   "display_name": "base",
   "language": "python",
   "name": "python3"
  },
  "language_info": {
   "codemirror_mode": {
    "name": "ipython",
    "version": 3
   },
   "file_extension": ".py",
   "mimetype": "text/x-python",
   "name": "python",
   "nbconvert_exporter": "python",
   "pygments_lexer": "ipython3",
   "version": "3.10.9"
  },
  "orig_nbformat": 4
 },
 "nbformat": 4,
 "nbformat_minor": 2
}
