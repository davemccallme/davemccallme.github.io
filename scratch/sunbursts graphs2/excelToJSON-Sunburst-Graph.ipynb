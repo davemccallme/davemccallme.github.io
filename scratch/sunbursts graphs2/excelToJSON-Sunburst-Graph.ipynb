{
 "cells": [
  {
   "cell_type": "code",
   "execution_count": 1,
   "metadata": {},
   "outputs": [],
   "source": [
    "#%pip install openpyxl"
   ]
  },
  {
   "cell_type": "code",
   "execution_count": 2,
   "metadata": {},
   "outputs": [],
   "source": [
    "import pandas as pd\n",
    "import json\n",
    "import os\n",
    "import plotly.express as px\n",
    "import plotly.offline as pyo\n",
    "import plotly.graph_objs as go"
   ]
  },
  {
   "cell_type": "code",
   "execution_count": 3,
   "metadata": {},
   "outputs": [
    {
     "name": "stdout",
     "output_type": "stream",
     "text": [
      "  Root Level                 Level 1                          Level 2   Value\n",
      "0        Web            Account Mgmt          Change Billing Address    83947\n",
      "1        Web            Account Mgmt            Add/Edit Phone Number  137600\n",
      "2        Web            Account Mgmt      Change User Name, Password   159607\n",
      "3        Web  Alerts & Notifications  Change Billing & Payment Alerts  302380\n",
      "4        Web  Alerts & Notifications                    Energy Alerts  233548\n"
     ]
    }
   ],
   "source": [
    "# Read Transaction Excel data into a Pandas dataframe\n",
    "df = pd.read_excel('C:/Users/admin/Documents/GitHub/davemccallme.github.io/scratch/sunbursts graphs2/exceldata-trxn.xlsx')\n",
    "df['Value'] = pd.to_numeric(df['Value'])\n",
    "print(df.head())"
   ]
  },
  {
   "cell_type": "code",
   "execution_count": 4,
   "metadata": {},
   "outputs": [
    {
     "name": "stdout",
     "output_type": "stream",
     "text": [
      "127553926\n"
     ]
    }
   ],
   "source": [
    "# Convert dataframe to a hierarchical dictionary\n",
    "def make_hierarchy_dict(df, path=[], value_col=\"Value\", threshold=10):\n",
    "    if len(path) == df.columns.nlevels - 1:\n",
    "        total = int(df[value_col].sum())\n",
    "        if total < threshold:\n",
    "            return None\n",
    "        else:\n",
    "            return total\n",
    "    else:\n",
    "        level = df.columns[len(path)]\n",
    "        subdict = {}\n",
    "        for key in df[level].dropna().unique():\n",
    "            subdf = df[df[level] == key].drop(columns=[level])\n",
    "            subhierarchy_dict = make_hierarchy_dict(subdf, path + [key], value_col, threshold)\n",
    "            if subhierarchy_dict is not None:\n",
    "                subdict[key] = subhierarchy_dict\n",
    "        if len(subdict) == 0:\n",
    "            return None\n",
    "        else:\n",
    "            return subdict\n",
    "\n",
    "hierarchy_dict = make_hierarchy_dict(df.set_index(list(df.columns[:3])), value_col=\"Value\", threshold=10)\n",
    "\n",
    "print(hierarchy_dict)"
   ]
  },
  {
   "cell_type": "code",
   "execution_count": 5,
   "metadata": {},
   "outputs": [],
   "source": [
    "# Convert hierarchical dictionary to Plotly-compatible JSON\n",
    "def make_plotly_sunburst(hierarchy_dict, name=\"\"):\n",
    "    if isinstance(hierarchy_dict, dict):\n",
    "        children = []\n",
    "        for key, value in hierarchy_dict.items():\n",
    "            children.append(make_plotly_sunburst(value, key))\n",
    "        return {\n",
    "            \"name\": name,\n",
    "            \"children\": children\n",
    "        }\n",
    "    else:\n",
    "        return {\n",
    "            \"label\": name,\n",
    "            \"value\": hierarchy_dict\n",
    "        }"
   ]
  },
  {
   "cell_type": "code",
   "execution_count": 6,
   "metadata": {},
   "outputs": [
    {
     "name": "stdout",
     "output_type": "stream",
     "text": [
      "{'label': '', 'value': 127553926}\n"
     ]
    }
   ],
   "source": [
    "plotly_data = make_plotly_sunburst(hierarchy_dict)\n",
    "print(plotly_data)"
   ]
  },
  {
   "cell_type": "code",
   "execution_count": 7,
   "metadata": {},
   "outputs": [],
   "source": [
    "# Write JSON data to a file\n",
    "with open(\"plotly_data.json\", \"w\") as f:\n",
    "    json.dump(plotly_data, f)"
   ]
  },
  {
   "cell_type": "code",
   "execution_count": 8,
   "metadata": {},
   "outputs": [],
   "source": [
    "#Error Check rows for data discrepencies\n",
    "for i, row in df.iterrows():\n",
    "    try:\n",
    "        fig = px.sunburst(df.loc[[i]], path=[\"Root Level\", \"Level 1\", \"Level 2\"], values='Value')\n",
    "    except ValueError as e:\n",
    "        print(e)"
   ]
  },
  {
   "cell_type": "code",
   "execution_count": 9,
   "metadata": {},
   "outputs": [
    {
     "data": {
      "application/vnd.plotly.v1+json": {
       "config": {
        "plotlyServerURL": "https://plot.ly"
       },
       "data": [
        {
         "branchvalues": "total",
         "domain": {
          "x": [
           0,
           1
          ],
          "y": [
           0,
           1
          ]
         },
         "hovertemplate": "labels=%{label}<br>Value=%{value}<br>parent=%{parent}<br>id=%{id}<extra></extra>",
         "ids": [
          "Web/Account Mgmt/ Add/Edit Phone Number",
          "Web/Account Mgmt/ Change Billing Address ",
          "Web/Account Mgmt/ Change User Name, Password ",
          "Web/Usage and Rates/ Compare My Bills",
          "Web/Usage and Rates/ Compare My Bills UPDATED",
          "Web/Start/Stop/Transfer (total)/ Existing Customer",
          "Web/Usage and Rates/ Home Energy Checkup",
          "Web/Start/Stop/Transfer (total)/ New Customer ",
          "Web/Payments/ One Time Access",
          "Web/Usage and Rates/ Online Rate Enrollment",
          "Web/Usage and Rates/ Rate Comparison",
          "Web/Start/Stop/Transfer (total)/ Stop ",
          "Web/Start/Stop/Transfer (total)/ Transfer ",
          "Web/Usage and Rates/ View Usage ",
          "Web/Usage and Rates/ View Usage (July Onward)",
          "Web/Payments/ Your Account",
          "Other Elec Pay Channels/Other Elec Pay Channels/ACH",
          "Other Elec Pay Channels/Other Elec Pay Channels/APS",
          "Call Center/Live Agent/Abandoned Calls (total)",
          "Call Center/IVR/Account Balance",
          "Web/Alerts & Notifications/Additional Communication Alerts",
          "Web/Alerts & Notifications/Additional Communication Alerts (Aug Onward)",
          "Call Center/Live Agent/BCSC (Bus. Cust. Service Center)",
          "Call Center/Live Agent/Billing Balance ",
          "Call Center/IVR/Billing IVR",
          "Web/Budget Billing (Login) /Budget Billing (Login) ",
          "Web/Pilot Light Appointments /Cancel Service Appointment",
          "Web/Alerts & Notifications/Change Billing & Payment Alerts",
          "Web/Payment Account/Create Payment Account",
          "Web/Payment Account/Delete Payment Account",
          "Other Elec Pay Channels/Other Elec Pay Channels/EDI",
          "Call Center/Live Agent/Emergency ",
          "Web/Alerts & Notifications/Energy Alerts",
          "Web/Alerts & Notifications/Event Day Alerts",
          "Web/Pay Plans/Extension Pay",
          "Web/Other Interactions /Gas Pipeline Map Views",
          "Call Center/Live Agent/General",
          "Web/Alerts & Notifications/Go Paperless Alerts",
          "Call Center/Tech/ICM",
          "Web/Pay Plans/Installment Pay",
          "Other Elec Pay Channels/Other Elec Pay Channels/LiHEAP",
          "Web/CARE/FERA /New Pages",
          "Call Center/Tech/Non-IVR",
          "Web/Alerts & Notifications/Notices & Services Information",
          "Other Elec Pay Channels/Other Elec Pay Channels/Online Banking",
          "Call Center/IVR/Other Transactions ",
          "Call Center/Live Agent/Other Transactions ",
          "Call Center/Live Agent/Outage - Live",
          "Call Center/IVR/Outage IVR",
          "Web/Alerts & Notifications/Outages Alerts",
          "Call Center/Live Agent/Pay Plans - Live",
          "Call Center/IVR/Pay Plans IVR",
          "Web/Alerts & Notifications/Payment Plan & Shutoff Nonpayment Alerts",
          "Mail/Mail/Payments",
          "Other Elec Pay Channels/Other Elec Pay Channels/Payments ",
          "Call Center/IVR/Payments (IVR PaybyPhone)",
          "Call Center/Live Agent/Payments (PayByPhone)",
          "Web/Other Interactions /Recurring Payment Schedule",
          "Web/Other Interactions /Registration ",
          "Web/Outage/Report Outage  Outage Map",
          "Web/Pilot Light Appointments /Reschedule Service Appointment",
          "Web/Pilot Light Appointments /Schedule Service Appointment",
          "Web/Outage/Search Outage By Address (outage Center/ Outage Map/ Address Look up)",
          "Other Elec Pay Channels/Other Elec Pay Channels/Secure Email",
          "Web/Alerts & Notifications/Service Visit Alerts",
          "Call Center/Live Agent/Solar ",
          "Call Center/Live Agent/Spanish (General) ",
          "Call Center/Live Agent/Specialty Lines ",
          "Call Center/Live Agent/Start/Stop/Transfer (total) - Live",
          "Call Center/IVR/Start/Stop/Transfer (total) IVR",
          "Web/Outage/Subscribe Outage (EW Pages)",
          "Call Center/Live Agent/Transferred calls (total)",
          "Web/Payment Account/Update Payment Account",
          "Web/Billing/ViewBillCurrentPDF ",
          "Web/Billing/ViewBillCurrentPDF historical",
          "Other Elec Pay Channels/Other Elec Pay Channels/Wire Transfer",
          "Web/Account Mgmt",
          "Web/Alerts & Notifications",
          "Web/Billing",
          "Web/Budget Billing (Login) ",
          "Web/CARE/FERA ",
          "Call Center/IVR",
          "Call Center/Live Agent",
          "Mail/Mail",
          "Other Elec Pay Channels/Other Elec Pay Channels",
          "Web/Other Interactions ",
          "Web/Outage",
          "Web/Pay Plans",
          "Web/Payment Account",
          "Web/Payments",
          "Web/Pilot Light Appointments ",
          "Web/Start/Stop/Transfer (total)",
          "Call Center/Tech",
          "Web/Usage and Rates",
          "Call Center",
          "Mail",
          "Other Elec Pay Channels",
          "Web"
         ],
         "labels": [
          " Add/Edit Phone Number",
          " Change Billing Address ",
          " Change User Name, Password ",
          " Compare My Bills",
          " Compare My Bills UPDATED",
          " Existing Customer",
          " Home Energy Checkup",
          " New Customer ",
          " One Time Access",
          " Online Rate Enrollment",
          " Rate Comparison",
          " Stop ",
          " Transfer ",
          " View Usage ",
          " View Usage (July Onward)",
          " Your Account",
          "ACH",
          "APS",
          "Abandoned Calls (total)",
          "Account Balance",
          "Additional Communication Alerts",
          "Additional Communication Alerts (Aug Onward)",
          "BCSC (Bus. Cust. Service Center)",
          "Billing Balance ",
          "Billing IVR",
          "Budget Billing (Login) ",
          "Cancel Service Appointment",
          "Change Billing & Payment Alerts",
          "Create Payment Account",
          "Delete Payment Account",
          "EDI",
          "Emergency ",
          "Energy Alerts",
          "Event Day Alerts",
          "Extension Pay",
          "Gas Pipeline Map Views",
          "General",
          "Go Paperless Alerts",
          "ICM",
          "Installment Pay",
          "LiHEAP",
          "New Pages",
          "Non-IVR",
          "Notices & Services Information",
          "Online Banking",
          "Other Transactions ",
          "Other Transactions ",
          "Outage - Live",
          "Outage IVR",
          "Outages Alerts",
          "Pay Plans - Live",
          "Pay Plans IVR",
          "Payment Plan & Shutoff Nonpayment Alerts",
          "Payments",
          "Payments ",
          "Payments (IVR PaybyPhone)",
          "Payments (PayByPhone)",
          "Recurring Payment Schedule",
          "Registration ",
          "Report Outage  Outage Map",
          "Reschedule Service Appointment",
          "Schedule Service Appointment",
          "Search Outage By Address (outage Center/ Outage Map/ Address Look up)",
          "Secure Email",
          "Service Visit Alerts",
          "Solar ",
          "Spanish (General) ",
          "Specialty Lines ",
          "Start/Stop/Transfer (total) - Live",
          "Start/Stop/Transfer (total) IVR",
          "Subscribe Outage (EW Pages)",
          "Transferred calls (total)",
          "Update Payment Account",
          "ViewBillCurrentPDF ",
          "ViewBillCurrentPDF historical",
          "Wire Transfer",
          "Account Mgmt",
          "Alerts & Notifications",
          "Billing",
          "Budget Billing (Login) ",
          "CARE/FERA ",
          "IVR",
          "Live Agent",
          "Mail",
          "Other Elec Pay Channels",
          "Other Interactions ",
          "Outage",
          "Pay Plans",
          "Payment Account",
          "Payments",
          "Pilot Light Appointments ",
          "Start/Stop/Transfer (total)",
          "Tech",
          "Usage and Rates",
          "Call Center",
          "Mail",
          "Other Elec Pay Channels",
          "Web"
         ],
         "name": "",
         "parents": [
          "Web/Account Mgmt",
          "Web/Account Mgmt",
          "Web/Account Mgmt",
          "Web/Usage and Rates",
          "Web/Usage and Rates",
          "Web/Start/Stop/Transfer (total)",
          "Web/Usage and Rates",
          "Web/Start/Stop/Transfer (total)",
          "Web/Payments",
          "Web/Usage and Rates",
          "Web/Usage and Rates",
          "Web/Start/Stop/Transfer (total)",
          "Web/Start/Stop/Transfer (total)",
          "Web/Usage and Rates",
          "Web/Usage and Rates",
          "Web/Payments",
          "Other Elec Pay Channels/Other Elec Pay Channels",
          "Other Elec Pay Channels/Other Elec Pay Channels",
          "Call Center/Live Agent",
          "Call Center/IVR",
          "Web/Alerts & Notifications",
          "Web/Alerts & Notifications",
          "Call Center/Live Agent",
          "Call Center/Live Agent",
          "Call Center/IVR",
          "Web/Budget Billing (Login) ",
          "Web/Pilot Light Appointments ",
          "Web/Alerts & Notifications",
          "Web/Payment Account",
          "Web/Payment Account",
          "Other Elec Pay Channels/Other Elec Pay Channels",
          "Call Center/Live Agent",
          "Web/Alerts & Notifications",
          "Web/Alerts & Notifications",
          "Web/Pay Plans",
          "Web/Other Interactions ",
          "Call Center/Live Agent",
          "Web/Alerts & Notifications",
          "Call Center/Tech",
          "Web/Pay Plans",
          "Other Elec Pay Channels/Other Elec Pay Channels",
          "Web/CARE/FERA ",
          "Call Center/Tech",
          "Web/Alerts & Notifications",
          "Other Elec Pay Channels/Other Elec Pay Channels",
          "Call Center/IVR",
          "Call Center/Live Agent",
          "Call Center/Live Agent",
          "Call Center/IVR",
          "Web/Alerts & Notifications",
          "Call Center/Live Agent",
          "Call Center/IVR",
          "Web/Alerts & Notifications",
          "Mail/Mail",
          "Other Elec Pay Channels/Other Elec Pay Channels",
          "Call Center/IVR",
          "Call Center/Live Agent",
          "Web/Other Interactions ",
          "Web/Other Interactions ",
          "Web/Outage",
          "Web/Pilot Light Appointments ",
          "Web/Pilot Light Appointments ",
          "Web/Outage",
          "Other Elec Pay Channels/Other Elec Pay Channels",
          "Web/Alerts & Notifications",
          "Call Center/Live Agent",
          "Call Center/Live Agent",
          "Call Center/Live Agent",
          "Call Center/Live Agent",
          "Call Center/IVR",
          "Web/Outage",
          "Call Center/Live Agent",
          "Web/Payment Account",
          "Web/Billing",
          "Web/Billing",
          "Other Elec Pay Channels/Other Elec Pay Channels",
          "Web",
          "Web",
          "Web",
          "Web",
          "Web",
          "Call Center",
          "Call Center",
          "Mail",
          "Other Elec Pay Channels",
          "Web",
          "Web",
          "Web",
          "Web",
          "Web",
          "Web",
          "Web",
          "Call Center",
          "Web",
          "",
          "",
          "",
          ""
         ],
         "type": "sunburst",
         "values": [
          137600,
          83947,
          159607,
          1425106,
          1310655,
          82019,
          362420,
          200864,
          3633827,
          140820,
          310259,
          178445,
          80187,
          2559618,
          633871,
          24316220,
          696000,
          3100000,
          267000,
          205000,
          3892,
          4794,
          466000,
          691000,
          1241000,
          16692,
          1907,
          302380,
          663126,
          244317,
          536000,
          449000,
          233548,
          16104,
          79960,
          15393,
          1341000,
          25758,
          2630000,
          220049,
          97000,
          278569,
          1200000,
          10738,
          11200000,
          678000,
          136000,
          246000,
          843000,
          12242,
          123000,
          209000,
          16992,
          12500000,
          15600000,
          4474000,
          137000,
          756747,
          538774,
          549793,
          1148,
          18987,
          4516009,
          1000,
          3697,
          479000,
          256000,
          220000,
          678000,
          337000,
          80199,
          3918000,
          16176,
          8992263,
          9361207,
          3000,
          381154,
          630145,
          18353470,
          16692,
          278569,
          7987000,
          9407000,
          12500000,
          31233000,
          1310914,
          5146001,
          300009,
          923619,
          27950047,
          22042,
          541515,
          3830000,
          6742749,
          21224000,
          12500000,
          31233000,
          62596926
         ]
        }
       ],
       "layout": {
        "font": {
         "size": 14
        },
        "height": 900,
        "legend": {
         "tracegroupgap": 0
        },
        "margin": {
         "b": 0,
         "l": 0,
         "r": 0,
         "t": 50
        },
        "sunburstcolorway": [
         "darkorange",
         "lightgrey",
         "lightblue",
         "tan"
        ],
        "template": {
         "data": {
          "bar": [
           {
            "error_x": {
             "color": "#2a3f5f"
            },
            "error_y": {
             "color": "#2a3f5f"
            },
            "marker": {
             "line": {
              "color": "#E5ECF6",
              "width": 0.5
             },
             "pattern": {
              "fillmode": "overlay",
              "size": 10,
              "solidity": 0.2
             }
            },
            "type": "bar"
           }
          ],
          "barpolar": [
           {
            "marker": {
             "line": {
              "color": "#E5ECF6",
              "width": 0.5
             },
             "pattern": {
              "fillmode": "overlay",
              "size": 10,
              "solidity": 0.2
             }
            },
            "type": "barpolar"
           }
          ],
          "carpet": [
           {
            "aaxis": {
             "endlinecolor": "#2a3f5f",
             "gridcolor": "white",
             "linecolor": "white",
             "minorgridcolor": "white",
             "startlinecolor": "#2a3f5f"
            },
            "baxis": {
             "endlinecolor": "#2a3f5f",
             "gridcolor": "white",
             "linecolor": "white",
             "minorgridcolor": "white",
             "startlinecolor": "#2a3f5f"
            },
            "type": "carpet"
           }
          ],
          "choropleth": [
           {
            "colorbar": {
             "outlinewidth": 0,
             "ticks": ""
            },
            "type": "choropleth"
           }
          ],
          "contour": [
           {
            "colorbar": {
             "outlinewidth": 0,
             "ticks": ""
            },
            "colorscale": [
             [
              0,
              "#0d0887"
             ],
             [
              0.1111111111111111,
              "#46039f"
             ],
             [
              0.2222222222222222,
              "#7201a8"
             ],
             [
              0.3333333333333333,
              "#9c179e"
             ],
             [
              0.4444444444444444,
              "#bd3786"
             ],
             [
              0.5555555555555556,
              "#d8576b"
             ],
             [
              0.6666666666666666,
              "#ed7953"
             ],
             [
              0.7777777777777778,
              "#fb9f3a"
             ],
             [
              0.8888888888888888,
              "#fdca26"
             ],
             [
              1,
              "#f0f921"
             ]
            ],
            "type": "contour"
           }
          ],
          "contourcarpet": [
           {
            "colorbar": {
             "outlinewidth": 0,
             "ticks": ""
            },
            "type": "contourcarpet"
           }
          ],
          "heatmap": [
           {
            "colorbar": {
             "outlinewidth": 0,
             "ticks": ""
            },
            "colorscale": [
             [
              0,
              "#0d0887"
             ],
             [
              0.1111111111111111,
              "#46039f"
             ],
             [
              0.2222222222222222,
              "#7201a8"
             ],
             [
              0.3333333333333333,
              "#9c179e"
             ],
             [
              0.4444444444444444,
              "#bd3786"
             ],
             [
              0.5555555555555556,
              "#d8576b"
             ],
             [
              0.6666666666666666,
              "#ed7953"
             ],
             [
              0.7777777777777778,
              "#fb9f3a"
             ],
             [
              0.8888888888888888,
              "#fdca26"
             ],
             [
              1,
              "#f0f921"
             ]
            ],
            "type": "heatmap"
           }
          ],
          "heatmapgl": [
           {
            "colorbar": {
             "outlinewidth": 0,
             "ticks": ""
            },
            "colorscale": [
             [
              0,
              "#0d0887"
             ],
             [
              0.1111111111111111,
              "#46039f"
             ],
             [
              0.2222222222222222,
              "#7201a8"
             ],
             [
              0.3333333333333333,
              "#9c179e"
             ],
             [
              0.4444444444444444,
              "#bd3786"
             ],
             [
              0.5555555555555556,
              "#d8576b"
             ],
             [
              0.6666666666666666,
              "#ed7953"
             ],
             [
              0.7777777777777778,
              "#fb9f3a"
             ],
             [
              0.8888888888888888,
              "#fdca26"
             ],
             [
              1,
              "#f0f921"
             ]
            ],
            "type": "heatmapgl"
           }
          ],
          "histogram": [
           {
            "marker": {
             "pattern": {
              "fillmode": "overlay",
              "size": 10,
              "solidity": 0.2
             }
            },
            "type": "histogram"
           }
          ],
          "histogram2d": [
           {
            "colorbar": {
             "outlinewidth": 0,
             "ticks": ""
            },
            "colorscale": [
             [
              0,
              "#0d0887"
             ],
             [
              0.1111111111111111,
              "#46039f"
             ],
             [
              0.2222222222222222,
              "#7201a8"
             ],
             [
              0.3333333333333333,
              "#9c179e"
             ],
             [
              0.4444444444444444,
              "#bd3786"
             ],
             [
              0.5555555555555556,
              "#d8576b"
             ],
             [
              0.6666666666666666,
              "#ed7953"
             ],
             [
              0.7777777777777778,
              "#fb9f3a"
             ],
             [
              0.8888888888888888,
              "#fdca26"
             ],
             [
              1,
              "#f0f921"
             ]
            ],
            "type": "histogram2d"
           }
          ],
          "histogram2dcontour": [
           {
            "colorbar": {
             "outlinewidth": 0,
             "ticks": ""
            },
            "colorscale": [
             [
              0,
              "#0d0887"
             ],
             [
              0.1111111111111111,
              "#46039f"
             ],
             [
              0.2222222222222222,
              "#7201a8"
             ],
             [
              0.3333333333333333,
              "#9c179e"
             ],
             [
              0.4444444444444444,
              "#bd3786"
             ],
             [
              0.5555555555555556,
              "#d8576b"
             ],
             [
              0.6666666666666666,
              "#ed7953"
             ],
             [
              0.7777777777777778,
              "#fb9f3a"
             ],
             [
              0.8888888888888888,
              "#fdca26"
             ],
             [
              1,
              "#f0f921"
             ]
            ],
            "type": "histogram2dcontour"
           }
          ],
          "mesh3d": [
           {
            "colorbar": {
             "outlinewidth": 0,
             "ticks": ""
            },
            "type": "mesh3d"
           }
          ],
          "parcoords": [
           {
            "line": {
             "colorbar": {
              "outlinewidth": 0,
              "ticks": ""
             }
            },
            "type": "parcoords"
           }
          ],
          "pie": [
           {
            "automargin": true,
            "type": "pie"
           }
          ],
          "scatter": [
           {
            "fillpattern": {
             "fillmode": "overlay",
             "size": 10,
             "solidity": 0.2
            },
            "type": "scatter"
           }
          ],
          "scatter3d": [
           {
            "line": {
             "colorbar": {
              "outlinewidth": 0,
              "ticks": ""
             }
            },
            "marker": {
             "colorbar": {
              "outlinewidth": 0,
              "ticks": ""
             }
            },
            "type": "scatter3d"
           }
          ],
          "scattercarpet": [
           {
            "marker": {
             "colorbar": {
              "outlinewidth": 0,
              "ticks": ""
             }
            },
            "type": "scattercarpet"
           }
          ],
          "scattergeo": [
           {
            "marker": {
             "colorbar": {
              "outlinewidth": 0,
              "ticks": ""
             }
            },
            "type": "scattergeo"
           }
          ],
          "scattergl": [
           {
            "marker": {
             "colorbar": {
              "outlinewidth": 0,
              "ticks": ""
             }
            },
            "type": "scattergl"
           }
          ],
          "scattermapbox": [
           {
            "marker": {
             "colorbar": {
              "outlinewidth": 0,
              "ticks": ""
             }
            },
            "type": "scattermapbox"
           }
          ],
          "scatterpolar": [
           {
            "marker": {
             "colorbar": {
              "outlinewidth": 0,
              "ticks": ""
             }
            },
            "type": "scatterpolar"
           }
          ],
          "scatterpolargl": [
           {
            "marker": {
             "colorbar": {
              "outlinewidth": 0,
              "ticks": ""
             }
            },
            "type": "scatterpolargl"
           }
          ],
          "scatterternary": [
           {
            "marker": {
             "colorbar": {
              "outlinewidth": 0,
              "ticks": ""
             }
            },
            "type": "scatterternary"
           }
          ],
          "surface": [
           {
            "colorbar": {
             "outlinewidth": 0,
             "ticks": ""
            },
            "colorscale": [
             [
              0,
              "#0d0887"
             ],
             [
              0.1111111111111111,
              "#46039f"
             ],
             [
              0.2222222222222222,
              "#7201a8"
             ],
             [
              0.3333333333333333,
              "#9c179e"
             ],
             [
              0.4444444444444444,
              "#bd3786"
             ],
             [
              0.5555555555555556,
              "#d8576b"
             ],
             [
              0.6666666666666666,
              "#ed7953"
             ],
             [
              0.7777777777777778,
              "#fb9f3a"
             ],
             [
              0.8888888888888888,
              "#fdca26"
             ],
             [
              1,
              "#f0f921"
             ]
            ],
            "type": "surface"
           }
          ],
          "table": [
           {
            "cells": {
             "fill": {
              "color": "#EBF0F8"
             },
             "line": {
              "color": "white"
             }
            },
            "header": {
             "fill": {
              "color": "#C8D4E3"
             },
             "line": {
              "color": "white"
             }
            },
            "type": "table"
           }
          ]
         },
         "layout": {
          "annotationdefaults": {
           "arrowcolor": "#2a3f5f",
           "arrowhead": 0,
           "arrowwidth": 1
          },
          "autotypenumbers": "strict",
          "coloraxis": {
           "colorbar": {
            "outlinewidth": 0,
            "ticks": ""
           }
          },
          "colorscale": {
           "diverging": [
            [
             0,
             "#8e0152"
            ],
            [
             0.1,
             "#c51b7d"
            ],
            [
             0.2,
             "#de77ae"
            ],
            [
             0.3,
             "#f1b6da"
            ],
            [
             0.4,
             "#fde0ef"
            ],
            [
             0.5,
             "#f7f7f7"
            ],
            [
             0.6,
             "#e6f5d0"
            ],
            [
             0.7,
             "#b8e186"
            ],
            [
             0.8,
             "#7fbc41"
            ],
            [
             0.9,
             "#4d9221"
            ],
            [
             1,
             "#276419"
            ]
           ],
           "sequential": [
            [
             0,
             "#0d0887"
            ],
            [
             0.1111111111111111,
             "#46039f"
            ],
            [
             0.2222222222222222,
             "#7201a8"
            ],
            [
             0.3333333333333333,
             "#9c179e"
            ],
            [
             0.4444444444444444,
             "#bd3786"
            ],
            [
             0.5555555555555556,
             "#d8576b"
            ],
            [
             0.6666666666666666,
             "#ed7953"
            ],
            [
             0.7777777777777778,
             "#fb9f3a"
            ],
            [
             0.8888888888888888,
             "#fdca26"
            ],
            [
             1,
             "#f0f921"
            ]
           ],
           "sequentialminus": [
            [
             0,
             "#0d0887"
            ],
            [
             0.1111111111111111,
             "#46039f"
            ],
            [
             0.2222222222222222,
             "#7201a8"
            ],
            [
             0.3333333333333333,
             "#9c179e"
            ],
            [
             0.4444444444444444,
             "#bd3786"
            ],
            [
             0.5555555555555556,
             "#d8576b"
            ],
            [
             0.6666666666666666,
             "#ed7953"
            ],
            [
             0.7777777777777778,
             "#fb9f3a"
            ],
            [
             0.8888888888888888,
             "#fdca26"
            ],
            [
             1,
             "#f0f921"
            ]
           ]
          },
          "colorway": [
           "#636efa",
           "#EF553B",
           "#00cc96",
           "#ab63fa",
           "#FFA15A",
           "#19d3f3",
           "#FF6692",
           "#B6E880",
           "#FF97FF",
           "#FECB52"
          ],
          "font": {
           "color": "#2a3f5f"
          },
          "geo": {
           "bgcolor": "white",
           "lakecolor": "white",
           "landcolor": "#E5ECF6",
           "showlakes": true,
           "showland": true,
           "subunitcolor": "white"
          },
          "hoverlabel": {
           "align": "left"
          },
          "hovermode": "closest",
          "mapbox": {
           "style": "light"
          },
          "paper_bgcolor": "white",
          "plot_bgcolor": "#E5ECF6",
          "polar": {
           "angularaxis": {
            "gridcolor": "white",
            "linecolor": "white",
            "ticks": ""
           },
           "bgcolor": "#E5ECF6",
           "radialaxis": {
            "gridcolor": "white",
            "linecolor": "white",
            "ticks": ""
           }
          },
          "scene": {
           "xaxis": {
            "backgroundcolor": "#E5ECF6",
            "gridcolor": "white",
            "gridwidth": 2,
            "linecolor": "white",
            "showbackground": true,
            "ticks": "",
            "zerolinecolor": "white"
           },
           "yaxis": {
            "backgroundcolor": "#E5ECF6",
            "gridcolor": "white",
            "gridwidth": 2,
            "linecolor": "white",
            "showbackground": true,
            "ticks": "",
            "zerolinecolor": "white"
           },
           "zaxis": {
            "backgroundcolor": "#E5ECF6",
            "gridcolor": "white",
            "gridwidth": 2,
            "linecolor": "white",
            "showbackground": true,
            "ticks": "",
            "zerolinecolor": "white"
           }
          },
          "shapedefaults": {
           "line": {
            "color": "#2a3f5f"
           }
          },
          "ternary": {
           "aaxis": {
            "gridcolor": "white",
            "linecolor": "white",
            "ticks": ""
           },
           "baxis": {
            "gridcolor": "white",
            "linecolor": "white",
            "ticks": ""
           },
           "bgcolor": "#E5ECF6",
           "caxis": {
            "gridcolor": "white",
            "linecolor": "white",
            "ticks": ""
           }
          },
          "title": {
           "x": 0.05
          },
          "xaxis": {
           "automargin": true,
           "gridcolor": "white",
           "linecolor": "white",
           "ticks": "",
           "title": {
            "standoff": 15
           },
           "zerolinecolor": "white",
           "zerolinewidth": 2
          },
          "yaxis": {
           "automargin": true,
           "gridcolor": "white",
           "linecolor": "white",
           "ticks": "",
           "title": {
            "standoff": 15
           },
           "zerolinecolor": "white",
           "zerolinewidth": 2
          }
         }
        },
        "title": {
         "text": "Transaction Channel Volume 2022"
        },
        "width": 1400
       }
      }
     },
     "metadata": {},
     "output_type": "display_data"
    }
   ],
   "source": [
    "# Format a sunburst chart using Plotly Express\n",
    "color_sequence = ['darkorange', 'lightgrey', 'lightblue', 'tan']\n",
    "fig = px.sunburst(df, path=[\"Root Level\", \"Level 1\", \"Level 2\"], values='Value')\n",
    "\n",
    "# Format hover tooltip\n",
    "#fig.update_traces(hovertemplate='<b>%{label}</b><br>Value: %{value:,.2f}')\n",
    "\n",
    "# Update the layout\n",
    "fig.update_layout(\n",
    "    title='Transaction Channel Volume 2022',\n",
    "    font=dict(size=14),\n",
    "    margin=dict(t=50, l=0, r=0, b=0),\n",
    "    width=1400,\n",
    "    height=900,\n",
    "    sunburstcolorway=color_sequence,\n",
    ")\n",
    "fig.show()"
   ]
  },
  {
   "cell_type": "code",
   "execution_count": 10,
   "metadata": {},
   "outputs": [
    {
     "data": {
      "text/plain": [
       "'Trxn_sunburst_chart.html'"
      ]
     },
     "execution_count": 10,
     "metadata": {},
     "output_type": "execute_result"
    }
   ],
   "source": [
    "# Export the chart as an HTML file\n",
    "pyo.plot(fig, filename='Trxn_sunburst_chart.html', auto_open=True)"
   ]
  },
  {
   "cell_type": "code",
   "execution_count": 54,
   "metadata": {},
   "outputs": [
    {
     "data": {
      "application/vnd.plotly.v1+json": {
       "config": {
        "plotlyServerURL": "https://plot.ly"
       },
       "data": [
        {
         "marker": {
          "color": [
           "darkorange",
           "lightgrey",
           "lightseagreen",
           "tan"
          ]
         },
         "text": [
          "62,596,926",
          "31,233,000",
          "21,224,000",
          "12,500,000"
         ],
         "textposition": "auto",
         "type": "bar",
         "x": [
          "Web",
          "Other Elec Pay Channels",
          "Call Center",
          "Mail"
         ],
         "y": [
          62596926,
          31233000,
          21224000,
          12500000
         ]
        }
       ],
       "layout": {
        "template": {
         "data": {
          "bar": [
           {
            "error_x": {
             "color": "#2a3f5f"
            },
            "error_y": {
             "color": "#2a3f5f"
            },
            "marker": {
             "line": {
              "color": "#E5ECF6",
              "width": 0.5
             },
             "pattern": {
              "fillmode": "overlay",
              "size": 10,
              "solidity": 0.2
             }
            },
            "type": "bar"
           }
          ],
          "barpolar": [
           {
            "marker": {
             "line": {
              "color": "#E5ECF6",
              "width": 0.5
             },
             "pattern": {
              "fillmode": "overlay",
              "size": 10,
              "solidity": 0.2
             }
            },
            "type": "barpolar"
           }
          ],
          "carpet": [
           {
            "aaxis": {
             "endlinecolor": "#2a3f5f",
             "gridcolor": "white",
             "linecolor": "white",
             "minorgridcolor": "white",
             "startlinecolor": "#2a3f5f"
            },
            "baxis": {
             "endlinecolor": "#2a3f5f",
             "gridcolor": "white",
             "linecolor": "white",
             "minorgridcolor": "white",
             "startlinecolor": "#2a3f5f"
            },
            "type": "carpet"
           }
          ],
          "choropleth": [
           {
            "colorbar": {
             "outlinewidth": 0,
             "ticks": ""
            },
            "type": "choropleth"
           }
          ],
          "contour": [
           {
            "colorbar": {
             "outlinewidth": 0,
             "ticks": ""
            },
            "colorscale": [
             [
              0,
              "#0d0887"
             ],
             [
              0.1111111111111111,
              "#46039f"
             ],
             [
              0.2222222222222222,
              "#7201a8"
             ],
             [
              0.3333333333333333,
              "#9c179e"
             ],
             [
              0.4444444444444444,
              "#bd3786"
             ],
             [
              0.5555555555555556,
              "#d8576b"
             ],
             [
              0.6666666666666666,
              "#ed7953"
             ],
             [
              0.7777777777777778,
              "#fb9f3a"
             ],
             [
              0.8888888888888888,
              "#fdca26"
             ],
             [
              1,
              "#f0f921"
             ]
            ],
            "type": "contour"
           }
          ],
          "contourcarpet": [
           {
            "colorbar": {
             "outlinewidth": 0,
             "ticks": ""
            },
            "type": "contourcarpet"
           }
          ],
          "heatmap": [
           {
            "colorbar": {
             "outlinewidth": 0,
             "ticks": ""
            },
            "colorscale": [
             [
              0,
              "#0d0887"
             ],
             [
              0.1111111111111111,
              "#46039f"
             ],
             [
              0.2222222222222222,
              "#7201a8"
             ],
             [
              0.3333333333333333,
              "#9c179e"
             ],
             [
              0.4444444444444444,
              "#bd3786"
             ],
             [
              0.5555555555555556,
              "#d8576b"
             ],
             [
              0.6666666666666666,
              "#ed7953"
             ],
             [
              0.7777777777777778,
              "#fb9f3a"
             ],
             [
              0.8888888888888888,
              "#fdca26"
             ],
             [
              1,
              "#f0f921"
             ]
            ],
            "type": "heatmap"
           }
          ],
          "heatmapgl": [
           {
            "colorbar": {
             "outlinewidth": 0,
             "ticks": ""
            },
            "colorscale": [
             [
              0,
              "#0d0887"
             ],
             [
              0.1111111111111111,
              "#46039f"
             ],
             [
              0.2222222222222222,
              "#7201a8"
             ],
             [
              0.3333333333333333,
              "#9c179e"
             ],
             [
              0.4444444444444444,
              "#bd3786"
             ],
             [
              0.5555555555555556,
              "#d8576b"
             ],
             [
              0.6666666666666666,
              "#ed7953"
             ],
             [
              0.7777777777777778,
              "#fb9f3a"
             ],
             [
              0.8888888888888888,
              "#fdca26"
             ],
             [
              1,
              "#f0f921"
             ]
            ],
            "type": "heatmapgl"
           }
          ],
          "histogram": [
           {
            "marker": {
             "pattern": {
              "fillmode": "overlay",
              "size": 10,
              "solidity": 0.2
             }
            },
            "type": "histogram"
           }
          ],
          "histogram2d": [
           {
            "colorbar": {
             "outlinewidth": 0,
             "ticks": ""
            },
            "colorscale": [
             [
              0,
              "#0d0887"
             ],
             [
              0.1111111111111111,
              "#46039f"
             ],
             [
              0.2222222222222222,
              "#7201a8"
             ],
             [
              0.3333333333333333,
              "#9c179e"
             ],
             [
              0.4444444444444444,
              "#bd3786"
             ],
             [
              0.5555555555555556,
              "#d8576b"
             ],
             [
              0.6666666666666666,
              "#ed7953"
             ],
             [
              0.7777777777777778,
              "#fb9f3a"
             ],
             [
              0.8888888888888888,
              "#fdca26"
             ],
             [
              1,
              "#f0f921"
             ]
            ],
            "type": "histogram2d"
           }
          ],
          "histogram2dcontour": [
           {
            "colorbar": {
             "outlinewidth": 0,
             "ticks": ""
            },
            "colorscale": [
             [
              0,
              "#0d0887"
             ],
             [
              0.1111111111111111,
              "#46039f"
             ],
             [
              0.2222222222222222,
              "#7201a8"
             ],
             [
              0.3333333333333333,
              "#9c179e"
             ],
             [
              0.4444444444444444,
              "#bd3786"
             ],
             [
              0.5555555555555556,
              "#d8576b"
             ],
             [
              0.6666666666666666,
              "#ed7953"
             ],
             [
              0.7777777777777778,
              "#fb9f3a"
             ],
             [
              0.8888888888888888,
              "#fdca26"
             ],
             [
              1,
              "#f0f921"
             ]
            ],
            "type": "histogram2dcontour"
           }
          ],
          "mesh3d": [
           {
            "colorbar": {
             "outlinewidth": 0,
             "ticks": ""
            },
            "type": "mesh3d"
           }
          ],
          "parcoords": [
           {
            "line": {
             "colorbar": {
              "outlinewidth": 0,
              "ticks": ""
             }
            },
            "type": "parcoords"
           }
          ],
          "pie": [
           {
            "automargin": true,
            "type": "pie"
           }
          ],
          "scatter": [
           {
            "fillpattern": {
             "fillmode": "overlay",
             "size": 10,
             "solidity": 0.2
            },
            "type": "scatter"
           }
          ],
          "scatter3d": [
           {
            "line": {
             "colorbar": {
              "outlinewidth": 0,
              "ticks": ""
             }
            },
            "marker": {
             "colorbar": {
              "outlinewidth": 0,
              "ticks": ""
             }
            },
            "type": "scatter3d"
           }
          ],
          "scattercarpet": [
           {
            "marker": {
             "colorbar": {
              "outlinewidth": 0,
              "ticks": ""
             }
            },
            "type": "scattercarpet"
           }
          ],
          "scattergeo": [
           {
            "marker": {
             "colorbar": {
              "outlinewidth": 0,
              "ticks": ""
             }
            },
            "type": "scattergeo"
           }
          ],
          "scattergl": [
           {
            "marker": {
             "colorbar": {
              "outlinewidth": 0,
              "ticks": ""
             }
            },
            "type": "scattergl"
           }
          ],
          "scattermapbox": [
           {
            "marker": {
             "colorbar": {
              "outlinewidth": 0,
              "ticks": ""
             }
            },
            "type": "scattermapbox"
           }
          ],
          "scatterpolar": [
           {
            "marker": {
             "colorbar": {
              "outlinewidth": 0,
              "ticks": ""
             }
            },
            "type": "scatterpolar"
           }
          ],
          "scatterpolargl": [
           {
            "marker": {
             "colorbar": {
              "outlinewidth": 0,
              "ticks": ""
             }
            },
            "type": "scatterpolargl"
           }
          ],
          "scatterternary": [
           {
            "marker": {
             "colorbar": {
              "outlinewidth": 0,
              "ticks": ""
             }
            },
            "type": "scatterternary"
           }
          ],
          "surface": [
           {
            "colorbar": {
             "outlinewidth": 0,
             "ticks": ""
            },
            "colorscale": [
             [
              0,
              "#0d0887"
             ],
             [
              0.1111111111111111,
              "#46039f"
             ],
             [
              0.2222222222222222,
              "#7201a8"
             ],
             [
              0.3333333333333333,
              "#9c179e"
             ],
             [
              0.4444444444444444,
              "#bd3786"
             ],
             [
              0.5555555555555556,
              "#d8576b"
             ],
             [
              0.6666666666666666,
              "#ed7953"
             ],
             [
              0.7777777777777778,
              "#fb9f3a"
             ],
             [
              0.8888888888888888,
              "#fdca26"
             ],
             [
              1,
              "#f0f921"
             ]
            ],
            "type": "surface"
           }
          ],
          "table": [
           {
            "cells": {
             "fill": {
              "color": "#EBF0F8"
             },
             "line": {
              "color": "white"
             }
            },
            "header": {
             "fill": {
              "color": "#C8D4E3"
             },
             "line": {
              "color": "white"
             }
            },
            "type": "table"
           }
          ]
         },
         "layout": {
          "annotationdefaults": {
           "arrowcolor": "#2a3f5f",
           "arrowhead": 0,
           "arrowwidth": 1
          },
          "autotypenumbers": "strict",
          "coloraxis": {
           "colorbar": {
            "outlinewidth": 0,
            "ticks": ""
           }
          },
          "colorscale": {
           "diverging": [
            [
             0,
             "#8e0152"
            ],
            [
             0.1,
             "#c51b7d"
            ],
            [
             0.2,
             "#de77ae"
            ],
            [
             0.3,
             "#f1b6da"
            ],
            [
             0.4,
             "#fde0ef"
            ],
            [
             0.5,
             "#f7f7f7"
            ],
            [
             0.6,
             "#e6f5d0"
            ],
            [
             0.7,
             "#b8e186"
            ],
            [
             0.8,
             "#7fbc41"
            ],
            [
             0.9,
             "#4d9221"
            ],
            [
             1,
             "#276419"
            ]
           ],
           "sequential": [
            [
             0,
             "#0d0887"
            ],
            [
             0.1111111111111111,
             "#46039f"
            ],
            [
             0.2222222222222222,
             "#7201a8"
            ],
            [
             0.3333333333333333,
             "#9c179e"
            ],
            [
             0.4444444444444444,
             "#bd3786"
            ],
            [
             0.5555555555555556,
             "#d8576b"
            ],
            [
             0.6666666666666666,
             "#ed7953"
            ],
            [
             0.7777777777777778,
             "#fb9f3a"
            ],
            [
             0.8888888888888888,
             "#fdca26"
            ],
            [
             1,
             "#f0f921"
            ]
           ],
           "sequentialminus": [
            [
             0,
             "#0d0887"
            ],
            [
             0.1111111111111111,
             "#46039f"
            ],
            [
             0.2222222222222222,
             "#7201a8"
            ],
            [
             0.3333333333333333,
             "#9c179e"
            ],
            [
             0.4444444444444444,
             "#bd3786"
            ],
            [
             0.5555555555555556,
             "#d8576b"
            ],
            [
             0.6666666666666666,
             "#ed7953"
            ],
            [
             0.7777777777777778,
             "#fb9f3a"
            ],
            [
             0.8888888888888888,
             "#fdca26"
            ],
            [
             1,
             "#f0f921"
            ]
           ]
          },
          "colorway": [
           "#636efa",
           "#EF553B",
           "#00cc96",
           "#ab63fa",
           "#FFA15A",
           "#19d3f3",
           "#FF6692",
           "#B6E880",
           "#FF97FF",
           "#FECB52"
          ],
          "font": {
           "color": "#2a3f5f"
          },
          "geo": {
           "bgcolor": "white",
           "lakecolor": "white",
           "landcolor": "#E5ECF6",
           "showlakes": true,
           "showland": true,
           "subunitcolor": "white"
          },
          "hoverlabel": {
           "align": "left"
          },
          "hovermode": "closest",
          "mapbox": {
           "style": "light"
          },
          "paper_bgcolor": "white",
          "plot_bgcolor": "#E5ECF6",
          "polar": {
           "angularaxis": {
            "gridcolor": "white",
            "linecolor": "white",
            "ticks": ""
           },
           "bgcolor": "#E5ECF6",
           "radialaxis": {
            "gridcolor": "white",
            "linecolor": "white",
            "ticks": ""
           }
          },
          "scene": {
           "xaxis": {
            "backgroundcolor": "#E5ECF6",
            "gridcolor": "white",
            "gridwidth": 2,
            "linecolor": "white",
            "showbackground": true,
            "ticks": "",
            "zerolinecolor": "white"
           },
           "yaxis": {
            "backgroundcolor": "#E5ECF6",
            "gridcolor": "white",
            "gridwidth": 2,
            "linecolor": "white",
            "showbackground": true,
            "ticks": "",
            "zerolinecolor": "white"
           },
           "zaxis": {
            "backgroundcolor": "#E5ECF6",
            "gridcolor": "white",
            "gridwidth": 2,
            "linecolor": "white",
            "showbackground": true,
            "ticks": "",
            "zerolinecolor": "white"
           }
          },
          "shapedefaults": {
           "line": {
            "color": "#2a3f5f"
           }
          },
          "ternary": {
           "aaxis": {
            "gridcolor": "white",
            "linecolor": "white",
            "ticks": ""
           },
           "baxis": {
            "gridcolor": "white",
            "linecolor": "white",
            "ticks": ""
           },
           "bgcolor": "#E5ECF6",
           "caxis": {
            "gridcolor": "white",
            "linecolor": "white",
            "ticks": ""
           }
          },
          "title": {
           "x": 0.05
          },
          "xaxis": {
           "automargin": true,
           "gridcolor": "white",
           "linecolor": "white",
           "ticks": "",
           "title": {
            "standoff": 15
           },
           "zerolinecolor": "white",
           "zerolinewidth": 2
          },
          "yaxis": {
           "automargin": true,
           "gridcolor": "white",
           "linecolor": "white",
           "ticks": "",
           "title": {
            "standoff": 15
           },
           "zerolinecolor": "white",
           "zerolinewidth": 2
          }
         }
        },
        "title": {
         "text": "Total Customer Interactions by Root Level"
        },
        "xaxis": {
         "title": {
          "text": "Root Level"
         }
        },
        "yaxis": {
         "title": {
          "text": "Total Interactions"
         }
        }
       }
      }
     },
     "metadata": {},
     "output_type": "display_data"
    }
   ],
   "source": [
    "# Group the data by Root Level and sum the values\n",
    "grouped_data = df.groupby(['Root Level'])['Value'].sum().reset_index()\n",
    "\n",
    "# Sort the grouped_data by Value column in descending order\n",
    "grouped_data = grouped_data.sort_values(by='Value', ascending=False)\n",
    "\n",
    "# Create a dictionary to map the Root Level to its corresponding color\n",
    "color_map = {'Web': 'darkorange', 'Call Center': 'lightseagreen', 'Mail': 'tan', 'Other Elec Pay Channels': 'lightgrey'}\n",
    "\n",
    "# Create the bar chart trace\n",
    "bar_trace = go.Bar(\n",
    "    x=grouped_data['Root Level'],\n",
    "    y=grouped_data['Value'],\n",
    "    marker=dict(color=[color_map.get(root_level, 'grey') for root_level in grouped_data['Root Level']]),\n",
    "    text=[f\"{value:,}\" for value in grouped_data['Value']],\n",
    "    textposition='auto'\n",
    ")\n",
    "\n",
    "# Create the bar chart layout\n",
    "bar_layout = go.Layout(\n",
    "    title='Total Customer Interactions by Root Level',\n",
    "    xaxis=dict(title='Root Level'),\n",
    "    yaxis=dict(title='Total Interactions')\n",
    ")\n",
    "\n",
    "# Create the bar chart figure\n",
    "bar_fig = go.Figure(data=[bar_trace], layout=bar_layout)\n",
    "\n",
    "# Display the bar chart\n",
    "bar_fig.show()\n"
   ]
  },
  {
   "cell_type": "code",
   "execution_count": 47,
   "metadata": {},
   "outputs": [
    {
     "data": {
      "application/vnd.plotly.v1+json": {
       "config": {
        "plotlyServerURL": "https://plot.ly"
       },
       "data": [
        {
         "marker": {
          "color": "lightgrey"
         },
         "name": "Other Elec Pay Channels",
         "text": [
          "31,233,000"
         ],
         "textposition": "auto",
         "type": "bar",
         "x": [
          "Other Elec Pay Channels"
         ],
         "y": [
          31233000
         ]
        },
        {
         "marker": {
          "color": "darkorange"
         },
         "name": "Web",
         "text": [
          "27,950,047",
          "18,353,470",
          "6,742,749",
          "5,146,001",
          "1,310,914",
          "923,619",
          "630,145",
          "541,515",
          "381,154",
          "300,009",
          "278,569",
          "22,042",
          "16,692"
         ],
         "textposition": "auto",
         "type": "bar",
         "x": [
          "Payments",
          "Billing",
          "Usage and Rates",
          "Outage",
          "Other Interactions ",
          "Payment Account",
          "Alerts & Notifications",
          "Start/Stop/Transfer (total)",
          "Account Mgmt",
          "Pay Plans",
          "CARE/FERA ",
          "Pilot Light Appointments ",
          "Budget Billing (Login) "
         ],
         "y": [
          27950047,
          18353470,
          6742749,
          5146001,
          1310914,
          923619,
          630145,
          541515,
          381154,
          300009,
          278569,
          22042,
          16692
         ]
        },
        {
         "marker": {
          "color": "tan"
         },
         "name": "Mail",
         "text": [
          "12,500,000"
         ],
         "textposition": "auto",
         "type": "bar",
         "x": [
          "Mail"
         ],
         "y": [
          12500000
         ]
        },
        {
         "marker": {
          "color": "lightseagreen"
         },
         "name": "Call Center",
         "text": [
          "9,407,000",
          "7,987,000",
          "3,830,000"
         ],
         "textposition": "auto",
         "type": "bar",
         "x": [
          "Live Agent",
          "IVR",
          "Tech"
         ],
         "y": [
          9407000,
          7987000,
          3830000
         ]
        }
       ],
       "layout": {
        "barmode": "stack",
        "template": {
         "data": {
          "bar": [
           {
            "error_x": {
             "color": "#2a3f5f"
            },
            "error_y": {
             "color": "#2a3f5f"
            },
            "marker": {
             "line": {
              "color": "#E5ECF6",
              "width": 0.5
             },
             "pattern": {
              "fillmode": "overlay",
              "size": 10,
              "solidity": 0.2
             }
            },
            "type": "bar"
           }
          ],
          "barpolar": [
           {
            "marker": {
             "line": {
              "color": "#E5ECF6",
              "width": 0.5
             },
             "pattern": {
              "fillmode": "overlay",
              "size": 10,
              "solidity": 0.2
             }
            },
            "type": "barpolar"
           }
          ],
          "carpet": [
           {
            "aaxis": {
             "endlinecolor": "#2a3f5f",
             "gridcolor": "white",
             "linecolor": "white",
             "minorgridcolor": "white",
             "startlinecolor": "#2a3f5f"
            },
            "baxis": {
             "endlinecolor": "#2a3f5f",
             "gridcolor": "white",
             "linecolor": "white",
             "minorgridcolor": "white",
             "startlinecolor": "#2a3f5f"
            },
            "type": "carpet"
           }
          ],
          "choropleth": [
           {
            "colorbar": {
             "outlinewidth": 0,
             "ticks": ""
            },
            "type": "choropleth"
           }
          ],
          "contour": [
           {
            "colorbar": {
             "outlinewidth": 0,
             "ticks": ""
            },
            "colorscale": [
             [
              0,
              "#0d0887"
             ],
             [
              0.1111111111111111,
              "#46039f"
             ],
             [
              0.2222222222222222,
              "#7201a8"
             ],
             [
              0.3333333333333333,
              "#9c179e"
             ],
             [
              0.4444444444444444,
              "#bd3786"
             ],
             [
              0.5555555555555556,
              "#d8576b"
             ],
             [
              0.6666666666666666,
              "#ed7953"
             ],
             [
              0.7777777777777778,
              "#fb9f3a"
             ],
             [
              0.8888888888888888,
              "#fdca26"
             ],
             [
              1,
              "#f0f921"
             ]
            ],
            "type": "contour"
           }
          ],
          "contourcarpet": [
           {
            "colorbar": {
             "outlinewidth": 0,
             "ticks": ""
            },
            "type": "contourcarpet"
           }
          ],
          "heatmap": [
           {
            "colorbar": {
             "outlinewidth": 0,
             "ticks": ""
            },
            "colorscale": [
             [
              0,
              "#0d0887"
             ],
             [
              0.1111111111111111,
              "#46039f"
             ],
             [
              0.2222222222222222,
              "#7201a8"
             ],
             [
              0.3333333333333333,
              "#9c179e"
             ],
             [
              0.4444444444444444,
              "#bd3786"
             ],
             [
              0.5555555555555556,
              "#d8576b"
             ],
             [
              0.6666666666666666,
              "#ed7953"
             ],
             [
              0.7777777777777778,
              "#fb9f3a"
             ],
             [
              0.8888888888888888,
              "#fdca26"
             ],
             [
              1,
              "#f0f921"
             ]
            ],
            "type": "heatmap"
           }
          ],
          "heatmapgl": [
           {
            "colorbar": {
             "outlinewidth": 0,
             "ticks": ""
            },
            "colorscale": [
             [
              0,
              "#0d0887"
             ],
             [
              0.1111111111111111,
              "#46039f"
             ],
             [
              0.2222222222222222,
              "#7201a8"
             ],
             [
              0.3333333333333333,
              "#9c179e"
             ],
             [
              0.4444444444444444,
              "#bd3786"
             ],
             [
              0.5555555555555556,
              "#d8576b"
             ],
             [
              0.6666666666666666,
              "#ed7953"
             ],
             [
              0.7777777777777778,
              "#fb9f3a"
             ],
             [
              0.8888888888888888,
              "#fdca26"
             ],
             [
              1,
              "#f0f921"
             ]
            ],
            "type": "heatmapgl"
           }
          ],
          "histogram": [
           {
            "marker": {
             "pattern": {
              "fillmode": "overlay",
              "size": 10,
              "solidity": 0.2
             }
            },
            "type": "histogram"
           }
          ],
          "histogram2d": [
           {
            "colorbar": {
             "outlinewidth": 0,
             "ticks": ""
            },
            "colorscale": [
             [
              0,
              "#0d0887"
             ],
             [
              0.1111111111111111,
              "#46039f"
             ],
             [
              0.2222222222222222,
              "#7201a8"
             ],
             [
              0.3333333333333333,
              "#9c179e"
             ],
             [
              0.4444444444444444,
              "#bd3786"
             ],
             [
              0.5555555555555556,
              "#d8576b"
             ],
             [
              0.6666666666666666,
              "#ed7953"
             ],
             [
              0.7777777777777778,
              "#fb9f3a"
             ],
             [
              0.8888888888888888,
              "#fdca26"
             ],
             [
              1,
              "#f0f921"
             ]
            ],
            "type": "histogram2d"
           }
          ],
          "histogram2dcontour": [
           {
            "colorbar": {
             "outlinewidth": 0,
             "ticks": ""
            },
            "colorscale": [
             [
              0,
              "#0d0887"
             ],
             [
              0.1111111111111111,
              "#46039f"
             ],
             [
              0.2222222222222222,
              "#7201a8"
             ],
             [
              0.3333333333333333,
              "#9c179e"
             ],
             [
              0.4444444444444444,
              "#bd3786"
             ],
             [
              0.5555555555555556,
              "#d8576b"
             ],
             [
              0.6666666666666666,
              "#ed7953"
             ],
             [
              0.7777777777777778,
              "#fb9f3a"
             ],
             [
              0.8888888888888888,
              "#fdca26"
             ],
             [
              1,
              "#f0f921"
             ]
            ],
            "type": "histogram2dcontour"
           }
          ],
          "mesh3d": [
           {
            "colorbar": {
             "outlinewidth": 0,
             "ticks": ""
            },
            "type": "mesh3d"
           }
          ],
          "parcoords": [
           {
            "line": {
             "colorbar": {
              "outlinewidth": 0,
              "ticks": ""
             }
            },
            "type": "parcoords"
           }
          ],
          "pie": [
           {
            "automargin": true,
            "type": "pie"
           }
          ],
          "scatter": [
           {
            "fillpattern": {
             "fillmode": "overlay",
             "size": 10,
             "solidity": 0.2
            },
            "type": "scatter"
           }
          ],
          "scatter3d": [
           {
            "line": {
             "colorbar": {
              "outlinewidth": 0,
              "ticks": ""
             }
            },
            "marker": {
             "colorbar": {
              "outlinewidth": 0,
              "ticks": ""
             }
            },
            "type": "scatter3d"
           }
          ],
          "scattercarpet": [
           {
            "marker": {
             "colorbar": {
              "outlinewidth": 0,
              "ticks": ""
             }
            },
            "type": "scattercarpet"
           }
          ],
          "scattergeo": [
           {
            "marker": {
             "colorbar": {
              "outlinewidth": 0,
              "ticks": ""
             }
            },
            "type": "scattergeo"
           }
          ],
          "scattergl": [
           {
            "marker": {
             "colorbar": {
              "outlinewidth": 0,
              "ticks": ""
             }
            },
            "type": "scattergl"
           }
          ],
          "scattermapbox": [
           {
            "marker": {
             "colorbar": {
              "outlinewidth": 0,
              "ticks": ""
             }
            },
            "type": "scattermapbox"
           }
          ],
          "scatterpolar": [
           {
            "marker": {
             "colorbar": {
              "outlinewidth": 0,
              "ticks": ""
             }
            },
            "type": "scatterpolar"
           }
          ],
          "scatterpolargl": [
           {
            "marker": {
             "colorbar": {
              "outlinewidth": 0,
              "ticks": ""
             }
            },
            "type": "scatterpolargl"
           }
          ],
          "scatterternary": [
           {
            "marker": {
             "colorbar": {
              "outlinewidth": 0,
              "ticks": ""
             }
            },
            "type": "scatterternary"
           }
          ],
          "surface": [
           {
            "colorbar": {
             "outlinewidth": 0,
             "ticks": ""
            },
            "colorscale": [
             [
              0,
              "#0d0887"
             ],
             [
              0.1111111111111111,
              "#46039f"
             ],
             [
              0.2222222222222222,
              "#7201a8"
             ],
             [
              0.3333333333333333,
              "#9c179e"
             ],
             [
              0.4444444444444444,
              "#bd3786"
             ],
             [
              0.5555555555555556,
              "#d8576b"
             ],
             [
              0.6666666666666666,
              "#ed7953"
             ],
             [
              0.7777777777777778,
              "#fb9f3a"
             ],
             [
              0.8888888888888888,
              "#fdca26"
             ],
             [
              1,
              "#f0f921"
             ]
            ],
            "type": "surface"
           }
          ],
          "table": [
           {
            "cells": {
             "fill": {
              "color": "#EBF0F8"
             },
             "line": {
              "color": "white"
             }
            },
            "header": {
             "fill": {
              "color": "#C8D4E3"
             },
             "line": {
              "color": "white"
             }
            },
            "type": "table"
           }
          ]
         },
         "layout": {
          "annotationdefaults": {
           "arrowcolor": "#2a3f5f",
           "arrowhead": 0,
           "arrowwidth": 1
          },
          "autotypenumbers": "strict",
          "coloraxis": {
           "colorbar": {
            "outlinewidth": 0,
            "ticks": ""
           }
          },
          "colorscale": {
           "diverging": [
            [
             0,
             "#8e0152"
            ],
            [
             0.1,
             "#c51b7d"
            ],
            [
             0.2,
             "#de77ae"
            ],
            [
             0.3,
             "#f1b6da"
            ],
            [
             0.4,
             "#fde0ef"
            ],
            [
             0.5,
             "#f7f7f7"
            ],
            [
             0.6,
             "#e6f5d0"
            ],
            [
             0.7,
             "#b8e186"
            ],
            [
             0.8,
             "#7fbc41"
            ],
            [
             0.9,
             "#4d9221"
            ],
            [
             1,
             "#276419"
            ]
           ],
           "sequential": [
            [
             0,
             "#0d0887"
            ],
            [
             0.1111111111111111,
             "#46039f"
            ],
            [
             0.2222222222222222,
             "#7201a8"
            ],
            [
             0.3333333333333333,
             "#9c179e"
            ],
            [
             0.4444444444444444,
             "#bd3786"
            ],
            [
             0.5555555555555556,
             "#d8576b"
            ],
            [
             0.6666666666666666,
             "#ed7953"
            ],
            [
             0.7777777777777778,
             "#fb9f3a"
            ],
            [
             0.8888888888888888,
             "#fdca26"
            ],
            [
             1,
             "#f0f921"
            ]
           ],
           "sequentialminus": [
            [
             0,
             "#0d0887"
            ],
            [
             0.1111111111111111,
             "#46039f"
            ],
            [
             0.2222222222222222,
             "#7201a8"
            ],
            [
             0.3333333333333333,
             "#9c179e"
            ],
            [
             0.4444444444444444,
             "#bd3786"
            ],
            [
             0.5555555555555556,
             "#d8576b"
            ],
            [
             0.6666666666666666,
             "#ed7953"
            ],
            [
             0.7777777777777778,
             "#fb9f3a"
            ],
            [
             0.8888888888888888,
             "#fdca26"
            ],
            [
             1,
             "#f0f921"
            ]
           ]
          },
          "colorway": [
           "#636efa",
           "#EF553B",
           "#00cc96",
           "#ab63fa",
           "#FFA15A",
           "#19d3f3",
           "#FF6692",
           "#B6E880",
           "#FF97FF",
           "#FECB52"
          ],
          "font": {
           "color": "#2a3f5f"
          },
          "geo": {
           "bgcolor": "white",
           "lakecolor": "white",
           "landcolor": "#E5ECF6",
           "showlakes": true,
           "showland": true,
           "subunitcolor": "white"
          },
          "hoverlabel": {
           "align": "left"
          },
          "hovermode": "closest",
          "mapbox": {
           "style": "light"
          },
          "paper_bgcolor": "white",
          "plot_bgcolor": "#E5ECF6",
          "polar": {
           "angularaxis": {
            "gridcolor": "white",
            "linecolor": "white",
            "ticks": ""
           },
           "bgcolor": "#E5ECF6",
           "radialaxis": {
            "gridcolor": "white",
            "linecolor": "white",
            "ticks": ""
           }
          },
          "scene": {
           "xaxis": {
            "backgroundcolor": "#E5ECF6",
            "gridcolor": "white",
            "gridwidth": 2,
            "linecolor": "white",
            "showbackground": true,
            "ticks": "",
            "zerolinecolor": "white"
           },
           "yaxis": {
            "backgroundcolor": "#E5ECF6",
            "gridcolor": "white",
            "gridwidth": 2,
            "linecolor": "white",
            "showbackground": true,
            "ticks": "",
            "zerolinecolor": "white"
           },
           "zaxis": {
            "backgroundcolor": "#E5ECF6",
            "gridcolor": "white",
            "gridwidth": 2,
            "linecolor": "white",
            "showbackground": true,
            "ticks": "",
            "zerolinecolor": "white"
           }
          },
          "shapedefaults": {
           "line": {
            "color": "#2a3f5f"
           }
          },
          "ternary": {
           "aaxis": {
            "gridcolor": "white",
            "linecolor": "white",
            "ticks": ""
           },
           "baxis": {
            "gridcolor": "white",
            "linecolor": "white",
            "ticks": ""
           },
           "bgcolor": "#E5ECF6",
           "caxis": {
            "gridcolor": "white",
            "linecolor": "white",
            "ticks": ""
           }
          },
          "title": {
           "x": 0.05
          },
          "xaxis": {
           "automargin": true,
           "gridcolor": "white",
           "linecolor": "white",
           "ticks": "",
           "title": {
            "standoff": 15
           },
           "zerolinecolor": "white",
           "zerolinewidth": 2
          },
          "yaxis": {
           "automargin": true,
           "gridcolor": "white",
           "linecolor": "white",
           "ticks": "",
           "title": {
            "standoff": 15
           },
           "zerolinecolor": "white",
           "zerolinewidth": 2
          }
         }
        },
        "title": {
         "text": "Total Customer Interactions by Root Level and Level 1"
        },
        "xaxis": {
         "title": {
          "text": "Level 1"
         }
        },
        "yaxis": {
         "title": {
          "text": "Total Interactions"
         }
        }
       }
      }
     },
     "metadata": {},
     "output_type": "display_data"
    }
   ],
   "source": [
    "import plotly.graph_objs as go\n",
    "import locale\n",
    "\n",
    "# Set the locale to use comma separators for thousands\n",
    "locale.setlocale(locale.LC_ALL, '')\n",
    "\n",
    "# Group the data by Root Level and Level 1 and sum the values\n",
    "grouped_data = df.groupby(['Root Level', 'Level 1'])['Value'].sum().reset_index()\n",
    "\n",
    "# Sort the grouped_data by Value column in descending order\n",
    "grouped_data = grouped_data.sort_values(by='Value', ascending=False)\n",
    "\n",
    "# Create a dictionary to map the Root Level to its corresponding color\n",
    "color_map = {'Web': 'darkorange', 'Call Center': 'lightseagreen', 'Mail': 'tan', 'Other Elec Pay Channels': 'lightgrey'}\n",
    "\n",
    "# Create a list to store the bar chart traces\n",
    "bar_traces = []\n",
    "\n",
    "# Loop through each Root Level and create a stacked bar chart trace for its corresponding Level 1 data\n",
    "for root_level in grouped_data['Root Level'].unique():\n",
    "    temp_df = grouped_data[grouped_data['Root Level'] == root_level]\n",
    "    values = temp_df['Value'].values\n",
    "    formatted_values = [locale.format_string(\"%d\", val, grouping=True) for val in values] # Format values with comma separators\n",
    "    bar_trace = go.Bar(\n",
    "        x=temp_df['Level 1'],\n",
    "        y=values,\n",
    "        text=formatted_values, # Set the formatted values as the text labels\n",
    "        textposition='auto', # Position the text labels automatically above the bars\n",
    "        name=root_level,\n",
    "        marker=dict(color=color_map[root_level])\n",
    "    )\n",
    "    bar_traces.append(bar_trace)\n",
    "\n",
    "# Create the stacked bar chart layout\n",
    "bar_layout = go.Layout(\n",
    "    title='Total Customer Interactions by Root Level and Level 1',\n",
    "    xaxis=dict(title='Level 1'),\n",
    "    yaxis=dict(title='Total Interactions'),\n",
    "    barmode='stack'\n",
    ")\n",
    "\n",
    "# Create the stacked bar chart figure\n",
    "bar_fig = go.Figure(data=bar_traces, layout=bar_layout)\n",
    "\n",
    "# Display the stacked bar chart\n",
    "bar_fig.show()\n"
   ]
  },
  {
   "cell_type": "code",
   "execution_count": 66,
   "metadata": {},
   "outputs": [
    {
     "data": {
      "application/vnd.plotly.v1+json": {
       "config": {
        "plotlyServerURL": "https://plot.ly"
       },
       "data": [
        {
         "marker": {
          "color": "lightgrey"
         },
         "name": "Other Elec Pay Channels",
         "orientation": "h",
         "text": [
          "1,000",
          "3,000",
          "97,000",
          "536,000",
          "696,000",
          "3,100,000",
          "11,200,000",
          "15,600,000"
         ],
         "textposition": "auto",
         "type": "bar",
         "x": [
          1000,
          3000,
          97000,
          536000,
          696000,
          3100000,
          11200000,
          15600000
         ],
         "y": [
          "Payments ",
          "Online Banking",
          "APS",
          "ACH",
          "EDI",
          "LiHEAP",
          "Wire Transfer",
          "Secure Email"
         ]
        },
        {
         "marker": {
          "color": "darkorange"
         },
         "name": "Web",
         "orientation": "h",
         "text": [
          "1,148",
          "1,907",
          "3,697",
          "3,892",
          "4,794",
          "10,738",
          "12,242",
          "15,393",
          "16,104",
          "16,176",
          "16,692",
          "16,992",
          "18,987",
          "25,758",
          "79,960",
          "80,187",
          "80,199",
          "82,019",
          "83,947",
          "137,600",
          "140,820",
          "159,607",
          "178,445",
          "200,864",
          "220,049",
          "233,548",
          "244,317",
          "278,569",
          "302,380",
          "310,259",
          "362,420",
          "538,774",
          "549,793",
          "633,871",
          "663,126",
          "756,747",
          "1,310,655",
          "1,425,106",
          "2,559,618",
          "3,633,827",
          "4,516,009",
          "8,992,263",
          "9,361,207",
          "24,316,220"
         ],
         "textposition": "auto",
         "type": "bar",
         "x": [
          1148,
          1907,
          3697,
          3892,
          4794,
          10738,
          12242,
          15393,
          16104,
          16176,
          16692,
          16992,
          18987,
          25758,
          79960,
          80187,
          80199,
          82019,
          83947,
          137600,
          140820,
          159607,
          178445,
          200864,
          220049,
          233548,
          244317,
          278569,
          302380,
          310259,
          362420,
          538774,
          549793,
          633871,
          663126,
          756747,
          1310655,
          1425106,
          2559618,
          3633827,
          4516009,
          8992263,
          9361207,
          24316220
         ],
         "y": [
          " Your Account",
          "ViewBillCurrentPDF historical",
          "ViewBillCurrentPDF ",
          "Search Outage By Address (outage Center/ Outage Map/ Address Look up)",
          " One Time Access",
          " View Usage ",
          " Compare My Bills",
          " Compare My Bills UPDATED",
          "Recurring Payment Schedule",
          "Create Payment Account",
          " View Usage (July Onward)",
          "Report Outage  Outage Map",
          "Registration ",
          " Home Energy Checkup",
          " Rate Comparison",
          "Change Billing & Payment Alerts",
          "New Pages",
          "Delete Payment Account",
          "Energy Alerts",
          "Installment Pay",
          " New Customer ",
          " Stop ",
          " Change User Name, Password ",
          " Online Rate Enrollment",
          " Add/Edit Phone Number",
          " Change Billing Address ",
          " Existing Customer",
          "Subscribe Outage (EW Pages)",
          " Transfer ",
          "Extension Pay",
          "Go Paperless Alerts",
          "Schedule Service Appointment",
          "Payment Plan & Shutoff Nonpayment Alerts",
          "Budget Billing (Login) ",
          "Update Payment Account",
          "Event Day Alerts",
          "Gas Pipeline Map Views",
          "Outages Alerts",
          "Notices & Services Information",
          "Additional Communication Alerts (Aug Onward)",
          "Additional Communication Alerts",
          "Service Visit Alerts",
          "Cancel Service Appointment",
          "Reschedule Service Appointment"
         ]
        },
        {
         "marker": {
          "color": "lightseagreen"
         },
         "name": "Call Center",
         "orientation": "h",
         "text": [
          "123,000",
          "137,000",
          "205,000",
          "209,000",
          "220,000",
          "246,000",
          "256,000",
          "267,000",
          "337,000",
          "449,000",
          "466,000",
          "479,000",
          "678,000",
          "691,000",
          "814,000",
          "843,000",
          "1,200,000",
          "1,241,000",
          "1,341,000",
          "2,630,000",
          "3,918,000",
          "4,474,000"
         ],
         "textposition": "auto",
         "type": "bar",
         "x": [
          123000,
          137000,
          205000,
          209000,
          220000,
          246000,
          256000,
          267000,
          337000,
          449000,
          466000,
          479000,
          678000,
          691000,
          814000,
          843000,
          1200000,
          1241000,
          1341000,
          2630000,
          3918000,
          4474000
         ],
         "y": [
          "Payments (IVR PaybyPhone)",
          "Transferred calls (total)",
          "ICM",
          "General",
          "Billing IVR",
          "Non-IVR",
          "Outage IVR",
          "Other Transactions ",
          "Billing Balance ",
          "Start/Stop/Transfer (total) - Live",
          "Solar ",
          "BCSC (Bus. Cust. Service Center)",
          "Emergency ",
          "Start/Stop/Transfer (total) IVR",
          "Abandoned Calls (total)",
          "Spanish (General) ",
          "Outage - Live",
          "Specialty Lines ",
          "Pay Plans IVR",
          "Account Balance",
          "Payments (PayByPhone)",
          "Pay Plans - Live"
         ]
        },
        {
         "marker": {
          "color": "tan"
         },
         "name": "Mail",
         "orientation": "h",
         "text": [
          "12,500,000"
         ],
         "textposition": "auto",
         "type": "bar",
         "x": [
          12500000
         ],
         "y": [
          "Payments"
         ]
        }
       ],
       "layout": {
        "barmode": "stack",
        "height": 1500,
        "template": {
         "data": {
          "bar": [
           {
            "error_x": {
             "color": "#2a3f5f"
            },
            "error_y": {
             "color": "#2a3f5f"
            },
            "marker": {
             "line": {
              "color": "#E5ECF6",
              "width": 0.5
             },
             "pattern": {
              "fillmode": "overlay",
              "size": 10,
              "solidity": 0.2
             }
            },
            "type": "bar"
           }
          ],
          "barpolar": [
           {
            "marker": {
             "line": {
              "color": "#E5ECF6",
              "width": 0.5
             },
             "pattern": {
              "fillmode": "overlay",
              "size": 10,
              "solidity": 0.2
             }
            },
            "type": "barpolar"
           }
          ],
          "carpet": [
           {
            "aaxis": {
             "endlinecolor": "#2a3f5f",
             "gridcolor": "white",
             "linecolor": "white",
             "minorgridcolor": "white",
             "startlinecolor": "#2a3f5f"
            },
            "baxis": {
             "endlinecolor": "#2a3f5f",
             "gridcolor": "white",
             "linecolor": "white",
             "minorgridcolor": "white",
             "startlinecolor": "#2a3f5f"
            },
            "type": "carpet"
           }
          ],
          "choropleth": [
           {
            "colorbar": {
             "outlinewidth": 0,
             "ticks": ""
            },
            "type": "choropleth"
           }
          ],
          "contour": [
           {
            "colorbar": {
             "outlinewidth": 0,
             "ticks": ""
            },
            "colorscale": [
             [
              0,
              "#0d0887"
             ],
             [
              0.1111111111111111,
              "#46039f"
             ],
             [
              0.2222222222222222,
              "#7201a8"
             ],
             [
              0.3333333333333333,
              "#9c179e"
             ],
             [
              0.4444444444444444,
              "#bd3786"
             ],
             [
              0.5555555555555556,
              "#d8576b"
             ],
             [
              0.6666666666666666,
              "#ed7953"
             ],
             [
              0.7777777777777778,
              "#fb9f3a"
             ],
             [
              0.8888888888888888,
              "#fdca26"
             ],
             [
              1,
              "#f0f921"
             ]
            ],
            "type": "contour"
           }
          ],
          "contourcarpet": [
           {
            "colorbar": {
             "outlinewidth": 0,
             "ticks": ""
            },
            "type": "contourcarpet"
           }
          ],
          "heatmap": [
           {
            "colorbar": {
             "outlinewidth": 0,
             "ticks": ""
            },
            "colorscale": [
             [
              0,
              "#0d0887"
             ],
             [
              0.1111111111111111,
              "#46039f"
             ],
             [
              0.2222222222222222,
              "#7201a8"
             ],
             [
              0.3333333333333333,
              "#9c179e"
             ],
             [
              0.4444444444444444,
              "#bd3786"
             ],
             [
              0.5555555555555556,
              "#d8576b"
             ],
             [
              0.6666666666666666,
              "#ed7953"
             ],
             [
              0.7777777777777778,
              "#fb9f3a"
             ],
             [
              0.8888888888888888,
              "#fdca26"
             ],
             [
              1,
              "#f0f921"
             ]
            ],
            "type": "heatmap"
           }
          ],
          "heatmapgl": [
           {
            "colorbar": {
             "outlinewidth": 0,
             "ticks": ""
            },
            "colorscale": [
             [
              0,
              "#0d0887"
             ],
             [
              0.1111111111111111,
              "#46039f"
             ],
             [
              0.2222222222222222,
              "#7201a8"
             ],
             [
              0.3333333333333333,
              "#9c179e"
             ],
             [
              0.4444444444444444,
              "#bd3786"
             ],
             [
              0.5555555555555556,
              "#d8576b"
             ],
             [
              0.6666666666666666,
              "#ed7953"
             ],
             [
              0.7777777777777778,
              "#fb9f3a"
             ],
             [
              0.8888888888888888,
              "#fdca26"
             ],
             [
              1,
              "#f0f921"
             ]
            ],
            "type": "heatmapgl"
           }
          ],
          "histogram": [
           {
            "marker": {
             "pattern": {
              "fillmode": "overlay",
              "size": 10,
              "solidity": 0.2
             }
            },
            "type": "histogram"
           }
          ],
          "histogram2d": [
           {
            "colorbar": {
             "outlinewidth": 0,
             "ticks": ""
            },
            "colorscale": [
             [
              0,
              "#0d0887"
             ],
             [
              0.1111111111111111,
              "#46039f"
             ],
             [
              0.2222222222222222,
              "#7201a8"
             ],
             [
              0.3333333333333333,
              "#9c179e"
             ],
             [
              0.4444444444444444,
              "#bd3786"
             ],
             [
              0.5555555555555556,
              "#d8576b"
             ],
             [
              0.6666666666666666,
              "#ed7953"
             ],
             [
              0.7777777777777778,
              "#fb9f3a"
             ],
             [
              0.8888888888888888,
              "#fdca26"
             ],
             [
              1,
              "#f0f921"
             ]
            ],
            "type": "histogram2d"
           }
          ],
          "histogram2dcontour": [
           {
            "colorbar": {
             "outlinewidth": 0,
             "ticks": ""
            },
            "colorscale": [
             [
              0,
              "#0d0887"
             ],
             [
              0.1111111111111111,
              "#46039f"
             ],
             [
              0.2222222222222222,
              "#7201a8"
             ],
             [
              0.3333333333333333,
              "#9c179e"
             ],
             [
              0.4444444444444444,
              "#bd3786"
             ],
             [
              0.5555555555555556,
              "#d8576b"
             ],
             [
              0.6666666666666666,
              "#ed7953"
             ],
             [
              0.7777777777777778,
              "#fb9f3a"
             ],
             [
              0.8888888888888888,
              "#fdca26"
             ],
             [
              1,
              "#f0f921"
             ]
            ],
            "type": "histogram2dcontour"
           }
          ],
          "mesh3d": [
           {
            "colorbar": {
             "outlinewidth": 0,
             "ticks": ""
            },
            "type": "mesh3d"
           }
          ],
          "parcoords": [
           {
            "line": {
             "colorbar": {
              "outlinewidth": 0,
              "ticks": ""
             }
            },
            "type": "parcoords"
           }
          ],
          "pie": [
           {
            "automargin": true,
            "type": "pie"
           }
          ],
          "scatter": [
           {
            "fillpattern": {
             "fillmode": "overlay",
             "size": 10,
             "solidity": 0.2
            },
            "type": "scatter"
           }
          ],
          "scatter3d": [
           {
            "line": {
             "colorbar": {
              "outlinewidth": 0,
              "ticks": ""
             }
            },
            "marker": {
             "colorbar": {
              "outlinewidth": 0,
              "ticks": ""
             }
            },
            "type": "scatter3d"
           }
          ],
          "scattercarpet": [
           {
            "marker": {
             "colorbar": {
              "outlinewidth": 0,
              "ticks": ""
             }
            },
            "type": "scattercarpet"
           }
          ],
          "scattergeo": [
           {
            "marker": {
             "colorbar": {
              "outlinewidth": 0,
              "ticks": ""
             }
            },
            "type": "scattergeo"
           }
          ],
          "scattergl": [
           {
            "marker": {
             "colorbar": {
              "outlinewidth": 0,
              "ticks": ""
             }
            },
            "type": "scattergl"
           }
          ],
          "scattermapbox": [
           {
            "marker": {
             "colorbar": {
              "outlinewidth": 0,
              "ticks": ""
             }
            },
            "type": "scattermapbox"
           }
          ],
          "scatterpolar": [
           {
            "marker": {
             "colorbar": {
              "outlinewidth": 0,
              "ticks": ""
             }
            },
            "type": "scatterpolar"
           }
          ],
          "scatterpolargl": [
           {
            "marker": {
             "colorbar": {
              "outlinewidth": 0,
              "ticks": ""
             }
            },
            "type": "scatterpolargl"
           }
          ],
          "scatterternary": [
           {
            "marker": {
             "colorbar": {
              "outlinewidth": 0,
              "ticks": ""
             }
            },
            "type": "scatterternary"
           }
          ],
          "surface": [
           {
            "colorbar": {
             "outlinewidth": 0,
             "ticks": ""
            },
            "colorscale": [
             [
              0,
              "#0d0887"
             ],
             [
              0.1111111111111111,
              "#46039f"
             ],
             [
              0.2222222222222222,
              "#7201a8"
             ],
             [
              0.3333333333333333,
              "#9c179e"
             ],
             [
              0.4444444444444444,
              "#bd3786"
             ],
             [
              0.5555555555555556,
              "#d8576b"
             ],
             [
              0.6666666666666666,
              "#ed7953"
             ],
             [
              0.7777777777777778,
              "#fb9f3a"
             ],
             [
              0.8888888888888888,
              "#fdca26"
             ],
             [
              1,
              "#f0f921"
             ]
            ],
            "type": "surface"
           }
          ],
          "table": [
           {
            "cells": {
             "fill": {
              "color": "#EBF0F8"
             },
             "line": {
              "color": "white"
             }
            },
            "header": {
             "fill": {
              "color": "#C8D4E3"
             },
             "line": {
              "color": "white"
             }
            },
            "type": "table"
           }
          ]
         },
         "layout": {
          "annotationdefaults": {
           "arrowcolor": "#2a3f5f",
           "arrowhead": 0,
           "arrowwidth": 1
          },
          "autotypenumbers": "strict",
          "coloraxis": {
           "colorbar": {
            "outlinewidth": 0,
            "ticks": ""
           }
          },
          "colorscale": {
           "diverging": [
            [
             0,
             "#8e0152"
            ],
            [
             0.1,
             "#c51b7d"
            ],
            [
             0.2,
             "#de77ae"
            ],
            [
             0.3,
             "#f1b6da"
            ],
            [
             0.4,
             "#fde0ef"
            ],
            [
             0.5,
             "#f7f7f7"
            ],
            [
             0.6,
             "#e6f5d0"
            ],
            [
             0.7,
             "#b8e186"
            ],
            [
             0.8,
             "#7fbc41"
            ],
            [
             0.9,
             "#4d9221"
            ],
            [
             1,
             "#276419"
            ]
           ],
           "sequential": [
            [
             0,
             "#0d0887"
            ],
            [
             0.1111111111111111,
             "#46039f"
            ],
            [
             0.2222222222222222,
             "#7201a8"
            ],
            [
             0.3333333333333333,
             "#9c179e"
            ],
            [
             0.4444444444444444,
             "#bd3786"
            ],
            [
             0.5555555555555556,
             "#d8576b"
            ],
            [
             0.6666666666666666,
             "#ed7953"
            ],
            [
             0.7777777777777778,
             "#fb9f3a"
            ],
            [
             0.8888888888888888,
             "#fdca26"
            ],
            [
             1,
             "#f0f921"
            ]
           ],
           "sequentialminus": [
            [
             0,
             "#0d0887"
            ],
            [
             0.1111111111111111,
             "#46039f"
            ],
            [
             0.2222222222222222,
             "#7201a8"
            ],
            [
             0.3333333333333333,
             "#9c179e"
            ],
            [
             0.4444444444444444,
             "#bd3786"
            ],
            [
             0.5555555555555556,
             "#d8576b"
            ],
            [
             0.6666666666666666,
             "#ed7953"
            ],
            [
             0.7777777777777778,
             "#fb9f3a"
            ],
            [
             0.8888888888888888,
             "#fdca26"
            ],
            [
             1,
             "#f0f921"
            ]
           ]
          },
          "colorway": [
           "#636efa",
           "#EF553B",
           "#00cc96",
           "#ab63fa",
           "#FFA15A",
           "#19d3f3",
           "#FF6692",
           "#B6E880",
           "#FF97FF",
           "#FECB52"
          ],
          "font": {
           "color": "#2a3f5f"
          },
          "geo": {
           "bgcolor": "white",
           "lakecolor": "white",
           "landcolor": "#E5ECF6",
           "showlakes": true,
           "showland": true,
           "subunitcolor": "white"
          },
          "hoverlabel": {
           "align": "left"
          },
          "hovermode": "closest",
          "mapbox": {
           "style": "light"
          },
          "paper_bgcolor": "white",
          "plot_bgcolor": "#E5ECF6",
          "polar": {
           "angularaxis": {
            "gridcolor": "white",
            "linecolor": "white",
            "ticks": ""
           },
           "bgcolor": "#E5ECF6",
           "radialaxis": {
            "gridcolor": "white",
            "linecolor": "white",
            "ticks": ""
           }
          },
          "scene": {
           "xaxis": {
            "backgroundcolor": "#E5ECF6",
            "gridcolor": "white",
            "gridwidth": 2,
            "linecolor": "white",
            "showbackground": true,
            "ticks": "",
            "zerolinecolor": "white"
           },
           "yaxis": {
            "backgroundcolor": "#E5ECF6",
            "gridcolor": "white",
            "gridwidth": 2,
            "linecolor": "white",
            "showbackground": true,
            "ticks": "",
            "zerolinecolor": "white"
           },
           "zaxis": {
            "backgroundcolor": "#E5ECF6",
            "gridcolor": "white",
            "gridwidth": 2,
            "linecolor": "white",
            "showbackground": true,
            "ticks": "",
            "zerolinecolor": "white"
           }
          },
          "shapedefaults": {
           "line": {
            "color": "#2a3f5f"
           }
          },
          "ternary": {
           "aaxis": {
            "gridcolor": "white",
            "linecolor": "white",
            "ticks": ""
           },
           "baxis": {
            "gridcolor": "white",
            "linecolor": "white",
            "ticks": ""
           },
           "bgcolor": "#E5ECF6",
           "caxis": {
            "gridcolor": "white",
            "linecolor": "white",
            "ticks": ""
           }
          },
          "title": {
           "x": 0.05
          },
          "xaxis": {
           "automargin": true,
           "gridcolor": "white",
           "linecolor": "white",
           "ticks": "",
           "title": {
            "standoff": 15
           },
           "zerolinecolor": "white",
           "zerolinewidth": 2
          },
          "yaxis": {
           "automargin": true,
           "gridcolor": "white",
           "linecolor": "white",
           "ticks": "",
           "title": {
            "standoff": 15
           },
           "zerolinecolor": "white",
           "zerolinewidth": 2
          }
         }
        },
        "title": {
         "text": "Total Customer Interactions by Root Level and Level 2"
        },
        "xaxis": {
         "title": {
          "text": "Total Interactions"
         }
        },
        "yaxis": {
         "title": {
          "text": "Level 2 (from lowest to highest)"
         }
        }
       }
      }
     },
     "metadata": {},
     "output_type": "display_data"
    }
   ],
   "source": [
    "import plotly.graph_objs as go\n",
    "import locale\n",
    "\n",
    "# Set the locale to use comma separators for thousands\n",
    "locale.setlocale(locale.LC_ALL, '')\n",
    "\n",
    "# Group the data by Root Level and Level 2 and sum the values\n",
    "grouped_data = df.groupby(['Root Level', 'Level 2'])['Value'].sum().reset_index()\n",
    "\n",
    "# Sort the grouped_data by Value column in descending order\n",
    "grouped_data = grouped_data.sort_values(by='Value', ascending=True) # Sort by ascending order\n",
    "\n",
    "# Create a dictionary to map the Root Level to its corresponding color\n",
    "color_map = {'Web': 'darkorange', 'Call Center': 'lightseagreen', 'Mail': 'tan', 'Other Elec Pay Channels': 'lightgrey'}\n",
    "\n",
    "# Create a list to store the bar chart traces\n",
    "bar_traces = []\n",
    "\n",
    "# Loop through each Root Level and create a stacked bar chart trace for its corresponding Level 2 data\n",
    "for root_level in grouped_data['Root Level'].unique():\n",
    "    temp_df = grouped_data[grouped_data['Root Level'] == root_level]\n",
    "    values = temp_df['Value'].values\n",
    "    formatted_values = [locale.format_string(\"%d\", val, grouping=True) for val in values] # Format values with comma separators\n",
    "    y_values = temp_df['Level 2'].values[::-1] # Reverse the order of the values\n",
    "    bar_trace = go.Bar(\n",
    "        y=y_values,\n",
    "        x=values,\n",
    "        text=formatted_values,\n",
    "        textposition='auto',\n",
    "        name=root_level,\n",
    "        orientation='h',\n",
    "        marker=dict(color=color_map[root_level])\n",
    "    )\n",
    "    bar_traces.append(bar_trace)\n",
    "\n",
    "# Create the stacked bar chart layout\n",
    "bar_layout = go.Layout(\n",
    "    title='Total Customer Interactions by Root Level and Level 2',\n",
    "    xaxis=dict(title='Total Interactions'),\n",
    "    yaxis=dict(title='Level 2 (from lowest to highest)'),\n",
    "    barmode='stack',\n",
    "    height=1500\n",
    ")\n",
    "\n",
    "# Create the stacked bar chart figure\n",
    "bar_fig = go.Figure(data=bar_traces, layout=bar_layout)\n",
    "\n",
    "# Display the stacked bar chart\n",
    "bar_fig.show()\n"
   ]
  },
  {
   "cell_type": "code",
   "execution_count": 81,
   "metadata": {},
   "outputs": [
    {
     "data": {
      "application/vnd.plotly.v1+json": {
       "config": {
        "plotlyServerURL": "https://plot.ly"
       },
       "data": [
        {
         "marker": {
          "color": "lightgrey"
         },
         "name": "Other Elec Pay Channels",
         "orientation": "h",
         "text": [
          "1,000",
          "3,000",
          "97,000",
          "536,000",
          "696,000",
          "3,100,000",
          "11,200,000",
          "15,600,000"
         ],
         "textfont": {
          "size": 16
         },
         "textposition": "auto",
         "type": "bar",
         "x": [
          1000,
          3000,
          97000,
          536000,
          696000,
          3100000,
          11200000,
          15600000
         ],
         "y": [
          "Payments ",
          "Online Banking",
          "APS",
          "ACH",
          "EDI",
          "LiHEAP",
          "Wire Transfer",
          "Secure Email"
         ]
        },
        {
         "marker": {
          "color": "darkorange"
         },
         "name": "Web",
         "orientation": "h",
         "text": [
          "1,148",
          "1,907",
          "3,697",
          "3,892",
          "4,794",
          "10,738",
          "12,242",
          "15,393",
          "16,104",
          "16,176",
          "16,692",
          "16,992",
          "18,987",
          "25,758",
          "79,960",
          "80,187",
          "80,199",
          "82,019",
          "83,947",
          "137,600",
          "140,820",
          "159,607",
          "178,445",
          "200,864",
          "220,049",
          "233,548",
          "244,317",
          "278,569",
          "302,380",
          "310,259",
          "362,420",
          "538,774",
          "549,793",
          "633,871",
          "663,126",
          "756,747",
          "1,310,655",
          "1,425,106",
          "2,559,618",
          "3,633,827",
          "4,516,009",
          "8,992,263",
          "9,361,207",
          "24,316,220"
         ],
         "textfont": {
          "size": 16
         },
         "textposition": "auto",
         "type": "bar",
         "x": [
          1148,
          1907,
          3697,
          3892,
          4794,
          10738,
          12242,
          15393,
          16104,
          16176,
          16692,
          16992,
          18987,
          25758,
          79960,
          80187,
          80199,
          82019,
          83947,
          137600,
          140820,
          159607,
          178445,
          200864,
          220049,
          233548,
          244317,
          278569,
          302380,
          310259,
          362420,
          538774,
          549793,
          633871,
          663126,
          756747,
          1310655,
          1425106,
          2559618,
          3633827,
          4516009,
          8992263,
          9361207,
          24316220
         ],
         "y": [
          " Your Account",
          "ViewBillCurrentPDF historical",
          "ViewBillCurrentPDF ",
          "Search Outage By Address (outage Center/ Outage Map/ Address Look up)",
          " One Time Access",
          " View Usage ",
          " Compare My Bills",
          " Compare My Bills UPDATED",
          "Recurring Payment Schedule",
          "Create Payment Account",
          " View Usage (July Onward)",
          "Report Outage  Outage Map",
          "Registration ",
          " Home Energy Checkup",
          " Rate Comparison",
          "Change Billing & Payment Alerts",
          "New Pages",
          "Delete Payment Account",
          "Energy Alerts",
          "Installment Pay",
          " New Customer ",
          " Stop ",
          " Change User Name, Password ",
          " Online Rate Enrollment",
          " Add/Edit Phone Number",
          " Change Billing Address ",
          " Existing Customer",
          "Subscribe Outage (EW Pages)",
          " Transfer ",
          "Extension Pay",
          "Go Paperless Alerts",
          "Schedule Service Appointment",
          "Payment Plan & Shutoff Nonpayment Alerts",
          "Budget Billing (Login) ",
          "Update Payment Account",
          "Event Day Alerts",
          "Gas Pipeline Map Views",
          "Outages Alerts",
          "Notices & Services Information",
          "Additional Communication Alerts (Aug Onward)",
          "Additional Communication Alerts",
          "Service Visit Alerts",
          "Cancel Service Appointment",
          "Reschedule Service Appointment"
         ]
        },
        {
         "marker": {
          "color": "lightseagreen"
         },
         "name": "Call Center",
         "orientation": "h",
         "text": [
          "123,000",
          "137,000",
          "205,000",
          "209,000",
          "220,000",
          "246,000",
          "256,000",
          "267,000",
          "337,000",
          "449,000",
          "466,000",
          "479,000",
          "678,000",
          "691,000",
          "814,000",
          "843,000",
          "1,200,000",
          "1,241,000",
          "1,341,000",
          "2,630,000",
          "3,918,000",
          "4,474,000"
         ],
         "textfont": {
          "size": 16
         },
         "textposition": "auto",
         "type": "bar",
         "x": [
          123000,
          137000,
          205000,
          209000,
          220000,
          246000,
          256000,
          267000,
          337000,
          449000,
          466000,
          479000,
          678000,
          691000,
          814000,
          843000,
          1200000,
          1241000,
          1341000,
          2630000,
          3918000,
          4474000
         ],
         "y": [
          "Payments (IVR PaybyPhone)",
          "Transferred calls (total)",
          "ICM",
          "General",
          "Billing IVR",
          "Non-IVR",
          "Outage IVR",
          "Other Transactions ",
          "Billing Balance ",
          "Start/Stop/Transfer (total) - Live",
          "Solar ",
          "BCSC (Bus. Cust. Service Center)",
          "Emergency ",
          "Start/Stop/Transfer (total) IVR",
          "Abandoned Calls (total)",
          "Spanish (General) ",
          "Outage - Live",
          "Specialty Lines ",
          "Pay Plans IVR",
          "Account Balance",
          "Payments (PayByPhone)",
          "Pay Plans - Live"
         ]
        },
        {
         "marker": {
          "color": "tan"
         },
         "name": "Mail",
         "orientation": "h",
         "text": [
          "12,500,000"
         ],
         "textfont": {
          "size": 16
         },
         "textposition": "auto",
         "type": "bar",
         "x": [
          12500000
         ],
         "y": [
          "Payments"
         ]
        }
       ],
       "layout": {
        "barmode": "stack",
        "font": {
         "size": 18
        },
        "height": 2000,
        "template": {
         "data": {
          "bar": [
           {
            "error_x": {
             "color": "#2a3f5f"
            },
            "error_y": {
             "color": "#2a3f5f"
            },
            "marker": {
             "line": {
              "color": "#E5ECF6",
              "width": 0.5
             },
             "pattern": {
              "fillmode": "overlay",
              "size": 10,
              "solidity": 0.2
             }
            },
            "type": "bar"
           }
          ],
          "barpolar": [
           {
            "marker": {
             "line": {
              "color": "#E5ECF6",
              "width": 0.5
             },
             "pattern": {
              "fillmode": "overlay",
              "size": 10,
              "solidity": 0.2
             }
            },
            "type": "barpolar"
           }
          ],
          "carpet": [
           {
            "aaxis": {
             "endlinecolor": "#2a3f5f",
             "gridcolor": "white",
             "linecolor": "white",
             "minorgridcolor": "white",
             "startlinecolor": "#2a3f5f"
            },
            "baxis": {
             "endlinecolor": "#2a3f5f",
             "gridcolor": "white",
             "linecolor": "white",
             "minorgridcolor": "white",
             "startlinecolor": "#2a3f5f"
            },
            "type": "carpet"
           }
          ],
          "choropleth": [
           {
            "colorbar": {
             "outlinewidth": 0,
             "ticks": ""
            },
            "type": "choropleth"
           }
          ],
          "contour": [
           {
            "colorbar": {
             "outlinewidth": 0,
             "ticks": ""
            },
            "colorscale": [
             [
              0,
              "#0d0887"
             ],
             [
              0.1111111111111111,
              "#46039f"
             ],
             [
              0.2222222222222222,
              "#7201a8"
             ],
             [
              0.3333333333333333,
              "#9c179e"
             ],
             [
              0.4444444444444444,
              "#bd3786"
             ],
             [
              0.5555555555555556,
              "#d8576b"
             ],
             [
              0.6666666666666666,
              "#ed7953"
             ],
             [
              0.7777777777777778,
              "#fb9f3a"
             ],
             [
              0.8888888888888888,
              "#fdca26"
             ],
             [
              1,
              "#f0f921"
             ]
            ],
            "type": "contour"
           }
          ],
          "contourcarpet": [
           {
            "colorbar": {
             "outlinewidth": 0,
             "ticks": ""
            },
            "type": "contourcarpet"
           }
          ],
          "heatmap": [
           {
            "colorbar": {
             "outlinewidth": 0,
             "ticks": ""
            },
            "colorscale": [
             [
              0,
              "#0d0887"
             ],
             [
              0.1111111111111111,
              "#46039f"
             ],
             [
              0.2222222222222222,
              "#7201a8"
             ],
             [
              0.3333333333333333,
              "#9c179e"
             ],
             [
              0.4444444444444444,
              "#bd3786"
             ],
             [
              0.5555555555555556,
              "#d8576b"
             ],
             [
              0.6666666666666666,
              "#ed7953"
             ],
             [
              0.7777777777777778,
              "#fb9f3a"
             ],
             [
              0.8888888888888888,
              "#fdca26"
             ],
             [
              1,
              "#f0f921"
             ]
            ],
            "type": "heatmap"
           }
          ],
          "heatmapgl": [
           {
            "colorbar": {
             "outlinewidth": 0,
             "ticks": ""
            },
            "colorscale": [
             [
              0,
              "#0d0887"
             ],
             [
              0.1111111111111111,
              "#46039f"
             ],
             [
              0.2222222222222222,
              "#7201a8"
             ],
             [
              0.3333333333333333,
              "#9c179e"
             ],
             [
              0.4444444444444444,
              "#bd3786"
             ],
             [
              0.5555555555555556,
              "#d8576b"
             ],
             [
              0.6666666666666666,
              "#ed7953"
             ],
             [
              0.7777777777777778,
              "#fb9f3a"
             ],
             [
              0.8888888888888888,
              "#fdca26"
             ],
             [
              1,
              "#f0f921"
             ]
            ],
            "type": "heatmapgl"
           }
          ],
          "histogram": [
           {
            "marker": {
             "pattern": {
              "fillmode": "overlay",
              "size": 10,
              "solidity": 0.2
             }
            },
            "type": "histogram"
           }
          ],
          "histogram2d": [
           {
            "colorbar": {
             "outlinewidth": 0,
             "ticks": ""
            },
            "colorscale": [
             [
              0,
              "#0d0887"
             ],
             [
              0.1111111111111111,
              "#46039f"
             ],
             [
              0.2222222222222222,
              "#7201a8"
             ],
             [
              0.3333333333333333,
              "#9c179e"
             ],
             [
              0.4444444444444444,
              "#bd3786"
             ],
             [
              0.5555555555555556,
              "#d8576b"
             ],
             [
              0.6666666666666666,
              "#ed7953"
             ],
             [
              0.7777777777777778,
              "#fb9f3a"
             ],
             [
              0.8888888888888888,
              "#fdca26"
             ],
             [
              1,
              "#f0f921"
             ]
            ],
            "type": "histogram2d"
           }
          ],
          "histogram2dcontour": [
           {
            "colorbar": {
             "outlinewidth": 0,
             "ticks": ""
            },
            "colorscale": [
             [
              0,
              "#0d0887"
             ],
             [
              0.1111111111111111,
              "#46039f"
             ],
             [
              0.2222222222222222,
              "#7201a8"
             ],
             [
              0.3333333333333333,
              "#9c179e"
             ],
             [
              0.4444444444444444,
              "#bd3786"
             ],
             [
              0.5555555555555556,
              "#d8576b"
             ],
             [
              0.6666666666666666,
              "#ed7953"
             ],
             [
              0.7777777777777778,
              "#fb9f3a"
             ],
             [
              0.8888888888888888,
              "#fdca26"
             ],
             [
              1,
              "#f0f921"
             ]
            ],
            "type": "histogram2dcontour"
           }
          ],
          "mesh3d": [
           {
            "colorbar": {
             "outlinewidth": 0,
             "ticks": ""
            },
            "type": "mesh3d"
           }
          ],
          "parcoords": [
           {
            "line": {
             "colorbar": {
              "outlinewidth": 0,
              "ticks": ""
             }
            },
            "type": "parcoords"
           }
          ],
          "pie": [
           {
            "automargin": true,
            "type": "pie"
           }
          ],
          "scatter": [
           {
            "fillpattern": {
             "fillmode": "overlay",
             "size": 10,
             "solidity": 0.2
            },
            "type": "scatter"
           }
          ],
          "scatter3d": [
           {
            "line": {
             "colorbar": {
              "outlinewidth": 0,
              "ticks": ""
             }
            },
            "marker": {
             "colorbar": {
              "outlinewidth": 0,
              "ticks": ""
             }
            },
            "type": "scatter3d"
           }
          ],
          "scattercarpet": [
           {
            "marker": {
             "colorbar": {
              "outlinewidth": 0,
              "ticks": ""
             }
            },
            "type": "scattercarpet"
           }
          ],
          "scattergeo": [
           {
            "marker": {
             "colorbar": {
              "outlinewidth": 0,
              "ticks": ""
             }
            },
            "type": "scattergeo"
           }
          ],
          "scattergl": [
           {
            "marker": {
             "colorbar": {
              "outlinewidth": 0,
              "ticks": ""
             }
            },
            "type": "scattergl"
           }
          ],
          "scattermapbox": [
           {
            "marker": {
             "colorbar": {
              "outlinewidth": 0,
              "ticks": ""
             }
            },
            "type": "scattermapbox"
           }
          ],
          "scatterpolar": [
           {
            "marker": {
             "colorbar": {
              "outlinewidth": 0,
              "ticks": ""
             }
            },
            "type": "scatterpolar"
           }
          ],
          "scatterpolargl": [
           {
            "marker": {
             "colorbar": {
              "outlinewidth": 0,
              "ticks": ""
             }
            },
            "type": "scatterpolargl"
           }
          ],
          "scatterternary": [
           {
            "marker": {
             "colorbar": {
              "outlinewidth": 0,
              "ticks": ""
             }
            },
            "type": "scatterternary"
           }
          ],
          "surface": [
           {
            "colorbar": {
             "outlinewidth": 0,
             "ticks": ""
            },
            "colorscale": [
             [
              0,
              "#0d0887"
             ],
             [
              0.1111111111111111,
              "#46039f"
             ],
             [
              0.2222222222222222,
              "#7201a8"
             ],
             [
              0.3333333333333333,
              "#9c179e"
             ],
             [
              0.4444444444444444,
              "#bd3786"
             ],
             [
              0.5555555555555556,
              "#d8576b"
             ],
             [
              0.6666666666666666,
              "#ed7953"
             ],
             [
              0.7777777777777778,
              "#fb9f3a"
             ],
             [
              0.8888888888888888,
              "#fdca26"
             ],
             [
              1,
              "#f0f921"
             ]
            ],
            "type": "surface"
           }
          ],
          "table": [
           {
            "cells": {
             "fill": {
              "color": "#EBF0F8"
             },
             "line": {
              "color": "white"
             }
            },
            "header": {
             "fill": {
              "color": "#C8D4E3"
             },
             "line": {
              "color": "white"
             }
            },
            "type": "table"
           }
          ]
         },
         "layout": {
          "annotationdefaults": {
           "arrowcolor": "#2a3f5f",
           "arrowhead": 0,
           "arrowwidth": 1
          },
          "autotypenumbers": "strict",
          "coloraxis": {
           "colorbar": {
            "outlinewidth": 0,
            "ticks": ""
           }
          },
          "colorscale": {
           "diverging": [
            [
             0,
             "#8e0152"
            ],
            [
             0.1,
             "#c51b7d"
            ],
            [
             0.2,
             "#de77ae"
            ],
            [
             0.3,
             "#f1b6da"
            ],
            [
             0.4,
             "#fde0ef"
            ],
            [
             0.5,
             "#f7f7f7"
            ],
            [
             0.6,
             "#e6f5d0"
            ],
            [
             0.7,
             "#b8e186"
            ],
            [
             0.8,
             "#7fbc41"
            ],
            [
             0.9,
             "#4d9221"
            ],
            [
             1,
             "#276419"
            ]
           ],
           "sequential": [
            [
             0,
             "#0d0887"
            ],
            [
             0.1111111111111111,
             "#46039f"
            ],
            [
             0.2222222222222222,
             "#7201a8"
            ],
            [
             0.3333333333333333,
             "#9c179e"
            ],
            [
             0.4444444444444444,
             "#bd3786"
            ],
            [
             0.5555555555555556,
             "#d8576b"
            ],
            [
             0.6666666666666666,
             "#ed7953"
            ],
            [
             0.7777777777777778,
             "#fb9f3a"
            ],
            [
             0.8888888888888888,
             "#fdca26"
            ],
            [
             1,
             "#f0f921"
            ]
           ],
           "sequentialminus": [
            [
             0,
             "#0d0887"
            ],
            [
             0.1111111111111111,
             "#46039f"
            ],
            [
             0.2222222222222222,
             "#7201a8"
            ],
            [
             0.3333333333333333,
             "#9c179e"
            ],
            [
             0.4444444444444444,
             "#bd3786"
            ],
            [
             0.5555555555555556,
             "#d8576b"
            ],
            [
             0.6666666666666666,
             "#ed7953"
            ],
            [
             0.7777777777777778,
             "#fb9f3a"
            ],
            [
             0.8888888888888888,
             "#fdca26"
            ],
            [
             1,
             "#f0f921"
            ]
           ]
          },
          "colorway": [
           "#636efa",
           "#EF553B",
           "#00cc96",
           "#ab63fa",
           "#FFA15A",
           "#19d3f3",
           "#FF6692",
           "#B6E880",
           "#FF97FF",
           "#FECB52"
          ],
          "font": {
           "color": "#2a3f5f"
          },
          "geo": {
           "bgcolor": "white",
           "lakecolor": "white",
           "landcolor": "#E5ECF6",
           "showlakes": true,
           "showland": true,
           "subunitcolor": "white"
          },
          "hoverlabel": {
           "align": "left"
          },
          "hovermode": "closest",
          "mapbox": {
           "style": "light"
          },
          "paper_bgcolor": "white",
          "plot_bgcolor": "#E5ECF6",
          "polar": {
           "angularaxis": {
            "gridcolor": "white",
            "linecolor": "white",
            "ticks": ""
           },
           "bgcolor": "#E5ECF6",
           "radialaxis": {
            "gridcolor": "white",
            "linecolor": "white",
            "ticks": ""
           }
          },
          "scene": {
           "xaxis": {
            "backgroundcolor": "#E5ECF6",
            "gridcolor": "white",
            "gridwidth": 2,
            "linecolor": "white",
            "showbackground": true,
            "ticks": "",
            "zerolinecolor": "white"
           },
           "yaxis": {
            "backgroundcolor": "#E5ECF6",
            "gridcolor": "white",
            "gridwidth": 2,
            "linecolor": "white",
            "showbackground": true,
            "ticks": "",
            "zerolinecolor": "white"
           },
           "zaxis": {
            "backgroundcolor": "#E5ECF6",
            "gridcolor": "white",
            "gridwidth": 2,
            "linecolor": "white",
            "showbackground": true,
            "ticks": "",
            "zerolinecolor": "white"
           }
          },
          "shapedefaults": {
           "line": {
            "color": "#2a3f5f"
           }
          },
          "ternary": {
           "aaxis": {
            "gridcolor": "white",
            "linecolor": "white",
            "ticks": ""
           },
           "baxis": {
            "gridcolor": "white",
            "linecolor": "white",
            "ticks": ""
           },
           "bgcolor": "#E5ECF6",
           "caxis": {
            "gridcolor": "white",
            "linecolor": "white",
            "ticks": ""
           }
          },
          "title": {
           "x": 0.05
          },
          "xaxis": {
           "automargin": true,
           "gridcolor": "white",
           "linecolor": "white",
           "ticks": "",
           "title": {
            "standoff": 15
           },
           "zerolinecolor": "white",
           "zerolinewidth": 2
          },
          "yaxis": {
           "automargin": true,
           "gridcolor": "white",
           "linecolor": "white",
           "ticks": "",
           "title": {
            "standoff": 15
           },
           "zerolinecolor": "white",
           "zerolinewidth": 2
          }
         }
        },
        "title": {
         "text": "Total Customer Interactions by Root Level and Level 2"
        },
        "width": 1500,
        "xaxis": {
         "tickfont": {
          "size": 12
         },
         "title": {
          "text": "Level 2 (from lowest to highest)"
         }
        },
        "yaxis": {
         "tickfont": {
          "size": 12
         },
         "title": {
          "text": "Total Interactions"
         }
        }
       }
      }
     },
     "metadata": {},
     "output_type": "display_data"
    }
   ],
   "source": [
    "import plotly.graph_objs as go\n",
    "import locale\n",
    "\n",
    "# Set the locale to use comma separators for thousands\n",
    "locale.setlocale(locale.LC_ALL, '')\n",
    "\n",
    "# Group the data by Root Level and Level 2 and sum the values\n",
    "grouped_data = df.groupby(['Root Level', 'Level 2'])['Value'].sum().reset_index()\n",
    "\n",
    "# Sort the grouped_data by Value column in descending order\n",
    "grouped_data = grouped_data.sort_values(by='Value', ascending=True) # Sort by ascending order\n",
    "\n",
    "# Create a dictionary to map the Root Level to its corresponding color\n",
    "color_map = {'Web': 'darkorange', 'Call Center': 'lightseagreen', 'Mail': 'tan', 'Other Elec Pay Channels': 'lightgrey'}\n",
    "\n",
    "# Create a list to store the bar chart traces\n",
    "bar_traces = []\n",
    "\n",
    "# Loop through each Root Level and create a stacked bar chart trace for its corresponding Level 2 data\n",
    "for root_level in grouped_data['Root Level'].unique():\n",
    "    temp_df = grouped_data[grouped_data['Root Level'] == root_level]\n",
    "    values = temp_df['Value'].values\n",
    "    formatted_values = [locale.format_string(\"%d\", val, grouping=True) for val in values] # Format values with comma separators\n",
    "    y_values = temp_df['Level 2'].values[::-1] # Reverse the order of the values\n",
    "    bar_trace = go.Bar(\n",
    "        y=y_values,\n",
    "        x=values,\n",
    "        text=formatted_values,\n",
    "        textposition='auto',\n",
    "        name=root_level,\n",
    "        orientation='h',\n",
    "        marker=dict(color=color_map[root_level]),\n",
    "        textfont=dict(size=16) # Set font size to 16\n",
    "    )\n",
    "    bar_traces.append(bar_trace)\n",
    "\n",
    "# Create the stacked bar chart layout\n",
    "bar_layout = go.Layout(\n",
    "    title='Total Customer Interactions by Root Level and Level 2',\n",
    "    xaxis=dict(title='Level 2 (from lowest to highest)', tickfont=dict(size=12)),\n",
    "    yaxis=dict(title='Total Interactions', tickfont=dict(size=12)),\n",
    "    barmode='stack',\n",
    "    width=1500,\n",
    "    height=2000,\n",
    "    font=dict(size=18) # Set font size for title and legend\n",
    ")\n",
    "\n",
    "\n",
    "# Create the stacked bar chart figure\n",
    "bar_fig = go.Figure(data=bar_traces, layout=bar_layout)\n",
    "\n",
    "# Display the stacked bar chart\n",
    "bar_fig.show()\n"
   ]
  },
  {
   "cell_type": "code",
   "execution_count": null,
   "metadata": {},
   "outputs": [],
   "source": []
  }
 ],
 "metadata": {
  "kernelspec": {
   "display_name": "base",
   "language": "python",
   "name": "python3"
  },
  "language_info": {
   "codemirror_mode": {
    "name": "ipython",
    "version": 3
   },
   "file_extension": ".py",
   "mimetype": "text/x-python",
   "name": "python",
   "nbconvert_exporter": "python",
   "pygments_lexer": "ipython3",
   "version": "3.10.9"
  },
  "orig_nbformat": 4
 },
 "nbformat": 4,
 "nbformat_minor": 2
}
