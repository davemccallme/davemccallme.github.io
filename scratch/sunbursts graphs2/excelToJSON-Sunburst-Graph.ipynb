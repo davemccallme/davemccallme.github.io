{
 "cells": [
  {
   "cell_type": "code",
   "execution_count": 84,
   "metadata": {},
   "outputs": [],
   "source": [
    "#%pip install openpyxl"
   ]
  },
  {
   "cell_type": "code",
   "execution_count": 85,
   "metadata": {},
   "outputs": [],
   "source": [
    "import pandas as pd\n",
    "import json\n",
    "import os\n",
    "import plotly.express as px\n",
    "import plotly.offline as pyo\n",
    "import plotly.graph_objs as go"
   ]
  },
  {
   "cell_type": "code",
   "execution_count": 86,
   "metadata": {},
   "outputs": [
    {
     "name": "stdout",
     "output_type": "stream",
     "text": [
      "    Root Level Level 1          Level 2    Value\n",
      "0  Call Center     IVR         Payments  4474000\n",
      "1  Call Center     IVR          Billing  1241000\n",
      "2  Call Center     IVR        Pay Plans   209000\n",
      "3  Call Center     IVR  Account Balance   205000\n",
      "4  Call Center     IVR            Start   155000\n"
     ]
    }
   ],
   "source": [
    "# Read Transaction Excel data into a Pandas dataframe\n",
    "file = r'C:\\Users\\admin\\Documents\\GitHub\\davemccallme.github.io\\scratch\\sunbursts graphs2\\scratch\\Trxn-Data-v2.xlsx'\n",
    "df = pd.read_excel(file)\n",
    "df['Value'] = pd.to_numeric(df['Value'])\n",
    "print(df.head())\n",
    "\n"
   ]
  },
  {
   "cell_type": "code",
   "execution_count": 87,
   "metadata": {},
   "outputs": [
    {
     "name": "stdout",
     "output_type": "stream",
     "text": [
      "106324215\n"
     ]
    }
   ],
   "source": [
    "# Convert dataframe to a hierarchical dictionary\n",
    "def make_hierarchy_dict(df, path=[], value_col=\"Value\", threshold=10):\n",
    "    if len(path) == df.columns.nlevels - 1:\n",
    "        total = int(df[value_col].sum())\n",
    "        if total < threshold:\n",
    "            return None\n",
    "        else:\n",
    "            return total\n",
    "    else:\n",
    "        level = df.columns[len(path)]\n",
    "        subdict = {}\n",
    "        for key in df[level].dropna().unique():\n",
    "            subdf = df[df[level] == key].drop(columns=[level])\n",
    "            subhierarchy_dict = make_hierarchy_dict(subdf, path + [key], value_col, threshold)\n",
    "            if subhierarchy_dict is not None:\n",
    "                subdict[key] = subhierarchy_dict\n",
    "        if len(subdict) == 0:\n",
    "            return None\n",
    "        else:\n",
    "            return subdict\n",
    "\n",
    "hierarchy_dict = make_hierarchy_dict(df.set_index(list(df.columns[:3])), value_col=\"Value\", threshold=10)\n",
    "\n",
    "print(hierarchy_dict)"
   ]
  },
  {
   "cell_type": "code",
   "execution_count": 88,
   "metadata": {},
   "outputs": [],
   "source": [
    "# Convert hierarchical dictionary to Plotly-compatible JSON\n",
    "def make_plotly_sunburst(hierarchy_dict, name=\"\"):\n",
    "    if isinstance(hierarchy_dict, dict):\n",
    "        children = []\n",
    "        for key, value in hierarchy_dict.items():\n",
    "            children.append(make_plotly_sunburst(value, key))\n",
    "        return {\n",
    "            \"name\": name,\n",
    "            \"children\": children\n",
    "        }\n",
    "    else:\n",
    "        return {\n",
    "            \"label\": name,\n",
    "            \"value\": hierarchy_dict\n",
    "        }"
   ]
  },
  {
   "cell_type": "code",
   "execution_count": 89,
   "metadata": {},
   "outputs": [
    {
     "name": "stdout",
     "output_type": "stream",
     "text": [
      "{'label': '', 'value': 106324215}\n"
     ]
    }
   ],
   "source": [
    "plotly_data = make_plotly_sunburst(hierarchy_dict)\n",
    "print(plotly_data)"
   ]
  },
  {
   "cell_type": "code",
   "execution_count": 90,
   "metadata": {},
   "outputs": [],
   "source": [
    "# Write JSON data to a file\n",
    "with open(\"plotly_data.json\", \"w\") as f:\n",
    "    json.dump(plotly_data, f)"
   ]
  },
  {
   "cell_type": "code",
   "execution_count": 91,
   "metadata": {},
   "outputs": [],
   "source": [
    "#Error Check rows for data discrepencies\n",
    "for i, row in df.iterrows():\n",
    "    try:\n",
    "        fig = px.sunburst(df.loc[[i]], path=[\"Root Level\", \"Level 1\", \"Level 2\"], values='Value')\n",
    "    except ValueError as e:\n",
    "        print(e)"
   ]
  },
  {
   "cell_type": "code",
   "execution_count": 92,
   "metadata": {},
   "outputs": [
    {
     "data": {
      "application/vnd.plotly.v1+json": {
       "config": {
        "plotlyServerURL": "https://plot.ly"
       },
       "data": [
        {
         "branchvalues": "total",
         "domain": {
          "x": [
           0,
           1
          ],
          "y": [
           0,
           1
          ]
         },
         "hovertemplate": "labels=%{label}<br>Value=%{value}<br>parent=%{parent}<br>id=%{id}<extra></extra>",
         "ids": [
          "Other Electronic/Payments/ACH (M)",
          "Other Electronic/Payments/APS (M)",
          "Call Center/Abandoned Calls/Abandoned Calls",
          "Call Center/IVR/Account Balance",
          "Web/Account Mgmt/Add/Edit Phone Number",
          "Web/Alerts & Notifications/Additional Communication Alerts NEW",
          "Call Center/Live Agent/BCSC",
          "Call Center/IVR/Billing",
          "Call Center/Live Agent/Billing Balance",
          "Web/CARE/FERA /CARE/FERA",
          "Web/Pilot Light Appointments /Cancel_Service_Appointment",
          "Web/Alerts & Notifications/Change Billing & Payment Alerts",
          "Web/Account Mgmt/Change Billing Address",
          "Web/Account Mgmt/Change User Name, Password",
          "Web/Usage and Rates/Compare My Bills",
          "Web/Payment Account - NEW/Create_Payment_Account",
          "Web/Payment Account - NEW/Delete_Payment_Account",
          "Other Electronic/Payments/EDI (M)",
          "Call Center/Live Agent/Emergency",
          "Web/Alerts & Notifications/Energy Alerts",
          "Web/Alerts & Notifications/Event Day Alerts NEW",
          "Web/Pay Plans/Extension Pay",
          "Web/Other Interactions /Gas Pipeline Map Views",
          "Call Center/Live Agent/General",
          "Web/Alerts & Notifications/Go Paperless Alerts NEW",
          "Web/Usage and Rates/Home Energy Checkup",
          "Call Center/ICM Technology Handled/ICM Technology Handled",
          "Web/Pay Plans/Installment Pay",
          "Other Electronic/Payments/LiHEAP (M)",
          "Call Center/Non-IVR Technology/Non-IVR Technology",
          "Web/Alerts & Notifications/Notices & Services Information NEW",
          "Web/Payments/One Time Access",
          "Other Electronic/Payments/Online Banking (M)",
          "Web/Usage and Rates/Online Rate Enrollment",
          "Call Center/IVR/Other Transactions",
          "Call Center/Live Agent/Other Transactions",
          "Call Center/IVR/Outage",
          "Call Center/Live Agent/Outage",
          "Web/Alerts & Notifications/Outages Alerts New",
          "Call Center/IVR/Pay Plans",
          "Call Center/Live Agent/Pay Plans",
          "Call Center/IVR/Payments",
          "Call Center/Live Agent/Payments",
          "Mail/Payments/Payments",
          "NPC/Payments/Payments",
          "Web/Usage and Rates/Rate Comparison",
          "Web/Other Interactions /Recurring Payment Schedule",
          "Web/Other Interactions /Registration",
          "Web/Outage/Report Outage",
          "Web/Pilot Light Appointments /Reschedule_Service_Appointment",
          "Web/Pilot Light Appointments /Schedule_Service_Appointment",
          "Web/Outage/Search Outage By Address",
          "Other Electronic/Payments/Secure Email (M)",
          "Web/Alerts & Notifications/Service Visit Alerts NEW",
          "Call Center/Live Agent/Solar",
          "Call Center/Live Agent/Spanish (General)",
          "Call Center/Live Agent/Specialty Lines",
          "Call Center/IVR/Start",
          "Web/Start/Stop/ Transfer/Start",
          "Call Center/Live Agent/Start/Stop/ Transfer",
          "Call Center/IVR/Stop",
          "Web/Start/Stop/ Transfer/Stop",
          "Web/Outage/Subscribe Outage (EW Pages)",
          "Call Center/IVR/Transfer",
          "Web/Start/Stop/ Transfer/Transfer",
          "Call Center/Live Agent/Transferred calls",
          "Web/Payment Account - NEW/Update_Payment_Account",
          "Web/Usage and Rates/View Usage",
          "Web/Billing/ViewBillCurrentPDF",
          "Web/Billing/ViewBillCurrentPDF historical",
          "Other Electronic/Payments/Wire Transfer (M)",
          "Web/Payments/Your Account",
          "Call Center/Abandoned Calls",
          "Web/Account Mgmt",
          "Web/Alerts & Notifications",
          "Web/Billing",
          "Web/Budget Billing (Login) ",
          "Web/CARE/FERA ",
          "Call Center/ICM Technology Handled",
          "Call Center/IVR",
          "Call Center/Live Agent",
          "Call Center/Non-IVR Technology",
          "Web/Other Interactions ",
          "Web/Outage",
          "Web/Pay Plans",
          "Web/Payment Account - NEW",
          "Mail/Payments",
          "NPC/Payments",
          "Other Electronic/Payments",
          "Web/Payments",
          "Web/Pilot Light Appointments ",
          "Web/Start/Stop/ Transfer",
          "Web/Usage and Rates",
          "Call Center",
          "Mail",
          "NPC",
          "Other Electronic",
          "Web"
         ],
         "labels": [
          "ACH (M)",
          "APS (M)",
          "Abandoned Calls",
          "Account Balance",
          "Add/Edit Phone Number",
          "Additional Communication Alerts NEW",
          "BCSC",
          "Billing",
          "Billing Balance",
          "CARE/FERA",
          "Cancel_Service_Appointment",
          "Change Billing & Payment Alerts",
          "Change Billing Address",
          "Change User Name, Password",
          "Compare My Bills",
          "Create_Payment_Account",
          "Delete_Payment_Account",
          "EDI (M)",
          "Emergency",
          "Energy Alerts",
          "Event Day Alerts NEW",
          "Extension Pay",
          "Gas Pipeline Map Views",
          "General",
          "Go Paperless Alerts NEW",
          "Home Energy Checkup",
          "ICM Technology Handled",
          "Installment Pay",
          "LiHEAP (M)",
          "Non-IVR Technology",
          "Notices & Services Information NEW",
          "One Time Access",
          "Online Banking (M)",
          "Online Rate Enrollment",
          "Other Transactions",
          "Other Transactions",
          "Outage",
          "Outage",
          "Outages Alerts New",
          "Pay Plans",
          "Pay Plans",
          "Payments",
          "Payments",
          "Payments",
          "Payments",
          "Rate Comparison",
          "Recurring Payment Schedule",
          "Registration",
          "Report Outage",
          "Reschedule_Service_Appointment",
          "Schedule_Service_Appointment",
          "Search Outage By Address",
          "Secure Email (M)",
          "Service Visit Alerts NEW",
          "Solar",
          "Spanish (General)",
          "Specialty Lines",
          "Start",
          "Start",
          "Start/Stop/ Transfer",
          "Stop",
          "Stop",
          "Subscribe Outage (EW Pages)",
          "Transfer",
          "Transfer",
          "Transferred calls",
          "Update_Payment_Account",
          "View Usage",
          "ViewBillCurrentPDF",
          "ViewBillCurrentPDF historical",
          "Wire Transfer (M)",
          "Your Account",
          "Abandoned Calls",
          "Account Mgmt",
          "Alerts & Notifications",
          "Billing",
          "Budget Billing (Login) ",
          "CARE/FERA ",
          "ICM Technology Handled",
          "IVR",
          "Live Agent",
          "Non-IVR Technology",
          "Other Interactions ",
          "Outage",
          "Pay Plans",
          "Payment Account - NEW",
          "Payments",
          "Payments",
          "Payments",
          "Payments",
          "Pilot Light Appointments ",
          "Start/Stop/ Transfer",
          "Usage and Rates",
          "Call Center",
          "Mail",
          "NPC",
          "Other Electronic",
          "Web"
         ],
         "name": "",
         "parents": [
          "Other Electronic/Payments",
          "Other Electronic/Payments",
          "Call Center/Abandoned Calls",
          "Call Center/IVR",
          "Web/Account Mgmt",
          "Web/Alerts & Notifications",
          "Call Center/Live Agent",
          "Call Center/IVR",
          "Call Center/Live Agent",
          "Web/CARE/FERA ",
          "Web/Pilot Light Appointments ",
          "Web/Alerts & Notifications",
          "Web/Account Mgmt",
          "Web/Account Mgmt",
          "Web/Usage and Rates",
          "Web/Payment Account - NEW",
          "Web/Payment Account - NEW",
          "Other Electronic/Payments",
          "Call Center/Live Agent",
          "Web/Alerts & Notifications",
          "Web/Alerts & Notifications",
          "Web/Pay Plans",
          "Web/Other Interactions ",
          "Call Center/Live Agent",
          "Web/Alerts & Notifications",
          "Web/Usage and Rates",
          "Call Center/ICM Technology Handled",
          "Web/Pay Plans",
          "Other Electronic/Payments",
          "Call Center/Non-IVR Technology",
          "Web/Alerts & Notifications",
          "Web/Payments",
          "Other Electronic/Payments",
          "Web/Usage and Rates",
          "Call Center/IVR",
          "Call Center/Live Agent",
          "Call Center/IVR",
          "Call Center/Live Agent",
          "Web/Alerts & Notifications",
          "Call Center/IVR",
          "Call Center/Live Agent",
          "Call Center/IVR",
          "Call Center/Live Agent",
          "Mail/Payments",
          "NPC/Payments",
          "Web/Usage and Rates",
          "Web/Other Interactions ",
          "Web/Other Interactions ",
          "Web/Outage",
          "Web/Pilot Light Appointments ",
          "Web/Pilot Light Appointments ",
          "Web/Outage",
          "Other Electronic/Payments",
          "Web/Alerts & Notifications",
          "Call Center/Live Agent",
          "Call Center/Live Agent",
          "Call Center/Live Agent",
          "Call Center/IVR",
          "Web/Start/Stop/ Transfer",
          "Call Center/Live Agent",
          "Call Center/IVR",
          "Web/Start/Stop/ Transfer",
          "Web/Outage",
          "Call Center/IVR",
          "Web/Start/Stop/ Transfer",
          "Call Center/Live Agent",
          "Web/Payment Account - NEW",
          "Web/Usage and Rates",
          "Web/Billing",
          "Web/Billing",
          "Other Electronic/Payments",
          "Web/Payments",
          "Call Center",
          "Web",
          "Web",
          "Web",
          "Web",
          "Web",
          "Call Center",
          "Call Center",
          "Call Center",
          "Call Center",
          "Web",
          "Web",
          "Web",
          "Web",
          "Mail",
          "NPC",
          "Other Electronic",
          "Web",
          "Web",
          "Web",
          "Web",
          "",
          "",
          "",
          "",
          ""
         ],
         "type": "sunburst",
         "values": [
          726000,
          2735000,
          267000,
          205000,
          137600,
          3892,
          466000,
          1241000,
          691000,
          278569,
          1907,
          302380,
          83947,
          159607,
          1425106,
          663126,
          244317,
          637000,
          449000,
          233548,
          16104,
          79960,
          15393,
          1341000,
          25758,
          362420,
          2630000,
          220049,
          102000,
          29000,
          10738,
          3633827,
          10393000,
          140820,
          678000,
          136000,
          843000,
          246000,
          12242,
          209000,
          123000,
          4474000,
          137000,
          11200000,
          1770000,
          310259,
          756747,
          538774,
          549793,
          1148,
          18987,
          4516009,
          388,
          3697,
          479000,
          256000,
          220000,
          155000,
          282883,
          678000,
          124000,
          178445,
          80199,
          58000,
          80187,
          3918000,
          16176,
          633871,
          8992263,
          9361207,
          2960,
          24316220,
          267000,
          381154,
          608359,
          18353470,
          16692,
          278569,
          2630000,
          7987000,
          9140000,
          29000,
          1310914,
          5146001,
          300009,
          923619,
          11200000,
          1770000,
          14596348,
          27950047,
          22042,
          541515,
          2872476,
          20053000,
          11200000,
          1770000,
          14596348,
          58704867
         ]
        }
       ],
       "layout": {
        "font": {
         "size": 14
        },
        "height": 900,
        "legend": {
         "tracegroupgap": 0
        },
        "margin": {
         "b": 0,
         "l": 0,
         "r": 0,
         "t": 50
        },
        "sunburstcolorway": [
         "darkorange",
         "lightgrey",
         "lightblue",
         "tan"
        ],
        "template": {
         "data": {
          "bar": [
           {
            "error_x": {
             "color": "#2a3f5f"
            },
            "error_y": {
             "color": "#2a3f5f"
            },
            "marker": {
             "line": {
              "color": "#E5ECF6",
              "width": 0.5
             },
             "pattern": {
              "fillmode": "overlay",
              "size": 10,
              "solidity": 0.2
             }
            },
            "type": "bar"
           }
          ],
          "barpolar": [
           {
            "marker": {
             "line": {
              "color": "#E5ECF6",
              "width": 0.5
             },
             "pattern": {
              "fillmode": "overlay",
              "size": 10,
              "solidity": 0.2
             }
            },
            "type": "barpolar"
           }
          ],
          "carpet": [
           {
            "aaxis": {
             "endlinecolor": "#2a3f5f",
             "gridcolor": "white",
             "linecolor": "white",
             "minorgridcolor": "white",
             "startlinecolor": "#2a3f5f"
            },
            "baxis": {
             "endlinecolor": "#2a3f5f",
             "gridcolor": "white",
             "linecolor": "white",
             "minorgridcolor": "white",
             "startlinecolor": "#2a3f5f"
            },
            "type": "carpet"
           }
          ],
          "choropleth": [
           {
            "colorbar": {
             "outlinewidth": 0,
             "ticks": ""
            },
            "type": "choropleth"
           }
          ],
          "contour": [
           {
            "colorbar": {
             "outlinewidth": 0,
             "ticks": ""
            },
            "colorscale": [
             [
              0,
              "#0d0887"
             ],
             [
              0.1111111111111111,
              "#46039f"
             ],
             [
              0.2222222222222222,
              "#7201a8"
             ],
             [
              0.3333333333333333,
              "#9c179e"
             ],
             [
              0.4444444444444444,
              "#bd3786"
             ],
             [
              0.5555555555555556,
              "#d8576b"
             ],
             [
              0.6666666666666666,
              "#ed7953"
             ],
             [
              0.7777777777777778,
              "#fb9f3a"
             ],
             [
              0.8888888888888888,
              "#fdca26"
             ],
             [
              1,
              "#f0f921"
             ]
            ],
            "type": "contour"
           }
          ],
          "contourcarpet": [
           {
            "colorbar": {
             "outlinewidth": 0,
             "ticks": ""
            },
            "type": "contourcarpet"
           }
          ],
          "heatmap": [
           {
            "colorbar": {
             "outlinewidth": 0,
             "ticks": ""
            },
            "colorscale": [
             [
              0,
              "#0d0887"
             ],
             [
              0.1111111111111111,
              "#46039f"
             ],
             [
              0.2222222222222222,
              "#7201a8"
             ],
             [
              0.3333333333333333,
              "#9c179e"
             ],
             [
              0.4444444444444444,
              "#bd3786"
             ],
             [
              0.5555555555555556,
              "#d8576b"
             ],
             [
              0.6666666666666666,
              "#ed7953"
             ],
             [
              0.7777777777777778,
              "#fb9f3a"
             ],
             [
              0.8888888888888888,
              "#fdca26"
             ],
             [
              1,
              "#f0f921"
             ]
            ],
            "type": "heatmap"
           }
          ],
          "heatmapgl": [
           {
            "colorbar": {
             "outlinewidth": 0,
             "ticks": ""
            },
            "colorscale": [
             [
              0,
              "#0d0887"
             ],
             [
              0.1111111111111111,
              "#46039f"
             ],
             [
              0.2222222222222222,
              "#7201a8"
             ],
             [
              0.3333333333333333,
              "#9c179e"
             ],
             [
              0.4444444444444444,
              "#bd3786"
             ],
             [
              0.5555555555555556,
              "#d8576b"
             ],
             [
              0.6666666666666666,
              "#ed7953"
             ],
             [
              0.7777777777777778,
              "#fb9f3a"
             ],
             [
              0.8888888888888888,
              "#fdca26"
             ],
             [
              1,
              "#f0f921"
             ]
            ],
            "type": "heatmapgl"
           }
          ],
          "histogram": [
           {
            "marker": {
             "pattern": {
              "fillmode": "overlay",
              "size": 10,
              "solidity": 0.2
             }
            },
            "type": "histogram"
           }
          ],
          "histogram2d": [
           {
            "colorbar": {
             "outlinewidth": 0,
             "ticks": ""
            },
            "colorscale": [
             [
              0,
              "#0d0887"
             ],
             [
              0.1111111111111111,
              "#46039f"
             ],
             [
              0.2222222222222222,
              "#7201a8"
             ],
             [
              0.3333333333333333,
              "#9c179e"
             ],
             [
              0.4444444444444444,
              "#bd3786"
             ],
             [
              0.5555555555555556,
              "#d8576b"
             ],
             [
              0.6666666666666666,
              "#ed7953"
             ],
             [
              0.7777777777777778,
              "#fb9f3a"
             ],
             [
              0.8888888888888888,
              "#fdca26"
             ],
             [
              1,
              "#f0f921"
             ]
            ],
            "type": "histogram2d"
           }
          ],
          "histogram2dcontour": [
           {
            "colorbar": {
             "outlinewidth": 0,
             "ticks": ""
            },
            "colorscale": [
             [
              0,
              "#0d0887"
             ],
             [
              0.1111111111111111,
              "#46039f"
             ],
             [
              0.2222222222222222,
              "#7201a8"
             ],
             [
              0.3333333333333333,
              "#9c179e"
             ],
             [
              0.4444444444444444,
              "#bd3786"
             ],
             [
              0.5555555555555556,
              "#d8576b"
             ],
             [
              0.6666666666666666,
              "#ed7953"
             ],
             [
              0.7777777777777778,
              "#fb9f3a"
             ],
             [
              0.8888888888888888,
              "#fdca26"
             ],
             [
              1,
              "#f0f921"
             ]
            ],
            "type": "histogram2dcontour"
           }
          ],
          "mesh3d": [
           {
            "colorbar": {
             "outlinewidth": 0,
             "ticks": ""
            },
            "type": "mesh3d"
           }
          ],
          "parcoords": [
           {
            "line": {
             "colorbar": {
              "outlinewidth": 0,
              "ticks": ""
             }
            },
            "type": "parcoords"
           }
          ],
          "pie": [
           {
            "automargin": true,
            "type": "pie"
           }
          ],
          "scatter": [
           {
            "fillpattern": {
             "fillmode": "overlay",
             "size": 10,
             "solidity": 0.2
            },
            "type": "scatter"
           }
          ],
          "scatter3d": [
           {
            "line": {
             "colorbar": {
              "outlinewidth": 0,
              "ticks": ""
             }
            },
            "marker": {
             "colorbar": {
              "outlinewidth": 0,
              "ticks": ""
             }
            },
            "type": "scatter3d"
           }
          ],
          "scattercarpet": [
           {
            "marker": {
             "colorbar": {
              "outlinewidth": 0,
              "ticks": ""
             }
            },
            "type": "scattercarpet"
           }
          ],
          "scattergeo": [
           {
            "marker": {
             "colorbar": {
              "outlinewidth": 0,
              "ticks": ""
             }
            },
            "type": "scattergeo"
           }
          ],
          "scattergl": [
           {
            "marker": {
             "colorbar": {
              "outlinewidth": 0,
              "ticks": ""
             }
            },
            "type": "scattergl"
           }
          ],
          "scattermapbox": [
           {
            "marker": {
             "colorbar": {
              "outlinewidth": 0,
              "ticks": ""
             }
            },
            "type": "scattermapbox"
           }
          ],
          "scatterpolar": [
           {
            "marker": {
             "colorbar": {
              "outlinewidth": 0,
              "ticks": ""
             }
            },
            "type": "scatterpolar"
           }
          ],
          "scatterpolargl": [
           {
            "marker": {
             "colorbar": {
              "outlinewidth": 0,
              "ticks": ""
             }
            },
            "type": "scatterpolargl"
           }
          ],
          "scatterternary": [
           {
            "marker": {
             "colorbar": {
              "outlinewidth": 0,
              "ticks": ""
             }
            },
            "type": "scatterternary"
           }
          ],
          "surface": [
           {
            "colorbar": {
             "outlinewidth": 0,
             "ticks": ""
            },
            "colorscale": [
             [
              0,
              "#0d0887"
             ],
             [
              0.1111111111111111,
              "#46039f"
             ],
             [
              0.2222222222222222,
              "#7201a8"
             ],
             [
              0.3333333333333333,
              "#9c179e"
             ],
             [
              0.4444444444444444,
              "#bd3786"
             ],
             [
              0.5555555555555556,
              "#d8576b"
             ],
             [
              0.6666666666666666,
              "#ed7953"
             ],
             [
              0.7777777777777778,
              "#fb9f3a"
             ],
             [
              0.8888888888888888,
              "#fdca26"
             ],
             [
              1,
              "#f0f921"
             ]
            ],
            "type": "surface"
           }
          ],
          "table": [
           {
            "cells": {
             "fill": {
              "color": "#EBF0F8"
             },
             "line": {
              "color": "white"
             }
            },
            "header": {
             "fill": {
              "color": "#C8D4E3"
             },
             "line": {
              "color": "white"
             }
            },
            "type": "table"
           }
          ]
         },
         "layout": {
          "annotationdefaults": {
           "arrowcolor": "#2a3f5f",
           "arrowhead": 0,
           "arrowwidth": 1
          },
          "autotypenumbers": "strict",
          "coloraxis": {
           "colorbar": {
            "outlinewidth": 0,
            "ticks": ""
           }
          },
          "colorscale": {
           "diverging": [
            [
             0,
             "#8e0152"
            ],
            [
             0.1,
             "#c51b7d"
            ],
            [
             0.2,
             "#de77ae"
            ],
            [
             0.3,
             "#f1b6da"
            ],
            [
             0.4,
             "#fde0ef"
            ],
            [
             0.5,
             "#f7f7f7"
            ],
            [
             0.6,
             "#e6f5d0"
            ],
            [
             0.7,
             "#b8e186"
            ],
            [
             0.8,
             "#7fbc41"
            ],
            [
             0.9,
             "#4d9221"
            ],
            [
             1,
             "#276419"
            ]
           ],
           "sequential": [
            [
             0,
             "#0d0887"
            ],
            [
             0.1111111111111111,
             "#46039f"
            ],
            [
             0.2222222222222222,
             "#7201a8"
            ],
            [
             0.3333333333333333,
             "#9c179e"
            ],
            [
             0.4444444444444444,
             "#bd3786"
            ],
            [
             0.5555555555555556,
             "#d8576b"
            ],
            [
             0.6666666666666666,
             "#ed7953"
            ],
            [
             0.7777777777777778,
             "#fb9f3a"
            ],
            [
             0.8888888888888888,
             "#fdca26"
            ],
            [
             1,
             "#f0f921"
            ]
           ],
           "sequentialminus": [
            [
             0,
             "#0d0887"
            ],
            [
             0.1111111111111111,
             "#46039f"
            ],
            [
             0.2222222222222222,
             "#7201a8"
            ],
            [
             0.3333333333333333,
             "#9c179e"
            ],
            [
             0.4444444444444444,
             "#bd3786"
            ],
            [
             0.5555555555555556,
             "#d8576b"
            ],
            [
             0.6666666666666666,
             "#ed7953"
            ],
            [
             0.7777777777777778,
             "#fb9f3a"
            ],
            [
             0.8888888888888888,
             "#fdca26"
            ],
            [
             1,
             "#f0f921"
            ]
           ]
          },
          "colorway": [
           "#636efa",
           "#EF553B",
           "#00cc96",
           "#ab63fa",
           "#FFA15A",
           "#19d3f3",
           "#FF6692",
           "#B6E880",
           "#FF97FF",
           "#FECB52"
          ],
          "font": {
           "color": "#2a3f5f"
          },
          "geo": {
           "bgcolor": "white",
           "lakecolor": "white",
           "landcolor": "#E5ECF6",
           "showlakes": true,
           "showland": true,
           "subunitcolor": "white"
          },
          "hoverlabel": {
           "align": "left"
          },
          "hovermode": "closest",
          "mapbox": {
           "style": "light"
          },
          "paper_bgcolor": "white",
          "plot_bgcolor": "#E5ECF6",
          "polar": {
           "angularaxis": {
            "gridcolor": "white",
            "linecolor": "white",
            "ticks": ""
           },
           "bgcolor": "#E5ECF6",
           "radialaxis": {
            "gridcolor": "white",
            "linecolor": "white",
            "ticks": ""
           }
          },
          "scene": {
           "xaxis": {
            "backgroundcolor": "#E5ECF6",
            "gridcolor": "white",
            "gridwidth": 2,
            "linecolor": "white",
            "showbackground": true,
            "ticks": "",
            "zerolinecolor": "white"
           },
           "yaxis": {
            "backgroundcolor": "#E5ECF6",
            "gridcolor": "white",
            "gridwidth": 2,
            "linecolor": "white",
            "showbackground": true,
            "ticks": "",
            "zerolinecolor": "white"
           },
           "zaxis": {
            "backgroundcolor": "#E5ECF6",
            "gridcolor": "white",
            "gridwidth": 2,
            "linecolor": "white",
            "showbackground": true,
            "ticks": "",
            "zerolinecolor": "white"
           }
          },
          "shapedefaults": {
           "line": {
            "color": "#2a3f5f"
           }
          },
          "ternary": {
           "aaxis": {
            "gridcolor": "white",
            "linecolor": "white",
            "ticks": ""
           },
           "baxis": {
            "gridcolor": "white",
            "linecolor": "white",
            "ticks": ""
           },
           "bgcolor": "#E5ECF6",
           "caxis": {
            "gridcolor": "white",
            "linecolor": "white",
            "ticks": ""
           }
          },
          "title": {
           "x": 0.05
          },
          "xaxis": {
           "automargin": true,
           "gridcolor": "white",
           "linecolor": "white",
           "ticks": "",
           "title": {
            "standoff": 15
           },
           "zerolinecolor": "white",
           "zerolinewidth": 2
          },
          "yaxis": {
           "automargin": true,
           "gridcolor": "white",
           "linecolor": "white",
           "ticks": "",
           "title": {
            "standoff": 15
           },
           "zerolinecolor": "white",
           "zerolinewidth": 2
          }
         }
        },
        "title": {
         "text": "Transaction Channel Volume 2022"
        },
        "width": 1400
       }
      }
     },
     "metadata": {},
     "output_type": "display_data"
    }
   ],
   "source": [
    "# Format a sunburst chart using Plotly Express\n",
    "color_sequence = ['darkorange', 'lightgrey', 'lightblue', 'tan']\n",
    "fig = px.sunburst(df, path=[\"Root Level\", \"Level 1\", \"Level 2\"], values='Value')\n",
    "\n",
    "# Format hover tooltip\n",
    "#fig.update_traces(hovertemplate='<b>%{label}</b><br>Value: %{value:,.2f}')\n",
    "\n",
    "# Update the layout\n",
    "fig.update_layout(\n",
    "    title='Transaction Channel Volume 2022',\n",
    "    font=dict(size=14),\n",
    "    margin=dict(t=50, l=0, r=0, b=0),\n",
    "    width=1400,\n",
    "    height=900,\n",
    "    sunburstcolorway=color_sequence,\n",
    ")\n",
    "fig.show()"
   ]
  },
  {
   "cell_type": "code",
   "execution_count": 93,
   "metadata": {},
   "outputs": [
    {
     "data": {
      "text/plain": [
       "'Trxn_sunburst_chart.html'"
      ]
     },
     "execution_count": 93,
     "metadata": {},
     "output_type": "execute_result"
    }
   ],
   "source": [
    "# Export the chart as an HTML file\n",
    "pyo.plot(fig, filename='Trxn_sunburst_chart.html', auto_open=True)"
   ]
  },
  {
   "cell_type": "code",
   "execution_count": 94,
   "metadata": {},
   "outputs": [
    {
     "data": {
      "application/vnd.plotly.v1+json": {
       "config": {
        "plotlyServerURL": "https://plot.ly"
       },
       "data": [
        {
         "marker": {
          "color": [
           "orange",
           "deepskyblue",
           "gray",
           "burlywood",
           "gold"
          ]
         },
         "text": [
          "58,704,867",
          "20,053,000",
          "14,596,348",
          "11,200,000",
          "1,770,000"
         ],
         "textposition": "auto",
         "type": "bar",
         "x": [
          "Web",
          "Call Center",
          "Other Electronic",
          "Mail",
          "NPC"
         ],
         "y": [
          58704867,
          20053000,
          14596348,
          11200000,
          1770000
         ]
        }
       ],
       "layout": {
        "template": {
         "data": {
          "bar": [
           {
            "error_x": {
             "color": "#2a3f5f"
            },
            "error_y": {
             "color": "#2a3f5f"
            },
            "marker": {
             "line": {
              "color": "#E5ECF6",
              "width": 0.5
             },
             "pattern": {
              "fillmode": "overlay",
              "size": 10,
              "solidity": 0.2
             }
            },
            "type": "bar"
           }
          ],
          "barpolar": [
           {
            "marker": {
             "line": {
              "color": "#E5ECF6",
              "width": 0.5
             },
             "pattern": {
              "fillmode": "overlay",
              "size": 10,
              "solidity": 0.2
             }
            },
            "type": "barpolar"
           }
          ],
          "carpet": [
           {
            "aaxis": {
             "endlinecolor": "#2a3f5f",
             "gridcolor": "white",
             "linecolor": "white",
             "minorgridcolor": "white",
             "startlinecolor": "#2a3f5f"
            },
            "baxis": {
             "endlinecolor": "#2a3f5f",
             "gridcolor": "white",
             "linecolor": "white",
             "minorgridcolor": "white",
             "startlinecolor": "#2a3f5f"
            },
            "type": "carpet"
           }
          ],
          "choropleth": [
           {
            "colorbar": {
             "outlinewidth": 0,
             "ticks": ""
            },
            "type": "choropleth"
           }
          ],
          "contour": [
           {
            "colorbar": {
             "outlinewidth": 0,
             "ticks": ""
            },
            "colorscale": [
             [
              0,
              "#0d0887"
             ],
             [
              0.1111111111111111,
              "#46039f"
             ],
             [
              0.2222222222222222,
              "#7201a8"
             ],
             [
              0.3333333333333333,
              "#9c179e"
             ],
             [
              0.4444444444444444,
              "#bd3786"
             ],
             [
              0.5555555555555556,
              "#d8576b"
             ],
             [
              0.6666666666666666,
              "#ed7953"
             ],
             [
              0.7777777777777778,
              "#fb9f3a"
             ],
             [
              0.8888888888888888,
              "#fdca26"
             ],
             [
              1,
              "#f0f921"
             ]
            ],
            "type": "contour"
           }
          ],
          "contourcarpet": [
           {
            "colorbar": {
             "outlinewidth": 0,
             "ticks": ""
            },
            "type": "contourcarpet"
           }
          ],
          "heatmap": [
           {
            "colorbar": {
             "outlinewidth": 0,
             "ticks": ""
            },
            "colorscale": [
             [
              0,
              "#0d0887"
             ],
             [
              0.1111111111111111,
              "#46039f"
             ],
             [
              0.2222222222222222,
              "#7201a8"
             ],
             [
              0.3333333333333333,
              "#9c179e"
             ],
             [
              0.4444444444444444,
              "#bd3786"
             ],
             [
              0.5555555555555556,
              "#d8576b"
             ],
             [
              0.6666666666666666,
              "#ed7953"
             ],
             [
              0.7777777777777778,
              "#fb9f3a"
             ],
             [
              0.8888888888888888,
              "#fdca26"
             ],
             [
              1,
              "#f0f921"
             ]
            ],
            "type": "heatmap"
           }
          ],
          "heatmapgl": [
           {
            "colorbar": {
             "outlinewidth": 0,
             "ticks": ""
            },
            "colorscale": [
             [
              0,
              "#0d0887"
             ],
             [
              0.1111111111111111,
              "#46039f"
             ],
             [
              0.2222222222222222,
              "#7201a8"
             ],
             [
              0.3333333333333333,
              "#9c179e"
             ],
             [
              0.4444444444444444,
              "#bd3786"
             ],
             [
              0.5555555555555556,
              "#d8576b"
             ],
             [
              0.6666666666666666,
              "#ed7953"
             ],
             [
              0.7777777777777778,
              "#fb9f3a"
             ],
             [
              0.8888888888888888,
              "#fdca26"
             ],
             [
              1,
              "#f0f921"
             ]
            ],
            "type": "heatmapgl"
           }
          ],
          "histogram": [
           {
            "marker": {
             "pattern": {
              "fillmode": "overlay",
              "size": 10,
              "solidity": 0.2
             }
            },
            "type": "histogram"
           }
          ],
          "histogram2d": [
           {
            "colorbar": {
             "outlinewidth": 0,
             "ticks": ""
            },
            "colorscale": [
             [
              0,
              "#0d0887"
             ],
             [
              0.1111111111111111,
              "#46039f"
             ],
             [
              0.2222222222222222,
              "#7201a8"
             ],
             [
              0.3333333333333333,
              "#9c179e"
             ],
             [
              0.4444444444444444,
              "#bd3786"
             ],
             [
              0.5555555555555556,
              "#d8576b"
             ],
             [
              0.6666666666666666,
              "#ed7953"
             ],
             [
              0.7777777777777778,
              "#fb9f3a"
             ],
             [
              0.8888888888888888,
              "#fdca26"
             ],
             [
              1,
              "#f0f921"
             ]
            ],
            "type": "histogram2d"
           }
          ],
          "histogram2dcontour": [
           {
            "colorbar": {
             "outlinewidth": 0,
             "ticks": ""
            },
            "colorscale": [
             [
              0,
              "#0d0887"
             ],
             [
              0.1111111111111111,
              "#46039f"
             ],
             [
              0.2222222222222222,
              "#7201a8"
             ],
             [
              0.3333333333333333,
              "#9c179e"
             ],
             [
              0.4444444444444444,
              "#bd3786"
             ],
             [
              0.5555555555555556,
              "#d8576b"
             ],
             [
              0.6666666666666666,
              "#ed7953"
             ],
             [
              0.7777777777777778,
              "#fb9f3a"
             ],
             [
              0.8888888888888888,
              "#fdca26"
             ],
             [
              1,
              "#f0f921"
             ]
            ],
            "type": "histogram2dcontour"
           }
          ],
          "mesh3d": [
           {
            "colorbar": {
             "outlinewidth": 0,
             "ticks": ""
            },
            "type": "mesh3d"
           }
          ],
          "parcoords": [
           {
            "line": {
             "colorbar": {
              "outlinewidth": 0,
              "ticks": ""
             }
            },
            "type": "parcoords"
           }
          ],
          "pie": [
           {
            "automargin": true,
            "type": "pie"
           }
          ],
          "scatter": [
           {
            "fillpattern": {
             "fillmode": "overlay",
             "size": 10,
             "solidity": 0.2
            },
            "type": "scatter"
           }
          ],
          "scatter3d": [
           {
            "line": {
             "colorbar": {
              "outlinewidth": 0,
              "ticks": ""
             }
            },
            "marker": {
             "colorbar": {
              "outlinewidth": 0,
              "ticks": ""
             }
            },
            "type": "scatter3d"
           }
          ],
          "scattercarpet": [
           {
            "marker": {
             "colorbar": {
              "outlinewidth": 0,
              "ticks": ""
             }
            },
            "type": "scattercarpet"
           }
          ],
          "scattergeo": [
           {
            "marker": {
             "colorbar": {
              "outlinewidth": 0,
              "ticks": ""
             }
            },
            "type": "scattergeo"
           }
          ],
          "scattergl": [
           {
            "marker": {
             "colorbar": {
              "outlinewidth": 0,
              "ticks": ""
             }
            },
            "type": "scattergl"
           }
          ],
          "scattermapbox": [
           {
            "marker": {
             "colorbar": {
              "outlinewidth": 0,
              "ticks": ""
             }
            },
            "type": "scattermapbox"
           }
          ],
          "scatterpolar": [
           {
            "marker": {
             "colorbar": {
              "outlinewidth": 0,
              "ticks": ""
             }
            },
            "type": "scatterpolar"
           }
          ],
          "scatterpolargl": [
           {
            "marker": {
             "colorbar": {
              "outlinewidth": 0,
              "ticks": ""
             }
            },
            "type": "scatterpolargl"
           }
          ],
          "scatterternary": [
           {
            "marker": {
             "colorbar": {
              "outlinewidth": 0,
              "ticks": ""
             }
            },
            "type": "scatterternary"
           }
          ],
          "surface": [
           {
            "colorbar": {
             "outlinewidth": 0,
             "ticks": ""
            },
            "colorscale": [
             [
              0,
              "#0d0887"
             ],
             [
              0.1111111111111111,
              "#46039f"
             ],
             [
              0.2222222222222222,
              "#7201a8"
             ],
             [
              0.3333333333333333,
              "#9c179e"
             ],
             [
              0.4444444444444444,
              "#bd3786"
             ],
             [
              0.5555555555555556,
              "#d8576b"
             ],
             [
              0.6666666666666666,
              "#ed7953"
             ],
             [
              0.7777777777777778,
              "#fb9f3a"
             ],
             [
              0.8888888888888888,
              "#fdca26"
             ],
             [
              1,
              "#f0f921"
             ]
            ],
            "type": "surface"
           }
          ],
          "table": [
           {
            "cells": {
             "fill": {
              "color": "#EBF0F8"
             },
             "line": {
              "color": "white"
             }
            },
            "header": {
             "fill": {
              "color": "#C8D4E3"
             },
             "line": {
              "color": "white"
             }
            },
            "type": "table"
           }
          ]
         },
         "layout": {
          "annotationdefaults": {
           "arrowcolor": "#2a3f5f",
           "arrowhead": 0,
           "arrowwidth": 1
          },
          "autotypenumbers": "strict",
          "coloraxis": {
           "colorbar": {
            "outlinewidth": 0,
            "ticks": ""
           }
          },
          "colorscale": {
           "diverging": [
            [
             0,
             "#8e0152"
            ],
            [
             0.1,
             "#c51b7d"
            ],
            [
             0.2,
             "#de77ae"
            ],
            [
             0.3,
             "#f1b6da"
            ],
            [
             0.4,
             "#fde0ef"
            ],
            [
             0.5,
             "#f7f7f7"
            ],
            [
             0.6,
             "#e6f5d0"
            ],
            [
             0.7,
             "#b8e186"
            ],
            [
             0.8,
             "#7fbc41"
            ],
            [
             0.9,
             "#4d9221"
            ],
            [
             1,
             "#276419"
            ]
           ],
           "sequential": [
            [
             0,
             "#0d0887"
            ],
            [
             0.1111111111111111,
             "#46039f"
            ],
            [
             0.2222222222222222,
             "#7201a8"
            ],
            [
             0.3333333333333333,
             "#9c179e"
            ],
            [
             0.4444444444444444,
             "#bd3786"
            ],
            [
             0.5555555555555556,
             "#d8576b"
            ],
            [
             0.6666666666666666,
             "#ed7953"
            ],
            [
             0.7777777777777778,
             "#fb9f3a"
            ],
            [
             0.8888888888888888,
             "#fdca26"
            ],
            [
             1,
             "#f0f921"
            ]
           ],
           "sequentialminus": [
            [
             0,
             "#0d0887"
            ],
            [
             0.1111111111111111,
             "#46039f"
            ],
            [
             0.2222222222222222,
             "#7201a8"
            ],
            [
             0.3333333333333333,
             "#9c179e"
            ],
            [
             0.4444444444444444,
             "#bd3786"
            ],
            [
             0.5555555555555556,
             "#d8576b"
            ],
            [
             0.6666666666666666,
             "#ed7953"
            ],
            [
             0.7777777777777778,
             "#fb9f3a"
            ],
            [
             0.8888888888888888,
             "#fdca26"
            ],
            [
             1,
             "#f0f921"
            ]
           ]
          },
          "colorway": [
           "#636efa",
           "#EF553B",
           "#00cc96",
           "#ab63fa",
           "#FFA15A",
           "#19d3f3",
           "#FF6692",
           "#B6E880",
           "#FF97FF",
           "#FECB52"
          ],
          "font": {
           "color": "#2a3f5f"
          },
          "geo": {
           "bgcolor": "white",
           "lakecolor": "white",
           "landcolor": "#E5ECF6",
           "showlakes": true,
           "showland": true,
           "subunitcolor": "white"
          },
          "hoverlabel": {
           "align": "left"
          },
          "hovermode": "closest",
          "mapbox": {
           "style": "light"
          },
          "paper_bgcolor": "white",
          "plot_bgcolor": "#E5ECF6",
          "polar": {
           "angularaxis": {
            "gridcolor": "white",
            "linecolor": "white",
            "ticks": ""
           },
           "bgcolor": "#E5ECF6",
           "radialaxis": {
            "gridcolor": "white",
            "linecolor": "white",
            "ticks": ""
           }
          },
          "scene": {
           "xaxis": {
            "backgroundcolor": "#E5ECF6",
            "gridcolor": "white",
            "gridwidth": 2,
            "linecolor": "white",
            "showbackground": true,
            "ticks": "",
            "zerolinecolor": "white"
           },
           "yaxis": {
            "backgroundcolor": "#E5ECF6",
            "gridcolor": "white",
            "gridwidth": 2,
            "linecolor": "white",
            "showbackground": true,
            "ticks": "",
            "zerolinecolor": "white"
           },
           "zaxis": {
            "backgroundcolor": "#E5ECF6",
            "gridcolor": "white",
            "gridwidth": 2,
            "linecolor": "white",
            "showbackground": true,
            "ticks": "",
            "zerolinecolor": "white"
           }
          },
          "shapedefaults": {
           "line": {
            "color": "#2a3f5f"
           }
          },
          "ternary": {
           "aaxis": {
            "gridcolor": "white",
            "linecolor": "white",
            "ticks": ""
           },
           "baxis": {
            "gridcolor": "white",
            "linecolor": "white",
            "ticks": ""
           },
           "bgcolor": "#E5ECF6",
           "caxis": {
            "gridcolor": "white",
            "linecolor": "white",
            "ticks": ""
           }
          },
          "title": {
           "x": 0.05
          },
          "xaxis": {
           "automargin": true,
           "gridcolor": "white",
           "linecolor": "white",
           "ticks": "",
           "title": {
            "standoff": 15
           },
           "zerolinecolor": "white",
           "zerolinewidth": 2
          },
          "yaxis": {
           "automargin": true,
           "gridcolor": "white",
           "linecolor": "white",
           "ticks": "",
           "title": {
            "standoff": 15
           },
           "zerolinecolor": "white",
           "zerolinewidth": 2
          }
         }
        },
        "title": {
         "text": "Total Customer Interactions by Root Level"
        },
        "xaxis": {
         "title": {
          "text": "Root Level"
         }
        },
        "yaxis": {
         "title": {
          "text": "Total Interactions"
         }
        }
       }
      }
     },
     "metadata": {},
     "output_type": "display_data"
    }
   ],
   "source": [
    "# Group the data by Root Level and sum the values\n",
    "grouped_data = df.groupby(['Root Level'])['Value'].sum().reset_index()\n",
    "\n",
    "# Sort the grouped_data by Value column in descending order\n",
    "grouped_data = grouped_data.sort_values(by='Value', ascending=False)\n",
    "\n",
    "# Create a dictionary to map the Root Level to its corresponding color\n",
    "color_map = {'Web': 'orange', 'Call Center': 'deepskyblue', 'Mail': 'burlywood', 'Other Electronic': 'gray', 'NPC': 'gold'}\n",
    "\n",
    "# Create the bar chart trace\n",
    "bar_trace = go.Bar(\n",
    "    x=grouped_data['Root Level'],\n",
    "    y=grouped_data['Value'],\n",
    "    marker=dict(color=[color_map.get(root_level, 'grey') for root_level in grouped_data['Root Level']]),\n",
    "    text=[f\"{value:,}\" for value in grouped_data['Value']],\n",
    "    textposition='auto'\n",
    ")\n",
    "\n",
    "# Create the bar chart layout\n",
    "bar_layout = go.Layout(\n",
    "    title='Total Customer Interactions by Root Level',\n",
    "    xaxis=dict(title='Root Level'),\n",
    "    yaxis=dict(title='Total Interactions')\n",
    ")\n",
    "\n",
    "# Create the bar chart figure\n",
    "bar_fig_root = go.Figure(data=[bar_trace], layout=bar_layout)\n",
    "\n",
    "# Display the bar chart\n",
    "bar_fig_root.show()\n"
   ]
  },
  {
   "cell_type": "code",
   "execution_count": 95,
   "metadata": {},
   "outputs": [
    {
     "data": {
      "text/plain": [
       "'Trxn_root_barchart.html'"
      ]
     },
     "execution_count": 95,
     "metadata": {},
     "output_type": "execute_result"
    }
   ],
   "source": [
    "# Export the chart as an HTML file\n",
    "pyo.plot(bar_fig_root, filename='Trxn_root_barchart.html', auto_open=True)"
   ]
  },
  {
   "cell_type": "code",
   "execution_count": 96,
   "metadata": {},
   "outputs": [
    {
     "data": {
      "application/vnd.plotly.v1+json": {
       "config": {
        "plotlyServerURL": "https://plot.ly"
       },
       "data": [
        {
         "marker": {
          "color": "orange"
         },
         "name": "Web",
         "text": [
          "27,950,047",
          "18,353,470",
          "5,146,001",
          "2,872,476",
          "1,310,914",
          "923,619",
          "608,359",
          "541,515",
          "381,154",
          "300,009",
          "278,569",
          "22,042",
          "16,692"
         ],
         "textposition": "auto",
         "type": "bar",
         "x": [
          "Payments",
          "Billing",
          "Outage",
          "Usage and Rates",
          "Other Interactions ",
          "Payment Account - NEW",
          "Alerts & Notifications",
          "Start/Stop/ Transfer",
          "Account Mgmt",
          "Pay Plans",
          "CARE/FERA ",
          "Pilot Light Appointments ",
          "Budget Billing (Login) "
         ],
         "y": [
          27950047,
          18353470,
          5146001,
          2872476,
          1310914,
          923619,
          608359,
          541515,
          381154,
          300009,
          278569,
          22042,
          16692
         ]
        },
        {
         "marker": {
          "color": "gray"
         },
         "name": "Other Electronic",
         "text": [
          "14,596,348"
         ],
         "textposition": "auto",
         "type": "bar",
         "x": [
          "Payments"
         ],
         "y": [
          14596348
         ]
        },
        {
         "marker": {
          "color": "burlywood"
         },
         "name": "Mail",
         "text": [
          "11,200,000"
         ],
         "textposition": "auto",
         "type": "bar",
         "x": [
          "Payments"
         ],
         "y": [
          11200000
         ]
        },
        {
         "marker": {
          "color": "deepskyblue"
         },
         "name": "Call Center",
         "text": [
          "9,140,000",
          "7,987,000",
          "2,630,000",
          "267,000",
          "29,000"
         ],
         "textposition": "auto",
         "type": "bar",
         "x": [
          "Live Agent",
          "IVR",
          "ICM Technology Handled",
          "Abandoned Calls",
          "Non-IVR Technology"
         ],
         "y": [
          9140000,
          7987000,
          2630000,
          267000,
          29000
         ]
        },
        {
         "marker": {
          "color": "gold"
         },
         "name": "NPC",
         "text": [
          "1,770,000"
         ],
         "textposition": "auto",
         "type": "bar",
         "x": [
          "Payments"
         ],
         "y": [
          1770000
         ]
        }
       ],
       "layout": {
        "barmode": "stack",
        "template": {
         "data": {
          "bar": [
           {
            "error_x": {
             "color": "#2a3f5f"
            },
            "error_y": {
             "color": "#2a3f5f"
            },
            "marker": {
             "line": {
              "color": "#E5ECF6",
              "width": 0.5
             },
             "pattern": {
              "fillmode": "overlay",
              "size": 10,
              "solidity": 0.2
             }
            },
            "type": "bar"
           }
          ],
          "barpolar": [
           {
            "marker": {
             "line": {
              "color": "#E5ECF6",
              "width": 0.5
             },
             "pattern": {
              "fillmode": "overlay",
              "size": 10,
              "solidity": 0.2
             }
            },
            "type": "barpolar"
           }
          ],
          "carpet": [
           {
            "aaxis": {
             "endlinecolor": "#2a3f5f",
             "gridcolor": "white",
             "linecolor": "white",
             "minorgridcolor": "white",
             "startlinecolor": "#2a3f5f"
            },
            "baxis": {
             "endlinecolor": "#2a3f5f",
             "gridcolor": "white",
             "linecolor": "white",
             "minorgridcolor": "white",
             "startlinecolor": "#2a3f5f"
            },
            "type": "carpet"
           }
          ],
          "choropleth": [
           {
            "colorbar": {
             "outlinewidth": 0,
             "ticks": ""
            },
            "type": "choropleth"
           }
          ],
          "contour": [
           {
            "colorbar": {
             "outlinewidth": 0,
             "ticks": ""
            },
            "colorscale": [
             [
              0,
              "#0d0887"
             ],
             [
              0.1111111111111111,
              "#46039f"
             ],
             [
              0.2222222222222222,
              "#7201a8"
             ],
             [
              0.3333333333333333,
              "#9c179e"
             ],
             [
              0.4444444444444444,
              "#bd3786"
             ],
             [
              0.5555555555555556,
              "#d8576b"
             ],
             [
              0.6666666666666666,
              "#ed7953"
             ],
             [
              0.7777777777777778,
              "#fb9f3a"
             ],
             [
              0.8888888888888888,
              "#fdca26"
             ],
             [
              1,
              "#f0f921"
             ]
            ],
            "type": "contour"
           }
          ],
          "contourcarpet": [
           {
            "colorbar": {
             "outlinewidth": 0,
             "ticks": ""
            },
            "type": "contourcarpet"
           }
          ],
          "heatmap": [
           {
            "colorbar": {
             "outlinewidth": 0,
             "ticks": ""
            },
            "colorscale": [
             [
              0,
              "#0d0887"
             ],
             [
              0.1111111111111111,
              "#46039f"
             ],
             [
              0.2222222222222222,
              "#7201a8"
             ],
             [
              0.3333333333333333,
              "#9c179e"
             ],
             [
              0.4444444444444444,
              "#bd3786"
             ],
             [
              0.5555555555555556,
              "#d8576b"
             ],
             [
              0.6666666666666666,
              "#ed7953"
             ],
             [
              0.7777777777777778,
              "#fb9f3a"
             ],
             [
              0.8888888888888888,
              "#fdca26"
             ],
             [
              1,
              "#f0f921"
             ]
            ],
            "type": "heatmap"
           }
          ],
          "heatmapgl": [
           {
            "colorbar": {
             "outlinewidth": 0,
             "ticks": ""
            },
            "colorscale": [
             [
              0,
              "#0d0887"
             ],
             [
              0.1111111111111111,
              "#46039f"
             ],
             [
              0.2222222222222222,
              "#7201a8"
             ],
             [
              0.3333333333333333,
              "#9c179e"
             ],
             [
              0.4444444444444444,
              "#bd3786"
             ],
             [
              0.5555555555555556,
              "#d8576b"
             ],
             [
              0.6666666666666666,
              "#ed7953"
             ],
             [
              0.7777777777777778,
              "#fb9f3a"
             ],
             [
              0.8888888888888888,
              "#fdca26"
             ],
             [
              1,
              "#f0f921"
             ]
            ],
            "type": "heatmapgl"
           }
          ],
          "histogram": [
           {
            "marker": {
             "pattern": {
              "fillmode": "overlay",
              "size": 10,
              "solidity": 0.2
             }
            },
            "type": "histogram"
           }
          ],
          "histogram2d": [
           {
            "colorbar": {
             "outlinewidth": 0,
             "ticks": ""
            },
            "colorscale": [
             [
              0,
              "#0d0887"
             ],
             [
              0.1111111111111111,
              "#46039f"
             ],
             [
              0.2222222222222222,
              "#7201a8"
             ],
             [
              0.3333333333333333,
              "#9c179e"
             ],
             [
              0.4444444444444444,
              "#bd3786"
             ],
             [
              0.5555555555555556,
              "#d8576b"
             ],
             [
              0.6666666666666666,
              "#ed7953"
             ],
             [
              0.7777777777777778,
              "#fb9f3a"
             ],
             [
              0.8888888888888888,
              "#fdca26"
             ],
             [
              1,
              "#f0f921"
             ]
            ],
            "type": "histogram2d"
           }
          ],
          "histogram2dcontour": [
           {
            "colorbar": {
             "outlinewidth": 0,
             "ticks": ""
            },
            "colorscale": [
             [
              0,
              "#0d0887"
             ],
             [
              0.1111111111111111,
              "#46039f"
             ],
             [
              0.2222222222222222,
              "#7201a8"
             ],
             [
              0.3333333333333333,
              "#9c179e"
             ],
             [
              0.4444444444444444,
              "#bd3786"
             ],
             [
              0.5555555555555556,
              "#d8576b"
             ],
             [
              0.6666666666666666,
              "#ed7953"
             ],
             [
              0.7777777777777778,
              "#fb9f3a"
             ],
             [
              0.8888888888888888,
              "#fdca26"
             ],
             [
              1,
              "#f0f921"
             ]
            ],
            "type": "histogram2dcontour"
           }
          ],
          "mesh3d": [
           {
            "colorbar": {
             "outlinewidth": 0,
             "ticks": ""
            },
            "type": "mesh3d"
           }
          ],
          "parcoords": [
           {
            "line": {
             "colorbar": {
              "outlinewidth": 0,
              "ticks": ""
             }
            },
            "type": "parcoords"
           }
          ],
          "pie": [
           {
            "automargin": true,
            "type": "pie"
           }
          ],
          "scatter": [
           {
            "fillpattern": {
             "fillmode": "overlay",
             "size": 10,
             "solidity": 0.2
            },
            "type": "scatter"
           }
          ],
          "scatter3d": [
           {
            "line": {
             "colorbar": {
              "outlinewidth": 0,
              "ticks": ""
             }
            },
            "marker": {
             "colorbar": {
              "outlinewidth": 0,
              "ticks": ""
             }
            },
            "type": "scatter3d"
           }
          ],
          "scattercarpet": [
           {
            "marker": {
             "colorbar": {
              "outlinewidth": 0,
              "ticks": ""
             }
            },
            "type": "scattercarpet"
           }
          ],
          "scattergeo": [
           {
            "marker": {
             "colorbar": {
              "outlinewidth": 0,
              "ticks": ""
             }
            },
            "type": "scattergeo"
           }
          ],
          "scattergl": [
           {
            "marker": {
             "colorbar": {
              "outlinewidth": 0,
              "ticks": ""
             }
            },
            "type": "scattergl"
           }
          ],
          "scattermapbox": [
           {
            "marker": {
             "colorbar": {
              "outlinewidth": 0,
              "ticks": ""
             }
            },
            "type": "scattermapbox"
           }
          ],
          "scatterpolar": [
           {
            "marker": {
             "colorbar": {
              "outlinewidth": 0,
              "ticks": ""
             }
            },
            "type": "scatterpolar"
           }
          ],
          "scatterpolargl": [
           {
            "marker": {
             "colorbar": {
              "outlinewidth": 0,
              "ticks": ""
             }
            },
            "type": "scatterpolargl"
           }
          ],
          "scatterternary": [
           {
            "marker": {
             "colorbar": {
              "outlinewidth": 0,
              "ticks": ""
             }
            },
            "type": "scatterternary"
           }
          ],
          "surface": [
           {
            "colorbar": {
             "outlinewidth": 0,
             "ticks": ""
            },
            "colorscale": [
             [
              0,
              "#0d0887"
             ],
             [
              0.1111111111111111,
              "#46039f"
             ],
             [
              0.2222222222222222,
              "#7201a8"
             ],
             [
              0.3333333333333333,
              "#9c179e"
             ],
             [
              0.4444444444444444,
              "#bd3786"
             ],
             [
              0.5555555555555556,
              "#d8576b"
             ],
             [
              0.6666666666666666,
              "#ed7953"
             ],
             [
              0.7777777777777778,
              "#fb9f3a"
             ],
             [
              0.8888888888888888,
              "#fdca26"
             ],
             [
              1,
              "#f0f921"
             ]
            ],
            "type": "surface"
           }
          ],
          "table": [
           {
            "cells": {
             "fill": {
              "color": "#EBF0F8"
             },
             "line": {
              "color": "white"
             }
            },
            "header": {
             "fill": {
              "color": "#C8D4E3"
             },
             "line": {
              "color": "white"
             }
            },
            "type": "table"
           }
          ]
         },
         "layout": {
          "annotationdefaults": {
           "arrowcolor": "#2a3f5f",
           "arrowhead": 0,
           "arrowwidth": 1
          },
          "autotypenumbers": "strict",
          "coloraxis": {
           "colorbar": {
            "outlinewidth": 0,
            "ticks": ""
           }
          },
          "colorscale": {
           "diverging": [
            [
             0,
             "#8e0152"
            ],
            [
             0.1,
             "#c51b7d"
            ],
            [
             0.2,
             "#de77ae"
            ],
            [
             0.3,
             "#f1b6da"
            ],
            [
             0.4,
             "#fde0ef"
            ],
            [
             0.5,
             "#f7f7f7"
            ],
            [
             0.6,
             "#e6f5d0"
            ],
            [
             0.7,
             "#b8e186"
            ],
            [
             0.8,
             "#7fbc41"
            ],
            [
             0.9,
             "#4d9221"
            ],
            [
             1,
             "#276419"
            ]
           ],
           "sequential": [
            [
             0,
             "#0d0887"
            ],
            [
             0.1111111111111111,
             "#46039f"
            ],
            [
             0.2222222222222222,
             "#7201a8"
            ],
            [
             0.3333333333333333,
             "#9c179e"
            ],
            [
             0.4444444444444444,
             "#bd3786"
            ],
            [
             0.5555555555555556,
             "#d8576b"
            ],
            [
             0.6666666666666666,
             "#ed7953"
            ],
            [
             0.7777777777777778,
             "#fb9f3a"
            ],
            [
             0.8888888888888888,
             "#fdca26"
            ],
            [
             1,
             "#f0f921"
            ]
           ],
           "sequentialminus": [
            [
             0,
             "#0d0887"
            ],
            [
             0.1111111111111111,
             "#46039f"
            ],
            [
             0.2222222222222222,
             "#7201a8"
            ],
            [
             0.3333333333333333,
             "#9c179e"
            ],
            [
             0.4444444444444444,
             "#bd3786"
            ],
            [
             0.5555555555555556,
             "#d8576b"
            ],
            [
             0.6666666666666666,
             "#ed7953"
            ],
            [
             0.7777777777777778,
             "#fb9f3a"
            ],
            [
             0.8888888888888888,
             "#fdca26"
            ],
            [
             1,
             "#f0f921"
            ]
           ]
          },
          "colorway": [
           "#636efa",
           "#EF553B",
           "#00cc96",
           "#ab63fa",
           "#FFA15A",
           "#19d3f3",
           "#FF6692",
           "#B6E880",
           "#FF97FF",
           "#FECB52"
          ],
          "font": {
           "color": "#2a3f5f"
          },
          "geo": {
           "bgcolor": "white",
           "lakecolor": "white",
           "landcolor": "#E5ECF6",
           "showlakes": true,
           "showland": true,
           "subunitcolor": "white"
          },
          "hoverlabel": {
           "align": "left"
          },
          "hovermode": "closest",
          "mapbox": {
           "style": "light"
          },
          "paper_bgcolor": "white",
          "plot_bgcolor": "#E5ECF6",
          "polar": {
           "angularaxis": {
            "gridcolor": "white",
            "linecolor": "white",
            "ticks": ""
           },
           "bgcolor": "#E5ECF6",
           "radialaxis": {
            "gridcolor": "white",
            "linecolor": "white",
            "ticks": ""
           }
          },
          "scene": {
           "xaxis": {
            "backgroundcolor": "#E5ECF6",
            "gridcolor": "white",
            "gridwidth": 2,
            "linecolor": "white",
            "showbackground": true,
            "ticks": "",
            "zerolinecolor": "white"
           },
           "yaxis": {
            "backgroundcolor": "#E5ECF6",
            "gridcolor": "white",
            "gridwidth": 2,
            "linecolor": "white",
            "showbackground": true,
            "ticks": "",
            "zerolinecolor": "white"
           },
           "zaxis": {
            "backgroundcolor": "#E5ECF6",
            "gridcolor": "white",
            "gridwidth": 2,
            "linecolor": "white",
            "showbackground": true,
            "ticks": "",
            "zerolinecolor": "white"
           }
          },
          "shapedefaults": {
           "line": {
            "color": "#2a3f5f"
           }
          },
          "ternary": {
           "aaxis": {
            "gridcolor": "white",
            "linecolor": "white",
            "ticks": ""
           },
           "baxis": {
            "gridcolor": "white",
            "linecolor": "white",
            "ticks": ""
           },
           "bgcolor": "#E5ECF6",
           "caxis": {
            "gridcolor": "white",
            "linecolor": "white",
            "ticks": ""
           }
          },
          "title": {
           "x": 0.05
          },
          "xaxis": {
           "automargin": true,
           "gridcolor": "white",
           "linecolor": "white",
           "ticks": "",
           "title": {
            "standoff": 15
           },
           "zerolinecolor": "white",
           "zerolinewidth": 2
          },
          "yaxis": {
           "automargin": true,
           "gridcolor": "white",
           "linecolor": "white",
           "ticks": "",
           "title": {
            "standoff": 15
           },
           "zerolinecolor": "white",
           "zerolinewidth": 2
          }
         }
        },
        "title": {
         "text": "Total Customer Interactions by Root Level and Level 1"
        },
        "xaxis": {
         "title": {
          "text": "Level 1"
         }
        },
        "yaxis": {
         "title": {
          "text": "Total Interactions"
         }
        }
       }
      }
     },
     "metadata": {},
     "output_type": "display_data"
    }
   ],
   "source": [
    "import plotly.graph_objs as go\n",
    "import locale\n",
    "\n",
    "# Set the locale to use comma separators for thousands\n",
    "locale.setlocale(locale.LC_ALL, '')\n",
    "\n",
    "# Group the data by Root Level and Level 1 and sum the values\n",
    "grouped_data = df.groupby(['Root Level', 'Level 1'])['Value'].sum().reset_index()\n",
    "\n",
    "# Sort the grouped_data by Value column in descending order\n",
    "grouped_data = grouped_data.sort_values(by='Value', ascending=False)\n",
    "\n",
    "# Create a dictionary to map the Root Level to its corresponding color\n",
    "color_map = {'Web': 'orange', 'Call Center': 'deepskyblue', 'Mail': 'burlywood', 'Other Electronic': 'gray', 'NPC': 'gold'}\n",
    "\n",
    "# Create a list to store the bar chart traces\n",
    "bar_traces = []\n",
    "\n",
    "# Loop through each Root Level and create a stacked bar chart trace for its corresponding Level 1 data\n",
    "for root_level in grouped_data['Root Level'].unique():\n",
    "    temp_df = grouped_data[grouped_data['Root Level'] == root_level]\n",
    "    values = temp_df['Value'].values\n",
    "    formatted_values = [locale.format_string(\"%d\", val, grouping=True) for val in values] # Format values with comma separators\n",
    "    bar_trace = go.Bar(\n",
    "        x=temp_df['Level 1'],\n",
    "        y=values,\n",
    "        text=formatted_values, # Set the formatted values as the text labels\n",
    "        textposition='auto', # Position the text labels automatically above the bars\n",
    "        name=root_level,\n",
    "        marker=dict(color=color_map[root_level])\n",
    "    )\n",
    "    bar_traces.append(bar_trace)\n",
    "\n",
    "# Create the stacked bar chart layout\n",
    "bar_layout = go.Layout(\n",
    "    title='Total Customer Interactions by Root Level and Level 1',\n",
    "    xaxis=dict(title='Level 1'),\n",
    "    yaxis=dict(title='Total Interactions'),\n",
    "    barmode='stack'\n",
    ")\n",
    "\n",
    "# Create the stacked bar chart figure\n",
    "bar_fig_root_L1 = go.Figure(data=bar_traces, layout=bar_layout)\n",
    "\n",
    "# Display the stacked bar chart\n",
    "bar_fig_root_L1.show()\n"
   ]
  },
  {
   "cell_type": "code",
   "execution_count": 97,
   "metadata": {},
   "outputs": [
    {
     "data": {
      "text/plain": [
       "'Trxn_root_L1_barchart.html'"
      ]
     },
     "execution_count": 97,
     "metadata": {},
     "output_type": "execute_result"
    }
   ],
   "source": [
    "# Export the chart as an HTML file\n",
    "pyo.plot(bar_fig_root_L1, filename='Trxn_root_L1_barchart.html', auto_open=True)"
   ]
  },
  {
   "cell_type": "code",
   "execution_count": 98,
   "metadata": {},
   "outputs": [
    {
     "data": {
      "application/vnd.plotly.v1+json": {
       "config": {
        "plotlyServerURL": "https://plot.ly"
       },
       "data": [
        {
         "marker": {
          "color": "gray"
         },
         "name": "Other Electronic",
         "orientation": "h",
         "text": [
          "388",
          "2,960",
          "102,000",
          "637,000",
          "726,000",
          "2,735,000",
          "10,393,000"
         ],
         "textposition": "auto",
         "type": "bar",
         "x": [
          388,
          2960,
          102000,
          637000,
          726000,
          2735000,
          10393000
         ],
         "y": [
          "Online Banking (M)",
          "APS (M)",
          "ACH (M)",
          "EDI (M)",
          "LiHEAP (M)",
          "Wire Transfer (M)",
          "Secure Email (M)"
         ]
        },
        {
         "marker": {
          "color": "orange"
         },
         "name": "Web",
         "orientation": "h",
         "text": [
          "1,148",
          "1,907",
          "3,697",
          "3,892",
          "10,738",
          "12,242",
          "15,393",
          "16,104",
          "16,176",
          "18,987",
          "25,758",
          "79,960",
          "80,187",
          "80,199",
          "83,947",
          "137,600",
          "140,820",
          "159,607",
          "178,445",
          "220,049",
          "233,548",
          "244,317",
          "278,569",
          "282,883",
          "302,380",
          "310,259",
          "362,420",
          "538,774",
          "549,793",
          "633,871",
          "663,126",
          "756,747",
          "1,425,106",
          "3,633,827",
          "4,516,009",
          "8,992,263",
          "9,361,207",
          "24,316,220"
         ],
         "textposition": "auto",
         "type": "bar",
         "x": [
          1148,
          1907,
          3697,
          3892,
          10738,
          12242,
          15393,
          16104,
          16176,
          18987,
          25758,
          79960,
          80187,
          80199,
          83947,
          137600,
          140820,
          159607,
          178445,
          220049,
          233548,
          244317,
          278569,
          282883,
          302380,
          310259,
          362420,
          538774,
          549793,
          633871,
          663126,
          756747,
          1425106,
          3633827,
          4516009,
          8992263,
          9361207,
          24316220
         ],
         "y": [
          "Your Account",
          "ViewBillCurrentPDF historical",
          "ViewBillCurrentPDF",
          "Search Outage By Address",
          "One Time Access",
          "Compare My Bills",
          "Recurring Payment Schedule",
          "Create_Payment_Account",
          "View Usage",
          "Report Outage",
          "Registration",
          "Home Energy Checkup",
          "Rate Comparison",
          "Change Billing & Payment Alerts",
          "Start",
          "CARE/FERA",
          "Delete_Payment_Account",
          "Energy Alerts",
          "Installment Pay",
          "Stop",
          "Change User Name, Password",
          "Online Rate Enrollment",
          "Add/Edit Phone Number",
          "Change Billing Address",
          "Subscribe Outage (EW Pages)",
          "Transfer",
          "Extension Pay",
          "Go Paperless Alerts NEW",
          "Schedule_Service_Appointment",
          "Update_Payment_Account",
          "Event Day Alerts NEW",
          "Gas Pipeline Map Views",
          "Outages Alerts New",
          "Notices & Services Information NEW",
          "Additional Communication Alerts NEW",
          "Service Visit Alerts NEW",
          "Cancel_Service_Appointment",
          "Reschedule_Service_Appointment"
         ]
        },
        {
         "marker": {
          "color": "deepskyblue"
         },
         "name": "Call Center",
         "orientation": "h",
         "text": [
          "29,000",
          "58,000",
          "124,000",
          "155,000",
          "205,000",
          "220,000",
          "256,000",
          "267,000",
          "332,000",
          "449,000",
          "466,000",
          "479,000",
          "678,000",
          "691,000",
          "814,000",
          "1,089,000",
          "1,241,000",
          "1,341,000",
          "2,630,000",
          "3,918,000",
          "4,611,000"
         ],
         "textposition": "auto",
         "type": "bar",
         "x": [
          29000,
          58000,
          124000,
          155000,
          205000,
          220000,
          256000,
          267000,
          332000,
          449000,
          466000,
          479000,
          678000,
          691000,
          814000,
          1089000,
          1241000,
          1341000,
          2630000,
          3918000,
          4611000
         ],
         "y": [
          "Payments",
          "Transferred calls",
          "ICM Technology Handled",
          "General",
          "Billing",
          "Outage",
          "Other Transactions",
          "Billing Balance",
          "Start/Stop/ Transfer",
          "Solar",
          "BCSC",
          "Emergency",
          "Pay Plans",
          "Abandoned Calls",
          "Spanish (General)",
          "Specialty Lines",
          "Account Balance",
          "Start",
          "Stop",
          "Transfer",
          "Non-IVR Technology"
         ]
        },
        {
         "marker": {
          "color": "gold"
         },
         "name": "NPC",
         "orientation": "h",
         "text": [
          "1,770,000"
         ],
         "textposition": "auto",
         "type": "bar",
         "x": [
          1770000
         ],
         "y": [
          "Payments"
         ]
        },
        {
         "marker": {
          "color": "burlywood"
         },
         "name": "Mail",
         "orientation": "h",
         "text": [
          "11,200,000"
         ],
         "textposition": "auto",
         "type": "bar",
         "x": [
          11200000
         ],
         "y": [
          "Payments"
         ]
        }
       ],
       "layout": {
        "barmode": "stack",
        "height": 2000,
        "template": {
         "data": {
          "bar": [
           {
            "error_x": {
             "color": "#2a3f5f"
            },
            "error_y": {
             "color": "#2a3f5f"
            },
            "marker": {
             "line": {
              "color": "#E5ECF6",
              "width": 0.5
             },
             "pattern": {
              "fillmode": "overlay",
              "size": 10,
              "solidity": 0.2
             }
            },
            "type": "bar"
           }
          ],
          "barpolar": [
           {
            "marker": {
             "line": {
              "color": "#E5ECF6",
              "width": 0.5
             },
             "pattern": {
              "fillmode": "overlay",
              "size": 10,
              "solidity": 0.2
             }
            },
            "type": "barpolar"
           }
          ],
          "carpet": [
           {
            "aaxis": {
             "endlinecolor": "#2a3f5f",
             "gridcolor": "white",
             "linecolor": "white",
             "minorgridcolor": "white",
             "startlinecolor": "#2a3f5f"
            },
            "baxis": {
             "endlinecolor": "#2a3f5f",
             "gridcolor": "white",
             "linecolor": "white",
             "minorgridcolor": "white",
             "startlinecolor": "#2a3f5f"
            },
            "type": "carpet"
           }
          ],
          "choropleth": [
           {
            "colorbar": {
             "outlinewidth": 0,
             "ticks": ""
            },
            "type": "choropleth"
           }
          ],
          "contour": [
           {
            "colorbar": {
             "outlinewidth": 0,
             "ticks": ""
            },
            "colorscale": [
             [
              0,
              "#0d0887"
             ],
             [
              0.1111111111111111,
              "#46039f"
             ],
             [
              0.2222222222222222,
              "#7201a8"
             ],
             [
              0.3333333333333333,
              "#9c179e"
             ],
             [
              0.4444444444444444,
              "#bd3786"
             ],
             [
              0.5555555555555556,
              "#d8576b"
             ],
             [
              0.6666666666666666,
              "#ed7953"
             ],
             [
              0.7777777777777778,
              "#fb9f3a"
             ],
             [
              0.8888888888888888,
              "#fdca26"
             ],
             [
              1,
              "#f0f921"
             ]
            ],
            "type": "contour"
           }
          ],
          "contourcarpet": [
           {
            "colorbar": {
             "outlinewidth": 0,
             "ticks": ""
            },
            "type": "contourcarpet"
           }
          ],
          "heatmap": [
           {
            "colorbar": {
             "outlinewidth": 0,
             "ticks": ""
            },
            "colorscale": [
             [
              0,
              "#0d0887"
             ],
             [
              0.1111111111111111,
              "#46039f"
             ],
             [
              0.2222222222222222,
              "#7201a8"
             ],
             [
              0.3333333333333333,
              "#9c179e"
             ],
             [
              0.4444444444444444,
              "#bd3786"
             ],
             [
              0.5555555555555556,
              "#d8576b"
             ],
             [
              0.6666666666666666,
              "#ed7953"
             ],
             [
              0.7777777777777778,
              "#fb9f3a"
             ],
             [
              0.8888888888888888,
              "#fdca26"
             ],
             [
              1,
              "#f0f921"
             ]
            ],
            "type": "heatmap"
           }
          ],
          "heatmapgl": [
           {
            "colorbar": {
             "outlinewidth": 0,
             "ticks": ""
            },
            "colorscale": [
             [
              0,
              "#0d0887"
             ],
             [
              0.1111111111111111,
              "#46039f"
             ],
             [
              0.2222222222222222,
              "#7201a8"
             ],
             [
              0.3333333333333333,
              "#9c179e"
             ],
             [
              0.4444444444444444,
              "#bd3786"
             ],
             [
              0.5555555555555556,
              "#d8576b"
             ],
             [
              0.6666666666666666,
              "#ed7953"
             ],
             [
              0.7777777777777778,
              "#fb9f3a"
             ],
             [
              0.8888888888888888,
              "#fdca26"
             ],
             [
              1,
              "#f0f921"
             ]
            ],
            "type": "heatmapgl"
           }
          ],
          "histogram": [
           {
            "marker": {
             "pattern": {
              "fillmode": "overlay",
              "size": 10,
              "solidity": 0.2
             }
            },
            "type": "histogram"
           }
          ],
          "histogram2d": [
           {
            "colorbar": {
             "outlinewidth": 0,
             "ticks": ""
            },
            "colorscale": [
             [
              0,
              "#0d0887"
             ],
             [
              0.1111111111111111,
              "#46039f"
             ],
             [
              0.2222222222222222,
              "#7201a8"
             ],
             [
              0.3333333333333333,
              "#9c179e"
             ],
             [
              0.4444444444444444,
              "#bd3786"
             ],
             [
              0.5555555555555556,
              "#d8576b"
             ],
             [
              0.6666666666666666,
              "#ed7953"
             ],
             [
              0.7777777777777778,
              "#fb9f3a"
             ],
             [
              0.8888888888888888,
              "#fdca26"
             ],
             [
              1,
              "#f0f921"
             ]
            ],
            "type": "histogram2d"
           }
          ],
          "histogram2dcontour": [
           {
            "colorbar": {
             "outlinewidth": 0,
             "ticks": ""
            },
            "colorscale": [
             [
              0,
              "#0d0887"
             ],
             [
              0.1111111111111111,
              "#46039f"
             ],
             [
              0.2222222222222222,
              "#7201a8"
             ],
             [
              0.3333333333333333,
              "#9c179e"
             ],
             [
              0.4444444444444444,
              "#bd3786"
             ],
             [
              0.5555555555555556,
              "#d8576b"
             ],
             [
              0.6666666666666666,
              "#ed7953"
             ],
             [
              0.7777777777777778,
              "#fb9f3a"
             ],
             [
              0.8888888888888888,
              "#fdca26"
             ],
             [
              1,
              "#f0f921"
             ]
            ],
            "type": "histogram2dcontour"
           }
          ],
          "mesh3d": [
           {
            "colorbar": {
             "outlinewidth": 0,
             "ticks": ""
            },
            "type": "mesh3d"
           }
          ],
          "parcoords": [
           {
            "line": {
             "colorbar": {
              "outlinewidth": 0,
              "ticks": ""
             }
            },
            "type": "parcoords"
           }
          ],
          "pie": [
           {
            "automargin": true,
            "type": "pie"
           }
          ],
          "scatter": [
           {
            "fillpattern": {
             "fillmode": "overlay",
             "size": 10,
             "solidity": 0.2
            },
            "type": "scatter"
           }
          ],
          "scatter3d": [
           {
            "line": {
             "colorbar": {
              "outlinewidth": 0,
              "ticks": ""
             }
            },
            "marker": {
             "colorbar": {
              "outlinewidth": 0,
              "ticks": ""
             }
            },
            "type": "scatter3d"
           }
          ],
          "scattercarpet": [
           {
            "marker": {
             "colorbar": {
              "outlinewidth": 0,
              "ticks": ""
             }
            },
            "type": "scattercarpet"
           }
          ],
          "scattergeo": [
           {
            "marker": {
             "colorbar": {
              "outlinewidth": 0,
              "ticks": ""
             }
            },
            "type": "scattergeo"
           }
          ],
          "scattergl": [
           {
            "marker": {
             "colorbar": {
              "outlinewidth": 0,
              "ticks": ""
             }
            },
            "type": "scattergl"
           }
          ],
          "scattermapbox": [
           {
            "marker": {
             "colorbar": {
              "outlinewidth": 0,
              "ticks": ""
             }
            },
            "type": "scattermapbox"
           }
          ],
          "scatterpolar": [
           {
            "marker": {
             "colorbar": {
              "outlinewidth": 0,
              "ticks": ""
             }
            },
            "type": "scatterpolar"
           }
          ],
          "scatterpolargl": [
           {
            "marker": {
             "colorbar": {
              "outlinewidth": 0,
              "ticks": ""
             }
            },
            "type": "scatterpolargl"
           }
          ],
          "scatterternary": [
           {
            "marker": {
             "colorbar": {
              "outlinewidth": 0,
              "ticks": ""
             }
            },
            "type": "scatterternary"
           }
          ],
          "surface": [
           {
            "colorbar": {
             "outlinewidth": 0,
             "ticks": ""
            },
            "colorscale": [
             [
              0,
              "#0d0887"
             ],
             [
              0.1111111111111111,
              "#46039f"
             ],
             [
              0.2222222222222222,
              "#7201a8"
             ],
             [
              0.3333333333333333,
              "#9c179e"
             ],
             [
              0.4444444444444444,
              "#bd3786"
             ],
             [
              0.5555555555555556,
              "#d8576b"
             ],
             [
              0.6666666666666666,
              "#ed7953"
             ],
             [
              0.7777777777777778,
              "#fb9f3a"
             ],
             [
              0.8888888888888888,
              "#fdca26"
             ],
             [
              1,
              "#f0f921"
             ]
            ],
            "type": "surface"
           }
          ],
          "table": [
           {
            "cells": {
             "fill": {
              "color": "#EBF0F8"
             },
             "line": {
              "color": "white"
             }
            },
            "header": {
             "fill": {
              "color": "#C8D4E3"
             },
             "line": {
              "color": "white"
             }
            },
            "type": "table"
           }
          ]
         },
         "layout": {
          "annotationdefaults": {
           "arrowcolor": "#2a3f5f",
           "arrowhead": 0,
           "arrowwidth": 1
          },
          "autotypenumbers": "strict",
          "coloraxis": {
           "colorbar": {
            "outlinewidth": 0,
            "ticks": ""
           }
          },
          "colorscale": {
           "diverging": [
            [
             0,
             "#8e0152"
            ],
            [
             0.1,
             "#c51b7d"
            ],
            [
             0.2,
             "#de77ae"
            ],
            [
             0.3,
             "#f1b6da"
            ],
            [
             0.4,
             "#fde0ef"
            ],
            [
             0.5,
             "#f7f7f7"
            ],
            [
             0.6,
             "#e6f5d0"
            ],
            [
             0.7,
             "#b8e186"
            ],
            [
             0.8,
             "#7fbc41"
            ],
            [
             0.9,
             "#4d9221"
            ],
            [
             1,
             "#276419"
            ]
           ],
           "sequential": [
            [
             0,
             "#0d0887"
            ],
            [
             0.1111111111111111,
             "#46039f"
            ],
            [
             0.2222222222222222,
             "#7201a8"
            ],
            [
             0.3333333333333333,
             "#9c179e"
            ],
            [
             0.4444444444444444,
             "#bd3786"
            ],
            [
             0.5555555555555556,
             "#d8576b"
            ],
            [
             0.6666666666666666,
             "#ed7953"
            ],
            [
             0.7777777777777778,
             "#fb9f3a"
            ],
            [
             0.8888888888888888,
             "#fdca26"
            ],
            [
             1,
             "#f0f921"
            ]
           ],
           "sequentialminus": [
            [
             0,
             "#0d0887"
            ],
            [
             0.1111111111111111,
             "#46039f"
            ],
            [
             0.2222222222222222,
             "#7201a8"
            ],
            [
             0.3333333333333333,
             "#9c179e"
            ],
            [
             0.4444444444444444,
             "#bd3786"
            ],
            [
             0.5555555555555556,
             "#d8576b"
            ],
            [
             0.6666666666666666,
             "#ed7953"
            ],
            [
             0.7777777777777778,
             "#fb9f3a"
            ],
            [
             0.8888888888888888,
             "#fdca26"
            ],
            [
             1,
             "#f0f921"
            ]
           ]
          },
          "colorway": [
           "#636efa",
           "#EF553B",
           "#00cc96",
           "#ab63fa",
           "#FFA15A",
           "#19d3f3",
           "#FF6692",
           "#B6E880",
           "#FF97FF",
           "#FECB52"
          ],
          "font": {
           "color": "#2a3f5f"
          },
          "geo": {
           "bgcolor": "white",
           "lakecolor": "white",
           "landcolor": "#E5ECF6",
           "showlakes": true,
           "showland": true,
           "subunitcolor": "white"
          },
          "hoverlabel": {
           "align": "left"
          },
          "hovermode": "closest",
          "mapbox": {
           "style": "light"
          },
          "paper_bgcolor": "white",
          "plot_bgcolor": "#E5ECF6",
          "polar": {
           "angularaxis": {
            "gridcolor": "white",
            "linecolor": "white",
            "ticks": ""
           },
           "bgcolor": "#E5ECF6",
           "radialaxis": {
            "gridcolor": "white",
            "linecolor": "white",
            "ticks": ""
           }
          },
          "scene": {
           "xaxis": {
            "backgroundcolor": "#E5ECF6",
            "gridcolor": "white",
            "gridwidth": 2,
            "linecolor": "white",
            "showbackground": true,
            "ticks": "",
            "zerolinecolor": "white"
           },
           "yaxis": {
            "backgroundcolor": "#E5ECF6",
            "gridcolor": "white",
            "gridwidth": 2,
            "linecolor": "white",
            "showbackground": true,
            "ticks": "",
            "zerolinecolor": "white"
           },
           "zaxis": {
            "backgroundcolor": "#E5ECF6",
            "gridcolor": "white",
            "gridwidth": 2,
            "linecolor": "white",
            "showbackground": true,
            "ticks": "",
            "zerolinecolor": "white"
           }
          },
          "shapedefaults": {
           "line": {
            "color": "#2a3f5f"
           }
          },
          "ternary": {
           "aaxis": {
            "gridcolor": "white",
            "linecolor": "white",
            "ticks": ""
           },
           "baxis": {
            "gridcolor": "white",
            "linecolor": "white",
            "ticks": ""
           },
           "bgcolor": "#E5ECF6",
           "caxis": {
            "gridcolor": "white",
            "linecolor": "white",
            "ticks": ""
           }
          },
          "title": {
           "x": 0.05
          },
          "xaxis": {
           "automargin": true,
           "gridcolor": "white",
           "linecolor": "white",
           "ticks": "",
           "title": {
            "standoff": 15
           },
           "zerolinecolor": "white",
           "zerolinewidth": 2
          },
          "yaxis": {
           "automargin": true,
           "gridcolor": "white",
           "linecolor": "white",
           "ticks": "",
           "title": {
            "standoff": 15
           },
           "zerolinecolor": "white",
           "zerolinewidth": 2
          }
         }
        },
        "title": {
         "text": "Total Customer Interactions by Root Level and Level 2"
        },
        "xaxis": {
         "title": {
          "text": "Total Interactions"
         }
        },
        "yaxis": {
         "title": {
          "text": "Level 2 (from lowest to highest)"
         }
        }
       }
      }
     },
     "metadata": {},
     "output_type": "display_data"
    }
   ],
   "source": [
    "import plotly.graph_objs as go\n",
    "import locale\n",
    "\n",
    "# Set the locale to use comma separators for thousands\n",
    "locale.setlocale(locale.LC_ALL, '')\n",
    "\n",
    "# Group the data by Root Level and Level 2 and sum the values\n",
    "grouped_data = df.groupby(['Root Level', 'Level 2'])['Value'].sum().reset_index()\n",
    "\n",
    "# Sort the grouped_data by Value column in descending order\n",
    "grouped_data = grouped_data.sort_values(by='Value', ascending=True) # Sort by ascending order\n",
    "\n",
    "# Create a dictionary to map the Root Level to its corresponding color\n",
    "color_map = {'Web': 'orange', 'Call Center': 'deepskyblue', 'Mail': 'burlywood', 'Other Electronic': 'gray', 'NPC': 'gold'}\n",
    "\n",
    "\n",
    "# Create a list to store the bar chart traces\n",
    "bar_traces = []\n",
    "\n",
    "# Loop through each Root Level and create a stacked bar chart trace for its corresponding Level 2 data\n",
    "for root_level in grouped_data['Root Level'].unique():\n",
    "    temp_df = grouped_data[grouped_data['Root Level'] == root_level]\n",
    "    values = temp_df['Value'].values\n",
    "    formatted_values = [locale.format_string(\"%d\", val, grouping=True) for val in values] # Format values with comma separators\n",
    "    y_values = temp_df['Level 2'].values[::-1] # Reverse the order of the values\n",
    "    bar_trace = go.Bar(\n",
    "        y=y_values,\n",
    "        x=values,\n",
    "        text=formatted_values,\n",
    "        textposition='auto',\n",
    "        name=root_level,\n",
    "        orientation='h',\n",
    "        marker=dict(color=color_map[root_level])\n",
    "    )\n",
    "    bar_traces.append(bar_trace)\n",
    "\n",
    "# Create the stacked bar chart layout\n",
    "bar_layout = go.Layout(\n",
    "    title='Total Customer Interactions by Root Level and Level 2',\n",
    "    xaxis=dict(title='Total Interactions'),\n",
    "    yaxis=dict(title='Level 2 (from lowest to highest)'),\n",
    "    barmode='stack',\n",
    "    height=2000\n",
    ")\n",
    "\n",
    "# Create the stacked bar chart figure\n",
    "bar_fig_L2 = go.Figure(data=bar_traces, layout=bar_layout)\n",
    "\n",
    "# Display the stacked bar chart\n",
    "bar_fig_L2.show()\n"
   ]
  },
  {
   "cell_type": "code",
   "execution_count": 99,
   "metadata": {},
   "outputs": [
    {
     "data": {
      "text/plain": [
       "'Trxn_barchart_L2.html'"
      ]
     },
     "execution_count": 99,
     "metadata": {},
     "output_type": "execute_result"
    }
   ],
   "source": [
    "# Export the chart as an HTML file\n",
    "pyo.plot(bar_fig_L2, filename='Trxn_barchart_L2.html', auto_open=True)"
   ]
  }
 ],
 "metadata": {
  "kernelspec": {
   "display_name": "base",
   "language": "python",
   "name": "python3"
  },
  "language_info": {
   "codemirror_mode": {
    "name": "ipython",
    "version": 3
   },
   "file_extension": ".py",
   "mimetype": "text/x-python",
   "name": "python",
   "nbconvert_exporter": "python",
   "pygments_lexer": "ipython3",
   "version": "3.10.9"
  },
  "orig_nbformat": 4
 },
 "nbformat": 4,
 "nbformat_minor": 2
}
