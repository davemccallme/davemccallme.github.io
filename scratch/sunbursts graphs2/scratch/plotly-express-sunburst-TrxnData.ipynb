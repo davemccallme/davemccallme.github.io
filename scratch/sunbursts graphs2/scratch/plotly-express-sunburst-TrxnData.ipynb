{
 "cells": [
  {
   "cell_type": "code",
   "execution_count": 3,
   "metadata": {},
   "outputs": [],
   "source": [
    "import plotly.express as px\n",
    "import pandas as pd"
   ]
  },
  {
   "cell_type": "code",
   "execution_count": 1,
   "metadata": {},
   "outputs": [],
   "source": [
    "data = [\n",
    "    {\"id\": \"Web\", \"parent\": \"\", \"value\": 62596926},\n",
    "    {\"id\": \"Account Mgmt\", \"parent\": \"Web\", \"value\": 381154},\n",
    "    {\"id\": \"Change Billing Address\", \"parent\": \"Account Mgmt\", \"value\": 83947},\n",
    "    {\"id\": \"Add/Edit Phone Number\", \"parent\": \"Account Mgmt\", \"value\": 137600},\n",
    "    {\"id\": \"Change User Name, Password\", \"parent\": \"Account Mgmt\", \"value\": 159607},\n",
    "    {\"id\": \"Alerts & Notifications\", \"parent\": \"Web\", \"value\": 630145},\n",
    "    {\"id\": \"Change Billing & Payment Alerts\", \"parent\": \"Alerts & Notifications\", \"value\": 302380},\n",
    "    {\"id\": \"Energy Alerts\", \"parent\": \"Alerts & Notifications\", \"value\": 233548},\n",
    "    {\"id\": \"Outages Alerts\", \"parent\": \"Alerts & Notifications\", \"value\": 12242},\n",
    "    {\"id\": \"Go Paperless Alerts\", \"parent\": \"Alerts & Notifications\", \"value\": 25758},\n",
    "    {\"id\": \"Notices & Services Information\", \"parent\": \"Alerts & Notifications\", \"value\": 10738},\n",
    "    {\"id\": \"Event Day Alerts\", \"parent\": \"Alerts & Notifications\", \"value\": 16104},\n",
    "    {\"id\": \"Service Visit Alerts\", \"parent\": \"Alerts & Notifications\", \"value\": 3697},\n",
    "    {\"id\": \"Additional Communication Alerts\", \"parent\": \"Alerts & Notifications\", \"value\": 3892},\n",
    "    {\"id\": \"Additional Communication Alerts (Aug Onward)\", \"parent\": \"Alerts & Notifications\", \"value\": 4794},\n",
    "    {\"id\": \"Payment Plan & Shutoff Nonpayment Alerts\", \"parent\": \"Alerts & Notifications\", \"value\": 16992},\n",
    "    {\"id\": \"Billing\", \"parent\": \"Web\", \"value\": 18353470},\n",
    "    {\"id\": \"ViewBillCurrentPDF\", \"parent\": \"Billing\", \"value\": 8992263},\n",
    "    {\"id\": \"ViewBillCurrentPDF historical\", \"parent\": \"Billing\", \"value\": 9361207},\n",
    "    {\"id\": \"Budget Billing (Login)\", \"parent\": \"Web\", \"value\": 16692},\n",
    "    {\"id\": \"CARE/FERA New Pages\", \"parent\": \"Web\", \"value\": 278569},\n",
    "    {\"id\": \"Other Interactions\", \"parent\": \"Web\", \"value\": 1310914},\n",
    "    {\"id\": \"Gas Pipeline Map Views\", \"parent\": \"Other Interactions\", \"value\": 15393},\n",
    "    {\"id\": \"Recurring Payment Schedule\", \"parent\": \"Other Interactions\", \"value\": 756747},\n",
    "    {\"id\": \"Registration\", \"parent\": \"Other Interactions\", \"value\": 538774},\n",
    "    {\"id\": \"Outage\", \"parent\": \"Web\", \"value\": 5146001},\n",
    "    {\"id\": \"Report Outage Outage Map\", \"parent\": \"Outage\", \"value\": 549793},\n",
    "    {\"id\": \"Search Outage By Address (outage Center/ Outage Map/ Address Look up)\", \"parent\": \"Outage\", \"value\": 4516009},\n",
    "    {\"id\": \"Subscribe Outage (EW Pages)\", \"parent\": \"Outage\", \"value\": 80199},\n",
    "    {\"id\": \"Payment Account\", \"parent\": \"Web\", \"value\": 923619},\n",
    "    {\"id\": \"Create Payment Account\", \"parent\": \"Payment Account\", \"value\": 663126},\n",
    "    {\"id\": \"Update Payment Account\", \"parent\": \"Payment Account\", \"value\": 16176},\n",
    "    {\"id\": \"Delete Payment Account\", \"parent\": \"Payment Account\", \"value\": 244317},\n",
    "    {\"id\": \"Payments\", \"parent\": \"Web\", \"value\": 27950047},\n",
    "    {\"id\": \"One Time Access\", \"parent\": \"Payments\", \"value\": 3633827},\n",
    "    {\"id\": \"Your Account\", \"parent\": \"Payments\", \"value\": 24316220},\n",
    "    {\"id\": \"Pay Plans\", \"parent\": \"Web\", \"value\": 300009},\n",
    "    {\"id\": \"Extension Pay\", \"parent\": \"Pay Plans\", \"value\": 79960},\n",
    "    {\"id\": \"Installment Pay\", \"parent\": \"Pay Plans\", \"value\": 220049},\n",
    "    {\"id\": \"Pilot Light Appointments\", \"parent\": \"Web\", \"value\": 22042},\n",
    "    {\"id\": \"Schedule Service Appointment\", \"parent\": \"Pilot Light Appointments\", \"value\": 18987},\n",
    "    {\"id\": \"Reschedule Service Appointment\", \"parent\": \"Pilot Light Appointments\", \"value\": 1148},\n",
    "    {\"id\": \"Cancel Service Appointment\", \"parent\": \"Pilot Light Appointments\", \"value\": 1907},\n",
    "    {\"id\": \"Start/Stop/Transfer (total)\", \"parent\": \"Web\", \"value\": 541515},\n",
    "    {\"id\": \"New Customer\", \"parent\": \"Start/Stop/Transfer (total)\", \"value\": 200864},\n",
    "    {\"id\": \"Existing Customer\", \"parent\": \"Start/Stop/Transfer (total)\", \"value\": 82019},\n",
    "    {\"id\": \"Stop\", \"parent\": \"Start/Stop/Transfer (total)\", \"value\": 178445},\n",
    "    {\"id\": \"Transfer\", \"parent\": \"Start/Stop/Transfer (total)\", \"value\": 80187},\n",
    "    {\"id\": \"Usage and Rates\", \"parent\": \"Web\", \"value\": 6742749},\n",
    "    {\"id\": \"View Usage (July Onward)\", \"parent\": \"Usage and Rates\", \"value\": 633871},\n",
    "    {\"id\": \"View Usage\", \"parent\": \"Usage and Rates\", \"value\": 2559618},\n",
    "    {\"id\": \"Compare My Bills\", \"parent\": \"Usage and Rates\", \"value\": 1425106},\n",
    "    {\"id\": \"Rate Comparison\", \"parent\": \"Usage and Rates\", \"value\": 310259},\n",
    "    {\"id\": \"Home Energy Checkup\", \"parent\": \"Usage and Rates\", \"value\": 362420},\n",
    "    {\"id\": \"Online Rate Enrollment\", \"parent\": \"Usage and Rates\", \"value\": 140820},\n",
    "    {\"id\": \"Compare My Bills UPDATED\", \"parent\": \"Usage and Rates\", \"value\": 1310655},\n",
    "    {\"id\": \"Call Center - IVR\", \"parent\": \"\", \"value\": 7987000},\n",
    "    {\"id\": \"Payments (IVR PaybyPhone)\", \"parent\": \"Call Center - IVR\", \"value\": 4474000},\n",
    "    {\"id\": \"Billing IVR\", \"parent\": \"Call Center - IVR\", \"value\": 1241000},\n",
    "    {\"id\": \"Pay Plans\", \"parent\": \"Call Center - IVR\", \"value\": 209000},\n",
    "    {\"id\": \"Account Balance\", \"parent\": \"Call Center - IVR\", \"value\": 205000},\n",
    "    {\"id\": \"Start/Stop/Transfer (total) IVR\", \"parent\": \"Call Center - IVR\", \"value\": 337000},\n",
    "    {\"id\": \"Outage IVR\", \"parent\": \"Call Center - IVR\", \"value\": 843000},\n",
    "    {\"id\": \"Other Transactions IVR\", \"parent\": \"Call Center - IVR\", \"value\": 678000},\n",
    "    {\"id\": \"ICM Tech\", \"parent\": \"\", \"value\": 2630000},\n",
    "    {\"id\": \"Non-IVR Tech\", \"parent\": \"\", \"value\": 1200000},\n",
    "    {\"id\": \"Call Center - Live Agent\", \"parent\": \"\", \"value\": 3918000},\n",
    "    {\"id\": \"Transferred calls (total)\", \"parent\": \"Call Center - Live Agent\", \"value\": 3918000},\n",
    "    {\"id\": \"Abandoned Calls (total)\", \"parent\": \"\", \"value\": 267000},\n",
    "    {\"id\": \"Live agent calls Types\", \"parent\": \"\", \"value\": 5222000},\n",
    "    {\"id\": \"General\", \"parent\": \"Live agent calls Types\", \"value\": 1341000},\n",
    "    {\"id\": \"Billing Balance\", \"parent\": \"Live agent calls Types\", \"value\": 691000},\n",
    "    {\"id\": \"Start/Stop/Transfer (total) Live Agent\", \"parent\": \"Live agent calls Types\", \"value\": 678000},\n",
    "    {\"id\": \"BCSC (Bus. Cust. Service Center)\", \"parent\": \"Live agent calls Types\", \"value\": 466000},\n",
    "    {\"id\": \"Emergency\", \"parent\": \"Live agent calls Types\", \"value\": 449000},\n",
    "    {\"id\": \"Outage Live Agent\", \"parent\": \"Live agent calls Types\", \"value\": 246000},\n",
    "    {\"id\": \"Spanish (General)\", \"parent\": \"Live agent calls Types\", \"value\": 256000},\n",
    "    {\"id\": \"Payments (PayByPhone) Live Agent\", \"parent\": \"Live agent calls Types\", \"value\": 137000},\n",
    "    {\"id\": \"Solar\", \"parent\": \"Live agent calls Types\", \"value\": 479000},\n",
    "    {\"id\": \"Specialty Lines\", \"parent\": \"Live agent calls Types\", \"value\": 220000},\n",
    "    {\"id\": \"Pay Plans Live Agent\", \"parent\": \"Live agent calls Types\", \"value\": 123000},\n",
    "    {\"id\": \"Other Transactions Live Agent\", \"parent\": \"Live agent calls Types\", \"value\": 136000},\n",
    "    {\"id\": \"Mail Payments\", \"parent\": \"\", \"value\": 12500000},\n",
    "    {\"id\": \"Other Electronic Pay Channels\", \"parent\": \"\", \"value\": 15600000},\n",
    "    {\"id\": \"Online Banking\", \"parent\": \"Other Electronic Pay Channels\", \"value\": 11200000},\n",
    "    {\"id\": \"APS\", \"parent\": \"Other Electronic Pay Channels\", \"value\": 3100000},\n",
    "    {\"id\": \"EDI\", \"parent\": \"Other Electronic Pay Channels\", \"value\": 536000},\n",
    "    {\"id\": \"ACH\", \"parent\": \"Other Electronic Pay Channels\", \"value\": 696000},\n",
    "    {\"id\": \"LiHEAP\", \"parent\": \"Other Electronic Pay Channels\", \"value\": 97000},\n",
    "    {\"id\": \"Wire Transfer\", \"parent\": \"Other Electronic Pay Channels\", \"value\": 3000},\n",
    "    {\"id\": \"Secure Email\", \"parent\": \"Other Electronic Pay Channels\", \"value\": 1000}\n",
    "]"
   ]
  },
  {
   "cell_type": "code",
   "execution_count": 4,
   "metadata": {},
   "outputs": [
    {
     "data": {
      "application/vnd.plotly.v1+json": {
       "config": {
        "plotlyServerURL": "https://plot.ly"
       },
       "data": [
        {
         "branchvalues": "total",
         "domain": {
          "x": [
           0,
           1
          ],
          "y": [
           0,
           1
          ]
         },
         "hovertemplate": "labels=%{label}<br>value=%{value}<br>parent=%{parent}<br>id=%{id}<extra></extra>",
         "ids": [
          "Abandoned Calls (total)/",
          "Call Center - IVR/",
          "Call Center - Live Agent/",
          "ICM Tech/",
          "Live agent calls Types/",
          "Mail Payments/",
          "Non-IVR Tech/",
          "Other Electronic Pay Channels/",
          "Web/",
          "Add/Edit Phone Number/Account Mgmt",
          "Change Billing Address/Account Mgmt",
          "Change User Name, Password/Account Mgmt",
          "Additional Communication Alerts/Alerts & Notifications",
          "Additional Communication Alerts (Aug Onward)/Alerts & Notifications",
          "Change Billing & Payment Alerts/Alerts & Notifications",
          "Energy Alerts/Alerts & Notifications",
          "Event Day Alerts/Alerts & Notifications",
          "Go Paperless Alerts/Alerts & Notifications",
          "Notices & Services Information/Alerts & Notifications",
          "Outages Alerts/Alerts & Notifications",
          "Payment Plan & Shutoff Nonpayment Alerts/Alerts & Notifications",
          "Service Visit Alerts/Alerts & Notifications",
          "ViewBillCurrentPDF/Billing",
          "ViewBillCurrentPDF historical/Billing",
          "Account Balance/Call Center - IVR",
          "Billing/Call Center - IVR",
          "Other Transactions IVR/Call Center - IVR",
          "Outage IVR/Call Center - IVR",
          "Pay Plans/Call Center - IVR",
          "Payments (PaybyPhone)/Call Center - IVR",
          "Start/Stop/Transfer (total) IVR/Call Center - IVR",
          "Transferred calls (total)/Call Center - Live Agent",
          "BCSC (Bus. Cust. Service Center)/Live agent calls Types",
          "Billing Balance/Live agent calls Types",
          "Emergency/Live agent calls Types",
          "General/Live agent calls Types",
          "Other Transactions Live Agent/Live agent calls Types",
          "Outage Live Agent/Live agent calls Types",
          "Pay Plans Live Agent/Live agent calls Types",
          "Payments (PayByPhone) Live Agent/Live agent calls Types",
          "Solar/Live agent calls Types",
          "Spanish (General)/Live agent calls Types",
          "Specialty Lines/Live agent calls Types",
          "Start/Stop/Transfer (total) Live Agent/Live agent calls Types",
          "ACH/Other Electronic Pay Channels",
          "APS/Other Electronic Pay Channels",
          "EDI/Other Electronic Pay Channels",
          "LiHEAP/Other Electronic Pay Channels",
          "Online Banking/Other Electronic Pay Channels",
          "Secure Email/Other Electronic Pay Channels",
          "Wire Transfer/Other Electronic Pay Channels",
          "Gas Pipeline Map Views/Other Interactions",
          "Recurring Payment Schedule/Other Interactions",
          "Registration/Other Interactions",
          "Report Outage Outage Map/Outage",
          "Search Outage By Address (outage Center/ Outage Map/ Address Look up)/Outage",
          "Subscribe Outage (EW Pages)/Outage",
          "Extension Pay/Pay Plans",
          "Installment Pay/Pay Plans",
          "Create Payment Account/Payment Account",
          "Delete Payment Account/Payment Account",
          "Update Payment Account/Payment Account",
          "One Time Access/Payments",
          "Your Account/Payments",
          "Cancel Service Appointment/Pilot Light Appointments",
          "Reschedule Service Appointment/Pilot Light Appointments",
          "Schedule Service Appointment/Pilot Light Appointments",
          "Existing Customer/Start/Stop/Transfer (total)",
          "New Customer/Start/Stop/Transfer (total)",
          "Stop/Start/Stop/Transfer (total)",
          "Transfer/Start/Stop/Transfer (total)",
          "Compare My Bills/Usage and Rates",
          "Compare My Bills UPDATED/Usage and Rates",
          "Home Energy Checkup/Usage and Rates",
          "Online Rate Enrollment/Usage and Rates",
          "Rate Comparison/Usage and Rates",
          "View Usage/Usage and Rates",
          "View Usage (July Onward)/Usage and Rates",
          "Account Mgmt/Web",
          "Alerts & Notifications/Web",
          "Billing/Web",
          "Budget Billing (Login)/Web",
          "CARE/FERA New Pages/Web",
          "Other Interactions/Web",
          "Outage/Web",
          "Pay Plans/Web",
          "Payment Account/Web",
          "Payments/Web",
          "Pilot Light Appointments/Web",
          "Start/Stop/Transfer (total)/Web",
          "Usage and Rates/Web",
          "ACH",
          "APS",
          "Abandoned Calls (total)",
          "Account Balance",
          "Account Mgmt",
          "Add/Edit Phone Number",
          "Additional Communication Alerts",
          "Additional Communication Alerts (Aug Onward)",
          "Alerts & Notifications",
          "BCSC (Bus. Cust. Service Center)",
          "Billing",
          "Billing Balance",
          "Budget Billing (Login)",
          "CARE/FERA New Pages",
          "Call Center - IVR",
          "Call Center - Live Agent",
          "Cancel Service Appointment",
          "Change Billing & Payment Alerts",
          "Change Billing Address",
          "Change User Name, Password",
          "Compare My Bills",
          "Compare My Bills UPDATED",
          "Create Payment Account",
          "Delete Payment Account",
          "EDI",
          "Emergency",
          "Energy Alerts",
          "Event Day Alerts",
          "Existing Customer",
          "Extension Pay",
          "Gas Pipeline Map Views",
          "General",
          "Go Paperless Alerts",
          "Home Energy Checkup",
          "ICM Tech",
          "Installment Pay",
          "LiHEAP",
          "Live agent calls Types",
          "Mail Payments",
          "New Customer",
          "Non-IVR Tech",
          "Notices & Services Information",
          "One Time Access",
          "Online Banking",
          "Online Rate Enrollment",
          "Other Electronic Pay Channels",
          "Other Interactions",
          "Other Transactions IVR",
          "Other Transactions Live Agent",
          "Outage",
          "Outage IVR",
          "Outage Live Agent",
          "Outages Alerts",
          "Pay Plans",
          "Pay Plans Live Agent",
          "Payment Account",
          "Payment Plan & Shutoff Nonpayment Alerts",
          "Payments",
          "Payments (PayByPhone) Live Agent",
          "Payments (PaybyPhone)",
          "Pilot Light Appointments",
          "Rate Comparison",
          "Recurring Payment Schedule",
          "Registration",
          "Report Outage Outage Map",
          "Reschedule Service Appointment",
          "Schedule Service Appointment",
          "Search Outage By Address (outage Center/ Outage Map/ Address Look up)",
          "Secure Email",
          "Service Visit Alerts",
          "Solar",
          "Spanish (General)",
          "Specialty Lines",
          "Start/Stop/Transfer (total)",
          "Start/Stop/Transfer (total) IVR",
          "Start/Stop/Transfer (total) Live Agent",
          "Stop",
          "Subscribe Outage (EW Pages)",
          "Transfer",
          "Transferred calls (total)",
          "Update Payment Account",
          "Usage and Rates",
          "View Usage",
          "View Usage (July Onward)",
          "ViewBillCurrentPDF",
          "ViewBillCurrentPDF historical",
          "Web",
          "Wire Transfer",
          "Your Account"
         ],
         "labels": [
          "",
          "",
          "",
          "",
          "",
          "",
          "",
          "",
          "",
          "Account Mgmt",
          "Account Mgmt",
          "Account Mgmt",
          "Alerts & Notifications",
          "Alerts & Notifications",
          "Alerts & Notifications",
          "Alerts & Notifications",
          "Alerts & Notifications",
          "Alerts & Notifications",
          "Alerts & Notifications",
          "Alerts & Notifications",
          "Alerts & Notifications",
          "Alerts & Notifications",
          "Billing",
          "Billing",
          "Call Center - IVR",
          "Call Center - IVR",
          "Call Center - IVR",
          "Call Center - IVR",
          "Call Center - IVR",
          "Call Center - IVR",
          "Call Center - IVR",
          "Call Center - Live Agent",
          "Live agent calls Types",
          "Live agent calls Types",
          "Live agent calls Types",
          "Live agent calls Types",
          "Live agent calls Types",
          "Live agent calls Types",
          "Live agent calls Types",
          "Live agent calls Types",
          "Live agent calls Types",
          "Live agent calls Types",
          "Live agent calls Types",
          "Live agent calls Types",
          "Other Electronic Pay Channels",
          "Other Electronic Pay Channels",
          "Other Electronic Pay Channels",
          "Other Electronic Pay Channels",
          "Other Electronic Pay Channels",
          "Other Electronic Pay Channels",
          "Other Electronic Pay Channels",
          "Other Interactions",
          "Other Interactions",
          "Other Interactions",
          "Outage",
          "Outage",
          "Outage",
          "Pay Plans",
          "Pay Plans",
          "Payment Account",
          "Payment Account",
          "Payment Account",
          "Payments",
          "Payments",
          "Pilot Light Appointments",
          "Pilot Light Appointments",
          "Pilot Light Appointments",
          "Start/Stop/Transfer (total)",
          "Start/Stop/Transfer (total)",
          "Start/Stop/Transfer (total)",
          "Start/Stop/Transfer (total)",
          "Usage and Rates",
          "Usage and Rates",
          "Usage and Rates",
          "Usage and Rates",
          "Usage and Rates",
          "Usage and Rates",
          "Usage and Rates",
          "Web",
          "Web",
          "Web",
          "Web",
          "Web",
          "Web",
          "Web",
          "Web",
          "Web",
          "Web",
          "Web",
          "Web",
          "Web",
          "ACH",
          "APS",
          "Abandoned Calls (total)",
          "Account Balance",
          "Account Mgmt",
          "Add/Edit Phone Number",
          "Additional Communication Alerts",
          "Additional Communication Alerts (Aug Onward)",
          "Alerts & Notifications",
          "BCSC (Bus. Cust. Service Center)",
          "Billing",
          "Billing Balance",
          "Budget Billing (Login)",
          "CARE/FERA New Pages",
          "Call Center - IVR",
          "Call Center - Live Agent",
          "Cancel Service Appointment",
          "Change Billing & Payment Alerts",
          "Change Billing Address",
          "Change User Name, Password",
          "Compare My Bills",
          "Compare My Bills UPDATED",
          "Create Payment Account",
          "Delete Payment Account",
          "EDI",
          "Emergency",
          "Energy Alerts",
          "Event Day Alerts",
          "Existing Customer",
          "Extension Pay",
          "Gas Pipeline Map Views",
          "General",
          "Go Paperless Alerts",
          "Home Energy Checkup",
          "ICM Tech",
          "Installment Pay",
          "LiHEAP",
          "Live agent calls Types",
          "Mail Payments",
          "New Customer",
          "Non-IVR Tech",
          "Notices & Services Information",
          "One Time Access",
          "Online Banking",
          "Online Rate Enrollment",
          "Other Electronic Pay Channels",
          "Other Interactions",
          "Other Transactions IVR",
          "Other Transactions Live Agent",
          "Outage",
          "Outage IVR",
          "Outage Live Agent",
          "Outages Alerts",
          "Pay Plans",
          "Pay Plans Live Agent",
          "Payment Account",
          "Payment Plan & Shutoff Nonpayment Alerts",
          "Payments",
          "Payments (PayByPhone) Live Agent",
          "Payments (PaybyPhone)",
          "Pilot Light Appointments",
          "Rate Comparison",
          "Recurring Payment Schedule",
          "Registration",
          "Report Outage Outage Map",
          "Reschedule Service Appointment",
          "Schedule Service Appointment",
          "Search Outage By Address (outage Center/ Outage Map/ Address Look up)",
          "Secure Email",
          "Service Visit Alerts",
          "Solar",
          "Spanish (General)",
          "Specialty Lines",
          "Start/Stop/Transfer (total)",
          "Start/Stop/Transfer (total) IVR",
          "Start/Stop/Transfer (total) Live Agent",
          "Stop",
          "Subscribe Outage (EW Pages)",
          "Transfer",
          "Transferred calls (total)",
          "Update Payment Account",
          "Usage and Rates",
          "View Usage",
          "View Usage (July Onward)",
          "ViewBillCurrentPDF",
          "ViewBillCurrentPDF historical",
          "Web",
          "Wire Transfer",
          "Your Account"
         ],
         "name": "",
         "parents": [
          "Abandoned Calls (total)",
          "Call Center - IVR",
          "Call Center - Live Agent",
          "ICM Tech",
          "Live agent calls Types",
          "Mail Payments",
          "Non-IVR Tech",
          "Other Electronic Pay Channels",
          "Web",
          "Add/Edit Phone Number",
          "Change Billing Address",
          "Change User Name, Password",
          "Additional Communication Alerts",
          "Additional Communication Alerts (Aug Onward)",
          "Change Billing & Payment Alerts",
          "Energy Alerts",
          "Event Day Alerts",
          "Go Paperless Alerts",
          "Notices & Services Information",
          "Outages Alerts",
          "Payment Plan & Shutoff Nonpayment Alerts",
          "Service Visit Alerts",
          "ViewBillCurrentPDF",
          "ViewBillCurrentPDF historical",
          "Account Balance",
          "Billing",
          "Other Transactions IVR",
          "Outage IVR",
          "Pay Plans",
          "Payments (PaybyPhone)",
          "Start/Stop/Transfer (total) IVR",
          "Transferred calls (total)",
          "BCSC (Bus. Cust. Service Center)",
          "Billing Balance",
          "Emergency",
          "General",
          "Other Transactions Live Agent",
          "Outage Live Agent",
          "Pay Plans Live Agent",
          "Payments (PayByPhone) Live Agent",
          "Solar",
          "Spanish (General)",
          "Specialty Lines",
          "Start/Stop/Transfer (total) Live Agent",
          "ACH",
          "APS",
          "EDI",
          "LiHEAP",
          "Online Banking",
          "Secure Email",
          "Wire Transfer",
          "Gas Pipeline Map Views",
          "Recurring Payment Schedule",
          "Registration",
          "Report Outage Outage Map",
          "Search Outage By Address (outage Center/ Outage Map/ Address Look up)",
          "Subscribe Outage (EW Pages)",
          "Extension Pay",
          "Installment Pay",
          "Create Payment Account",
          "Delete Payment Account",
          "Update Payment Account",
          "One Time Access",
          "Your Account",
          "Cancel Service Appointment",
          "Reschedule Service Appointment",
          "Schedule Service Appointment",
          "Existing Customer",
          "New Customer",
          "Stop",
          "Transfer",
          "Compare My Bills",
          "Compare My Bills UPDATED",
          "Home Energy Checkup",
          "Online Rate Enrollment",
          "Rate Comparison",
          "View Usage",
          "View Usage (July Onward)",
          "Account Mgmt",
          "Alerts & Notifications",
          "Billing",
          "Budget Billing (Login)",
          "CARE/FERA New Pages",
          "Other Interactions",
          "Outage",
          "Pay Plans",
          "Payment Account",
          "Payments",
          "Pilot Light Appointments",
          "Start/Stop/Transfer (total)",
          "Usage and Rates",
          "",
          "",
          "",
          "",
          "",
          "",
          "",
          "",
          "",
          "",
          "",
          "",
          "",
          "",
          "",
          "",
          "",
          "",
          "",
          "",
          "",
          "",
          "",
          "",
          "",
          "",
          "",
          "",
          "",
          "",
          "",
          "",
          "",
          "",
          "",
          "",
          "",
          "",
          "",
          "",
          "",
          "",
          "",
          "",
          "",
          "",
          "",
          "",
          "",
          "",
          "",
          "",
          "",
          "",
          "",
          "",
          "",
          "",
          "",
          "",
          "",
          "",
          "",
          "",
          "",
          "",
          "",
          "",
          "",
          "",
          "",
          "",
          "",
          "",
          "",
          "",
          "",
          "",
          "",
          "",
          "",
          "",
          "",
          "",
          "",
          "",
          "",
          "",
          ""
         ],
         "type": "sunburst",
         "values": [
          267000,
          7987000,
          3918000,
          2630000,
          5222000,
          12500000,
          1200000,
          15600000,
          62596926,
          137600,
          83947,
          159607,
          3892,
          4794,
          302380,
          233548,
          16104,
          25758,
          10738,
          12242,
          16992,
          3697,
          8992263,
          9361207,
          205000,
          1241000,
          678000,
          843000,
          209000,
          4474000,
          337000,
          3918000,
          466000,
          691000,
          449000,
          1341000,
          136000,
          246000,
          123000,
          137000,
          479000,
          256000,
          220000,
          678000,
          696000,
          3100000,
          536000,
          97000,
          11200000,
          1000,
          3000,
          15393,
          756747,
          538774,
          549793,
          4516009,
          80199,
          79960,
          220049,
          663126,
          244317,
          16176,
          3633827,
          24316220,
          1907,
          1148,
          18987,
          82019,
          200864,
          178445,
          80187,
          1425106,
          1310655,
          362420,
          140820,
          310259,
          2559618,
          633871,
          381154,
          630145,
          18353470,
          16692,
          278569,
          1310914,
          5146001,
          300009,
          923619,
          27950047,
          22042,
          541515,
          6742749,
          696000,
          3100000,
          267000,
          205000,
          381154,
          137600,
          3892,
          4794,
          630145,
          466000,
          19594470,
          691000,
          16692,
          278569,
          7987000,
          3918000,
          1907,
          302380,
          83947,
          159607,
          1425106,
          1310655,
          663126,
          244317,
          536000,
          449000,
          233548,
          16104,
          82019,
          79960,
          15393,
          1341000,
          25758,
          362420,
          2630000,
          220049,
          97000,
          5222000,
          12500000,
          200864,
          1200000,
          10738,
          3633827,
          11200000,
          140820,
          15600000,
          1310914,
          678000,
          136000,
          5146001,
          843000,
          246000,
          12242,
          509009,
          123000,
          923619,
          16992,
          27950047,
          137000,
          4474000,
          22042,
          310259,
          756747,
          538774,
          549793,
          1148,
          18987,
          4516009,
          1000,
          3697,
          479000,
          256000,
          220000,
          541515,
          337000,
          678000,
          178445,
          80199,
          80187,
          3918000,
          16176,
          6742749,
          2559618,
          633871,
          8992263,
          9361207,
          62596926,
          3000,
          24316220
         ]
        }
       ],
       "layout": {
        "legend": {
         "tracegroupgap": 0
        },
        "margin": {
         "t": 60
        },
        "template": {
         "data": {
          "bar": [
           {
            "error_x": {
             "color": "#2a3f5f"
            },
            "error_y": {
             "color": "#2a3f5f"
            },
            "marker": {
             "line": {
              "color": "#E5ECF6",
              "width": 0.5
             },
             "pattern": {
              "fillmode": "overlay",
              "size": 10,
              "solidity": 0.2
             }
            },
            "type": "bar"
           }
          ],
          "barpolar": [
           {
            "marker": {
             "line": {
              "color": "#E5ECF6",
              "width": 0.5
             },
             "pattern": {
              "fillmode": "overlay",
              "size": 10,
              "solidity": 0.2
             }
            },
            "type": "barpolar"
           }
          ],
          "carpet": [
           {
            "aaxis": {
             "endlinecolor": "#2a3f5f",
             "gridcolor": "white",
             "linecolor": "white",
             "minorgridcolor": "white",
             "startlinecolor": "#2a3f5f"
            },
            "baxis": {
             "endlinecolor": "#2a3f5f",
             "gridcolor": "white",
             "linecolor": "white",
             "minorgridcolor": "white",
             "startlinecolor": "#2a3f5f"
            },
            "type": "carpet"
           }
          ],
          "choropleth": [
           {
            "colorbar": {
             "outlinewidth": 0,
             "ticks": ""
            },
            "type": "choropleth"
           }
          ],
          "contour": [
           {
            "colorbar": {
             "outlinewidth": 0,
             "ticks": ""
            },
            "colorscale": [
             [
              0,
              "#0d0887"
             ],
             [
              0.1111111111111111,
              "#46039f"
             ],
             [
              0.2222222222222222,
              "#7201a8"
             ],
             [
              0.3333333333333333,
              "#9c179e"
             ],
             [
              0.4444444444444444,
              "#bd3786"
             ],
             [
              0.5555555555555556,
              "#d8576b"
             ],
             [
              0.6666666666666666,
              "#ed7953"
             ],
             [
              0.7777777777777778,
              "#fb9f3a"
             ],
             [
              0.8888888888888888,
              "#fdca26"
             ],
             [
              1,
              "#f0f921"
             ]
            ],
            "type": "contour"
           }
          ],
          "contourcarpet": [
           {
            "colorbar": {
             "outlinewidth": 0,
             "ticks": ""
            },
            "type": "contourcarpet"
           }
          ],
          "heatmap": [
           {
            "colorbar": {
             "outlinewidth": 0,
             "ticks": ""
            },
            "colorscale": [
             [
              0,
              "#0d0887"
             ],
             [
              0.1111111111111111,
              "#46039f"
             ],
             [
              0.2222222222222222,
              "#7201a8"
             ],
             [
              0.3333333333333333,
              "#9c179e"
             ],
             [
              0.4444444444444444,
              "#bd3786"
             ],
             [
              0.5555555555555556,
              "#d8576b"
             ],
             [
              0.6666666666666666,
              "#ed7953"
             ],
             [
              0.7777777777777778,
              "#fb9f3a"
             ],
             [
              0.8888888888888888,
              "#fdca26"
             ],
             [
              1,
              "#f0f921"
             ]
            ],
            "type": "heatmap"
           }
          ],
          "heatmapgl": [
           {
            "colorbar": {
             "outlinewidth": 0,
             "ticks": ""
            },
            "colorscale": [
             [
              0,
              "#0d0887"
             ],
             [
              0.1111111111111111,
              "#46039f"
             ],
             [
              0.2222222222222222,
              "#7201a8"
             ],
             [
              0.3333333333333333,
              "#9c179e"
             ],
             [
              0.4444444444444444,
              "#bd3786"
             ],
             [
              0.5555555555555556,
              "#d8576b"
             ],
             [
              0.6666666666666666,
              "#ed7953"
             ],
             [
              0.7777777777777778,
              "#fb9f3a"
             ],
             [
              0.8888888888888888,
              "#fdca26"
             ],
             [
              1,
              "#f0f921"
             ]
            ],
            "type": "heatmapgl"
           }
          ],
          "histogram": [
           {
            "marker": {
             "pattern": {
              "fillmode": "overlay",
              "size": 10,
              "solidity": 0.2
             }
            },
            "type": "histogram"
           }
          ],
          "histogram2d": [
           {
            "colorbar": {
             "outlinewidth": 0,
             "ticks": ""
            },
            "colorscale": [
             [
              0,
              "#0d0887"
             ],
             [
              0.1111111111111111,
              "#46039f"
             ],
             [
              0.2222222222222222,
              "#7201a8"
             ],
             [
              0.3333333333333333,
              "#9c179e"
             ],
             [
              0.4444444444444444,
              "#bd3786"
             ],
             [
              0.5555555555555556,
              "#d8576b"
             ],
             [
              0.6666666666666666,
              "#ed7953"
             ],
             [
              0.7777777777777778,
              "#fb9f3a"
             ],
             [
              0.8888888888888888,
              "#fdca26"
             ],
             [
              1,
              "#f0f921"
             ]
            ],
            "type": "histogram2d"
           }
          ],
          "histogram2dcontour": [
           {
            "colorbar": {
             "outlinewidth": 0,
             "ticks": ""
            },
            "colorscale": [
             [
              0,
              "#0d0887"
             ],
             [
              0.1111111111111111,
              "#46039f"
             ],
             [
              0.2222222222222222,
              "#7201a8"
             ],
             [
              0.3333333333333333,
              "#9c179e"
             ],
             [
              0.4444444444444444,
              "#bd3786"
             ],
             [
              0.5555555555555556,
              "#d8576b"
             ],
             [
              0.6666666666666666,
              "#ed7953"
             ],
             [
              0.7777777777777778,
              "#fb9f3a"
             ],
             [
              0.8888888888888888,
              "#fdca26"
             ],
             [
              1,
              "#f0f921"
             ]
            ],
            "type": "histogram2dcontour"
           }
          ],
          "mesh3d": [
           {
            "colorbar": {
             "outlinewidth": 0,
             "ticks": ""
            },
            "type": "mesh3d"
           }
          ],
          "parcoords": [
           {
            "line": {
             "colorbar": {
              "outlinewidth": 0,
              "ticks": ""
             }
            },
            "type": "parcoords"
           }
          ],
          "pie": [
           {
            "automargin": true,
            "type": "pie"
           }
          ],
          "scatter": [
           {
            "fillpattern": {
             "fillmode": "overlay",
             "size": 10,
             "solidity": 0.2
            },
            "type": "scatter"
           }
          ],
          "scatter3d": [
           {
            "line": {
             "colorbar": {
              "outlinewidth": 0,
              "ticks": ""
             }
            },
            "marker": {
             "colorbar": {
              "outlinewidth": 0,
              "ticks": ""
             }
            },
            "type": "scatter3d"
           }
          ],
          "scattercarpet": [
           {
            "marker": {
             "colorbar": {
              "outlinewidth": 0,
              "ticks": ""
             }
            },
            "type": "scattercarpet"
           }
          ],
          "scattergeo": [
           {
            "marker": {
             "colorbar": {
              "outlinewidth": 0,
              "ticks": ""
             }
            },
            "type": "scattergeo"
           }
          ],
          "scattergl": [
           {
            "marker": {
             "colorbar": {
              "outlinewidth": 0,
              "ticks": ""
             }
            },
            "type": "scattergl"
           }
          ],
          "scattermapbox": [
           {
            "marker": {
             "colorbar": {
              "outlinewidth": 0,
              "ticks": ""
             }
            },
            "type": "scattermapbox"
           }
          ],
          "scatterpolar": [
           {
            "marker": {
             "colorbar": {
              "outlinewidth": 0,
              "ticks": ""
             }
            },
            "type": "scatterpolar"
           }
          ],
          "scatterpolargl": [
           {
            "marker": {
             "colorbar": {
              "outlinewidth": 0,
              "ticks": ""
             }
            },
            "type": "scatterpolargl"
           }
          ],
          "scatterternary": [
           {
            "marker": {
             "colorbar": {
              "outlinewidth": 0,
              "ticks": ""
             }
            },
            "type": "scatterternary"
           }
          ],
          "surface": [
           {
            "colorbar": {
             "outlinewidth": 0,
             "ticks": ""
            },
            "colorscale": [
             [
              0,
              "#0d0887"
             ],
             [
              0.1111111111111111,
              "#46039f"
             ],
             [
              0.2222222222222222,
              "#7201a8"
             ],
             [
              0.3333333333333333,
              "#9c179e"
             ],
             [
              0.4444444444444444,
              "#bd3786"
             ],
             [
              0.5555555555555556,
              "#d8576b"
             ],
             [
              0.6666666666666666,
              "#ed7953"
             ],
             [
              0.7777777777777778,
              "#fb9f3a"
             ],
             [
              0.8888888888888888,
              "#fdca26"
             ],
             [
              1,
              "#f0f921"
             ]
            ],
            "type": "surface"
           }
          ],
          "table": [
           {
            "cells": {
             "fill": {
              "color": "#EBF0F8"
             },
             "line": {
              "color": "white"
             }
            },
            "header": {
             "fill": {
              "color": "#C8D4E3"
             },
             "line": {
              "color": "white"
             }
            },
            "type": "table"
           }
          ]
         },
         "layout": {
          "annotationdefaults": {
           "arrowcolor": "#2a3f5f",
           "arrowhead": 0,
           "arrowwidth": 1
          },
          "autotypenumbers": "strict",
          "coloraxis": {
           "colorbar": {
            "outlinewidth": 0,
            "ticks": ""
           }
          },
          "colorscale": {
           "diverging": [
            [
             0,
             "#8e0152"
            ],
            [
             0.1,
             "#c51b7d"
            ],
            [
             0.2,
             "#de77ae"
            ],
            [
             0.3,
             "#f1b6da"
            ],
            [
             0.4,
             "#fde0ef"
            ],
            [
             0.5,
             "#f7f7f7"
            ],
            [
             0.6,
             "#e6f5d0"
            ],
            [
             0.7,
             "#b8e186"
            ],
            [
             0.8,
             "#7fbc41"
            ],
            [
             0.9,
             "#4d9221"
            ],
            [
             1,
             "#276419"
            ]
           ],
           "sequential": [
            [
             0,
             "#0d0887"
            ],
            [
             0.1111111111111111,
             "#46039f"
            ],
            [
             0.2222222222222222,
             "#7201a8"
            ],
            [
             0.3333333333333333,
             "#9c179e"
            ],
            [
             0.4444444444444444,
             "#bd3786"
            ],
            [
             0.5555555555555556,
             "#d8576b"
            ],
            [
             0.6666666666666666,
             "#ed7953"
            ],
            [
             0.7777777777777778,
             "#fb9f3a"
            ],
            [
             0.8888888888888888,
             "#fdca26"
            ],
            [
             1,
             "#f0f921"
            ]
           ],
           "sequentialminus": [
            [
             0,
             "#0d0887"
            ],
            [
             0.1111111111111111,
             "#46039f"
            ],
            [
             0.2222222222222222,
             "#7201a8"
            ],
            [
             0.3333333333333333,
             "#9c179e"
            ],
            [
             0.4444444444444444,
             "#bd3786"
            ],
            [
             0.5555555555555556,
             "#d8576b"
            ],
            [
             0.6666666666666666,
             "#ed7953"
            ],
            [
             0.7777777777777778,
             "#fb9f3a"
            ],
            [
             0.8888888888888888,
             "#fdca26"
            ],
            [
             1,
             "#f0f921"
            ]
           ]
          },
          "colorway": [
           "#636efa",
           "#EF553B",
           "#00cc96",
           "#ab63fa",
           "#FFA15A",
           "#19d3f3",
           "#FF6692",
           "#B6E880",
           "#FF97FF",
           "#FECB52"
          ],
          "font": {
           "color": "#2a3f5f"
          },
          "geo": {
           "bgcolor": "white",
           "lakecolor": "white",
           "landcolor": "#E5ECF6",
           "showlakes": true,
           "showland": true,
           "subunitcolor": "white"
          },
          "hoverlabel": {
           "align": "left"
          },
          "hovermode": "closest",
          "mapbox": {
           "style": "light"
          },
          "paper_bgcolor": "white",
          "plot_bgcolor": "#E5ECF6",
          "polar": {
           "angularaxis": {
            "gridcolor": "white",
            "linecolor": "white",
            "ticks": ""
           },
           "bgcolor": "#E5ECF6",
           "radialaxis": {
            "gridcolor": "white",
            "linecolor": "white",
            "ticks": ""
           }
          },
          "scene": {
           "xaxis": {
            "backgroundcolor": "#E5ECF6",
            "gridcolor": "white",
            "gridwidth": 2,
            "linecolor": "white",
            "showbackground": true,
            "ticks": "",
            "zerolinecolor": "white"
           },
           "yaxis": {
            "backgroundcolor": "#E5ECF6",
            "gridcolor": "white",
            "gridwidth": 2,
            "linecolor": "white",
            "showbackground": true,
            "ticks": "",
            "zerolinecolor": "white"
           },
           "zaxis": {
            "backgroundcolor": "#E5ECF6",
            "gridcolor": "white",
            "gridwidth": 2,
            "linecolor": "white",
            "showbackground": true,
            "ticks": "",
            "zerolinecolor": "white"
           }
          },
          "shapedefaults": {
           "line": {
            "color": "#2a3f5f"
           }
          },
          "ternary": {
           "aaxis": {
            "gridcolor": "white",
            "linecolor": "white",
            "ticks": ""
           },
           "baxis": {
            "gridcolor": "white",
            "linecolor": "white",
            "ticks": ""
           },
           "bgcolor": "#E5ECF6",
           "caxis": {
            "gridcolor": "white",
            "linecolor": "white",
            "ticks": ""
           }
          },
          "title": {
           "x": 0.05
          },
          "xaxis": {
           "automargin": true,
           "gridcolor": "white",
           "linecolor": "white",
           "ticks": "",
           "title": {
            "standoff": 15
           },
           "zerolinecolor": "white",
           "zerolinewidth": 2
          },
          "yaxis": {
           "automargin": true,
           "gridcolor": "white",
           "linecolor": "white",
           "ticks": "",
           "title": {
            "standoff": 15
           },
           "zerolinecolor": "white",
           "zerolinewidth": 2
          }
         }
        }
       }
      }
     },
     "metadata": {},
     "output_type": "display_data"
    }
   ],
   "source": [
    "# Convert data to Pandas DataFrame\n",
    "df = pd.DataFrame(data)\n",
    "\n",
    "# Build hierarchy using the `id` and `parent` columns\n",
    "fig = px.sunburst(df, path=['id', 'parent'], values='value')\n",
    "\n",
    "# Show plot\n",
    "fig.show()"
   ]
  },
  {
   "cell_type": "code",
   "execution_count": null,
   "metadata": {},
   "outputs": [],
   "source": []
  }
 ],
 "metadata": {
  "kernelspec": {
   "display_name": "base",
   "language": "python",
   "name": "python3"
  },
  "language_info": {
   "codemirror_mode": {
    "name": "ipython",
    "version": 3
   },
   "file_extension": ".py",
   "mimetype": "text/x-python",
   "name": "python",
   "nbconvert_exporter": "python",
   "pygments_lexer": "ipython3",
   "version": "3.10.9"
  },
  "orig_nbformat": 4
 },
 "nbformat": 4,
 "nbformat_minor": 2
}
