{
 "cells": [
  {
   "cell_type": "code",
   "execution_count": 1,
   "metadata": {},
   "outputs": [],
   "source": [
    "import matplotlib.pyplot as plt"
   ]
  },
  {
   "cell_type": "code",
   "execution_count": 14,
   "metadata": {},
   "outputs": [],
   "source": [
    "# Sample data\n",
    "data = [\n",
    "    [\"A\", \"A1\", \"A1a\", \"A1a1\"],\n",
    "    [\"A\", \"A1\", \"A1a\", \"A1a2\"],\n",
    "    [\"A\", \"A1\", \"A1a\", \"A1a3\"],\n",
    "    [\"A\", \"A1\", \"A1b\", \"A1b1\"],\n",
    "    [\"A\", \"A1\", \"A1b\", \"A1b2\"],\n",
    "    [\"A\", \"A1\", \"A1c\", \"A1c1\"],\n",
    "    [\"A\", \"A2\", \"A2a\", \"A2a1\"],\n",
    "    [\"A\", \"A2\", \"A2a\", \"A2a2\"],\n",
    "    # Add more data points here (up to a total of 100)...\n",
    "]"
   ]
  },
  {
   "cell_type": "code",
   "execution_count": 17,
   "metadata": {},
   "outputs": [],
   "source": [
    "# prepare data\n",
    "data = [\n",
    "    {\"id\": \"Web\", \"parent\": \"\", \"value\": 62596926},\n",
    "    {\"id\": \"Account Mgmt\", \"parent\": \"Web\", \"value\": 381154},\n",
    "    {\"id\": \"Change Billing Address\", \"parent\": \"Account Mgmt\", \"value\": 83947},\n",
    "    {\"id\": \"Add/Edit Phone Number\", \"parent\": \"Account Mgmt\", \"value\": 137600},\n",
    "    {\"id\": \"Change User Name, Password\", \"parent\": \"Account Mgmt\", \"value\": 159607},\n",
    "]"
   ]
  },
  {
   "cell_type": "code",
   "execution_count": null,
   "metadata": {},
   "outputs": [],
   "source": [
    "    {\"id\": \"Alerts & Notifications\", \"parent\": \"Web\", \"value\": 630145},\n",
    "    {\"id\": \"Change Billing & Payment Alerts\", \"parent\": \"Alerts & Notifications\", \"value\": 302380},\n",
    "    {\"id\": \"Energy Alerts\", \"parent\": \"Alerts & Notifications\", \"value\": 233548},\n",
    "    {\"id\": \"Outages Alerts\", \"parent\": \"Alerts & Notifications\", \"value\": 12242},\n",
    "    {\"id\": \"Go Paperless Alerts\", \"parent\": \"Alerts & Notifications\", \"value\": 25758},\n",
    "    {\"id\": \"Notices & Services Information\", \"parent\": \"Alerts & Notifications\", \"value\": 10738},\n",
    "    {\"id\": \"Event Day Alerts\", \"parent\": \"Alerts & Notifications\", \"value\": 16104},\n",
    "    {\"id\": \"Service Visit Alerts\", \"parent\": \"Alerts & Notifications\", \"value\": 3697},  \n",
    "    {\"id\": \"Additional Communication Alerts\", \"parent\": \"Alerts & Notifications\", \"value\": 3892},\n",
    "    {\"id\": \"Additional Communication Alerts (Aug Onward)\", \"parent\": \"Alerts & Notifications\", \"value\": 4794},\n",
    "    {\"id\": \"Payment Plan & Shutoff Nonpayment Alerts\", \"parent\": \"Alerts & Notifications\", \"value\": 16992},\n",
    "    {\"id\": \"Billing\", \"parent\": \"Web\", \"value\": 18353470},\n",
    "    {\"id\": \"ViewBillCurrentPDF\", \"parent\": \"Billing\", \"value\": 8992263},\n",
    "    {\"id\": \"ViewBillCurrentPDF historical\", \"parent\": \"Billing\", \"value\": 9361207},\n",
    "    {\"id\": \"Budget Billing (Login)\", \"parent\": \"Web\", \"value\": 16692},\n",
    "    {\"id\": \"CARE/FERA New Pages\", \"parent\": \"Web\", \"value\": 278569},\n",
    "    {\"id\": \"Other Interactions\", \"parent\": \"Web\", \"value\": 1310914},\n",
    "    {\"id\": \"Gas Pipeline Map Views\", \"parent\": \"Other Interactions\", \"value\": 15393},\n",
    "    {\"id\": \"Recurring Payment Schedule\", \"parent\": \"Other Interactions\", \"value\": 756747},\n",
    "    {\"id\": \"Registration\", \"parent\": \"Other Interactions\", \"value\": 538774},\n",
    "    {\"id\": \"Outage\", \"parent\": \"Web\", \"value\": 5146001},\n",
    "    {\"id\": \"Report Outage Outage Map\", \"parent\": \"Outage\", \"value\": 549793},\n",
    "    {\"id\": \"Search Outage By Address (outage Center/ Outage Map/ Address Look up)\", \"parent\": \"Outage\", \"value\": 4516009},\n",
    "    {\"id\": \"Subscribe Outage (EW Pages)\", \"parent\": \"Outage\", \"value\": 80199},\n",
    "    {\"id\": \"Payment Account\", \"parent\": \"Web\", \"value\": 923619},\n",
    "    {\"id\": \"Create Payment Account\", \"parent\": \"Payment Account\", \"value\": 663126},\n",
    "    {\"id\": \"Update Payment Account\", \"parent\": \"Payment Account\", \"value\": 16176},\n",
    "    {\"id\": \"Delete Payment Account\", \"parent\": \"Payment Account\", \"value\": 244317},\n",
    "    {\"id\": \"Payments\", \"parent\": \"Web\", \"value\": 27950047},\n",
    "    {\"id\": \"One Time Access\", \"parent\": \"Payments\", \"value\": 3633827},\n",
    "    {\"id\": \"Your Account\", \"parent\": \"Payments\", \"value\": 24316220},\n",
    "    {\"id\": \"Pay Plans\", \"parent\": \"Web\", \"value\": 300009},\n",
    "    {\"id\": \"Extension Pay\", \"parent\": \"Pay Plans\", \"value\": 79960},\n",
    "    {\"id\": \"Installment Pay\", \"parent\": \"Pay Plans\", \"value\": 220049},\n",
    "    {\"id\": \"Pilot Light Appointments\", \"parent\": \"Web\", \"value\": 22042},\n",
    "    {\"id\": \"Schedule Service Appointment\", \"parent\": \"Pilot Light Appointments\", \"value\": 18987},\n",
    "    {\"id\": \"Reschedule Service Appointment\", \"parent\": \"Pilot Light Appointments\", \"value\": 1148},\n",
    "    {\"id\": \"Cancel Service Appointment\", \"parent\": \"Pilot Light Appointments\", \"value\": 1907},\n",
    "    {\"id\": \"Start/Stop/Transfer (total)\", \"parent\": \"Web\", \"value\": 541515},\n",
    "    {\"id\": \"New Customer\", \"parent\": \"Start/Stop/Transfer (total)\", \"value\": 200864},\n",
    "    {\"id\": \"Existing Customer\", \"parent\": \"Start/Stop/Transfer (total)\", \"value\": 82019},\n",
    "    {\"id\": \"Stop\", \"parent\": \"Start/Stop/Transfer (total)\", \"value\": 178445},\n",
    "    {\"id\": \"Transfer\", \"parent\": \"Start/Stop/Transfer (total)\", \"value\": 80187},\n",
    "    {\"id\": \"Usage and Rates\", \"parent\": \"Web\", \"value\": 6742749},\n",
    "    {\"id\": \"View Usage (July Onward)\", \"parent\": \"Usage and Rates\", \"value\": 633871},\n",
    "    {\"id\": \"View Usage\", \"parent\": \"Usage and Rates\", \"value\": 2559618},\n",
    "    {\"id\": \"Compare My Bills\", \"parent\": \"Usage and Rates\", \"value\": 1425106},\n",
    "    {\"id\": \"Rate Comparison\", \"parent\": \"Usage and Rates\", \"value\": 310259},\n",
    "    {\"id\": \"Home Energy Checkup\", \"parent\": \"Usage and Rates\", \"value\": 362420},\n",
    "    {\"id\": \"Online Rate Enrollment\", \"parent\": \"Usage and Rates\", \"value\": 140820},\n",
    "    {\"id\": \"Compare My Bills UPDATED\", \"parent\": \"Usage and Rates\", \"value\": 1310655},\n",
    "    {\"id\": \"Call Center - IVR\", \"parent\": \"\", \"value\": 7987000},"
   ]
  },
  {
   "cell_type": "code",
   "execution_count": 18,
   "metadata": {},
   "outputs": [
    {
     "ename": "TypeError",
     "evalue": "unhashable type: 'slice'",
     "output_type": "error",
     "traceback": [
      "\u001b[1;31m---------------------------------------------------------------------------\u001b[0m",
      "\u001b[1;31mTypeError\u001b[0m                                 Traceback (most recent call last)",
      "Cell \u001b[1;32mIn[18], line 19\u001b[0m\n\u001b[0;32m     17\u001b[0m outer \u001b[39m=\u001b[39m \u001b[39m0.2\u001b[39m \u001b[39m*\u001b[39m (level \u001b[39m+\u001b[39m \u001b[39m1\u001b[39m)\n\u001b[0;32m     18\u001b[0m \u001b[39mfor\u001b[39;00m i, item \u001b[39min\u001b[39;00m \u001b[39menumerate\u001b[39m(data):\n\u001b[1;32m---> 19\u001b[0m     path \u001b[39m=\u001b[39m \u001b[39mtuple\u001b[39m(item[:level\u001b[39m+\u001b[39;49m\u001b[39m1\u001b[39;49m])\n\u001b[0;32m     20\u001b[0m     color \u001b[39m=\u001b[39m colors[path[\u001b[39m-\u001b[39m\u001b[39m1\u001b[39m]]\n\u001b[0;32m     21\u001b[0m     \u001b[39mif\u001b[39;00m \u001b[39mlen\u001b[39m(path) \u001b[39m==\u001b[39m level\u001b[39m+\u001b[39m\u001b[39m1\u001b[39m:\n",
      "\u001b[1;31mTypeError\u001b[0m: unhashable type: 'slice'"
     ]
    },
    {
     "data": {
      "image/png": "[encoded data removed]",
      "text/plain": [
       "<Figure size 640x480 with 1 Axes>"
      ]
     },
     "metadata": {},
     "output_type": "display_data"
    }
   ],
   "source": [
    "# Define colors for each level\n",
    "colors = {\n",
    "    \"A\": \"#f7b267\",\n",
    "    \"A1\": \"#fc529d\",\n",
    "    \"A1a\": \"#4974a5\",\n",
    "    \"A1b\": \"#57c4ad\"\n",
    "}\n",
    "\n",
    "# Create plot\n",
    "fig, ax = plt.subplots()\n",
    "ax.axis('equal')\n",
    "ax.set(title=\"Simple Sunburst Graph\")\n",
    "\n",
    "# Iterate over data\n",
    "for level in range(4):\n",
    "    inner = 0.2 * level\n",
    "    outer = 0.2 * (level + 1)\n",
    "    for i, item in enumerate(data):\n",
    "        path = tuple(item[:level+1])\n",
    "        color = colors[path[-1]]\n",
    "        if len(path) == level+1:\n",
    "            text = item[-1]\n",
    "            value = 1\n",
    "        else:\n",
    "            text = \"\"\n",
    "            value = 0\n",
    "        wedges, _ = ax.pie([value], radius=outer, colors=[color], startangle=90-inner*180/3.14, counterclock=False)\n",
    "        for wedge in wedges:\n",
    "            if text:\n",
    "                angle = (wedge.theta2 - wedge.theta1) / 2 + wedge.theta1\n",
    "                x = (outer+inner)/2 * 0.7 * 3.14/180\n",
    "                y = (outer+inner)/2 * 1.1\n",
    "                ax.text(x, y, text, rotation=angle*180/3.14, ha='center', va='center')\n",
    "\n",
    "# Show plot\n",
    "plt.show()\n"
   ]
  },
  {
   "cell_type": "code",
   "execution_count": null,
   "metadata": {},
   "outputs": [],
   "source": []
  }
 ],
 "metadata": {
  "kernelspec": {
   "display_name": "base",
   "language": "python",
   "name": "python3"
  },
  "language_info": {
   "codemirror_mode": {
    "name": "ipython",
    "version": 3
   },
   "file_extension": ".py",
   "mimetype": "text/x-python",
   "name": "python",
   "nbconvert_exporter": "python",
   "pygments_lexer": "ipython3",
   "version": "3.10.9"
  },
  "orig_nbformat": 4
 },
 "nbformat": 4,
 "nbformat_minor": 2
}
