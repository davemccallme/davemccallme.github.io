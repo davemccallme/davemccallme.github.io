{
 "cells": [
  {
   "cell_type": "code",
   "execution_count": 1,
   "source": [
    "%pip install webvtt-py nltk gensim\r\n"
   ],
   "outputs": [
    {
     "output_type": "stream",
     "name": "stdout",
     "text": [
      "Defaulting to user installation because normal site-packages is not writeable\n",
      "Note: you may need to restart the kernel to use updated packages.\n"
     ]
    },
    {
     "output_type": "stream",
     "name": "stderr",
     "text": [
      "WARNING: Retrying (Retry(total=4, connect=None, read=None, redirect=None, status=None)) after connection broken by 'NewConnectionError('<pip._vendor.urllib3.connection.HTTPSConnection object at 0x0000024EEC65DD90>: Failed to establish a new connection: [WinError 10013] An attempt was made to access a socket in a way forbidden by its access permissions')': /simple/webvtt-py/\n",
      "WARNING: Retrying (Retry(total=3, connect=None, read=None, redirect=None, status=None)) after connection broken by 'NewConnectionError('<pip._vendor.urllib3.connection.HTTPSConnection object at 0x0000024EEC65DFD0>: Failed to establish a new connection: [WinError 10013] An attempt was made to access a socket in a way forbidden by its access permissions')': /simple/webvtt-py/\n",
      "WARNING: Retrying (Retry(total=2, connect=None, read=None, redirect=None, status=None)) after connection broken by 'NewConnectionError('<pip._vendor.urllib3.connection.HTTPSConnection object at 0x0000024EEC67A2B0>: Failed to establish a new connection: [WinError 10013] An attempt was made to access a socket in a way forbidden by its access permissions')': /simple/webvtt-py/\n",
      "WARNING: Retrying (Retry(total=1, connect=None, read=None, redirect=None, status=None)) after connection broken by 'NewConnectionError('<pip._vendor.urllib3.connection.HTTPSConnection object at 0x0000024EEC67A460>: Failed to establish a new connection: [WinError 10013] An attempt was made to access a socket in a way forbidden by its access permissions')': /simple/webvtt-py/\n",
      "WARNING: Retrying (Retry(total=0, connect=None, read=None, redirect=None, status=None)) after connection broken by 'NewConnectionError('<pip._vendor.urllib3.connection.HTTPSConnection object at 0x0000024EEC67A610>: Failed to establish a new connection: [WinError 10013] An attempt was made to access a socket in a way forbidden by its access permissions')': /simple/webvtt-py/\n",
      "ERROR: Could not find a version that satisfies the requirement webvtt-py (from versions: none)\n",
      "ERROR: No matching distribution found for webvtt-py\n"
     ]
    }
   ],
   "metadata": {}
  },
  {
   "cell_type": "code",
   "execution_count": 3,
   "source": [
    "import webvtt\r\n",
    "import nltk\r\n",
    "from gensim.summarization import summarize, keywords"
   ],
   "outputs": [
    {
     "output_type": "error",
     "ename": "ModuleNotFoundError",
     "evalue": "No module named 'webvtt'",
     "traceback": [
      "\u001b[1;31m---------------------------------------------------------------------------\u001b[0m",
      "\u001b[1;31mModuleNotFoundError\u001b[0m                       Traceback (most recent call last)",
      "Cell \u001b[1;32mIn[3], line 1\u001b[0m\n\u001b[1;32m----> 1\u001b[0m \u001b[38;5;28;01mimport\u001b[39;00m \u001b[38;5;21;01mwebvtt\u001b[39;00m\n\u001b[0;32m      2\u001b[0m \u001b[38;5;28;01mimport\u001b[39;00m \u001b[38;5;21;01mnltk\u001b[39;00m\n\u001b[0;32m      3\u001b[0m \u001b[38;5;28;01mfrom\u001b[39;00m \u001b[38;5;21;01mgensim\u001b[39;00m\u001b[38;5;21;01m.\u001b[39;00m\u001b[38;5;21;01msummarization\u001b[39;00m \u001b[38;5;28;01mimport\u001b[39;00m summarize, keywords\n",
      "\u001b[1;31mModuleNotFoundError\u001b[0m: No module named 'webvtt'"
     ]
    }
   ],
   "metadata": {}
  },
  {
   "cell_type": "code",
   "execution_count": null,
   "source": [
    "nltk.download('punkt')\r\n",
    "\r\n",
    "\r\n",
    "# Read and parse the VTT file\r\n",
    "def read_vtt_file(file_path):\r\n",
    "    captions = webvtt.read(file_path)\r\n",
    "    transcript = ' '.join([caption.text for caption in captions])\r\n",
    "    return transcript\r\n",
    "\r\n",
    "\r\n",
    "# Split the transcript into sentences\r\n",
    "def split_sentences(transcript):\r\n",
    "    return nltk.sent_tokenize(transcript)\r\n",
    "\r\n",
    "\r\n",
    "# Extract key phrases\r\n",
    "def extract_key_phrases(sentences, num_words=10):\r\n",
    "    return keywords(' '.join(sentences), words=num_words, lemmatize=True)\r\n",
    "\r\n",
    "\r\n",
    "# Generate summary\r\n",
    "def generate_summary(sentences):\r\n",
    "    return summarize(' '.join(sentences))\r\n",
    "\r\n",
    "\r\n",
    "# Create meeting minutes\r\n",
    "def create_meeting_minutes(key_phrases, summary, date, attendees):\r\n",
    "    return f\"\"\"\r\n",
    "Interview Meeting Minutes\r\n",
    "\r\n",
    "Date: {date}\r\n",
    "Attendees: {attendees}\r\n",
    "\r\n",
    "Key Topics:\r\n",
    "{key_phrases}\r\n",
    "\r\n",
    "Summary:\r\n",
    "{summary}\r\n",
    "\"\"\"\r\n",
    "\r\n",
    "\r\n",
    "# Save the meeting minutes to a text file\r\n",
    "def save_meeting_minutes(meeting_minutes, file_name):\r\n",
    "    with open(file_name, \"w\") as f:\r\n",
    "        f.write(meeting_minutes)\r\n",
    "\r\n",
    "\r\n",
    "# Main function\r\n",
    "def main():\r\n",
    "    vtt_file_path = \"path/to/your/vtt_file.vtt\"\r\n",
    "    output_file_name = \"meeting_minutes.txt\"\r\n",
    "    date = \"2023-04-10\"\r\n",
    "    attendees = \"John Doe, Jane Smith\"\r\n",
    "\r\n",
    "    transcript = read_vtt_file(vtt_file_path)\r\n",
    "    sentences = split_sentences(transcript)\r\n",
    "    key_phrases = extract_key_phrases(sentences)\r\n",
    "    summary = generate_summary(sentences)\r\n",
    "    meeting_minutes = create_meeting_minutes(key_phrases, summary, date, attendees)\r\n",
    "\r\n",
    "    save_meeting_minutes(meeting_minutes, output_file_name)\r\n",
    "\r\n",
    "\r\n",
    "if __name__ == \"__main__\":\r\n",
    "    main()\r\n"
   ],
   "outputs": [],
   "metadata": {}
  }
 ],
 "metadata": {
  "orig_nbformat": 4,
  "language_info": {
   "name": "python",
   "version": "3.9.4",
   "mimetype": "text/x-python",
   "codemirror_mode": {
    "name": "ipython",
    "version": 3
   },
   "pygments_lexer": "ipython3",
   "nbconvert_exporter": "python",
   "file_extension": ".py"
  },
  "kernelspec": {
   "name": "python3",
   "display_name": "Python 3.9.4 64-bit"
  },
  "interpreter": {
   "hash": "ac59ebe37160ed0dfa835113d9b8498d9f09ceb179beaac4002f036b9467c963"
  }
 },
 "nbformat": 4,
 "nbformat_minor": 2
}